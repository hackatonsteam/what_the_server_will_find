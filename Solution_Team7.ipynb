{
 "cells": [
  {
   "cell_type": "markdown",
   "id": "794320ec",
   "metadata": {},
   "source": [
    "<h1>1 Импортирование необходимых модулей, функционала</h1>"
   ]
  },
  {
   "cell_type": "code",
   "execution_count": 142,
   "id": "e0501bc2",
   "metadata": {},
   "outputs": [],
   "source": [
    "import warnings\n",
    "from tqdm import tqdm_notebook, tqdm\n",
    "import pickle\n",
    "\n",
    "import numpy as np\n",
    "import pandas as pd\n",
    "from itertools import combinations\n",
    "\n",
    "from matplotlib import pyplot as plt\n",
    "import seaborn as sns\n",
    "\n",
    "from sklearn.model_selection import train_test_split, RandomizedSearchCV\n",
    "from sklearn.ensemble import RandomForestClassifier\n",
    "from sklearn.metrics import accuracy_score, roc_auc_score, confusion_matrix, make_scorer\n",
    "\n",
    "import shap\n",
    "import eli5\n",
    "from eli5.sklearn import PermutationImportance\n",
    "\n",
    "tqdm.pandas()\n",
    "sns.set(style=\"whitegrid\")\n",
    "warnings.filterwarnings('ignore')"
   ]
  },
  {
   "cell_type": "markdown",
   "id": "95b98172",
   "metadata": {},
   "source": [
    "Версии всех внешних модулей представлены в файле \"requirements.txt\"."
   ]
  },
  {
   "cell_type": "markdown",
   "id": "a90839a9",
   "metadata": {},
   "source": [
    "<h1>2 Глобальные параметры</h1>"
   ]
  },
  {
   "cell_type": "code",
   "execution_count": 143,
   "id": "87e0bceb",
   "metadata": {},
   "outputs": [],
   "source": [
    "# Список метрик, на основе которых будем оценивать успешность обучения модели\n",
    "metrics = [accuracy_score, roc_auc_score]\n",
    "\n",
    "# Установка значения для генератора псевдослучайных чисел; необходимо для воспроизводимости результатов\n",
    "SEED = 42\n",
    "\n",
    "# Ключ для объединения данных разных годов\n",
    "key = 'customer'"
   ]
  },
  {
   "cell_type": "markdown",
   "id": "3a0b63cc",
   "metadata": {},
   "source": [
    "Словарь признаков для конвертации в удобный для работы с ними вид."
   ]
  },
  {
   "cell_type": "code",
   "execution_count": 144,
   "id": "4b08ec88",
   "metadata": {},
   "outputs": [],
   "source": [
    "overdue_ar_params = {\n",
    "    'Макс. ПДЗ за год, дней':                        'max_ar',\n",
    "    'Сред. ПДЗ за год, дней':                        'avg_ar',\n",
    "    'Кол-во просрочек свыше 5-ти дней за год, шт.':  'ar_count5',\n",
    "    'Общая сумма ПДЗ свыше 5-ти дней за год, руб.':  'ar_sum',\n",
    "    'Кол-во раз ПДЗ за год, шт.':                    'ar_count'\n",
    "}\n",
    "\n",
    "balance_sections = {\n",
    "    'Внеоборотные активы':                 'non_current_assets',\n",
    "    'Нематериальные активы':               'intangible_assets',\n",
    "    'Основные средства':                   'property_plant_equipment',\n",
    "    'Оборотные активы':                    'current_assets',\n",
    "    'Дебиторская задолженность':           'accounts_receivable',\n",
    "    'Капитал и резервы':                   'capital_and_reserves',\n",
    "    'Уставный капитал':                    'share_capital',\n",
    "    'Долгосрочные обязательства':          'non_current_liabilities',\n",
    "    'Заёмные средства (долгосрочные)':     'nc_borrowings',\n",
    "    'Краткосрочные обязательства':         'current_liabilities',\n",
    "    'Заёмные средства (краткосрочные)':    'c_borrowings',\n",
    "    'Кредиторская задолженность':          'accounts_payable',\n",
    "    'Выручка':                             'revenue',\n",
    "    'Себестоимость продаж':                'cost_amount',\n",
    "    'Прибыль (убыток) от продажи':         'sales_profit',\n",
    "    'Прибыль (убыток) до налогообложения': 'profit_before_tax'\n",
    "}\n",
    "\n",
    "other = {\n",
    "    'Наименование ДП':                       'customer',\n",
    "    'Оценка потенциала контрагента 1, руб.': 'score1',\n",
    "    'Оценка потенциала контрагента 2, руб.': 'score2', \n",
    "    'Статус':                                'status',\n",
    "    'ПДЗ 1-30':                              'oar1_30', \n",
    "    'ПДЗ 31-90':                             'oar31_90', \n",
    "    'ПДЗ 91-365':                            'oar91_365', \n",
    "    'ПДЗ более 365':                         'oar_over365'\n",
    "}"
   ]
  },
  {
   "cell_type": "markdown",
   "id": "8bf7b81f",
   "metadata": {},
   "source": [
    "<h1>3 Разведочный анализ данных</h1>"
   ]
  },
  {
   "cell_type": "markdown",
   "id": "577649cd",
   "metadata": {},
   "source": [
    "Создание вспомогательных функций для разведочного анализа данных."
   ]
  },
  {
   "cell_type": "code",
   "execution_count": 145,
   "id": "a312d530",
   "metadata": {},
   "outputs": [],
   "source": [
    "def factor_rename(data, factor:str):\n",
    "    \n",
    "    \"\"\"\n",
    "    Функция предназначена для конвертации названий факторных признаков в удобный\n",
    "    для работы с ними вид.\n",
    "    Функция принимает следующие параметры:\n",
    "    data: pandas.DataFrame - данные, в которых содержатся требуемые признаки;\n",
    "    factor: str - название фактора.\n",
    "    Функция ничего не возвращает; она изменяет названия признаков, которые\n",
    "    содержатся в переданных ей данных (data).\n",
    "    \"\"\"\n",
    "    \n",
    "    if isinstance(factor, str):   \n",
    "            if factor != 'Итого':\n",
    "                data.rename(columns={factor: 'f{idx}'.format(idx=factor[-2:].strip())}, inplace=True)\n",
    "            else:\n",
    "                data.rename(columns={factor: 'Sum'}, inplace=True)\n",
    "    else:\n",
    "        raise TypeError('Аргумент \"factor\" должен принимать строковое значение')"
   ]
  },
  {
   "cell_type": "code",
   "execution_count": 146,
   "id": "6c3366ff",
   "metadata": {},
   "outputs": [],
   "source": [
    "def balance_sections_rename(data, column:str):\n",
    "    \n",
    "    \"\"\"\n",
    "    Функция предназначена для конвертации названий балансовых признаков в удобный\n",
    "    для работы с ними вид.\n",
    "    Функция принимает следующие параметры:\n",
    "    data: pandas.DataFrame - данные, в которых содержатся требуемые признаки;\n",
    "    column: str - название балансового признака.\n",
    "    Функция ничего не возвращает; она изменяет названия балансовых признаков,\n",
    "    которые содержатся в переданных ей данных (data).\n",
    "    \"\"\"\n",
    "    \n",
    "    if isinstance(column, str):\n",
    "        data.rename(columns={column: '{one}{two}'.format(one=balance_sections[column.split(',')[1].strip()],\n",
    "                                                         two=column.split(',')[0][2:].strip())}, inplace=True)\n",
    "    else:\n",
    "        raise TypeError('Аргумент \"column\" должен принимать строковое значение')"
   ]
  },
  {
   "cell_type": "code",
   "execution_count": 147,
   "id": "c6260ef9",
   "metadata": {},
   "outputs": [],
   "source": [
    "def overdue_ar_params_rename(data, ar_param:str):\n",
    "    \n",
    "    \"\"\"\n",
    "    Функция предназначена для конвертации названий целевых признаков в удобный\n",
    "    для работы с ними вид.\n",
    "    Функция принимает следующие параметры:\n",
    "    data: pandas.DataFrame - данные, в которых содержатся требуемые признаки;\n",
    "    ar_param: str - название целевого признака.\n",
    "    Функция ничего не возвращает; она изменяет названия целевых признаков,\n",
    "    которые содержатся в переданных ей данных (data).\n",
    "    \"\"\"\n",
    "    \n",
    "    if isinstance(ar_param, str):\n",
    "        splitted_col, param = ar_param.split(' '), ''\n",
    "        for el in splitted_col:\n",
    "            if not el.isnumeric():\n",
    "                param += ' ' + el\n",
    "            else:\n",
    "                year = el\n",
    "        data.rename(columns={ar_param: '{one}{two}'.format(one=overdue_ar_params[param.strip()], two=year[2:])},\n",
    "                    inplace=True)\n",
    "    else:\n",
    "        raise TypeError('Аргумент \"ar_param\" должен принимать строковое значение')"
   ]
  },
  {
   "cell_type": "code",
   "execution_count": 148,
   "id": "c67b0b47",
   "metadata": {},
   "outputs": [],
   "source": [
    "def features_rename(data, columns):\n",
    "    \n",
    "    \"\"\"\n",
    "    Функция предназначена для переименования признаков в удобный для работы с ними вид.\n",
    "    Функция принимает следующие параметры:\n",
    "    data: pandas.DataFrame - данные, в которых содержатся требуемые признаки;\n",
    "    columns: list - список признаков, которые необходимо переименовать.\n",
    "    Функция ничего не возвращает; она изменяет названия признаков, которые содержатся\n",
    "    в переданных ей данных (data).\n",
    "    \"\"\"\n",
    "    \n",
    "    if isinstance(columns, list):\n",
    "        for col in tqdm_notebook(columns):\n",
    "            if col in list(other.keys()):\n",
    "                data.rename(columns={col: other[col]}, inplace=True)\n",
    "            elif ('Факт' in col) | ('Итого' in col):\n",
    "                factor_rename(data, col)\n",
    "            elif col[0].isnumeric():\n",
    "                balance_sections_rename(data, col)\n",
    "            else:\n",
    "                overdue_ar_params_rename(data, col)\n",
    "    else:\n",
    "        raise TypeError('Аргумент \"columns\" должен быть представлен списком')"
   ]
  },
  {
   "cell_type": "code",
   "execution_count": 149,
   "id": "586e2065",
   "metadata": {},
   "outputs": [],
   "source": [
    "def detect_null_data(data, columns):\n",
    "    \n",
    "    \"\"\"\n",
    "    Функция предназначена для обнаружения пустых наблюдений (строк) в переданных ей данных.\n",
    "    Функция принимает следующие параметры:\n",
    "    data: pandas.DataFrame - данные, для которых необходимо найти пустые наблюдения;\n",
    "    columns: list - список названий признаков (столбцов) данных, которые будут использованы\n",
    "    для поиска пустых наблюдений.\n",
    "    Функция возвращает список, содержащий индексы пустых наблюдений.\n",
    "    \"\"\"\n",
    "    \n",
    "    if isinstance(columns, list):\n",
    "        null_data = []\n",
    "        for i in tqdm_notebook(data.index.to_list()):\n",
    "            sum_ = 0\n",
    "            current_row = data.loc[i, columns].values\n",
    "            for j in range(len(current_row)):\n",
    "                if current_row[j] == 0:\n",
    "                    sum_ += 1\n",
    "            if sum_ == len(current_row):\n",
    "                null_data.append(i)\n",
    "        print(len(null_data))\n",
    "        return null_data\n",
    "    else:\n",
    "        raise TypeError('Аргумент \"columns\" должен быть представлен списком')"
   ]
  },
  {
   "cell_type": "code",
   "execution_count": 150,
   "id": "07165347",
   "metadata": {},
   "outputs": [],
   "source": [
    "def factor_filling(data, columns, value=-1):\n",
    "    \n",
    "    \"\"\"\n",
    "    Функция предназначена для заполнения содержательными значений факторных признаков.\n",
    "    Функция принимает следующие параметры:\n",
    "    data: pandas.DataFrame - данные, для которых необходимо заполнить факторные признаки;\n",
    "    columns: list - список факторных признаков;\n",
    "    value: int - значение, которым будет замещено некорректное по факторным признакам, \n",
    "    значение по умолчанию равно -1.\n",
    "    Функция ничего не возвращает, она преобразовывает исходные данные (data).\n",
    "    \"\"\"\n",
    "    \n",
    "    if isinstance(columns, list):\n",
    "        for col in tqdm_notebook(columns):\n",
    "            if data[col].isna().sum() != 0:\n",
    "                data[col].fillna(value, inplace=True)\n",
    "            else:\n",
    "                data[col] = data[col].apply(lambda x: -1 if x in ['X', 'Х', 'Н/Д'] else int(x))\n",
    "    else:\n",
    "        raise TypeError('Аргумент \"columns\" должен быть представлен списком')"
   ]
  },
  {
   "cell_type": "code",
   "execution_count": 151,
   "id": "da7a099a",
   "metadata": {},
   "outputs": [],
   "source": [
    "def factor_cleaning(data, columns):\n",
    "    \n",
    "    \"\"\"\n",
    "    Функция предназначена для фильтрования факторных признаков.\n",
    "    Функция принимает следующие параметры:\n",
    "    data: pandas.DataFrame - данные, для которых необходимо отфильтровать факторные признаки;\n",
    "    columns: list - список факторных признаков.\n",
    "    Функция ничего не возвращает, она удаляет факторные признаки, в которых объём\n",
    "    пустых значений, т.е. значений равных -1, равен объёму исходных данных (data).\n",
    "    \"\"\"\n",
    "    \n",
    "    to_drop = []\n",
    "    for col in tqdm_notebook(columns):\n",
    "        if -1 in data[col].value_counts():\n",
    "            if data[col].value_counts()[-1] == len(data):\n",
    "                to_drop.append(col)\n",
    "    data.drop(to_drop, axis=1, inplace=True)\n",
    "    print(f' Удалено {len(to_drop)}: \\n{to_drop}')"
   ]
  },
  {
   "cell_type": "code",
   "execution_count": 152,
   "id": "555bbda6",
   "metadata": {},
   "outputs": [],
   "source": [
    "def del_high_corr(data, cut_off=0.7):\n",
    "    \n",
    "    \"\"\"\n",
    "    Функция предназначена для удаления признаков, у которых корреляция выше некоторого порога.\n",
    "    Функция принимает следующие параметры:\n",
    "    data: pandas.DataFrame - данные, для которых будет рассчитана матрица корреляций;\n",
    "    cut_off: float - порог отсечения коррелирующих признаков, значение по умолчанию равно 0.7,\n",
    "    что в соответствии с таблицей Чеддока соответствует высокой силе корреляционной связи.\n",
    "    Функция ничего не возвращает, она удаляет признаки, корреляция которых превышает установленный\n",
    "    порог.\n",
    "    \"\"\"\n",
    "    \n",
    "    i, to_drop = 0, []\n",
    "    while True:\n",
    "        corr_ = data.corr() >= cut_off\n",
    "        tmp = list(zip(corr_.sum().index, corr_.sum()))\n",
    "        if tmp[i][1] > 1:\n",
    "            data.drop(tmp[i][0], axis=1, inplace=True)\n",
    "            print(f'Признак {tmp[i][0]} был удалён')\n",
    "        else:\n",
    "            i +=1\n",
    "        if data.shape[1] == corr_.sum().values.sum():\n",
    "            break"
   ]
  },
  {
   "cell_type": "code",
   "execution_count": 153,
   "id": "87d488a0",
   "metadata": {},
   "outputs": [],
   "source": [
    "def find_unique_columns(columns1, columns2):\n",
    "    \n",
    "    \"\"\"\n",
    "    Функция предназначена для поиска уникальных значений двух списков признаков.\n",
    "    Функция принимает следующие параметры:\n",
    "    columns1: list - первый список признаков;\n",
    "    columns2: list - второй список признаков.\n",
    "    Функция возвращает список уникальных признаков.\n",
    "    \"\"\"\n",
    "    \n",
    "    \n",
    "    if isinstance(columns1, list) | isinstance(columns2, list):\n",
    "        cols1, cols2 = set(columns1), set(columns2)\n",
    "        return list(cols1.difference(cols2))\n",
    "    else:\n",
    "        raise TypeError('Аргумент \"columns\" должен принимать строковое значение')"
   ]
  },
  {
   "cell_type": "code",
   "execution_count": 154,
   "id": "90c2ca29",
   "metadata": {},
   "outputs": [],
   "source": [
    "def remove_empty_factors(data, columns, cut_off=5):\n",
    "    \n",
    "    \"\"\"\n",
    "    Функция предназначена для удаления факторных признаков, в которых пустые значения превышают\n",
    "    установленный допустимый порог их содержания.\n",
    "    Функция принимает следующие параметры:\n",
    "    data: pandas.DataFrame - данные, для которых будет осуществлён поиск пустых факторных признаков;\n",
    "    columns: list - список признаков;\n",
    "    cut_off: float - порог отсечения пустых факторных признаков, значение по умолчанию равно 5.\n",
    "    Функция ничего не возвращает; она удаляет факторные признаки, в которых пустые значения\n",
    "    превышают или равны порого отсечения.\n",
    "    \"\"\"\n",
    "    \n",
    "    if isinstance(columns, list):\n",
    "        for col in columns:\n",
    "            if (len(data) - data[col].value_counts()[-1]) <= cut_off:\n",
    "                print(f'{col} was dropped')\n",
    "                data.drop(col, axis=1, inplace=True)\n",
    "    else:\n",
    "        raise TypeError('Аргумент \"columns\" должен быть представлен списком')"
   ]
  },
  {
   "cell_type": "code",
   "execution_count": 155,
   "id": "f04378f7",
   "metadata": {},
   "outputs": [],
   "source": [
    "def check_empty_cols(data, columns, cut_off=0.5):\n",
    "    \n",
    "    \"\"\"\n",
    "    Функция предназначена для поиск пустых признаков.\n",
    "    Функция принимает следующие параметры:\n",
    "    data: pandas.DataFrame - данные, для которых будет осуществлён поиск пустых признаков;\n",
    "    columns: list - список признаков;\n",
    "    cut_off: float - порог отсечения пустых признаков, значение по умолчанию равно 0.5.\n",
    "    Функция возвращает спико признаков, в которых объём пустых значений превышает установленный порог.\n",
    "    \"\"\"\n",
    "    \n",
    "    drop_params = []\n",
    "    if isinstance(columns, list):\n",
    "        for col in columns:\n",
    "            try:\n",
    "                val = round(data[col].value_counts()[-1] / len(data), ndigits=5)\n",
    "                if val > cut_off:\n",
    "                    print(col, val)\n",
    "                    drop_params.append(col)\n",
    "            except KeyError:\n",
    "                val = round(data[col].value_counts()[0] / len(data), ndigits=5)\n",
    "                if val > cut_off:\n",
    "                    print(col, val)\n",
    "                    drop_params.append(col)\n",
    "        print(len(drop_params))\n",
    "        return drop_params\n",
    "    else:\n",
    "        raise TypeError('Аргумент \"columns\" должен быть представлен списком')"
   ]
  },
  {
   "cell_type": "code",
   "execution_count": 156,
   "id": "8cb0be95",
   "metadata": {},
   "outputs": [],
   "source": [
    "def isfact(name):\n",
    "    \n",
    "    \"\"\"\n",
    "    Функция предназначена для определения по названию - является ли поле \"Фактом\", или нет.\n",
    "    Функция принимает следующие параметры:\n",
    "    name: str - наименование признака;\n",
    "    Функция возвращает булево значение True - в положительном случае, False - в отрицательном.\n",
    "    \"\"\"\n",
    "    \n",
    "    lenth = len(name)\n",
    "    prefix = name[0]\n",
    "    postfix = name[1:]\n",
    "    \n",
    "    if lenth <=3:\n",
    "        if prefix == 'f':\n",
    "            if postfix.isdigit():\n",
    "                return True\n",
    "    return False"
   ]
  },
  {
   "cell_type": "code",
   "execution_count": 157,
   "id": "8e511c3d",
   "metadata": {},
   "outputs": [],
   "source": [
    "def rename_years(columns, actual_year, diffs):\n",
    "    \n",
    "    \"\"\"\n",
    "    Функция предназначена для изменения прямого номера года в названии признака, на относительный.\n",
    "    Функция принимает следующие параметры:\n",
    "    columns: list/index - список признаков;\n",
    "    actual_year: int - номер года, относительно которого дклается нумерация;\n",
    "    diffs: dict - сопоставления цифрового отклонения года в признаке, его постфиксу, который нужно присвоить\n",
    "    Функция возвращает список полей, в которых признаки с прямым указанием года переименованы\n",
    "    \"\"\"\n",
    "    \n",
    "    new_columns = []\n",
    "    for name in columns:\n",
    "        if not isfact(name):\n",
    "            tail = name[-2:]\n",
    "            if tail.isdigit():\n",
    "                tail = int(tail)\n",
    "                tail = tail - actual_year\n",
    "                if tail == 0:\n",
    "                    name = name[:-2]\n",
    "                elif tail > 0 or tail < -5:\n",
    "                    name = name\n",
    "                else:\n",
    "                    name = name[:-2] + diffs[tail]\n",
    "        new_columns.append(name)\n",
    "    return new_columns"
   ]
  },
  {
   "cell_type": "markdown",
   "id": "094551c5",
   "metadata": {},
   "source": [
    "## 3.1 Первичный анализ данных"
   ]
  },
  {
   "cell_type": "markdown",
   "id": "b845b26a",
   "metadata": {},
   "source": [
    "Чтение данных, переименование признаков в удобный вид."
   ]
  },
  {
   "cell_type": "code",
   "execution_count": 158,
   "id": "b2a9933e",
   "metadata": {},
   "outputs": [
    {
     "name": "stdout",
     "output_type": "stream",
     "text": [
      "Размерность ag19: (531, 54)\n",
      "Размерность ag20: (531, 131)\n",
      "Размерность ag21: (325, 135)\n"
     ]
    },
    {
     "data": {
      "application/vnd.jupyter.widget-view+json": {
       "model_id": "ad35931133734abe931283f201a439a9",
       "version_major": 2,
       "version_minor": 0
      },
      "text/plain": [
       "  0%|          | 0/54 [00:00<?, ?it/s]"
      ]
     },
     "metadata": {},
     "output_type": "display_data"
    },
    {
     "data": {
      "application/vnd.jupyter.widget-view+json": {
       "model_id": "38c3fb3bb25c43c2bd3f82c6cb323a7d",
       "version_major": 2,
       "version_minor": 0
      },
      "text/plain": [
       "  0%|          | 0/131 [00:00<?, ?it/s]"
      ]
     },
     "metadata": {},
     "output_type": "display_data"
    },
    {
     "data": {
      "application/vnd.jupyter.widget-view+json": {
       "model_id": "902504cbbcbf4b6197671b84073b7eff",
       "version_major": 2,
       "version_minor": 0
      },
      "text/plain": [
       "  0%|          | 0/135 [00:00<?, ?it/s]"
      ]
     },
     "metadata": {},
     "output_type": "display_data"
    }
   ],
   "source": [
    "ag19 = pd.read_csv('agents2019.csv')\n",
    "ag19.drop('Unnamed: 0', axis=1, inplace=True)\n",
    "print(f'Размерность ag19: {ag19.shape}')\n",
    "\n",
    "ag20 = pd.read_csv('agents2020.csv')\n",
    "print(f'Размерность ag20: {ag20.shape}')\n",
    "\n",
    "ag21 = pd.read_csv('agents2021.csv')\n",
    "ag21.drop('Unnamed: 0', axis=1, inplace=True)\n",
    "print(f'Размерность ag21: {ag21.shape}')\n",
    "\n",
    "features_rename(ag19, ag19.columns.to_list())\n",
    "features_rename(ag20, ag20.columns.to_list())\n",
    "features_rename(ag21, ag21.columns.to_list())"
   ]
  },
  {
   "cell_type": "markdown",
   "id": "dc8116f7",
   "metadata": {},
   "source": [
    "Для данных 2020 и 2021 годов заполним пропущенные значения факторных признаков содержательными, а после отфильтруем эти признаки."
   ]
  },
  {
   "cell_type": "code",
   "execution_count": 159,
   "id": "33af2180",
   "metadata": {},
   "outputs": [
    {
     "data": {
      "application/vnd.jupyter.widget-view+json": {
       "model_id": "9e4c8c1b4a2045afabd2d7695e1ac020",
       "version_major": 2,
       "version_minor": 0
      },
      "text/plain": [
       "  0%|          | 0/61 [00:00<?, ?it/s]"
      ]
     },
     "metadata": {},
     "output_type": "display_data"
    },
    {
     "data": {
      "application/vnd.jupyter.widget-view+json": {
       "model_id": "2726c863e31e473cb6fe6b162800de87",
       "version_major": 2,
       "version_minor": 0
      },
      "text/plain": [
       "  0%|          | 0/61 [00:00<?, ?it/s]"
      ]
     },
     "metadata": {},
     "output_type": "display_data"
    },
    {
     "name": "stdout",
     "output_type": "stream",
     "text": [
      " Удалено 23: \n",
      "['f4', 'f6', 'f8', 'f9', 'f10', 'f11', 'f17', 'f18', 'f19', 'f20', 'f21', 'f22', 'f26', 'f34', 'f35', 'f36', 'f38', 'f43', 'f44', 'f45', 'f52', 'f53', 'f56']\n"
     ]
    },
    {
     "data": {
      "application/vnd.jupyter.widget-view+json": {
       "model_id": "60bd6baff5c7424b9740591509ca698d",
       "version_major": 2,
       "version_minor": 0
      },
      "text/plain": [
       "  0%|          | 0/37 [00:00<?, ?it/s]"
      ]
     },
     "metadata": {},
     "output_type": "display_data"
    },
    {
     "data": {
      "application/vnd.jupyter.widget-view+json": {
       "model_id": "c261afa7b116455a8ca237509d46f09f",
       "version_major": 2,
       "version_minor": 0
      },
      "text/plain": [
       "  0%|          | 0/37 [00:00<?, ?it/s]"
      ]
     },
     "metadata": {},
     "output_type": "display_data"
    },
    {
     "name": "stdout",
     "output_type": "stream",
     "text": [
      " Удалено 5: \n",
      "['f20', 'f21', 'f56', 'f15', 'f16']\n"
     ]
    }
   ],
   "source": [
    "factor_filling(ag20, ag20.columns[1:62].to_list())\n",
    "factor_cleaning(ag20, ag20.columns[1:62].to_list())\n",
    "\n",
    "factor_filling(ag21, ag21.columns[94:131].to_list())\n",
    "factor_cleaning(ag21, ag21.columns[94:131].to_list())"
   ]
  },
  {
   "cell_type": "markdown",
   "id": "33bdb9d9",
   "metadata": {},
   "source": [
    "Найдём уникальные признаки для данных за 2019 и 2020 годов."
   ]
  },
  {
   "cell_type": "code",
   "execution_count": 160,
   "id": "51d05083",
   "metadata": {},
   "outputs": [
    {
     "data": {
      "text/plain": [
       "(['avg_ar19', 'ar_count519', 'ar_sum19', 'max_ar19', 'ar_count19', 'customer'],\n",
       " ['avg_ar20', 'ar_count520', 'ar_sum20', 'max_ar20', 'ar_count20', 'customer'])"
      ]
     },
     "execution_count": 160,
     "metadata": {},
     "output_type": "execute_result"
    }
   ],
   "source": [
    "columns19 = find_unique_columns(ag19.columns.to_list(), ag20.columns.to_list())\n",
    "columns20 = [column[:-2] + '20' for column in columns19]\n",
    "columns19.append(key)\n",
    "columns20.append(key)\n",
    "\n",
    "columns19, columns20"
   ]
  },
  {
   "cell_type": "markdown",
   "id": "2de68f95",
   "metadata": {},
   "source": [
    "Объединим данные 2019 и 2020 годов."
   ]
  },
  {
   "cell_type": "code",
   "execution_count": 161,
   "id": "6e3749e6",
   "metadata": {},
   "outputs": [],
   "source": [
    "agents = pd.merge(ag20, ag19.loc[:, columns19], on=key, how='left')\n",
    "\n",
    "# для экспортирования данных в csv-файл\n",
    "# agents.to_csv('agents19_20.csv', index=False)"
   ]
  },
  {
   "cell_type": "markdown",
   "id": "68bf0522",
   "metadata": {},
   "source": [
    "Удалим более ненужные переменные ag19 и ag20, отвечающие за данные 2019 и 2020 годов соответственно."
   ]
  },
  {
   "cell_type": "code",
   "execution_count": 162,
   "id": "6594e969",
   "metadata": {},
   "outputs": [],
   "source": [
    "del([ag19, ag20])"
   ]
  },
  {
   "cell_type": "markdown",
   "id": "826d5788",
   "metadata": {},
   "source": [
    "Удалим пустые факторные признаки из данных за 2021 год и данных \"agents\"."
   ]
  },
  {
   "cell_type": "code",
   "execution_count": 163,
   "id": "0ac05d53",
   "metadata": {},
   "outputs": [
    {
     "name": "stdout",
     "output_type": "stream",
     "text": [
      "f1 was dropped\n",
      "f5 was dropped\n",
      "f7 was dropped\n",
      "f12 was dropped\n",
      "f13 was dropped\n",
      "f14 was dropped\n",
      "f15 was dropped\n",
      "f16 was dropped\n",
      "f23 was dropped\n",
      "f24 was dropped\n",
      "f25 was dropped\n",
      "f27 was dropped\n",
      "f28 was dropped\n",
      "f32 was dropped\n",
      "f37 was dropped\n",
      "f40 was dropped\n",
      "f41 was dropped\n",
      "f42 was dropped\n",
      "f47 was dropped\n",
      "f48 was dropped\n",
      "f57 was dropped\n",
      "f32 was dropped\n",
      "f23 was dropped\n",
      "f24 was dropped\n",
      "f27 was dropped\n",
      "f28 was dropped\n",
      "f30 was dropped\n",
      "f40 was dropped\n",
      "f41 was dropped\n",
      "f42 was dropped\n",
      "f46 was dropped\n",
      "f48 was dropped\n",
      "f50 was dropped\n",
      "f57 was dropped\n",
      "f37 was dropped\n",
      "f1 was dropped\n",
      "f2 was dropped\n",
      "f7 was dropped\n",
      "f12 was dropped\n",
      "f14 was dropped\n"
     ]
    }
   ],
   "source": [
    "remove_empty_factors(agents, agents.columns[1:38].to_list())\n",
    "remove_empty_factors(ag21, ag21.columns[94:125].to_list())"
   ]
  },
  {
   "cell_type": "markdown",
   "id": "8b8a6dd5",
   "metadata": {},
   "source": [
    "Признаки \"score1\", \"score2\" и \"status\" среди данных 2019 и 2020 годов отсутствуют, поэтому уберем их и из данных за 2021 год."
   ]
  },
  {
   "cell_type": "code",
   "execution_count": 164,
   "id": "fe3c8147",
   "metadata": {},
   "outputs": [],
   "source": [
    "drop21 = columns19[:-1] + columns20[:-1] + ['score1', 'score2', 'status']\n",
    "ag21.drop(drop21, axis=1, inplace=True)\n",
    "ag21 = ag21.merge(agents[columns20], on='customer', how='left')"
   ]
  },
  {
   "cell_type": "markdown",
   "id": "4c26e2db",
   "metadata": {},
   "source": [
    "Заменим прямые показатели года в данных, на относительные."
   ]
  },
  {
   "cell_type": "code",
   "execution_count": 165,
   "id": "af22feb1",
   "metadata": {},
   "outputs": [],
   "source": [
    "diffs = {-1: '_bef_01',\n",
    "         -2: '_bef_02',\n",
    "         -3: '_bef_03',\n",
    "         -4: '_bef_04',\n",
    "         -5: '_drop'}\n",
    "\n",
    "agents.columns = rename_years(agents.columns, 20, diffs)\n",
    "ag21.columns = rename_years(ag21.columns, 21, diffs)"
   ]
  },
  {
   "cell_type": "code",
   "execution_count": 166,
   "id": "a7932b97",
   "metadata": {},
   "outputs": [],
   "source": [
    "del diffs[-5]\n",
    "ag21 = ag21[[i for i in ag21.columns if 'drop' not in i]]"
   ]
  },
  {
   "cell_type": "markdown",
   "id": "fc3249b0",
   "metadata": {},
   "source": [
    "Выровняем количество фактов. Оставим только те, которые присутствуют в обоих наборах."
   ]
  },
  {
   "cell_type": "code",
   "execution_count": 167,
   "id": "c59aab06",
   "metadata": {},
   "outputs": [
    {
     "name": "stdout",
     "output_type": "stream",
     "text": [
      "Факторы подготовлены к удалению:\n",
      "{'f2', 'f30', 'f50', 'f46'}\n"
     ]
    }
   ],
   "source": [
    "fcolumns20 = set([fact_col for fact_col in agents.columns if isfact(fact_col)])\n",
    "fcolumns21 = set([fact_col for fact_col in ag21.columns if isfact(fact_col)])\n",
    "fcolumns20 ^= fcolumns21\n",
    "\n",
    "print(f'Факторы подготовлены к удалению:\\n{fcolumns20}')"
   ]
  },
  {
   "cell_type": "code",
   "execution_count": 168,
   "id": "c8298ddb",
   "metadata": {},
   "outputs": [],
   "source": [
    "agents.drop(fcolumns20, axis=1, inplace=True)"
   ]
  },
  {
   "cell_type": "markdown",
   "id": "a82271b5",
   "metadata": {},
   "source": [
    "Пересчитаем сумму признаков"
   ]
  },
  {
   "cell_type": "code",
   "execution_count": 169,
   "id": "1d6c31cc",
   "metadata": {},
   "outputs": [],
   "source": [
    "agents['Sum'] = agents[fcolumns21].to_numpy().sum(axis=1, where=agents[fcolumns21] > 0)\n",
    "ag21['Sum'] = ag21[fcolumns21].to_numpy().sum(axis=1, where=ag21[fcolumns21] > 0)"
   ]
  },
  {
   "cell_type": "markdown",
   "id": "5277a5e9",
   "metadata": {},
   "source": [
    "## 3.2 Анализ балансовых показателей и поиск аномалий"
   ]
  },
  {
   "cell_type": "markdown",
   "id": "26edd5d9",
   "metadata": {},
   "source": [
    "Установка локальных параметров."
   ]
  },
  {
   "cell_type": "code",
   "execution_count": 170,
   "id": "39ec81f1",
   "metadata": {},
   "outputs": [],
   "source": [
    "# Список, куда будут собраны индексы \"странных записей\"\n",
    "nonsense = []\n",
    "\n",
    "# Постфиксы отношенй по годам\n",
    "years = [postfix for _, postfix in diffs.items()]\n",
    "\n",
    "# Имена балансовых полей\n",
    "bs_cols = [item for _, item in balance_sections.items()]\n",
    "pl_cols, bs_cols = bs_cols[-4:], bs_cols[:-4]\n",
    "bs_chapters = ['non_current_assets','current_assets', 'capital_and_reserves',\n",
    "               'non_current_liabilities', 'current_liabilities']"
   ]
  },
  {
   "cell_type": "markdown",
   "id": "d6268363",
   "metadata": {},
   "source": [
    "Вспомогательный локальный функционал."
   ]
  },
  {
   "cell_type": "code",
   "execution_count": 171,
   "id": "e5455478",
   "metadata": {},
   "outputs": [],
   "source": [
    "def all_years_features(prefix, postfix):\n",
    "    \n",
    "    \"\"\"\n",
    "    Функция формирует список имен признаков по нужным годам из названий необходимых показателей\n",
    "    Функция принимает следующие параметры:\n",
    "    preix: list - перечень показателей без указания на год;\n",
    "    postfix: list - перечень лет;\n",
    "    Функция возвращает список имен признаков.\n",
    "    \"\"\"\n",
    "    \n",
    "    index = []\n",
    "    for i in postfix:\n",
    "        for j in prefix:\n",
    "            index.append(j + i)\n",
    "    return index"
   ]
  },
  {
   "cell_type": "code",
   "execution_count": 172,
   "id": "eef5bfb0",
   "metadata": {},
   "outputs": [],
   "source": [
    "def balance_convergence(data, year):\n",
    "    \n",
    "    \"\"\"\n",
    "    Функция проверяет сходимость баланса (актив = пассиву)\n",
    "    Функция принимает следующие параметры:\n",
    "    data: pandas.DataFrame - данные для которых необходимо провести проверку;\n",
    "    year: str - строковое обозначение года в названии признака (postfix);\n",
    "    Функция возвращает pandas.Series с разницей Актив - Пассив.\n",
    "    \"\"\"\n",
    "        \n",
    "    active = data[f'non_current_assets{year}'] + data[f'current_assets{year}']\n",
    "    passive = data[f'capital_and_reserves{year}'] + data[f'non_current_liabilities{year}'] + \\\n",
    "                data[f'current_liabilities{year}']\n",
    "    \n",
    "    return np.around(active - passive, 2)"
   ]
  },
  {
   "cell_type": "code",
   "execution_count": 173,
   "id": "5a3b31bc",
   "metadata": {},
   "outputs": [],
   "source": [
    "def chapters_convergence(data, year):\n",
    "    \n",
    "    \"\"\"\n",
    "    Функция проверяет разницу суммы статей раздела баланса и значения суммы самого раздела\n",
    "    Функция принимает следующие параметры:\n",
    "    data: pandas.DataFrame - данные для которых необходимо провести проверку;\n",
    "    year: str - строковое обозначение года в названии признака (postfix);\n",
    "    Функция возвращает pandas.Series с разницей Раздел - Статьи (составляющие этот раздел).\n",
    "    \"\"\"\n",
    "    \n",
    "    nca = data[f'non_current_assets{year}'] - data[f'intangible_assets{year}'] - data[f'property_plant_equipment{year}'] \n",
    "    ca = data[f'current_assets{year}'] - data[f'accounts_receivable{year}']\n",
    "    car = data[f'capital_and_reserves{year}'] - data[f'share_capital{year}'] \n",
    "    ncl = data[f'non_current_liabilities{year}'] - data[f'nc_borrowings{year}']\n",
    "    cl = data[f'current_liabilities{year}'] - data[f'c_borrowings{year}'] - data[f'accounts_payable{year}']\n",
    "        \n",
    "    result = pd.DataFrame({'nca'+year: nca, \n",
    "                           'ca'+year: ca, \n",
    "                           'car'+year: car, \n",
    "                           'ncl'+year: ncl, \n",
    "                           'cl'+year: cl})\n",
    " \n",
    "    return np.around(result, 2)"
   ]
  },
  {
   "cell_type": "code",
   "execution_count": 174,
   "id": "ec58ab5a",
   "metadata": {},
   "outputs": [],
   "source": [
    "def diff_margins(data, year):\n",
    "    \n",
    "    \"\"\"\n",
    "    Функция вычисляет разницу между маржинальной прибылью и прибылью продаж\n",
    "    Функция принимает следующие параметры:\n",
    "    data: pandas.DataFrame - данные для которых необходимо провести проверку;\n",
    "    year: str - строковое обозначение года в названии признака (postfix);\n",
    "    Функция возвращает pandas.Series с разницей Маржинальная прибыль - Прибыль продаж.\n",
    "    \"\"\"\n",
    "    \n",
    "    margin = data[f'revenue{year}'] - data[f'cost_amount{year}']\n",
    "    diff_sales_profit = margin - data[f'sales_profit{year}']\n",
    "    \n",
    "    return diff_sales_profit"
   ]
  },
  {
   "cell_type": "markdown",
   "id": "8e2ea909",
   "metadata": {},
   "source": [
    "### 3.2.1 Баланс"
   ]
  },
  {
   "cell_type": "markdown",
   "id": "42902457",
   "metadata": {},
   "source": [
    "**3.2.1.1 Все балансовые показатели равны нулю**"
   ]
  },
  {
   "cell_type": "markdown",
   "id": "ccdb991e",
   "metadata": {},
   "source": [
    "Все балансовые показатели за все года, равные нулю, означают, что юридического лица все эти годы не существовало. Такая ситуация возможна, только в случае, если контрагент - Индивдуальный предприниматель (об этом - ниже)"
   ]
  },
  {
   "cell_type": "code",
   "execution_count": 175,
   "id": "f3cae906",
   "metadata": {},
   "outputs": [
    {
     "data": {
      "text/html": [
       "<div>\n",
       "<style scoped>\n",
       "    .dataframe tbody tr th:only-of-type {\n",
       "        vertical-align: middle;\n",
       "    }\n",
       "\n",
       "    .dataframe tbody tr th {\n",
       "        vertical-align: top;\n",
       "    }\n",
       "\n",
       "    .dataframe thead th {\n",
       "        text-align: right;\n",
       "    }\n",
       "</style>\n",
       "<table border=\"1\" class=\"dataframe\">\n",
       "  <thead>\n",
       "    <tr style=\"text-align: right;\">\n",
       "      <th></th>\n",
       "      <th>BS_sum</th>\n",
       "      <th>BS_max</th>\n",
       "      <th>BS_min</th>\n",
       "      <th>is_nonsense</th>\n",
       "    </tr>\n",
       "  </thead>\n",
       "  <tbody>\n",
       "    <tr>\n",
       "      <th>340</th>\n",
       "      <td>0.0</td>\n",
       "      <td>0.0</td>\n",
       "      <td>0.0</td>\n",
       "      <td>0.0</td>\n",
       "    </tr>\n",
       "    <tr>\n",
       "      <th>488</th>\n",
       "      <td>0.0</td>\n",
       "      <td>0.0</td>\n",
       "      <td>0.0</td>\n",
       "      <td>0.0</td>\n",
       "    </tr>\n",
       "    <tr>\n",
       "      <th>523</th>\n",
       "      <td>0.0</td>\n",
       "      <td>0.0</td>\n",
       "      <td>0.0</td>\n",
       "      <td>0.0</td>\n",
       "    </tr>\n",
       "    <tr>\n",
       "      <th>528</th>\n",
       "      <td>0.0</td>\n",
       "      <td>0.0</td>\n",
       "      <td>0.0</td>\n",
       "      <td>0.0</td>\n",
       "    </tr>\n",
       "  </tbody>\n",
       "</table>\n",
       "</div>"
      ],
      "text/plain": [
       "     BS_sum  BS_max  BS_min  is_nonsense\n",
       "340     0.0     0.0     0.0          0.0\n",
       "488     0.0     0.0     0.0          0.0\n",
       "523     0.0     0.0     0.0          0.0\n",
       "528     0.0     0.0     0.0          0.0"
      ]
     },
     "execution_count": 175,
     "metadata": {},
     "output_type": "execute_result"
    }
   ],
   "source": [
    "columns = all_years_features(bs_cols, years)\n",
    "\n",
    "agents['BS_sum'] = agents.loc[:, columns].sum(axis=1)\n",
    "agents['BS_max'] = agents.loc[:, columns].max(axis=1)\n",
    "agents['BS_min'] = agents.loc[:, columns].min(axis=1)\n",
    "agents['is_nonsense'] = agents.iloc[:, -3:].sum(axis=1)\n",
    "\n",
    "agents.loc[agents['is_nonsense'] == 0].iloc[:, -4:]"
   ]
  },
  {
   "cell_type": "code",
   "execution_count": 176,
   "id": "9e71945f",
   "metadata": {},
   "outputs": [],
   "source": [
    "nonsense += agents[agents['is_nonsense'] == 0].index.to_list()\n",
    "agents.drop(agents.columns[-4:], axis=1, inplace=True)"
   ]
  },
  {
   "cell_type": "markdown",
   "id": "d22c2c8a",
   "metadata": {},
   "source": [
    "**3.2.1.2 Показатели PL все равны нулю**"
   ]
  },
  {
   "cell_type": "markdown",
   "id": "67515992",
   "metadata": {},
   "source": [
    "Эта проверка - специально вставлена сюда (идет следом за проверкой нулевого баланса), чтобы сравнить перечень контрагентов, выделенных ими. Нулевые показатели PL - означают, что деятельность в выбранных периодах не велась. Аналоги PL есть и у ИП."
   ]
  },
  {
   "cell_type": "code",
   "execution_count": 177,
   "id": "caf14d60",
   "metadata": {},
   "outputs": [
    {
     "data": {
      "text/html": [
       "<div>\n",
       "<style scoped>\n",
       "    .dataframe tbody tr th:only-of-type {\n",
       "        vertical-align: middle;\n",
       "    }\n",
       "\n",
       "    .dataframe tbody tr th {\n",
       "        vertical-align: top;\n",
       "    }\n",
       "\n",
       "    .dataframe thead th {\n",
       "        text-align: right;\n",
       "    }\n",
       "</style>\n",
       "<table border=\"1\" class=\"dataframe\">\n",
       "  <thead>\n",
       "    <tr style=\"text-align: right;\">\n",
       "      <th></th>\n",
       "      <th>PL_sum</th>\n",
       "      <th>PL_max</th>\n",
       "      <th>PL_min</th>\n",
       "      <th>is_nonsense</th>\n",
       "    </tr>\n",
       "  </thead>\n",
       "  <tbody>\n",
       "    <tr>\n",
       "      <th>340</th>\n",
       "      <td>0.0</td>\n",
       "      <td>0.0</td>\n",
       "      <td>0.0</td>\n",
       "      <td>0.0</td>\n",
       "    </tr>\n",
       "    <tr>\n",
       "      <th>488</th>\n",
       "      <td>0.0</td>\n",
       "      <td>0.0</td>\n",
       "      <td>0.0</td>\n",
       "      <td>0.0</td>\n",
       "    </tr>\n",
       "    <tr>\n",
       "      <th>523</th>\n",
       "      <td>0.0</td>\n",
       "      <td>0.0</td>\n",
       "      <td>0.0</td>\n",
       "      <td>0.0</td>\n",
       "    </tr>\n",
       "    <tr>\n",
       "      <th>528</th>\n",
       "      <td>0.0</td>\n",
       "      <td>0.0</td>\n",
       "      <td>0.0</td>\n",
       "      <td>0.0</td>\n",
       "    </tr>\n",
       "  </tbody>\n",
       "</table>\n",
       "</div>"
      ],
      "text/plain": [
       "     PL_sum  PL_max  PL_min  is_nonsense\n",
       "340     0.0     0.0     0.0          0.0\n",
       "488     0.0     0.0     0.0          0.0\n",
       "523     0.0     0.0     0.0          0.0\n",
       "528     0.0     0.0     0.0          0.0"
      ]
     },
     "execution_count": 177,
     "metadata": {},
     "output_type": "execute_result"
    }
   ],
   "source": [
    "agents['PL_sum'] = agents.loc[:, columns].sum(axis=1)\n",
    "agents['PL_max'] = agents.loc[:, columns].max(axis=1)\n",
    "agents['PL_min'] = agents.loc[:, columns].min(axis=1)\n",
    "agents['is_nonsense'] = agents.iloc[:, -3:].sum(axis=1)\n",
    "\n",
    "agents.loc[agents['is_nonsense'] == 0].iloc[:, -4:]"
   ]
  },
  {
   "cell_type": "code",
   "execution_count": 178,
   "id": "1ad5ddf8",
   "metadata": {},
   "outputs": [],
   "source": [
    "nonsense += agents[agents['is_nonsense'] == 0].index.to_list()\n",
    "agents.drop(agents.columns[-4:], axis=1, inplace=True)"
   ]
  },
  {
   "cell_type": "markdown",
   "id": "5a24c3cd",
   "metadata": {},
   "source": [
    "**3.2.1.3 Баланс не сходится к нулю**"
   ]
  },
  {
   "cell_type": "markdown",
   "id": "10b18847",
   "metadata": {},
   "source": [
    "Баланс строится на основе бухгалтерского/управленческого учета, который ведут методом двойной записи. Этот метод подразумевает, что каждая операция отражается по дебету одного счета и кредиту другого. \n",
    "\n",
    "Так как аналитические счета строго делятся на активные (отражают движение Актива) и пассивные (отражают движение Пассива), операции, в зависимости от их экономического смысла, можно отразить одним из четырех способов (по отношению к балансу):\n",
    "- **ДтА - КтП** - Валюта баланса меняется, но **А = П**\n",
    "- **ДтА - КтА** - Валюта баланса не меняется, **А = П**\n",
    "- **ДтП - КтА** - Валюта баланса меняется, но **А = П**\n",
    "- **ДтП - КтП** - Валюта баланса не меняется, **А = П**\n",
    "\n",
    "Актив всегда будет равен пассиву. Если это не так, значит операция отражена с ошибкой (например - без указания корсчета), или какие-то данные не попали в отчетность. В любом случае - это ненормальная ситуация, ее нужно отсеять."
   ]
  },
  {
   "cell_type": "code",
   "execution_count": 179,
   "id": "19f44f4c",
   "metadata": {},
   "outputs": [
    {
     "data": {
      "text/html": [
       "<div>\n",
       "<style scoped>\n",
       "    .dataframe tbody tr th:only-of-type {\n",
       "        vertical-align: middle;\n",
       "    }\n",
       "\n",
       "    .dataframe tbody tr th {\n",
       "        vertical-align: top;\n",
       "    }\n",
       "\n",
       "    .dataframe thead th {\n",
       "        text-align: right;\n",
       "    }\n",
       "</style>\n",
       "<table border=\"1\" class=\"dataframe\">\n",
       "  <thead>\n",
       "    <tr style=\"text-align: right;\">\n",
       "      <th></th>\n",
       "      <th>bal_bef_01</th>\n",
       "      <th>bal_bef_02</th>\n",
       "      <th>bal_bef_03</th>\n",
       "      <th>bal_bef_04</th>\n",
       "      <th>is_nonsense</th>\n",
       "    </tr>\n",
       "  </thead>\n",
       "  <tbody>\n",
       "    <tr>\n",
       "      <th>14</th>\n",
       "      <td>0.00</td>\n",
       "      <td>0.00</td>\n",
       "      <td>0.00</td>\n",
       "      <td>636.94</td>\n",
       "      <td>636.94</td>\n",
       "    </tr>\n",
       "    <tr>\n",
       "      <th>16</th>\n",
       "      <td>-0.00</td>\n",
       "      <td>-0.00</td>\n",
       "      <td>-636.94</td>\n",
       "      <td>-0.00</td>\n",
       "      <td>-636.94</td>\n",
       "    </tr>\n",
       "    <tr>\n",
       "      <th>17</th>\n",
       "      <td>0.00</td>\n",
       "      <td>0.00</td>\n",
       "      <td>-636.94</td>\n",
       "      <td>0.00</td>\n",
       "      <td>-636.94</td>\n",
       "    </tr>\n",
       "    <tr>\n",
       "      <th>19</th>\n",
       "      <td>0.00</td>\n",
       "      <td>-636.94</td>\n",
       "      <td>0.00</td>\n",
       "      <td>0.00</td>\n",
       "      <td>-636.94</td>\n",
       "    </tr>\n",
       "    <tr>\n",
       "      <th>22</th>\n",
       "      <td>636.94</td>\n",
       "      <td>636.94</td>\n",
       "      <td>0.00</td>\n",
       "      <td>-636.94</td>\n",
       "      <td>636.94</td>\n",
       "    </tr>\n",
       "    <tr>\n",
       "      <th>...</th>\n",
       "      <td>...</td>\n",
       "      <td>...</td>\n",
       "      <td>...</td>\n",
       "      <td>...</td>\n",
       "      <td>...</td>\n",
       "    </tr>\n",
       "    <tr>\n",
       "      <th>514</th>\n",
       "      <td>636.94</td>\n",
       "      <td>0.00</td>\n",
       "      <td>0.00</td>\n",
       "      <td>0.00</td>\n",
       "      <td>636.94</td>\n",
       "    </tr>\n",
       "    <tr>\n",
       "      <th>519</th>\n",
       "      <td>-636.94</td>\n",
       "      <td>0.00</td>\n",
       "      <td>-0.00</td>\n",
       "      <td>0.00</td>\n",
       "      <td>-636.94</td>\n",
       "    </tr>\n",
       "    <tr>\n",
       "      <th>521</th>\n",
       "      <td>-636.94</td>\n",
       "      <td>0.00</td>\n",
       "      <td>-0.00</td>\n",
       "      <td>0.00</td>\n",
       "      <td>-636.94</td>\n",
       "    </tr>\n",
       "    <tr>\n",
       "      <th>524</th>\n",
       "      <td>636.94</td>\n",
       "      <td>1273.89</td>\n",
       "      <td>-636.94</td>\n",
       "      <td>-0.00</td>\n",
       "      <td>1273.89</td>\n",
       "    </tr>\n",
       "    <tr>\n",
       "      <th>525</th>\n",
       "      <td>-636.94</td>\n",
       "      <td>0.00</td>\n",
       "      <td>0.00</td>\n",
       "      <td>0.00</td>\n",
       "      <td>-636.94</td>\n",
       "    </tr>\n",
       "  </tbody>\n",
       "</table>\n",
       "<p>152 rows × 5 columns</p>\n",
       "</div>"
      ],
      "text/plain": [
       "     bal_bef_01  bal_bef_02  bal_bef_03  bal_bef_04  is_nonsense\n",
       "14         0.00        0.00        0.00      636.94       636.94\n",
       "16        -0.00       -0.00     -636.94       -0.00      -636.94\n",
       "17         0.00        0.00     -636.94        0.00      -636.94\n",
       "19         0.00     -636.94        0.00        0.00      -636.94\n",
       "22       636.94      636.94        0.00     -636.94       636.94\n",
       "..          ...         ...         ...         ...          ...\n",
       "514      636.94        0.00        0.00        0.00       636.94\n",
       "519     -636.94        0.00       -0.00        0.00      -636.94\n",
       "521     -636.94        0.00       -0.00        0.00      -636.94\n",
       "524      636.94     1273.89     -636.94       -0.00      1273.89\n",
       "525     -636.94        0.00        0.00        0.00      -636.94\n",
       "\n",
       "[152 rows x 5 columns]"
      ]
     },
     "execution_count": 179,
     "metadata": {},
     "output_type": "execute_result"
    }
   ],
   "source": [
    "for year in years:\n",
    "    agents['bal' + year] = balance_convergence(agents, year)\n",
    "    \n",
    "agents['is_nonsense'] = agents.iloc[:, -4:].sum(axis=1)\n",
    "agents[agents['is_nonsense'] != 0].iloc[:, -5:]"
   ]
  },
  {
   "cell_type": "markdown",
   "id": "bc28458a",
   "metadata": {},
   "source": [
    "Не очень хочется терять так много данных. Посмотрим сколько останется, если ограничиться 2000 рублей."
   ]
  },
  {
   "cell_type": "code",
   "execution_count": 180,
   "id": "99ebcb77",
   "metadata": {},
   "outputs": [
    {
     "data": {
      "text/html": [
       "<div>\n",
       "<style scoped>\n",
       "    .dataframe tbody tr th:only-of-type {\n",
       "        vertical-align: middle;\n",
       "    }\n",
       "\n",
       "    .dataframe tbody tr th {\n",
       "        vertical-align: top;\n",
       "    }\n",
       "\n",
       "    .dataframe thead th {\n",
       "        text-align: right;\n",
       "    }\n",
       "</style>\n",
       "<table border=\"1\" class=\"dataframe\">\n",
       "  <thead>\n",
       "    <tr style=\"text-align: right;\">\n",
       "      <th></th>\n",
       "      <th>bal_bef_01</th>\n",
       "      <th>bal_bef_02</th>\n",
       "      <th>bal_bef_03</th>\n",
       "      <th>bal_bef_04</th>\n",
       "      <th>is_nonsense</th>\n",
       "    </tr>\n",
       "  </thead>\n",
       "  <tbody>\n",
       "    <tr>\n",
       "      <th>387</th>\n",
       "      <td>-0.0</td>\n",
       "      <td>-0.0</td>\n",
       "      <td>16285350.32</td>\n",
       "      <td>0.00</td>\n",
       "      <td>16285350.32</td>\n",
       "    </tr>\n",
       "    <tr>\n",
       "      <th>436</th>\n",
       "      <td>0.0</td>\n",
       "      <td>0.0</td>\n",
       "      <td>-263694.27</td>\n",
       "      <td>-92993.63</td>\n",
       "      <td>-356687.90</td>\n",
       "    </tr>\n",
       "  </tbody>\n",
       "</table>\n",
       "</div>"
      ],
      "text/plain": [
       "     bal_bef_01  bal_bef_02   bal_bef_03  bal_bef_04  is_nonsense\n",
       "387        -0.0        -0.0  16285350.32        0.00  16285350.32\n",
       "436         0.0         0.0   -263694.27   -92993.63   -356687.90"
      ]
     },
     "execution_count": 180,
     "metadata": {},
     "output_type": "execute_result"
    }
   ],
   "source": [
    "agents[(agents['is_nonsense'] > 2000) | (agents['is_nonsense'] < -2000)].iloc[:, -5:]"
   ]
  },
  {
   "cell_type": "code",
   "execution_count": 181,
   "id": "14ddcb35",
   "metadata": {},
   "outputs": [],
   "source": [
    "nonsense += agents[(agents['is_nonsense'] > 2000) | (agents['is_nonsense'] < -2000)].index.to_list()\n",
    "agents.drop(agents.columns[-5:], axis=1, inplace=True)"
   ]
  },
  {
   "cell_type": "markdown",
   "id": "3d66ada1",
   "metadata": {},
   "source": [
    "**3.2.1.4 Сумма статей больше суммы раздела**"
   ]
  },
  {
   "cell_type": "markdown",
   "id": "c45e0f58",
   "metadata": {},
   "source": [
    "Такая ситуация, тоже связана с ошибками. Раздел баланса агрегирует суммы входящих в него статей, поэтому сумма показателей статей должна равняться показателю содержащего их раздела.\n",
    "\n",
    "Но, так как отчетность дана в урезаном виде (не все статьи представлены в разделах), проверить мы можем только одну ситуацию: когда суммы представленных статей больше сумм их разделов."
   ]
  },
  {
   "cell_type": "code",
   "execution_count": 182,
   "id": "55ddc272",
   "metadata": {},
   "outputs": [
    {
     "data": {
      "text/plain": [
       "nca_bef_01     2\n",
       "ca_bef_01      0\n",
       "car_bef_01    31\n",
       "ncl_bef_01     0\n",
       "cl_bef_01      2\n",
       "nca_bef_02     3\n",
       "ca_bef_02      0\n",
       "car_bef_02    40\n",
       "ncl_bef_02     3\n",
       "cl_bef_02      2\n",
       "nca_bef_03     2\n",
       "ca_bef_03      0\n",
       "car_bef_03    34\n",
       "ncl_bef_03     3\n",
       "cl_bef_03      3\n",
       "nca_bef_04     3\n",
       "ca_bef_04      0\n",
       "car_bef_04    30\n",
       "ncl_bef_04     2\n",
       "cl_bef_04      6\n",
       "dtype: int64"
      ]
     },
     "execution_count": 182,
     "metadata": {},
     "output_type": "execute_result"
    }
   ],
   "source": [
    "for year in years:\n",
    "    agents = pd.concat([agents, chapters_convergence(agents, year)], axis=1)\n",
    "\n",
    "(agents.iloc[:, -20:] < -1).sum()"
   ]
  },
  {
   "cell_type": "markdown",
   "id": "bd233633",
   "metadata": {},
   "source": [
    "Как видно, такой ошибкой страдает, в большинстве случаев, раздел  \"capital and reserves\". Пройдемся по всем 4 периодам и уберем таких контрагентов. Предположительно, что когда это сделаем, в других разделах ошибки тоже уйдут, но, на всякий случай, пробежимся по всем."
   ]
  },
  {
   "cell_type": "code",
   "execution_count": 183,
   "id": "671650e9",
   "metadata": {},
   "outputs": [],
   "source": [
    "for i in agents.iloc[:, -20:].columns:\n",
    "    nonsense += agents.loc[agents[i] < -1, :].index.to_list()\n",
    "agents.drop(agents.columns[-20:], axis=1, inplace=True)"
   ]
  },
  {
   "cell_type": "markdown",
   "id": "c6722c76",
   "metadata": {},
   "source": [
    "**3.2.1.5 Уставный капитал**"
   ]
  },
  {
   "cell_type": "markdown",
   "id": "a5786dc0",
   "metadata": {},
   "source": [
    "Уставный капиталл - один из важнейших показателей. Без него, по законодательству, нельзя создать юридическое лицо. \n",
    "Из этого можно заключить, что по этой статье, у действующего контрагента, эта статья не может равняться 0. Любая другая статья может, а эта - нет. Отрицательного значения - тоже не может быть.\n",
    "\n",
    "Опустим, что, по законодательству, УК не может быть ниже 10 тыс руб, и наличие таких значений, спишем на предобработку данных для анонимизации контрагентов."
   ]
  },
  {
   "cell_type": "code",
   "execution_count": 184,
   "id": "2150e925",
   "metadata": {},
   "outputs": [
    {
     "data": {
      "text/plain": [
       "share_capital_bef_01     66\n",
       "share_capital_bef_02     73\n",
       "share_capital_bef_03    124\n",
       "share_capital_bef_04    131\n",
       "dtype: int64"
      ]
     },
     "execution_count": 184,
     "metadata": {},
     "output_type": "execute_result"
    }
   ],
   "source": [
    "columns = all_years_features(['share_capital', ], years)\n",
    "\n",
    "(agents[columns] <= -0).sum()"
   ]
  },
  {
   "cell_type": "markdown",
   "id": "9dc6c99d",
   "metadata": {},
   "source": [
    "Те нули, которые нашлись, не обязательно связаны с ошибками. Возможно, что юрлицо, в тот период, еще не существовало (а динамика подсказывает именно это). Тем не менее - записи с такими пропусками, для моделирования, лучше убрать."
   ]
  },
  {
   "cell_type": "code",
   "execution_count": 185,
   "id": "6f1df59e",
   "metadata": {},
   "outputs": [],
   "source": [
    "for i in columns:\n",
    "    nonsense += agents.loc[agents[i] <= 0, :].index.to_list()"
   ]
  },
  {
   "cell_type": "markdown",
   "id": "52092ddb",
   "metadata": {},
   "source": [
    "### 3.2.2 Отчёт о прибылях и убытках"
   ]
  },
  {
   "cell_type": "markdown",
   "id": "125adada",
   "metadata": {},
   "source": [
    "Прежде всего, проверим выручку и себестоимость. Нулевая выручка, при ненулевой себестоимости (и наоборот) - явная ошибка в отчетности. Нули по всем периодам - так же свидетельство об отсутствии операционной деятельности. По разным причинам: от нахождения в фазе инвест-периода, до \"только-только регистрации\". \n",
    "\n",
    "Истории по таким контрагентам нет, поэтому - нет и материала для анализа."
   ]
  },
  {
   "cell_type": "markdown",
   "id": "16c4e1b4",
   "metadata": {},
   "source": [
    "**3.2.2.1 Нулевая выручка во всех периодах**"
   ]
  },
  {
   "cell_type": "code",
   "execution_count": 186,
   "id": "8d93f4ea",
   "metadata": {
    "scrolled": true
   },
   "outputs": [
    {
     "data": {
      "text/html": [
       "<div>\n",
       "<style scoped>\n",
       "    .dataframe tbody tr th:only-of-type {\n",
       "        vertical-align: middle;\n",
       "    }\n",
       "\n",
       "    .dataframe tbody tr th {\n",
       "        vertical-align: top;\n",
       "    }\n",
       "\n",
       "    .dataframe thead th {\n",
       "        text-align: right;\n",
       "    }\n",
       "</style>\n",
       "<table border=\"1\" class=\"dataframe\">\n",
       "  <thead>\n",
       "    <tr style=\"text-align: right;\">\n",
       "      <th></th>\n",
       "      <th>revenue_bef_01</th>\n",
       "      <th>revenue_bef_02</th>\n",
       "      <th>revenue_bef_03</th>\n",
       "      <th>revenue_bef_04</th>\n",
       "    </tr>\n",
       "  </thead>\n",
       "  <tbody>\n",
       "    <tr>\n",
       "      <th>69</th>\n",
       "      <td>0.0</td>\n",
       "      <td>0.0</td>\n",
       "      <td>0.0</td>\n",
       "      <td>0.0</td>\n",
       "    </tr>\n",
       "    <tr>\n",
       "      <th>340</th>\n",
       "      <td>0.0</td>\n",
       "      <td>0.0</td>\n",
       "      <td>0.0</td>\n",
       "      <td>0.0</td>\n",
       "    </tr>\n",
       "    <tr>\n",
       "      <th>488</th>\n",
       "      <td>0.0</td>\n",
       "      <td>0.0</td>\n",
       "      <td>0.0</td>\n",
       "      <td>0.0</td>\n",
       "    </tr>\n",
       "    <tr>\n",
       "      <th>520</th>\n",
       "      <td>0.0</td>\n",
       "      <td>0.0</td>\n",
       "      <td>0.0</td>\n",
       "      <td>0.0</td>\n",
       "    </tr>\n",
       "    <tr>\n",
       "      <th>523</th>\n",
       "      <td>0.0</td>\n",
       "      <td>0.0</td>\n",
       "      <td>0.0</td>\n",
       "      <td>0.0</td>\n",
       "    </tr>\n",
       "    <tr>\n",
       "      <th>528</th>\n",
       "      <td>0.0</td>\n",
       "      <td>0.0</td>\n",
       "      <td>0.0</td>\n",
       "      <td>0.0</td>\n",
       "    </tr>\n",
       "  </tbody>\n",
       "</table>\n",
       "</div>"
      ],
      "text/plain": [
       "     revenue_bef_01  revenue_bef_02  revenue_bef_03  revenue_bef_04\n",
       "69              0.0             0.0             0.0             0.0\n",
       "340             0.0             0.0             0.0             0.0\n",
       "488             0.0             0.0             0.0             0.0\n",
       "520             0.0             0.0             0.0             0.0\n",
       "523             0.0             0.0             0.0             0.0\n",
       "528             0.0             0.0             0.0             0.0"
      ]
     },
     "execution_count": 186,
     "metadata": {},
     "output_type": "execute_result"
    }
   ],
   "source": [
    "columns = all_years_features(['revenue',], years)\n",
    "agents['is_nonsense'] = agents[columns].sum(axis=1)\n",
    "agents.loc[agents['is_nonsense'] <= 0, columns]"
   ]
  },
  {
   "cell_type": "code",
   "execution_count": 187,
   "id": "e31a97b2",
   "metadata": {},
   "outputs": [],
   "source": [
    "nonsense += agents.loc[agents['is_nonsense'] <= 0, :].index.to_list()\n",
    "agents.drop(agents.columns[-1:], axis=1, inplace=True)"
   ]
  },
  {
   "cell_type": "markdown",
   "id": "cbcf027c",
   "metadata": {},
   "source": [
    "**3.2.2.2 Нулевая себестоимость во всех периодах**"
   ]
  },
  {
   "cell_type": "code",
   "execution_count": 188,
   "id": "19f26541",
   "metadata": {},
   "outputs": [
    {
     "data": {
      "text/html": [
       "<div>\n",
       "<style scoped>\n",
       "    .dataframe tbody tr th:only-of-type {\n",
       "        vertical-align: middle;\n",
       "    }\n",
       "\n",
       "    .dataframe tbody tr th {\n",
       "        vertical-align: top;\n",
       "    }\n",
       "\n",
       "    .dataframe thead th {\n",
       "        text-align: right;\n",
       "    }\n",
       "</style>\n",
       "<table border=\"1\" class=\"dataframe\">\n",
       "  <thead>\n",
       "    <tr style=\"text-align: right;\">\n",
       "      <th></th>\n",
       "      <th>cost_amount_bef_01</th>\n",
       "      <th>cost_amount_bef_02</th>\n",
       "      <th>cost_amount_bef_03</th>\n",
       "      <th>cost_amount_bef_04</th>\n",
       "    </tr>\n",
       "  </thead>\n",
       "  <tbody>\n",
       "    <tr>\n",
       "      <th>69</th>\n",
       "      <td>0.0</td>\n",
       "      <td>0.0</td>\n",
       "      <td>0.0</td>\n",
       "      <td>0.0</td>\n",
       "    </tr>\n",
       "    <tr>\n",
       "      <th>340</th>\n",
       "      <td>0.0</td>\n",
       "      <td>0.0</td>\n",
       "      <td>0.0</td>\n",
       "      <td>0.0</td>\n",
       "    </tr>\n",
       "    <tr>\n",
       "      <th>488</th>\n",
       "      <td>0.0</td>\n",
       "      <td>0.0</td>\n",
       "      <td>0.0</td>\n",
       "      <td>0.0</td>\n",
       "    </tr>\n",
       "    <tr>\n",
       "      <th>520</th>\n",
       "      <td>0.0</td>\n",
       "      <td>0.0</td>\n",
       "      <td>0.0</td>\n",
       "      <td>0.0</td>\n",
       "    </tr>\n",
       "    <tr>\n",
       "      <th>523</th>\n",
       "      <td>0.0</td>\n",
       "      <td>0.0</td>\n",
       "      <td>0.0</td>\n",
       "      <td>0.0</td>\n",
       "    </tr>\n",
       "    <tr>\n",
       "      <th>528</th>\n",
       "      <td>0.0</td>\n",
       "      <td>0.0</td>\n",
       "      <td>0.0</td>\n",
       "      <td>0.0</td>\n",
       "    </tr>\n",
       "  </tbody>\n",
       "</table>\n",
       "</div>"
      ],
      "text/plain": [
       "     cost_amount_bef_01  cost_amount_bef_02  cost_amount_bef_03  \\\n",
       "69                  0.0                 0.0                 0.0   \n",
       "340                 0.0                 0.0                 0.0   \n",
       "488                 0.0                 0.0                 0.0   \n",
       "520                 0.0                 0.0                 0.0   \n",
       "523                 0.0                 0.0                 0.0   \n",
       "528                 0.0                 0.0                 0.0   \n",
       "\n",
       "     cost_amount_bef_04  \n",
       "69                  0.0  \n",
       "340                 0.0  \n",
       "488                 0.0  \n",
       "520                 0.0  \n",
       "523                 0.0  \n",
       "528                 0.0  "
      ]
     },
     "execution_count": 188,
     "metadata": {},
     "output_type": "execute_result"
    }
   ],
   "source": [
    "columns = all_years_features(['cost_amount',], years)\n",
    "agents['is_nonsense'] = agents[columns].sum(axis=1)\n",
    "agents.loc[agents['is_nonsense'] <= 0, columns]"
   ]
  },
  {
   "cell_type": "code",
   "execution_count": 189,
   "id": "6769eb21",
   "metadata": {},
   "outputs": [],
   "source": [
    "nonsense += agents.loc[agents['is_nonsense'] <= 0, :].index.to_list()\n",
    "agents.drop(agents.columns[-1:], axis=1, inplace=True)"
   ]
  },
  {
   "cell_type": "markdown",
   "id": "fd950989",
   "metadata": {},
   "source": [
    "**3.2.2.3 Соотношение маржинальной прибыли и прибыли с продаж**"
   ]
  },
  {
   "cell_type": "markdown",
   "id": "7c3aeff7",
   "metadata": {},
   "source": [
    "В структуре отчета о финансовых результатах, между маржинальной прибылью и прибылью от продаж нет доходной части, поэтому, первая - всегда должна быть выше второй."
   ]
  },
  {
   "cell_type": "code",
   "execution_count": 190,
   "id": "11e0a80a",
   "metadata": {},
   "outputs": [
    {
     "data": {
      "text/plain": [
       "diff_sp__bef_01    0\n",
       "diff_sp__bef_02    0\n",
       "diff_sp__bef_03    0\n",
       "diff_sp__bef_04    0\n",
       "dtype: int64"
      ]
     },
     "execution_count": 190,
     "metadata": {},
     "output_type": "execute_result"
    }
   ],
   "source": [
    "for year in years:\n",
    "    agents['diff_sp_' + year] = diff_margins(agents, year)\n",
    "    \n",
    "(agents.iloc[:, -4:] < -1).sum()"
   ]
  },
  {
   "cell_type": "markdown",
   "id": "12dac396",
   "metadata": {},
   "source": [
    "А здесь - все в порядке"
   ]
  },
  {
   "cell_type": "code",
   "execution_count": 191,
   "id": "6d99c1d3",
   "metadata": {},
   "outputs": [],
   "source": [
    "agents.drop(agents.columns[-4:], axis=1, inplace=True)"
   ]
  },
  {
   "cell_type": "markdown",
   "id": "6acac60c",
   "metadata": {},
   "source": [
    "### 3.2.3 Заключение раздела"
   ]
  },
  {
   "cell_type": "markdown",
   "id": "dff32336",
   "metadata": {},
   "source": [
    "По итогам этого раздела, в отчетности следующих контрагентов, есть нестыковки, ошибки или отсутствующие данные.\n",
    "\n",
    "При условии, что по юрлицу есть история и, что бухгалтерская отчетность - открытая информация, такого быть не должно. \n",
    "\n",
    "Если же контрагент не вел операционную деятельность, в каком-то из прошлых периодов, или во всех сразу, информация по такому контрагенту - не полная. Т.к. сейчас, на этапе предварительной очистки данных, еще неизвестно, какие признаки окажутся важными для моделирования - такие пропуски стоит удалить.\n",
    "\n",
    "Вот полный перечень удаляемых записей\\*:"
   ]
  },
  {
   "cell_type": "code",
   "execution_count": 192,
   "id": "1c9cf0c9",
   "metadata": {},
   "outputs": [
    {
     "name": "stdout",
     "output_type": "stream",
     "text": [
      "[515, 516, 519, 520, 8, 522, 523, 524, 525, 528, 530, 27, 34, 37, 41, 43, 52, 53, 57, 58, 60, 61, 62, 66, 68, 69, 70, 71, 78, 83, 105, 106, 118, 119, 124, 125, 126, 128, 141, 142, 146, 149, 152, 153, 155, 159, 162, 163, 164, 165, 167, 172, 178, 179, 181, 182, 185, 188, 190, 191, 193, 194, 195, 196, 203, 204, 206, 207, 208, 209, 212, 215, 216, 217, 218, 219, 220, 221, 222, 224, 226, 227, 228, 229, 231, 232, 236, 238, 239, 240, 242, 243, 244, 245, 247, 248, 251, 257, 259, 261, 264, 266, 267, 269, 271, 273, 275, 279, 282, 283, 284, 285, 286, 288, 294, 296, 297, 298, 299, 300, 301, 302, 303, 304, 305, 307, 308, 310, 311, 312, 314, 315, 316, 317, 318, 319, 320, 322, 324, 325, 326, 328, 330, 333, 340, 343, 355, 356, 361, 367, 368, 372, 373, 375, 376, 384, 386, 387, 389, 391, 397, 402, 406, 418, 426, 429, 430, 436, 438, 439, 441, 442, 443, 444, 447, 448, 449, 450, 452, 457, 459, 460, 461, 462, 463, 465, 466, 467, 468, 469, 471, 475, 476, 477, 479, 482, 483, 484, 486, 487, 488, 489, 490, 493, 494, 495, 496, 497, 498, 499, 506, 507, 510]\n",
      "\n",
      "Всего их - 213\n"
     ]
    }
   ],
   "source": [
    "drop_list = [i for i in set(nonsense)]\n",
    "print(drop_list)\n",
    "print('\\nВсего их -', len(drop_list))"
   ]
  },
  {
   "cell_type": "markdown",
   "id": "6a8bd92f",
   "metadata": {},
   "source": [
    "*|\\*это при условии того, что по сходимости баланса забракованы не все*\n",
    "\n",
    "---\n",
    "Удалим их из данных всех лет:"
   ]
  },
  {
   "cell_type": "code",
   "execution_count": 193,
   "id": "d9db66c7",
   "metadata": {},
   "outputs": [
    {
     "data": {
      "text/plain": [
       "(318, 88)"
      ]
     },
     "execution_count": 193,
     "metadata": {},
     "output_type": "execute_result"
    }
   ],
   "source": [
    "agents.drop(drop_list, inplace=True)\n",
    "agents.shape"
   ]
  },
  {
   "cell_type": "code",
   "execution_count": 194,
   "id": "0a744ae7",
   "metadata": {},
   "outputs": [
    {
     "data": {
      "text/plain": [
       "(189, 87)"
      ]
     },
     "execution_count": 194,
     "metadata": {},
     "output_type": "execute_result"
    }
   ],
   "source": [
    "drop_list = ag21.loc[ag21['customer'].isin(drop_list)].index.to_list()\n",
    "ag21.drop(drop_list, inplace=True)\n",
    "ag21.shape"
   ]
  },
  {
   "cell_type": "markdown",
   "id": "7c2b8ef2",
   "metadata": {},
   "source": [
    "<h1>4 Генерация новых признаков</h1>"
   ]
  },
  {
   "cell_type": "markdown",
   "id": "84b63793",
   "metadata": {},
   "source": [
    "Вспомогательные функции этого раздела."
   ]
  },
  {
   "cell_type": "code",
   "execution_count": 195,
   "id": "fdf2864f",
   "metadata": {},
   "outputs": [],
   "source": [
    "def nan_inf(data):\n",
    "    \n",
    "    \"\"\"\n",
    "    Функция предназначена для замещения бесконечных значений NaN'ами, которые потом\n",
    "    замещаются нулевыми значениями.\n",
    "    Функция принимает следующие параметры:\n",
    "    data: pandas.DataFrame - исходные данные.\n",
    "    Функция ничего не возвращает; она выполняет преобразования, описанные выше.\n",
    "    \"\"\"\n",
    "    \n",
    "    data.replace([np.inf, -np.inf], np.NaN, inplace=True)\n",
    "    data.fillna(0, inplace=True)"
   ]
  },
  {
   "cell_type": "code",
   "execution_count": 196,
   "id": "85dd2726",
   "metadata": {},
   "outputs": [],
   "source": [
    "def calculate_ktl(data, year, mask):\n",
    "    \n",
    "    \"\"\"\n",
    "    Функция предназначена для расчёта коэффициента текущей ликвидности.\n",
    "    Функция принимает следующие параметры:\n",
    "    data: pandas.DataFrame - исходные данные;\n",
    "    year: int - год, для которых будет рассчитан коэффициент;\n",
    "    mask: pandas.Series - булева маска для проверки нулевого баланса.\n",
    "    Функция ничего не возращает. Она в исходные данные добавляет рассчитываемый признак.\n",
    "    \"\"\"\n",
    "    \n",
    "    \n",
    "    data[f'ktl{year}'] = np.NaN\n",
    "    pass_sum = data[f'accounts_payable{year}'] + data[f'c_borrowings{year}']\n",
    "    data.loc[mask, f'ktl{year}'] = data.loc[mask, f'current_assets{year}'] / pass_sum[mask]\n",
    "    \n",
    "    \n",
    "    nan_inf(data[f'ktl{year}'])"
   ]
  },
  {
   "cell_type": "code",
   "execution_count": 197,
   "id": "109c860e",
   "metadata": {},
   "outputs": [],
   "source": [
    "def calculate_owc(data, year, mask):\n",
    "    \n",
    "    \"\"\"\n",
    "    Функция предназначена для расчёта собственных оборотных средств.\n",
    "    Функция принимает следующие параметры:\n",
    "    data: pandas.DataFrame - исходные данные;\n",
    "    year: int - год, для которых будет рассчитан параметр;\n",
    "    mask: pandas.Series - булева маска для проверки нулевого баланса.\n",
    "    Функция ничего не возращает. Она в исходные данные добавляет рассчитываемый признак.\n",
    "    \"\"\"\n",
    "    \n",
    "    data[f'OWC{year}'] = np.NaN\n",
    "    data.loc[mask, f'OWC{year}'] = data.loc[mask, f'capital_and_reserves{year}'] -\\\n",
    "                                   data.loc[mask, f'non_current_assets{year}']\n",
    "    \n",
    "    nan_inf(data[f'OWC{year}'])"
   ]
  },
  {
   "cell_type": "code",
   "execution_count": 198,
   "id": "b8893d1a",
   "metadata": {},
   "outputs": [],
   "source": [
    "def calculate_cwc(data, year, mask):\n",
    "    \n",
    "    \"\"\"\n",
    "    Функция предназначена для расчёта чистого оборотного капитала.\n",
    "    Функция принимает следующие параметры:\n",
    "    data: pandas.DataFrame - исходные данные;\n",
    "    year: int - год, для которых будет рассчитан параметр;\n",
    "    mask: pandas.Series - булева маска для проверки нулевого баланса.\n",
    "    Функция ничего не возращает. Она в исходные данные добавляет рассчитываемый признак.\n",
    "    \"\"\"\n",
    "    \n",
    "    data[f'CWC{year}'] = np.NaN\n",
    "    data.loc[mask, f'CWC{year}'] = data.loc[mask, f'current_assets{year}'] - data.loc[mask, f'current_liabilities{year}']\n",
    "    nan_inf(data[f'CWC{year}'])"
   ]
  },
  {
   "cell_type": "code",
   "execution_count": 199,
   "id": "ecb6848d",
   "metadata": {},
   "outputs": [],
   "source": [
    "def calculate_wc(data, year, mask):\n",
    "    \n",
    "    \"\"\"\n",
    "    Функция предназначена для расчёта рабочего капитала.\n",
    "    Функция принимает следующие параметры:\n",
    "    data: pandas.DataFrame - исходные данные;\n",
    "    year: int - год, для которых будет рассчитан параметр;\n",
    "    mask: pandas.Series - булева маска для проверки нулевого баланса.\n",
    "    Функция ничего не возращает. Она в исходные данные добавляет рассчитываемый признак.\n",
    "    \"\"\"\n",
    "    \n",
    "    data[f'WC{year}'] = np.NaN\n",
    "    data.loc[mask, f'WC{year}'] = data.loc[mask, f'OWC{year}'] + data.loc[mask, f'CWC{year}']\n",
    "    nan_inf(data[f'WC{year}'])"
   ]
  },
  {
   "cell_type": "code",
   "execution_count": 200,
   "id": "212e48d5",
   "metadata": {},
   "outputs": [],
   "source": [
    "def calculate_kfn(data, year, mask, balance):\n",
    "    \n",
    "    \"\"\"\n",
    "    Функция предназначена для расчёта коэффициента финансовой независимости.\n",
    "    Функция принимает следующие параметры:\n",
    "    data: pandas.DataFrame - исходные данные;\n",
    "    year: int - год, для которых будет рассчитан параметр;\n",
    "    mask: pandas.Series - булева маска для проверки нулевого баланса;\n",
    "    balance: float - значение расситанного ранее баланса.\n",
    "    Функция ничего не возращает. Она в исходные данные добавляет рассчитываемый признак.\n",
    "    \"\"\"\n",
    "    \n",
    "    data[f'kfn{year}'] = np.NaN\n",
    "    data.loc[mask, f'kfn{year}'] = data.loc[mask, f'capital_and_reserves{year}'] / balance\n",
    "    nan_inf(data[f'kfn{year}'])"
   ]
  },
  {
   "cell_type": "code",
   "execution_count": 201,
   "id": "d4ba5cd4",
   "metadata": {},
   "outputs": [],
   "source": [
    "def calculate_kfu(data, year, mask, balance):\n",
    "    \n",
    "    \"\"\"\n",
    "    Функция предназначена для расчёта коэффициента финансовой устойчивости.\n",
    "    Функция принимает следующие параметры:\n",
    "    data: pandas.DataFrame - исходные данные;\n",
    "    year: int - год, для которых будет рассчитан параметр;\n",
    "    mask: pandas.Series - булева маска для проверки нулевого баланса;\n",
    "    balance: float - значение расситанного ранее баланса.\n",
    "    Функция ничего не возращает. Она в исходные данные добавляет рассчитываемый признак.\n",
    "    \"\"\"\n",
    "    \n",
    "    data[f'kfu{year}'] = np.NaN\n",
    "    data.loc[mask, f'kfu{year}'] = (data.loc[mask, f'capital_and_reserves{year}'] +\\\n",
    "                                    data.loc[mask, f'non_current_liabilities{year}']) / balance\n",
    "    nan_inf(data[f'kfu{year}'])"
   ]
  },
  {
   "cell_type": "code",
   "execution_count": 202,
   "id": "aed331ec",
   "metadata": {},
   "outputs": [],
   "source": [
    "def calculate_kfl(data, year, mask):\n",
    "    \n",
    "    \"\"\"\n",
    "    Функция предназначена для расчёта финансового левериджа.\n",
    "    Функция принимает следующие параметры:\n",
    "    data: pandas.DataFrame - исходные данные;\n",
    "    year: int - год, для которых будет рассчитан параметр;\n",
    "    mask: pandas.Series - булева маска для проверки нулевого баланса.\n",
    "    Функция ничего не возращает. Она в исходные данные добавляет рассчитываемый признак.\n",
    "    \"\"\"\n",
    "    \n",
    "    data[f'kfl{year}'] = np.NaN\n",
    "    data.loc[mask, f'kfl{year}'] = (data.loc[mask, f'non_current_liabilities{year}'] +\\\n",
    "                                    data.loc[mask, f'current_liabilities{year}']) /\\\n",
    "                                    data.loc[mask, f'capital_and_reserves{year}']\n",
    "    nan_inf(data[f'kfl{year}'])"
   ]
  },
  {
   "cell_type": "code",
   "execution_count": 203,
   "id": "d198aa63",
   "metadata": {},
   "outputs": [],
   "source": [
    "def calculate_km(data, year, mask):\n",
    "    \n",
    "    \"\"\"\n",
    "    Функция предназначена для расчёта коэффициента манёвренности.\n",
    "    Функция принимает следующие параметры:\n",
    "    data: pandas.DataFrame - исходные данные;\n",
    "    year: int - год, для которых будет рассчитан параметр;\n",
    "    mask: pandas.Series - булева маска для проверки нулевого баланса.\n",
    "    Функция ничего не возращает. Она в исходные данные добавляет рассчитываемый признак.\n",
    "    \"\"\"\n",
    "    \n",
    "    data[f'km{year}'] = np.NaN\n",
    "    data.loc[mask, f'km{year}'] = data.loc[mask, f'OWC{year}'] / data.loc[mask, f'capital_and_reserves{year}']\n",
    "    nan_inf(data[f'km{year}'])"
   ]
  },
  {
   "cell_type": "code",
   "execution_count": 204,
   "id": "a3873249",
   "metadata": {},
   "outputs": [],
   "source": [
    "def calculate_kows(data, year, mask):\n",
    "    \n",
    "    \"\"\"\n",
    "    Функция предназначена для расчёта коэффициента обеспеченности собственными\n",
    "    основными средствами.\n",
    "    Функция принимает следующие параметры:\n",
    "    data: pandas.DataFrame - исходные данные;\n",
    "    year: int - год, для которых будет рассчитан параметр;\n",
    "    mask: pandas.Series - булева маска для проверки нулевого баланса.\n",
    "    Функция ничего не возращает. Она в исходные данные добавляет рассчитываемый признак.\n",
    "    \"\"\"\n",
    "    \n",
    "    data[f'kows{year}'] = np.NaN\n",
    "    data.loc[mask, f'kows{year}'] = data.loc[mask, f'OWC{year}'] / data.loc[mask, f'current_assets{year}']\n",
    "    nan_inf(data[f'kows{year}'])"
   ]
  },
  {
   "cell_type": "code",
   "execution_count": 205,
   "id": "61a074e3",
   "metadata": {},
   "outputs": [],
   "source": [
    "def calculate_roa_ncl(data, year, mask):\n",
    "    \n",
    "    \"\"\"\n",
    "    Функция предназначена для расчёта рентабельности внеоборотных активов.\n",
    "    Функция принимает следующие параметры:\n",
    "    data: pandas.DataFrame - исходные данные;\n",
    "    year: int - год, для которых будет рассчитан параметр;\n",
    "    mask: pandas.Series - булева маска для проверки нулевого баланса.\n",
    "    Функция ничего не возращает. Она в исходные данные добавляет рассчитываемый признак.\n",
    "    \"\"\"\n",
    "    \n",
    "    data[f'ROA_ncl{year}'] = np.NaN\n",
    "    data.loc[mask, f'ROA_ncl{year}'] = data.loc[mask, f'sales_profit{year}'] / data.loc[mask, f'non_current_assets{year}']\n",
    "    nan_inf(data[f'ROA_ncl{year}'])"
   ]
  },
  {
   "cell_type": "code",
   "execution_count": 206,
   "id": "bf382859",
   "metadata": {},
   "outputs": [],
   "source": [
    "def calculate_roa_cl(data, year, mask):\n",
    "    \n",
    "    \"\"\"\n",
    "    Функция предназначена для расчёта рентабельности оборотных активов.\n",
    "    Функция принимает следующие параметры:\n",
    "    data: pandas.DataFrame - исходные данные;\n",
    "    year: int - год, для которых будет рассчитан параметр;\n",
    "    mask: pandas.Series - булева маска для проверки нулевого баланса.\n",
    "    Функция ничего не возращает. Она в исходные данные добавляет рассчитываемый признак.\n",
    "    \"\"\"\n",
    "    \n",
    "    data[f'ROA_ca{year}'] = np.NaN\n",
    "    data.loc[mask, f'ROA_ca{year}'] = data.loc[mask, f'sales_profit{year}'] / data.loc[mask, f'current_assets{year}']\n",
    "    nan_inf(data[f'ROA_ca{year}'])"
   ]
  },
  {
   "cell_type": "code",
   "execution_count": 207,
   "id": "dc89eb7e",
   "metadata": {},
   "outputs": [],
   "source": [
    "def calculate_roa(data, year, mask, balance):\n",
    "    \n",
    "    \"\"\"\n",
    "    Функция предназначена для расчёта рентабельности активов.\n",
    "    Функция принимает следующие параметры:\n",
    "    data: pandas.DataFrame - исходные данные;\n",
    "    year: int - год, для которых будет рассчитан параметр;\n",
    "    mask: pandas.Series - булева маска для проверки нулевого баланса;\n",
    "    balance: float - значение расситанного ранее баланса.\n",
    "    Функция ничего не возращает. Она в исходные данные добавляет рассчитываемый признак.\n",
    "    \"\"\"\n",
    "    \n",
    "    data[f'ROA{year}'] = np.NaN\n",
    "    data.loc[mask, f'ROA{year}'] = data.loc[mask, f'sales_profit{year}'] / balance\n",
    "    nan_inf(data[f'ROA{year}'])"
   ]
  },
  {
   "cell_type": "code",
   "execution_count": 208,
   "id": "033818ff",
   "metadata": {},
   "outputs": [],
   "source": [
    "def calculate_rsale(data, year, mask):\n",
    "    \n",
    "    \"\"\"\n",
    "    Функция предназначена для расчёта рентабельности продаж.\n",
    "    Функция принимает следующие параметры:\n",
    "    data: pandas.DataFrame - исходные данные;\n",
    "    year: int - год, для которых будет рассчитан параметр;\n",
    "    mask: pandas.Series - булева маска для проверки нулевого баланса.\n",
    "    Функция ничего не возращает. Она в исходные данные добавляет рассчитываемый признак.\n",
    "    \"\"\"\n",
    "    \n",
    "    data[f'Rsale{year}'] = np.NaN\n",
    "    data.loc[mask, f'Rsale{year}'] = data.loc[mask, f'sales_profit{year}'] / data.loc[mask, f'revenue{year}']\n",
    "    nan_inf(data[f'Rsale{year}'])"
   ]
  },
  {
   "cell_type": "code",
   "execution_count": 209,
   "id": "753569ef",
   "metadata": {},
   "outputs": [],
   "source": [
    "def calculate_rocp(data, year, mask):\n",
    "    \n",
    "    \"\"\"\n",
    "    Функция предназначена для расчёта рентабельности затрат.\n",
    "    Функция принимает следующие параметры:\n",
    "    data: pandas.DataFrame - исходные данные;\n",
    "    year: int - год, для которых будет рассчитан параметр;\n",
    "    mask: pandas.Series - булева маска для проверки нулевого баланса.\n",
    "    Функция ничего не возращает. Она в исходные данные добавляет рассчитываемый признак.\n",
    "    \"\"\"\n",
    "    \n",
    "    data[f'ROCP{year}'] = np.NaN\n",
    "    data.loc[mask, f'ROCP{year}'] = data.loc[mask, f'sales_profit{year}'] / data.loc[mask, f'cost_amount{year}']\n",
    "    nan_inf(data[f'ROCP{year}'])"
   ]
  },
  {
   "cell_type": "code",
   "execution_count": 210,
   "id": "b10a5ef7",
   "metadata": {},
   "outputs": [],
   "source": [
    "def calculate_rocs(data, year, mask):\n",
    "    \n",
    "    \"\"\"\n",
    "    Функция предназначена для расчёта рентабельности полных затрат на продажу.\n",
    "    Функция принимает следующие параметры:\n",
    "    data: pandas.DataFrame - исходные данные;\n",
    "    year: int - год, для которых будет рассчитан параметр;\n",
    "    mask: pandas.Series - булева маска для проверки нулевого баланса.\n",
    "    Функция ничего не возращает. Она в исходные данные добавляет рассчитываемый признак.\n",
    "    \"\"\"\n",
    "    \n",
    "    data[f'ROCS{year}'] = np.NaN\n",
    "    data.loc[mask, f'ROCS{year}'] = data.loc[mask, f'sales_profit{year}'] /\\\n",
    "                                                (data.loc[mask, f'revenue{year}'] - data.loc[mask, f'sales_profit{year}'])\n",
    "    nan_inf(data[f'ROCS{year}'])"
   ]
  },
  {
   "cell_type": "code",
   "execution_count": 211,
   "id": "39b7acf8",
   "metadata": {},
   "outputs": [],
   "source": [
    "def create_economic_features(data, years):\n",
    "    \n",
    "    \"\"\"\n",
    "    Функция предназначена для расчёта экономических параметров.\n",
    "    Функция принимает следующие параметры:\n",
    "    data: pandas.DataFrame - исходные данные;\n",
    "    years: list - список годов, для которых необходимо выполнить расчёт.\n",
    "    Функция ничего не возвращает. Она добавляет к исходным данным\n",
    "    рассчитаные экономические признаки.\n",
    "    \"\"\"\n",
    "    \n",
    "    if isinstance(years, list):\n",
    "        for year in years:\n",
    "            balance = data[f'non_current_assets{year}'] + data[f'current_assets{year}']\n",
    "            mask = balance != 0 # булева маска для проверки нулевого баланса\n",
    "            calculate_ktl(data, year, mask)\n",
    "            calculate_owc(data, year, mask)\n",
    "            calculate_cwc(data, year, mask)\n",
    "            calculate_wc(data, year, mask)\n",
    "            calculate_kfn(data, year, mask, balance)\n",
    "            calculate_kfu(data, year, mask, balance)\n",
    "            calculate_kfl(data, year, mask)\n",
    "            calculate_km(data, year, mask)\n",
    "            calculate_kows(data, year, mask)\n",
    "            calculate_roa_ncl(data, year, mask)\n",
    "            calculate_roa_cl(data, year, mask)\n",
    "            calculate_roa(data, year, mask, balance)\n",
    "            calculate_rsale(data, year, mask)\n",
    "            calculate_rocp(data, year, mask)\n",
    "            calculate_rocs(data, year, mask)\n",
    "    else:\n",
    "        raise TypeError('Аргумент \"years\" должен быть представлен списком')"
   ]
  },
  {
   "cell_type": "code",
   "execution_count": 212,
   "id": "2bb25b66",
   "metadata": {},
   "outputs": [],
   "source": [
    "def create_diff_params(data, columns, matched):\n",
    "    \n",
    "    \"\"\"\n",
    "    Функция предназначен для расчёта разностных параметров, т.е. разницы\n",
    "    между параметрами, например, -01 года и -02 года.\n",
    "    Функция принимает следующие параметры:\n",
    "    data: pandas.DataFrame - исходные данные;\n",
    "    columns: list - список признаков;\n",
    "    matched: dict - словарь сопоставления какой год, в относительной нумерации, с каким сравнивать\n",
    "    Функция ничего не возвращает. Она добавляет к исходным данным\n",
    "    рассчитанные разностные признаки.\n",
    "    \"\"\"\n",
    "    \n",
    "    \n",
    "    if isinstance(columns, list):\n",
    "        for year in matched:\n",
    "            for col in columns:\n",
    "                name = f'{col}_diff_{year}_{matched[year][4:]}'\n",
    "                name_diff = f'{col}_diff_frac_{year}_{matched[year][4:]}'\n",
    "                \n",
    "                data[name] = data[f'{col}_{year}'] - data[f'{col}_{matched[year]}']\n",
    "                data[name_diff] = data[name] / data[f'{col}_{matched[year]}']\n",
    "    else:\n",
    "        raise TypeError('Аргумент \"columns\" должен быть представлен списком')"
   ]
  },
  {
   "cell_type": "markdown",
   "id": "8ff48456",
   "metadata": {},
   "source": [
    "## 4.1 Расчет экономических показателей"
   ]
  },
  {
   "cell_type": "markdown",
   "id": "37f8941a",
   "metadata": {},
   "source": [
    "Для оценки финансового состояния контрагентов рассчитаем показатели ликвидности, финансовой устойчивости и рентабельности:\n",
    "\n",
    "- Cобственные оборотные средства **СОС** (OWL)\n",
    "- Чистый оборотный капитал **ЧОК** (CWC)\n",
    "- Рабочий капитал **РК** (WC)\n",
    "<br>\n",
    "<br>\n",
    "- Коэффициент текущей ликвидности - **$К_{тл}$** (ktl)\n",
    "- Коэффициент финансовой независимости **$К_{фн}$** (kfn)\n",
    "- Коэффициент финансовой устойчивости **$К_{фу}$** (kfu)\n",
    "- Финансовый ливеридж **$К_{фл}$** (kfl)\n",
    "- Коэффициент маневренности **$К_{м}$** (km)\n",
    "- Коэффициент обеспеченности собственными оборотными средствами **$К_{СОС}$** (kowc)\n",
    "<br>\n",
    "<br>\n",
    "- Рентабельность внеоборотных активов **$ROA_{вн}$** (ROA_ncl)\n",
    "- Рентабельность оборотных активов **$ROA_{об}$** (ROA_ca)\n",
    "- Рентабельность суммарных активов **$ROA$** (ROA)\n",
    "- Рентабельность продаж **$R_{sale}$** (Rsale)\n",
    "- Рентабельность прямых затрат - **ROCP** (ROCP)\n",
    "- Рентабельность полных затрат на продажу **ROCS** (ROCS)\n",
    "\n",
    "А так же - отклонения год-к-году по каждому экономическому показателю (балансу, Pl, коэффициентам)."
   ]
  },
  {
   "cell_type": "code",
   "execution_count": 213,
   "id": "dc164411",
   "metadata": {},
   "outputs": [],
   "source": [
    "# Поля экономическийх параметров\n",
    "K_cols = ['ktl', 'OWC', 'CWC', 'WC', 'kfn', 'kfu', 'kfl', 'km', \n",
    "                        'kows', 'ROA_ncl', 'ROA_ca', 'ROA', 'Rsale', 'ROCP', 'ROCS']\n",
    "\n",
    "# Сопоставление периодов для вычисления отклонений\n",
    "matched = {'bef_01': 'bef_02', 'bef_02': 'bef_03', 'bef_03': 'bef_04'}\n",
    "\n",
    "# Перечень полей для вычисления отклонений\n",
    "columns = bs_cols + pl_cols + K_cols"
   ]
  },
  {
   "cell_type": "code",
   "execution_count": 214,
   "id": "c381df6c",
   "metadata": {},
   "outputs": [],
   "source": [
    "create_economic_features(agents, years)\n",
    "create_diff_params(agents, columns, matched)"
   ]
  },
  {
   "cell_type": "code",
   "execution_count": 215,
   "id": "09feabac",
   "metadata": {},
   "outputs": [],
   "source": [
    "create_economic_features(ag21, years)\n",
    "create_diff_params(ag21, columns, matched)"
   ]
  },
  {
   "cell_type": "markdown",
   "id": "daa2dc8d",
   "metadata": {},
   "source": [
    "Проверим данные на наличие NaN."
   ]
  },
  {
   "cell_type": "code",
   "execution_count": 216,
   "id": "3c775171",
   "metadata": {},
   "outputs": [
    {
     "data": {
      "text/plain": [
       "non_current_assets_diff_frac_bef_01_02            4\n",
       "intangible_assets_diff_frac_bef_01_02           180\n",
       "property_plant_equipment_diff_frac_bef_01_02      5\n",
       "non_current_liabilities_diff_frac_bef_01_02      57\n",
       "nc_borrowings_diff_frac_bef_01_02               153\n",
       "c_borrowings_diff_frac_bef_01_02                 80\n",
       "ROA_ncl_diff_frac_bef_01_02                       4\n",
       "non_current_assets_diff_frac_bef_02_03            4\n",
       "intangible_assets_diff_frac_bef_02_03           187\n",
       "property_plant_equipment_diff_frac_bef_02_03      7\n",
       "non_current_liabilities_diff_frac_bef_02_03      65\n",
       "nc_borrowings_diff_frac_bef_02_03               164\n",
       "c_borrowings_diff_frac_bef_02_03                 86\n",
       "cost_amount_diff_frac_bef_02_03                   1\n",
       "ROA_ncl_diff_frac_bef_02_03                       4\n",
       "ROCP_diff_frac_bef_02_03                          1\n",
       "non_current_assets_diff_frac_bef_03_04           10\n",
       "intangible_assets_diff_frac_bef_03_04           191\n",
       "property_plant_equipment_diff_frac_bef_03_04     13\n",
       "accounts_receivable_diff_frac_bef_03_04           1\n",
       "non_current_liabilities_diff_frac_bef_03_04      76\n",
       "nc_borrowings_diff_frac_bef_03_04               169\n",
       "c_borrowings_diff_frac_bef_03_04                 96\n",
       "cost_amount_diff_frac_bef_03_04                   1\n",
       "ROA_ncl_diff_frac_bef_03_04                      10\n",
       "ROCP_diff_frac_bef_03_04                          1\n",
       "dtype: int64"
      ]
     },
     "execution_count": 216,
     "metadata": {},
     "output_type": "execute_result"
    }
   ],
   "source": [
    "agents.isnull().sum()[agents.isnull().sum() > 0]"
   ]
  },
  {
   "cell_type": "code",
   "execution_count": 217,
   "id": "bc260eae",
   "metadata": {},
   "outputs": [
    {
     "data": {
      "text/plain": [
       "non_current_assets_diff_frac_bef_01_02            3\n",
       "intangible_assets_diff_frac_bef_01_02           101\n",
       "property_plant_equipment_diff_frac_bef_01_02      3\n",
       "non_current_liabilities_diff_frac_bef_01_02      27\n",
       "nc_borrowings_diff_frac_bef_01_02                82\n",
       "c_borrowings_diff_frac_bef_01_02                 40\n",
       "revenue_diff_frac_bef_01_02                       1\n",
       "cost_amount_diff_frac_bef_01_02                   1\n",
       "sales_profit_diff_frac_bef_01_02                  1\n",
       "ROA_ncl_diff_frac_bef_01_02                       4\n",
       "ROA_ca_diff_frac_bef_01_02                        1\n",
       "ROA_diff_frac_bef_01_02                           1\n",
       "Rsale_diff_frac_bef_01_02                         1\n",
       "ROCP_diff_frac_bef_01_02                          1\n",
       "ROCS_diff_frac_bef_01_02                          1\n",
       "non_current_assets_diff_frac_bef_02_03            3\n",
       "intangible_assets_diff_frac_bef_02_03           104\n",
       "property_plant_equipment_diff_frac_bef_02_03      3\n",
       "non_current_liabilities_diff_frac_bef_02_03      32\n",
       "nc_borrowings_diff_frac_bef_02_03                81\n",
       "c_borrowings_diff_frac_bef_02_03                 46\n",
       "ROA_ncl_diff_frac_bef_02_03                       3\n",
       "non_current_assets_diff_frac_bef_03_04            2\n",
       "intangible_assets_diff_frac_bef_03_04           110\n",
       "property_plant_equipment_diff_frac_bef_03_04      4\n",
       "non_current_liabilities_diff_frac_bef_03_04      37\n",
       "nc_borrowings_diff_frac_bef_03_04                90\n",
       "c_borrowings_diff_frac_bef_03_04                 47\n",
       "ROA_ncl_diff_frac_bef_03_04                       2\n",
       "dtype: int64"
      ]
     },
     "execution_count": 217,
     "metadata": {},
     "output_type": "execute_result"
    }
   ],
   "source": [
    "ag21.isnull().sum()[ag21.isnull().sum() > 0]"
   ]
  },
  {
   "cell_type": "markdown",
   "id": "6369139d",
   "metadata": {},
   "source": [
    "Только в полях долей отклонений присутствуют NaN'ы. Заполним эти значения нулями."
   ]
  },
  {
   "cell_type": "code",
   "execution_count": 218,
   "id": "f516584d",
   "metadata": {},
   "outputs": [],
   "source": [
    "agents.fillna(0, inplace=True)\n",
    "ag21.fillna(0, inplace=True)"
   ]
  },
  {
   "cell_type": "markdown",
   "id": "13cf662a",
   "metadata": {},
   "source": [
    "## 4.2 Добавление новых признаков"
   ]
  },
  {
   "cell_type": "markdown",
   "id": "b0fe0ff6",
   "metadata": {},
   "source": [
    "Принимая во внимание тот факт, что методы сбора сбора данных о ПДЗ различны для 2020 и 2021 годов, то за целевой показатель принимаем сам факт просрочки."
   ]
  },
  {
   "cell_type": "code",
   "execution_count": 219,
   "id": "a01f7ec4",
   "metadata": {},
   "outputs": [],
   "source": [
    "tgt_col_20 = ['max_ar', 'avg_ar', 'ar_count5', 'ar_sum', 'ar_count']\n",
    "tgt_col_21 = ['oar1_30', 'oar31_90', 'oar91_365', 'oar_over365']"
   ]
  },
  {
   "cell_type": "code",
   "execution_count": 220,
   "id": "070698e0",
   "metadata": {},
   "outputs": [],
   "source": [
    "agents['overdue'] = (agents['ar_count'] > 0).astype('int8')\n",
    "agents.drop(tgt_col_20, axis=1, inplace=True)"
   ]
  },
  {
   "cell_type": "code",
   "execution_count": 221,
   "id": "25e48db4",
   "metadata": {},
   "outputs": [],
   "source": [
    "ag21['overdue'] = ag21.loc[:, tgt_col_21].sum(axis=1)\n",
    "ag21['overdue'] = ag21['overdue'].apply(lambda x: 1 if x > 0 else 0)\n",
    "ag21['overdue'] = ag21['overdue'].astype('int8')\n",
    "ag21.drop(tgt_col_21, axis=1, inplace=True)"
   ]
  },
  {
   "cell_type": "code",
   "execution_count": 222,
   "id": "d310a56c",
   "metadata": {},
   "outputs": [
    {
     "data": {
      "text/plain": [
       "(318, 330)"
      ]
     },
     "execution_count": 222,
     "metadata": {},
     "output_type": "execute_result"
    }
   ],
   "source": [
    "agents.shape"
   ]
  },
  {
   "cell_type": "code",
   "execution_count": 223,
   "id": "f5f604b4",
   "metadata": {},
   "outputs": [
    {
     "data": {
      "text/plain": [
       "(189, 330)"
      ]
     },
     "execution_count": 223,
     "metadata": {},
     "output_type": "execute_result"
    }
   ],
   "source": [
    "ag21.shape"
   ]
  },
  {
   "cell_type": "markdown",
   "id": "e8f1abf2",
   "metadata": {},
   "source": [
    "Объединим данные в один датафрейм."
   ]
  },
  {
   "cell_type": "code",
   "execution_count": 224,
   "id": "3ced4b6b",
   "metadata": {},
   "outputs": [
    {
     "data": {
      "text/plain": [
       "(507, 330)"
      ]
     },
     "execution_count": 224,
     "metadata": {},
     "output_type": "execute_result"
    }
   ],
   "source": [
    "agents = pd.concat([agents, ag21])\n",
    "del(ag21)\n",
    "agents.shape"
   ]
  },
  {
   "cell_type": "markdown",
   "id": "15d8a528",
   "metadata": {},
   "source": [
    "<h1>5 Подготовка данных для модели</h1>"
   ]
  },
  {
   "cell_type": "markdown",
   "id": "fffd38b0",
   "metadata": {},
   "source": [
    "Необходимый функционал данного раздела."
   ]
  },
  {
   "cell_type": "code",
   "execution_count": 225,
   "id": "f641a93c",
   "metadata": {},
   "outputs": [],
   "source": [
    "def choose_by_corr(data, target, cut_off=0):\n",
    "    \n",
    "    \"\"\"\n",
    "    Функция предназначен для отбора признаков, коррелирующихся с целевым признаком.\n",
    "    Функция принимает следующие параметры:\n",
    "    data: pandas.DataFrame - исходные данные;\n",
    "    target: str - целевой признак;\n",
    "    cut_off: float - порог отсечения по силе корреляционной связи.\n",
    "    Функция возвращает список признаков, корреляция которых с целевым признаком\n",
    "    превышает установленный порог отсечения.\n",
    "    \"\"\"\n",
    "    \n",
    "    correlated = []\n",
    "    print((abs(data.corr()[target]) > cut_off).sum())\n",
    "    temp = abs(data.corr()[target]) > cut_off\n",
    "    for i, val in enumerate(temp):\n",
    "        if val:\n",
    "            correlated.append(temp.index[i])\n",
    "    return correlated"
   ]
  },
  {
   "cell_type": "markdown",
   "id": "24de854d",
   "metadata": {},
   "source": [
    "Перейдём, непосредственно, к подготовке данных.  \n",
    "Посмотрим, какое признаковое описание имеем."
   ]
  },
  {
   "cell_type": "code",
   "execution_count": 226,
   "id": "498e712a",
   "metadata": {},
   "outputs": [
    {
     "data": {
      "text/plain": [
       "Index(['customer', 'f3', 'f29', 'f31', 'f33', 'f39', 'f49', 'f51', 'f54',\n",
       "       'f55',\n",
       "       ...\n",
       "       'ROA_ca_diff_frac_bef_03_04', 'ROA_diff_bef_03_04',\n",
       "       'ROA_diff_frac_bef_03_04', 'Rsale_diff_bef_03_04',\n",
       "       'Rsale_diff_frac_bef_03_04', 'ROCP_diff_bef_03_04',\n",
       "       'ROCP_diff_frac_bef_03_04', 'ROCS_diff_bef_03_04',\n",
       "       'ROCS_diff_frac_bef_03_04', 'overdue'],\n",
       "      dtype='object', length=330)"
      ]
     },
     "execution_count": 226,
     "metadata": {},
     "output_type": "execute_result"
    }
   ],
   "source": [
    "agents.columns"
   ]
  },
  {
   "cell_type": "markdown",
   "id": "1b251a22",
   "metadata": {},
   "source": [
    "Из этих данных удалим признак \"customer\", потому что это признак определяет просто индексацию строк данных."
   ]
  },
  {
   "cell_type": "code",
   "execution_count": 227,
   "id": "c1628ab5",
   "metadata": {},
   "outputs": [],
   "source": [
    "agents.drop(key, axis=1, inplace=True)"
   ]
  },
  {
   "cell_type": "markdown",
   "id": "644e86d3",
   "metadata": {},
   "source": [
    "Определим следующее:  \n",
    "- имееются ли пропуски в данных;\n",
    "- имеются ли бесконечные значения в данных;\n",
    "- имеются ли повторяющиеся строки в данных."
   ]
  },
  {
   "cell_type": "code",
   "execution_count": 228,
   "id": "003b520e",
   "metadata": {},
   "outputs": [
    {
     "data": {
      "text/plain": [
       "0"
      ]
     },
     "execution_count": 228,
     "metadata": {},
     "output_type": "execute_result"
    }
   ],
   "source": [
    "(agents.isna().sum()).sum()"
   ]
  },
  {
   "cell_type": "code",
   "execution_count": 229,
   "id": "37b3f8ef",
   "metadata": {},
   "outputs": [
    {
     "data": {
      "text/plain": [
       "509"
      ]
     },
     "execution_count": 229,
     "metadata": {},
     "output_type": "execute_result"
    }
   ],
   "source": [
    "(agents.isin([-np.inf, np.inf]).sum()).sum()"
   ]
  },
  {
   "cell_type": "code",
   "execution_count": 230,
   "id": "3e5fcbb2",
   "metadata": {},
   "outputs": [
    {
     "data": {
      "text/plain": [
       "0"
      ]
     },
     "execution_count": 230,
     "metadata": {},
     "output_type": "execute_result"
    }
   ],
   "source": [
    "agents.duplicated().sum()"
   ]
  },
  {
   "cell_type": "markdown",
   "id": "cdc96b54",
   "metadata": {},
   "source": [
    "Получаем следующее:  \n",
    "- пропуски в данных отсутствуют;\n",
    "- общее количество значений по всем признакам, в которых присутствуют бесконечные значения, равно 509;\n",
    "- повторяющихся строк нет.\n",
    "\n",
    "На данном этапе с бесконечными значениями делать ничего не будем.\n",
    "\n",
    "Посмотрим, какие признаки коррелируют с фактом ПДЗ так, что их сила корреляционной связи превышает 0.1."
   ]
  },
  {
   "cell_type": "code",
   "execution_count": 231,
   "id": "616aba4a",
   "metadata": {},
   "outputs": [
    {
     "name": "stdout",
     "output_type": "stream",
     "text": [
      "43\n"
     ]
    }
   ],
   "source": [
    "correlated = choose_by_corr(agents, 'overdue', cut_off=0.1)"
   ]
  },
  {
   "cell_type": "code",
   "execution_count": 232,
   "id": "427ce280",
   "metadata": {},
   "outputs": [
    {
     "data": {
      "text/plain": [
       "(507, 43)"
      ]
     },
     "execution_count": 232,
     "metadata": {},
     "output_type": "execute_result"
    }
   ],
   "source": [
    "agents = agents[correlated]\n",
    "agents.shape"
   ]
  },
  {
   "cell_type": "markdown",
   "id": "69bbfb47",
   "metadata": {},
   "source": [
    "Удалим те признаки, которые коррелируют между собой так, что их сила корреляционной связи превышает 0.7."
   ]
  },
  {
   "cell_type": "code",
   "execution_count": 233,
   "id": "39e820f4",
   "metadata": {},
   "outputs": [
    {
     "name": "stdout",
     "output_type": "stream",
     "text": [
      "Признак accounts_receivable_bef_04 был удалён\n",
      "Признак accounts_receivable_bef_03 был удалён\n",
      "Признак accounts_receivable_bef_02 был удалён\n",
      "Признак accounts_receivable_bef_01 был удалён\n",
      "Признак current_assets_bef_04 был удалён\n",
      "Признак current_assets_bef_03 был удалён\n",
      "Признак current_assets_bef_02 был удалён\n",
      "Признак current_assets_bef_01 был удалён\n",
      "Признак c_borrowings_bef_01 был удалён\n",
      "Признак accounts_payable_bef_04 был удалён\n",
      "Признак accounts_payable_bef_03 был удалён\n",
      "Признак accounts_payable_bef_02 был удалён\n",
      "Признак accounts_payable_bef_01 был удалён\n",
      "Признак current_liabilities_bef_04 был удалён\n",
      "Признак current_liabilities_bef_03 был удалён\n",
      "Признак current_liabilities_bef_02 был удалён\n",
      "Признак current_liabilities_bef_01 был удалён\n",
      "Признак revenue_bef_04 был удалён\n",
      "Признак revenue_bef_03 был удалён\n",
      "Признак revenue_bef_02 был удалён\n",
      "Признак revenue_bef_01 был удалён\n",
      "Признак cost_amount_bef_04 был удалён\n",
      "Признак cost_amount_bef_03 был удалён\n",
      "Признак cost_amount_bef_02 был удалён\n",
      "Признак cost_amount_bef_01 был удалён\n",
      "Признак avg_ar_bef_01 был удалён\n",
      "Признак ar_count5_bef_01 был удалён\n",
      "Признак kfn_bef_01 был удалён\n",
      "Признак kfn_bef_02 был удалён\n"
     ]
    }
   ],
   "source": [
    "del_high_corr(agents, cut_off=0.7)"
   ]
  },
  {
   "cell_type": "markdown",
   "id": "34ec4cf0",
   "metadata": {},
   "source": [
    "Посмотрим на размерность полученных данных и выведем на печать оставшиеся признаки."
   ]
  },
  {
   "cell_type": "code",
   "execution_count": 234,
   "id": "8d200578",
   "metadata": {},
   "outputs": [
    {
     "name": "stdout",
     "output_type": "stream",
     "text": [
      "(507, 14)\n"
     ]
    },
    {
     "data": {
      "text/plain": [
       "['f29',\n",
       " 'f49',\n",
       " 'f54',\n",
       " 'f59',\n",
       " 'Sum',\n",
       " 'ar_sum_bef_01',\n",
       " 'max_ar_bef_01',\n",
       " 'ar_count_bef_01',\n",
       " 'ROA_ncl_bef_02',\n",
       " 'kfu_bef_03',\n",
       " 'non_current_assets_diff_bef_03_04',\n",
       " 'accounts_payable_diff_frac_bef_03_04',\n",
       " 'cost_amount_diff_bef_03_04',\n",
       " 'overdue']"
      ]
     },
     "execution_count": 234,
     "metadata": {},
     "output_type": "execute_result"
    }
   ],
   "source": [
    "print(agents.shape)\n",
    "list(agents)"
   ]
  },
  {
   "cell_type": "markdown",
   "id": "7541f12d",
   "metadata": {},
   "source": [
    "Оценим процентное содержание уникальных значений факторных признаков."
   ]
  },
  {
   "cell_type": "code",
   "execution_count": 235,
   "id": "1b081e49",
   "metadata": {},
   "outputs": [
    {
     "data": {
      "text/plain": [
       "-1.0     88.362919\n",
       " 30.0     7.692308\n",
       " 10.0     3.944773\n",
       "Name: f29, dtype: float64"
      ]
     },
     "execution_count": 235,
     "metadata": {},
     "output_type": "execute_result"
    }
   ],
   "source": [
    "agents['f29'].value_counts() / agents.shape[0] * 100"
   ]
  },
  {
   "cell_type": "code",
   "execution_count": 236,
   "id": "65880575",
   "metadata": {},
   "outputs": [
    {
     "data": {
      "text/plain": [
       " 10.0    45.562130\n",
       "-1.0     28.205128\n",
       " 5.0     26.232742\n",
       "Name: f49, dtype: float64"
      ]
     },
     "execution_count": 236,
     "metadata": {},
     "output_type": "execute_result"
    }
   ],
   "source": [
    "agents['f49'].value_counts() / agents.shape[0] * 100"
   ]
  },
  {
   "cell_type": "code",
   "execution_count": 237,
   "id": "adeb82ef",
   "metadata": {},
   "outputs": [
    {
     "data": {
      "text/plain": [
       "-1.0     53.648915\n",
       " 10.0    28.402367\n",
       " 5.0     17.948718\n",
       "Name: f54, dtype: float64"
      ]
     },
     "execution_count": 237,
     "metadata": {},
     "output_type": "execute_result"
    }
   ],
   "source": [
    "agents['f54'].value_counts() / agents.shape[0] * 100"
   ]
  },
  {
   "cell_type": "code",
   "execution_count": 238,
   "id": "3614f8bb",
   "metadata": {},
   "outputs": [
    {
     "data": {
      "text/plain": [
       "-1.0     85.009862\n",
       " 5.0     11.439842\n",
       " 10.0     3.550296\n",
       "Name: f59, dtype: float64"
      ]
     },
     "execution_count": 238,
     "metadata": {},
     "output_type": "execute_result"
    }
   ],
   "source": [
    "agents['f59'].value_counts() / agents.shape[0] * 100"
   ]
  },
  {
   "cell_type": "markdown",
   "id": "2183db1d",
   "metadata": {},
   "source": [
    "Видно, что наибольшее количество пропусков (-1) - 88.362919% - соответствует факторному признаку \"f29\", а наименьшее - 45.562130% - факторному признаку \"f49\".  \n",
    "Из-за больших объёмов пропусков удалим все оставшиеся факторные признаки."
   ]
  },
  {
   "cell_type": "code",
   "execution_count": 239,
   "id": "efdf8817",
   "metadata": {},
   "outputs": [],
   "source": [
    "agents.drop(['f29', 'f49', 'f54', 'f59'], axis=1, inplace=True)"
   ]
  },
  {
   "cell_type": "markdown",
   "id": "9e13bef4",
   "metadata": {},
   "source": [
    "Оценим распределение целевой переменной - факта ПДЗ."
   ]
  },
  {
   "cell_type": "code",
   "execution_count": 240,
   "id": "afd9b620",
   "metadata": {},
   "outputs": [
    {
     "data": {
      "text/plain": [
       "1    284\n",
       "0    223\n",
       "Name: overdue, dtype: int64"
      ]
     },
     "execution_count": 240,
     "metadata": {},
     "output_type": "execute_result"
    }
   ],
   "source": [
    "agents['overdue'].value_counts()"
   ]
  },
  {
   "cell_type": "code",
   "execution_count": 241,
   "id": "9b28cd6d",
   "metadata": {},
   "outputs": [
    {
     "data": {
      "text/plain": [
       "1    56.015779\n",
       "0    43.984221\n",
       "Name: overdue, dtype: float64"
      ]
     },
     "execution_count": 241,
     "metadata": {},
     "output_type": "execute_result"
    }
   ],
   "source": [
    "agents['overdue'].value_counts() / agents.shape[0] * 100"
   ]
  },
  {
   "cell_type": "markdown",
   "id": "b08f6954",
   "metadata": {},
   "source": [
    "Ещё раз проверим данные на наличие бесконечных значений по признакам. Если таковые имеются, то удалим эти признаки."
   ]
  },
  {
   "cell_type": "code",
   "execution_count": 242,
   "id": "f93f125e",
   "metadata": {},
   "outputs": [
    {
     "data": {
      "text/plain": [
       "Sum                                     0\n",
       "ar_sum_bef_01                           0\n",
       "max_ar_bef_01                           0\n",
       "ar_count_bef_01                         0\n",
       "ROA_ncl_bef_02                          0\n",
       "kfu_bef_03                              0\n",
       "non_current_assets_diff_bef_03_04       0\n",
       "accounts_payable_diff_frac_bef_03_04    3\n",
       "cost_amount_diff_bef_03_04              0\n",
       "overdue                                 0\n",
       "dtype: int64"
      ]
     },
     "execution_count": 242,
     "metadata": {},
     "output_type": "execute_result"
    }
   ],
   "source": [
    "agents.isin([-np.inf, np.inf]).sum()"
   ]
  },
  {
   "cell_type": "code",
   "execution_count": 243,
   "id": "84df275b",
   "metadata": {},
   "outputs": [],
   "source": [
    "agents.drop('accounts_payable_diff_frac_bef_03_04', axis=1, inplace=True)"
   ]
  },
  {
   "cell_type": "markdown",
   "id": "9dd761f6",
   "metadata": {},
   "source": [
    "Без значений товарооборота между Северсталью и контрагентом, признаки \"ar_count_bef_01\", \"ar_sum_bef_01\", \"max_ar_bef_01\" и 'avg_ar_bef_01' не играют особой роли - суммы сравнивать не с чем. Удалим их."
   ]
  },
  {
   "cell_type": "code",
   "execution_count": 244,
   "id": "288b5f8a",
   "metadata": {},
   "outputs": [],
   "source": [
    "for col in ['ar_count_bef_01', 'ar_sum_bef_01', 'max_ar_bef_01', 'avg_ar_bef_01']:\n",
    "    if col in agents.columns:\n",
    "        agents.drop(col, axis=1, inplace=True)"
   ]
  },
  {
   "cell_type": "markdown",
   "id": "46bbd881",
   "metadata": {},
   "source": [
    "Оценим размерность и признаки, на которых будем обучать модель."
   ]
  },
  {
   "cell_type": "code",
   "execution_count": 245,
   "id": "bb4c7539",
   "metadata": {},
   "outputs": [
    {
     "data": {
      "text/plain": [
       "(507, 6)"
      ]
     },
     "execution_count": 245,
     "metadata": {},
     "output_type": "execute_result"
    }
   ],
   "source": [
    "agents.shape"
   ]
  },
  {
   "cell_type": "code",
   "execution_count": 246,
   "id": "63c3254a",
   "metadata": {},
   "outputs": [
    {
     "data": {
      "text/plain": [
       "Index(['Sum', 'ROA_ncl_bef_02', 'kfu_bef_03',\n",
       "       'non_current_assets_diff_bef_03_04', 'cost_amount_diff_bef_03_04',\n",
       "       'overdue'],\n",
       "      dtype='object')"
      ]
     },
     "execution_count": 246,
     "metadata": {},
     "output_type": "execute_result"
    }
   ],
   "source": [
    "agents.columns"
   ]
  },
  {
   "cell_type": "markdown",
   "id": "7e35a88e",
   "metadata": {},
   "source": [
    "<h1>6 Обучение модели и интерпретация полученных результатов</h1>"
   ]
  },
  {
   "cell_type": "markdown",
   "id": "4eaa64e3",
   "metadata": {},
   "source": [
    "Необходимый функционал данного раздела."
   ]
  },
  {
   "cell_type": "code",
   "execution_count": 126,
   "id": "117ae38d",
   "metadata": {},
   "outputs": [],
   "source": [
    "def get_scores(y_true, predictions, metrics):\n",
    "    \n",
    "    \"\"\"\n",
    "    Функция предназначена для вывод информации о качестве обучения модели.\n",
    "    Функция принимает следующие параметры:\n",
    "    y_true: numpy.array / list - верные значения меток целевого признака;\n",
    "    predictions: numpy.array / list - предсказанные значения меток целевого признака;\n",
    "    metrics: list - список метрик.\n",
    "    Функция ничего не возвращает; она выводит на печать значения переданных метрик.\n",
    "    \"\"\"\n",
    "    \n",
    "    for item in metrics:\n",
    "        print(f'{item.__name__}: {item(y_true, predictions)}') "
   ]
  },
  {
   "cell_type": "markdown",
   "id": "e46ae6b1",
   "metadata": {},
   "source": [
    "Переиндексируем данные и удалим признак \"index\", который появился вследствие переиндексации."
   ]
  },
  {
   "cell_type": "code",
   "execution_count": 127,
   "id": "4227f2dd",
   "metadata": {},
   "outputs": [],
   "source": [
    "agents.reset_index(inplace=True)\n",
    "agents.drop('index', axis=1, inplace=True)"
   ]
  },
  {
   "cell_type": "markdown",
   "id": "a4cd1ef0",
   "metadata": {},
   "source": [
    "Выделим в отдельные переменные данные о целевом признаке - факте ПДЗ - и данные, содержащие все остальные признаки. "
   ]
  },
  {
   "cell_type": "code",
   "execution_count": 128,
   "id": "1804faca",
   "metadata": {},
   "outputs": [],
   "source": [
    "Y = agents['overdue'].values\n",
    "X = agents.loc[:, agents.columns[:5]]"
   ]
  },
  {
   "cell_type": "markdown",
   "id": "11bb017c",
   "metadata": {},
   "source": [
    "Сформируем параметры для нахождения субоптимальной модели.  "
   ]
  },
  {
   "cell_type": "code",
   "execution_count": 129,
   "id": "4820e0ff",
   "metadata": {},
   "outputs": [],
   "source": [
    "weights = {1: 0.56, 0: 0.44}\n",
    "params = {'criterion': ['gini', 'entropy'],\n",
    "          'min_samples_split': [5, 8, 10, 13, 15, 20],\n",
    "          'max_depth': [3, 5, 8, 10, 12, 15, 20],\n",
    "          'class_weight': ['balanced', weights, 'balanced_subsample'],\n",
    "          'n_estimators': [100, 150, 200, 250, 300, 500, 700],\n",
    "          'bootstrap': [True, False],\n",
    "          'ccp_alpha': [0.1, 0.001, 0.0001, 1e-4, 3e-4, 13e-5, 1.3e-6],\n",
    "          'min_samples_leaf': [10, 15, 20, 30, 25, 40]}"
   ]
  },
  {
   "cell_type": "markdown",
   "id": "0f707a91",
   "metadata": {},
   "source": [
    "В качестве основной модели был выбран случайный лес, потому что эта та модель, которую интуитивно можно интерпретировать следующим образом: группа людей, в которой каждый человек принимает собственное решение на основе каких-то своих умозаключений; получается ровно столько решений, сколько человек в группе. Окончательное решение принимается, например, на основе метода простого голосования.  \n",
    "\n",
    "\n",
    "В данном решении находится именно субоптимальная модель, что связано с уменьшением временных и вычислительных затрат. \n",
    "\n",
    "Обучение модели произведём на всём исходном множестве признаков.\n",
    "\n",
    "Качество модели оценивается по метрике \"roc-auc\". Метрика \"accuracy\" здесь носит чисто информативный характер."
   ]
  },
  {
   "cell_type": "code",
   "execution_count": 130,
   "id": "31e8e387",
   "metadata": {},
   "outputs": [
    {
     "name": "stdout",
     "output_type": "stream",
     "text": [
      "Fitting 5 folds for each of 100 candidates, totalling 500 fits\n",
      "[CV 1/5; 1/100] START bootstrap=False, ccp_alpha=0.0003, class_weight={1: 0.56, 0: 0.44}, criterion=entropy, max_depth=3, min_samples_leaf=40, min_samples_split=15, n_estimators=300\n",
      "[CV 1/5; 1/100] END bootstrap=False, ccp_alpha=0.0003, class_weight={1: 0.56, 0: 0.44}, criterion=entropy, max_depth=3, min_samples_leaf=40, min_samples_split=15, n_estimators=300;, score=0.606 total time=   5.1s\n",
      "[CV 2/5; 1/100] START bootstrap=False, ccp_alpha=0.0003, class_weight={1: 0.56, 0: 0.44}, criterion=entropy, max_depth=3, min_samples_leaf=40, min_samples_split=15, n_estimators=300\n",
      "[CV 2/5; 1/100] END bootstrap=False, ccp_alpha=0.0003, class_weight={1: 0.56, 0: 0.44}, criterion=entropy, max_depth=3, min_samples_leaf=40, min_samples_split=15, n_estimators=300;, score=0.550 total time=   1.1s\n",
      "[CV 3/5; 1/100] START bootstrap=False, ccp_alpha=0.0003, class_weight={1: 0.56, 0: 0.44}, criterion=entropy, max_depth=3, min_samples_leaf=40, min_samples_split=15, n_estimators=300\n",
      "[CV 3/5; 1/100] END bootstrap=False, ccp_alpha=0.0003, class_weight={1: 0.56, 0: 0.44}, criterion=entropy, max_depth=3, min_samples_leaf=40, min_samples_split=15, n_estimators=300;, score=0.540 total time=   1.0s\n",
      "[CV 4/5; 1/100] START bootstrap=False, ccp_alpha=0.0003, class_weight={1: 0.56, 0: 0.44}, criterion=entropy, max_depth=3, min_samples_leaf=40, min_samples_split=15, n_estimators=300\n",
      "[CV 4/5; 1/100] END bootstrap=False, ccp_alpha=0.0003, class_weight={1: 0.56, 0: 0.44}, criterion=entropy, max_depth=3, min_samples_leaf=40, min_samples_split=15, n_estimators=300;, score=0.562 total time=   0.7s\n",
      "[CV 5/5; 1/100] START bootstrap=False, ccp_alpha=0.0003, class_weight={1: 0.56, 0: 0.44}, criterion=entropy, max_depth=3, min_samples_leaf=40, min_samples_split=15, n_estimators=300\n",
      "[CV 5/5; 1/100] END bootstrap=False, ccp_alpha=0.0003, class_weight={1: 0.56, 0: 0.44}, criterion=entropy, max_depth=3, min_samples_leaf=40, min_samples_split=15, n_estimators=300;, score=0.628 total time=   0.9s\n",
      "[CV 1/5; 2/100] START bootstrap=False, ccp_alpha=1.3e-06, class_weight=balanced_subsample, criterion=entropy, max_depth=5, min_samples_leaf=25, min_samples_split=20, n_estimators=100\n",
      "[CV 1/5; 2/100] END bootstrap=False, ccp_alpha=1.3e-06, class_weight=balanced_subsample, criterion=entropy, max_depth=5, min_samples_leaf=25, min_samples_split=20, n_estimators=100;, score=0.649 total time=   0.3s\n",
      "[CV 2/5; 2/100] START bootstrap=False, ccp_alpha=1.3e-06, class_weight=balanced_subsample, criterion=entropy, max_depth=5, min_samples_leaf=25, min_samples_split=20, n_estimators=100\n",
      "[CV 2/5; 2/100] END bootstrap=False, ccp_alpha=1.3e-06, class_weight=balanced_subsample, criterion=entropy, max_depth=5, min_samples_leaf=25, min_samples_split=20, n_estimators=100;, score=0.599 total time=   0.3s\n",
      "[CV 3/5; 2/100] START bootstrap=False, ccp_alpha=1.3e-06, class_weight=balanced_subsample, criterion=entropy, max_depth=5, min_samples_leaf=25, min_samples_split=20, n_estimators=100\n",
      "[CV 3/5; 2/100] END bootstrap=False, ccp_alpha=1.3e-06, class_weight=balanced_subsample, criterion=entropy, max_depth=5, min_samples_leaf=25, min_samples_split=20, n_estimators=100;, score=0.517 total time=   0.3s\n",
      "[CV 4/5; 2/100] START bootstrap=False, ccp_alpha=1.3e-06, class_weight=balanced_subsample, criterion=entropy, max_depth=5, min_samples_leaf=25, min_samples_split=20, n_estimators=100\n",
      "[CV 4/5; 2/100] END bootstrap=False, ccp_alpha=1.3e-06, class_weight=balanced_subsample, criterion=entropy, max_depth=5, min_samples_leaf=25, min_samples_split=20, n_estimators=100;, score=0.564 total time=   0.4s\n",
      "[CV 5/5; 2/100] START bootstrap=False, ccp_alpha=1.3e-06, class_weight=balanced_subsample, criterion=entropy, max_depth=5, min_samples_leaf=25, min_samples_split=20, n_estimators=100\n",
      "[CV 5/5; 2/100] END bootstrap=False, ccp_alpha=1.3e-06, class_weight=balanced_subsample, criterion=entropy, max_depth=5, min_samples_leaf=25, min_samples_split=20, n_estimators=100;, score=0.667 total time=   0.4s\n",
      "[CV 1/5; 3/100] START bootstrap=False, ccp_alpha=0.00013, class_weight={1: 0.56, 0: 0.44}, criterion=gini, max_depth=15, min_samples_leaf=30, min_samples_split=8, n_estimators=250\n",
      "[CV 1/5; 3/100] END bootstrap=False, ccp_alpha=0.00013, class_weight={1: 0.56, 0: 0.44}, criterion=gini, max_depth=15, min_samples_leaf=30, min_samples_split=8, n_estimators=250;, score=0.553 total time=   0.9s\n",
      "[CV 2/5; 3/100] START bootstrap=False, ccp_alpha=0.00013, class_weight={1: 0.56, 0: 0.44}, criterion=gini, max_depth=15, min_samples_leaf=30, min_samples_split=8, n_estimators=250\n",
      "[CV 2/5; 3/100] END bootstrap=False, ccp_alpha=0.00013, class_weight={1: 0.56, 0: 0.44}, criterion=gini, max_depth=15, min_samples_leaf=30, min_samples_split=8, n_estimators=250;, score=0.562 total time=   0.9s\n",
      "[CV 3/5; 3/100] START bootstrap=False, ccp_alpha=0.00013, class_weight={1: 0.56, 0: 0.44}, criterion=gini, max_depth=15, min_samples_leaf=30, min_samples_split=8, n_estimators=250\n",
      "[CV 3/5; 3/100] END bootstrap=False, ccp_alpha=0.00013, class_weight={1: 0.56, 0: 0.44}, criterion=gini, max_depth=15, min_samples_leaf=30, min_samples_split=8, n_estimators=250;, score=0.521 total time=   0.8s\n",
      "[CV 4/5; 3/100] START bootstrap=False, ccp_alpha=0.00013, class_weight={1: 0.56, 0: 0.44}, criterion=gini, max_depth=15, min_samples_leaf=30, min_samples_split=8, n_estimators=250\n",
      "[CV 4/5; 3/100] END bootstrap=False, ccp_alpha=0.00013, class_weight={1: 0.56, 0: 0.44}, criterion=gini, max_depth=15, min_samples_leaf=30, min_samples_split=8, n_estimators=250;, score=0.568 total time=   0.9s\n",
      "[CV 5/5; 3/100] START bootstrap=False, ccp_alpha=0.00013, class_weight={1: 0.56, 0: 0.44}, criterion=gini, max_depth=15, min_samples_leaf=30, min_samples_split=8, n_estimators=250\n",
      "[CV 5/5; 3/100] END bootstrap=False, ccp_alpha=0.00013, class_weight={1: 0.56, 0: 0.44}, criterion=gini, max_depth=15, min_samples_leaf=30, min_samples_split=8, n_estimators=250;, score=0.640 total time=   0.9s\n",
      "[CV 1/5; 4/100] START bootstrap=False, ccp_alpha=0.0001, class_weight=balanced_subsample, criterion=gini, max_depth=15, min_samples_leaf=20, min_samples_split=20, n_estimators=250\n",
      "[CV 1/5; 4/100] END bootstrap=False, ccp_alpha=0.0001, class_weight=balanced_subsample, criterion=gini, max_depth=15, min_samples_leaf=20, min_samples_split=20, n_estimators=250;, score=0.605 total time=   0.9s\n",
      "[CV 2/5; 4/100] START bootstrap=False, ccp_alpha=0.0001, class_weight=balanced_subsample, criterion=gini, max_depth=15, min_samples_leaf=20, min_samples_split=20, n_estimators=250\n",
      "[CV 2/5; 4/100] END bootstrap=False, ccp_alpha=0.0001, class_weight=balanced_subsample, criterion=gini, max_depth=15, min_samples_leaf=20, min_samples_split=20, n_estimators=250;, score=0.621 total time=   0.7s\n",
      "[CV 3/5; 4/100] START bootstrap=False, ccp_alpha=0.0001, class_weight=balanced_subsample, criterion=gini, max_depth=15, min_samples_leaf=20, min_samples_split=20, n_estimators=250\n",
      "[CV 3/5; 4/100] END bootstrap=False, ccp_alpha=0.0001, class_weight=balanced_subsample, criterion=gini, max_depth=15, min_samples_leaf=20, min_samples_split=20, n_estimators=250;, score=0.517 total time=   0.6s\n",
      "[CV 4/5; 4/100] START bootstrap=False, ccp_alpha=0.0001, class_weight=balanced_subsample, criterion=gini, max_depth=15, min_samples_leaf=20, min_samples_split=20, n_estimators=250\n",
      "[CV 4/5; 4/100] END bootstrap=False, ccp_alpha=0.0001, class_weight=balanced_subsample, criterion=gini, max_depth=15, min_samples_leaf=20, min_samples_split=20, n_estimators=250;, score=0.574 total time=   0.7s\n",
      "[CV 5/5; 4/100] START bootstrap=False, ccp_alpha=0.0001, class_weight=balanced_subsample, criterion=gini, max_depth=15, min_samples_leaf=20, min_samples_split=20, n_estimators=250\n",
      "[CV 5/5; 4/100] END bootstrap=False, ccp_alpha=0.0001, class_weight=balanced_subsample, criterion=gini, max_depth=15, min_samples_leaf=20, min_samples_split=20, n_estimators=250;, score=0.639 total time=   0.6s\n",
      "[CV 1/5; 5/100] START bootstrap=False, ccp_alpha=0.0003, class_weight=balanced, criterion=entropy, max_depth=20, min_samples_leaf=25, min_samples_split=8, n_estimators=300\n",
      "[CV 1/5; 5/100] END bootstrap=False, ccp_alpha=0.0003, class_weight=balanced, criterion=entropy, max_depth=20, min_samples_leaf=25, min_samples_split=8, n_estimators=300;, score=0.612 total time=   1.0s\n",
      "[CV 2/5; 5/100] START bootstrap=False, ccp_alpha=0.0003, class_weight=balanced, criterion=entropy, max_depth=20, min_samples_leaf=25, min_samples_split=8, n_estimators=300\n"
     ]
    },
    {
     "name": "stdout",
     "output_type": "stream",
     "text": [
      "[CV 2/5; 5/100] END bootstrap=False, ccp_alpha=0.0003, class_weight=balanced, criterion=entropy, max_depth=20, min_samples_leaf=25, min_samples_split=8, n_estimators=300;, score=0.596 total time=   0.9s\n",
      "[CV 3/5; 5/100] START bootstrap=False, ccp_alpha=0.0003, class_weight=balanced, criterion=entropy, max_depth=20, min_samples_leaf=25, min_samples_split=8, n_estimators=300\n",
      "[CV 3/5; 5/100] END bootstrap=False, ccp_alpha=0.0003, class_weight=balanced, criterion=entropy, max_depth=20, min_samples_leaf=25, min_samples_split=8, n_estimators=300;, score=0.517 total time=   1.1s\n",
      "[CV 4/5; 5/100] START bootstrap=False, ccp_alpha=0.0003, class_weight=balanced, criterion=entropy, max_depth=20, min_samples_leaf=25, min_samples_split=8, n_estimators=300\n",
      "[CV 4/5; 5/100] END bootstrap=False, ccp_alpha=0.0003, class_weight=balanced, criterion=entropy, max_depth=20, min_samples_leaf=25, min_samples_split=8, n_estimators=300;, score=0.564 total time=   1.0s\n",
      "[CV 5/5; 5/100] START bootstrap=False, ccp_alpha=0.0003, class_weight=balanced, criterion=entropy, max_depth=20, min_samples_leaf=25, min_samples_split=8, n_estimators=300\n",
      "[CV 5/5; 5/100] END bootstrap=False, ccp_alpha=0.0003, class_weight=balanced, criterion=entropy, max_depth=20, min_samples_leaf=25, min_samples_split=8, n_estimators=300;, score=0.646 total time=   1.1s\n",
      "[CV 1/5; 6/100] START bootstrap=False, ccp_alpha=0.0001, class_weight={1: 0.56, 0: 0.44}, criterion=gini, max_depth=10, min_samples_leaf=30, min_samples_split=10, n_estimators=300\n",
      "[CV 1/5; 6/100] END bootstrap=False, ccp_alpha=0.0001, class_weight={1: 0.56, 0: 0.44}, criterion=gini, max_depth=10, min_samples_leaf=30, min_samples_split=10, n_estimators=300;, score=0.553 total time=   1.0s\n",
      "[CV 2/5; 6/100] START bootstrap=False, ccp_alpha=0.0001, class_weight={1: 0.56, 0: 0.44}, criterion=gini, max_depth=10, min_samples_leaf=30, min_samples_split=10, n_estimators=300\n",
      "[CV 2/5; 6/100] END bootstrap=False, ccp_alpha=0.0001, class_weight={1: 0.56, 0: 0.44}, criterion=gini, max_depth=10, min_samples_leaf=30, min_samples_split=10, n_estimators=300;, score=0.562 total time=   1.0s\n",
      "[CV 3/5; 6/100] START bootstrap=False, ccp_alpha=0.0001, class_weight={1: 0.56, 0: 0.44}, criterion=gini, max_depth=10, min_samples_leaf=30, min_samples_split=10, n_estimators=300\n",
      "[CV 3/5; 6/100] END bootstrap=False, ccp_alpha=0.0001, class_weight={1: 0.56, 0: 0.44}, criterion=gini, max_depth=10, min_samples_leaf=30, min_samples_split=10, n_estimators=300;, score=0.521 total time=   1.0s\n",
      "[CV 4/5; 6/100] START bootstrap=False, ccp_alpha=0.0001, class_weight={1: 0.56, 0: 0.44}, criterion=gini, max_depth=10, min_samples_leaf=30, min_samples_split=10, n_estimators=300\n",
      "[CV 4/5; 6/100] END bootstrap=False, ccp_alpha=0.0001, class_weight={1: 0.56, 0: 0.44}, criterion=gini, max_depth=10, min_samples_leaf=30, min_samples_split=10, n_estimators=300;, score=0.568 total time=   1.2s\n",
      "[CV 5/5; 6/100] START bootstrap=False, ccp_alpha=0.0001, class_weight={1: 0.56, 0: 0.44}, criterion=gini, max_depth=10, min_samples_leaf=30, min_samples_split=10, n_estimators=300\n",
      "[CV 5/5; 6/100] END bootstrap=False, ccp_alpha=0.0001, class_weight={1: 0.56, 0: 0.44}, criterion=gini, max_depth=10, min_samples_leaf=30, min_samples_split=10, n_estimators=300;, score=0.640 total time=   1.2s\n",
      "[CV 1/5; 7/100] START bootstrap=True, ccp_alpha=0.00013, class_weight=balanced, criterion=entropy, max_depth=3, min_samples_leaf=25, min_samples_split=15, n_estimators=700\n",
      "[CV 1/5; 7/100] END bootstrap=True, ccp_alpha=0.00013, class_weight=balanced, criterion=entropy, max_depth=3, min_samples_leaf=25, min_samples_split=15, n_estimators=700;, score=0.618 total time=   2.7s\n",
      "[CV 2/5; 7/100] START bootstrap=True, ccp_alpha=0.00013, class_weight=balanced, criterion=entropy, max_depth=3, min_samples_leaf=25, min_samples_split=15, n_estimators=700\n",
      "[CV 2/5; 7/100] END bootstrap=True, ccp_alpha=0.00013, class_weight=balanced, criterion=entropy, max_depth=3, min_samples_leaf=25, min_samples_split=15, n_estimators=700;, score=0.605 total time=   2.6s\n",
      "[CV 3/5; 7/100] START bootstrap=True, ccp_alpha=0.00013, class_weight=balanced, criterion=entropy, max_depth=3, min_samples_leaf=25, min_samples_split=15, n_estimators=700\n",
      "[CV 3/5; 7/100] END bootstrap=True, ccp_alpha=0.00013, class_weight=balanced, criterion=entropy, max_depth=3, min_samples_leaf=25, min_samples_split=15, n_estimators=700;, score=0.530 total time=   2.6s\n",
      "[CV 4/5; 7/100] START bootstrap=True, ccp_alpha=0.00013, class_weight=balanced, criterion=entropy, max_depth=3, min_samples_leaf=25, min_samples_split=15, n_estimators=700\n",
      "[CV 4/5; 7/100] END bootstrap=True, ccp_alpha=0.00013, class_weight=balanced, criterion=entropy, max_depth=3, min_samples_leaf=25, min_samples_split=15, n_estimators=700;, score=0.639 total time=   2.0s\n",
      "[CV 5/5; 7/100] START bootstrap=True, ccp_alpha=0.00013, class_weight=balanced, criterion=entropy, max_depth=3, min_samples_leaf=25, min_samples_split=15, n_estimators=700\n",
      "[CV 5/5; 7/100] END bootstrap=True, ccp_alpha=0.00013, class_weight=balanced, criterion=entropy, max_depth=3, min_samples_leaf=25, min_samples_split=15, n_estimators=700;, score=0.664 total time=   2.3s\n",
      "[CV 1/5; 8/100] START bootstrap=False, ccp_alpha=0.00013, class_weight=balanced_subsample, criterion=entropy, max_depth=15, min_samples_leaf=40, min_samples_split=20, n_estimators=300\n",
      "[CV 1/5; 8/100] END bootstrap=False, ccp_alpha=0.00013, class_weight=balanced_subsample, criterion=entropy, max_depth=15, min_samples_leaf=40, min_samples_split=20, n_estimators=300;, score=0.630 total time=   0.9s\n",
      "[CV 2/5; 8/100] START bootstrap=False, ccp_alpha=0.00013, class_weight=balanced_subsample, criterion=entropy, max_depth=15, min_samples_leaf=40, min_samples_split=20, n_estimators=300\n",
      "[CV 2/5; 8/100] END bootstrap=False, ccp_alpha=0.00013, class_weight=balanced_subsample, criterion=entropy, max_depth=15, min_samples_leaf=40, min_samples_split=20, n_estimators=300;, score=0.605 total time=   0.8s\n",
      "[CV 3/5; 8/100] START bootstrap=False, ccp_alpha=0.00013, class_weight=balanced_subsample, criterion=entropy, max_depth=15, min_samples_leaf=40, min_samples_split=20, n_estimators=300\n",
      "[CV 3/5; 8/100] END bootstrap=False, ccp_alpha=0.00013, class_weight=balanced_subsample, criterion=entropy, max_depth=15, min_samples_leaf=40, min_samples_split=20, n_estimators=300;, score=0.517 total time=   1.1s\n",
      "[CV 4/5; 8/100] START bootstrap=False, ccp_alpha=0.00013, class_weight=balanced_subsample, criterion=entropy, max_depth=15, min_samples_leaf=40, min_samples_split=20, n_estimators=300\n",
      "[CV 4/5; 8/100] END bootstrap=False, ccp_alpha=0.00013, class_weight=balanced_subsample, criterion=entropy, max_depth=15, min_samples_leaf=40, min_samples_split=20, n_estimators=300;, score=0.577 total time=   0.9s\n",
      "[CV 5/5; 8/100] START bootstrap=False, ccp_alpha=0.00013, class_weight=balanced_subsample, criterion=entropy, max_depth=15, min_samples_leaf=40, min_samples_split=20, n_estimators=300\n",
      "[CV 5/5; 8/100] END bootstrap=False, ccp_alpha=0.00013, class_weight=balanced_subsample, criterion=entropy, max_depth=15, min_samples_leaf=40, min_samples_split=20, n_estimators=300;, score=0.655 total time=   0.8s\n",
      "[CV 1/5; 9/100] START bootstrap=False, ccp_alpha=0.001, class_weight=balanced, criterion=entropy, max_depth=12, min_samples_leaf=15, min_samples_split=8, n_estimators=500\n",
      "[CV 1/5; 9/100] END bootstrap=False, ccp_alpha=0.001, class_weight=balanced, criterion=entropy, max_depth=12, min_samples_leaf=15, min_samples_split=8, n_estimators=500;, score=0.568 total time=   1.4s\n",
      "[CV 2/5; 9/100] START bootstrap=False, ccp_alpha=0.001, class_weight=balanced, criterion=entropy, max_depth=12, min_samples_leaf=15, min_samples_split=8, n_estimators=500\n",
      "[CV 2/5; 9/100] END bootstrap=False, ccp_alpha=0.001, class_weight=balanced, criterion=entropy, max_depth=12, min_samples_leaf=15, min_samples_split=8, n_estimators=500;, score=0.639 total time=   1.3s\n",
      "[CV 3/5; 9/100] START bootstrap=False, ccp_alpha=0.001, class_weight=balanced, criterion=entropy, max_depth=12, min_samples_leaf=15, min_samples_split=8, n_estimators=500\n",
      "[CV 3/5; 9/100] END bootstrap=False, ccp_alpha=0.001, class_weight=balanced, criterion=entropy, max_depth=12, min_samples_leaf=15, min_samples_split=8, n_estimators=500;, score=0.505 total time=   1.8s\n",
      "[CV 4/5; 9/100] START bootstrap=False, ccp_alpha=0.001, class_weight=balanced, criterion=entropy, max_depth=12, min_samples_leaf=15, min_samples_split=8, n_estimators=500\n"
     ]
    },
    {
     "name": "stdout",
     "output_type": "stream",
     "text": [
      "[CV 4/5; 9/100] END bootstrap=False, ccp_alpha=0.001, class_weight=balanced, criterion=entropy, max_depth=12, min_samples_leaf=15, min_samples_split=8, n_estimators=500;, score=0.564 total time=   1.5s\n",
      "[CV 5/5; 9/100] START bootstrap=False, ccp_alpha=0.001, class_weight=balanced, criterion=entropy, max_depth=12, min_samples_leaf=15, min_samples_split=8, n_estimators=500\n",
      "[CV 5/5; 9/100] END bootstrap=False, ccp_alpha=0.001, class_weight=balanced, criterion=entropy, max_depth=12, min_samples_leaf=15, min_samples_split=8, n_estimators=500;, score=0.671 total time=   1.6s\n",
      "[CV 1/5; 10/100] START bootstrap=False, ccp_alpha=0.0001, class_weight={1: 0.56, 0: 0.44}, criterion=entropy, max_depth=20, min_samples_leaf=15, min_samples_split=20, n_estimators=700\n",
      "[CV 1/5; 10/100] END bootstrap=False, ccp_alpha=0.0001, class_weight={1: 0.56, 0: 0.44}, criterion=entropy, max_depth=20, min_samples_leaf=15, min_samples_split=20, n_estimators=700;, score=0.471 total time=   2.5s\n",
      "[CV 2/5; 10/100] START bootstrap=False, ccp_alpha=0.0001, class_weight={1: 0.56, 0: 0.44}, criterion=entropy, max_depth=20, min_samples_leaf=15, min_samples_split=20, n_estimators=700\n",
      "[CV 2/5; 10/100] END bootstrap=False, ccp_alpha=0.0001, class_weight={1: 0.56, 0: 0.44}, criterion=entropy, max_depth=20, min_samples_leaf=15, min_samples_split=20, n_estimators=700;, score=0.521 total time=   2.2s\n",
      "[CV 3/5; 10/100] START bootstrap=False, ccp_alpha=0.0001, class_weight={1: 0.56, 0: 0.44}, criterion=entropy, max_depth=20, min_samples_leaf=15, min_samples_split=20, n_estimators=700\n",
      "[CV 3/5; 10/100] END bootstrap=False, ccp_alpha=0.0001, class_weight={1: 0.56, 0: 0.44}, criterion=entropy, max_depth=20, min_samples_leaf=15, min_samples_split=20, n_estimators=700;, score=0.493 total time=   2.8s\n",
      "[CV 4/5; 10/100] START bootstrap=False, ccp_alpha=0.0001, class_weight={1: 0.56, 0: 0.44}, criterion=entropy, max_depth=20, min_samples_leaf=15, min_samples_split=20, n_estimators=700\n",
      "[CV 4/5; 10/100] END bootstrap=False, ccp_alpha=0.0001, class_weight={1: 0.56, 0: 0.44}, criterion=entropy, max_depth=20, min_samples_leaf=15, min_samples_split=20, n_estimators=700;, score=0.568 total time=   2.4s\n",
      "[CV 5/5; 10/100] START bootstrap=False, ccp_alpha=0.0001, class_weight={1: 0.56, 0: 0.44}, criterion=entropy, max_depth=20, min_samples_leaf=15, min_samples_split=20, n_estimators=700\n",
      "[CV 5/5; 10/100] END bootstrap=False, ccp_alpha=0.0001, class_weight={1: 0.56, 0: 0.44}, criterion=entropy, max_depth=20, min_samples_leaf=15, min_samples_split=20, n_estimators=700;, score=0.650 total time=   2.6s\n",
      "[CV 1/5; 11/100] START bootstrap=False, ccp_alpha=0.0003, class_weight=balanced_subsample, criterion=entropy, max_depth=12, min_samples_leaf=15, min_samples_split=15, n_estimators=200\n",
      "[CV 1/5; 11/100] END bootstrap=False, ccp_alpha=0.0003, class_weight=balanced_subsample, criterion=entropy, max_depth=12, min_samples_leaf=15, min_samples_split=15, n_estimators=200;, score=0.568 total time=   1.0s\n",
      "[CV 2/5; 11/100] START bootstrap=False, ccp_alpha=0.0003, class_weight=balanced_subsample, criterion=entropy, max_depth=12, min_samples_leaf=15, min_samples_split=15, n_estimators=200\n",
      "[CV 2/5; 11/100] END bootstrap=False, ccp_alpha=0.0003, class_weight=balanced_subsample, criterion=entropy, max_depth=12, min_samples_leaf=15, min_samples_split=15, n_estimators=200;, score=0.617 total time=   0.7s\n",
      "[CV 3/5; 11/100] START bootstrap=False, ccp_alpha=0.0003, class_weight=balanced_subsample, criterion=entropy, max_depth=12, min_samples_leaf=15, min_samples_split=15, n_estimators=200\n",
      "[CV 3/5; 11/100] END bootstrap=False, ccp_alpha=0.0003, class_weight=balanced_subsample, criterion=entropy, max_depth=12, min_samples_leaf=15, min_samples_split=15, n_estimators=200;, score=0.505 total time=   0.7s\n",
      "[CV 4/5; 11/100] START bootstrap=False, ccp_alpha=0.0003, class_weight=balanced_subsample, criterion=entropy, max_depth=12, min_samples_leaf=15, min_samples_split=15, n_estimators=200\n",
      "[CV 4/5; 11/100] END bootstrap=False, ccp_alpha=0.0003, class_weight=balanced_subsample, criterion=entropy, max_depth=12, min_samples_leaf=15, min_samples_split=15, n_estimators=200;, score=0.564 total time=   0.8s\n",
      "[CV 5/5; 11/100] START bootstrap=False, ccp_alpha=0.0003, class_weight=balanced_subsample, criterion=entropy, max_depth=12, min_samples_leaf=15, min_samples_split=15, n_estimators=200\n",
      "[CV 5/5; 11/100] END bootstrap=False, ccp_alpha=0.0003, class_weight=balanced_subsample, criterion=entropy, max_depth=12, min_samples_leaf=15, min_samples_split=15, n_estimators=200;, score=0.661 total time=   0.6s\n",
      "[CV 1/5; 12/100] START bootstrap=True, ccp_alpha=0.001, class_weight={1: 0.56, 0: 0.44}, criterion=entropy, max_depth=3, min_samples_leaf=30, min_samples_split=13, n_estimators=100\n",
      "[CV 1/5; 12/100] END bootstrap=True, ccp_alpha=0.001, class_weight={1: 0.56, 0: 0.44}, criterion=entropy, max_depth=3, min_samples_leaf=30, min_samples_split=13, n_estimators=100;, score=0.566 total time=   0.3s\n",
      "[CV 2/5; 12/100] START bootstrap=True, ccp_alpha=0.001, class_weight={1: 0.56, 0: 0.44}, criterion=entropy, max_depth=3, min_samples_leaf=30, min_samples_split=13, n_estimators=100\n",
      "[CV 2/5; 12/100] END bootstrap=True, ccp_alpha=0.001, class_weight={1: 0.56, 0: 0.44}, criterion=entropy, max_depth=3, min_samples_leaf=30, min_samples_split=13, n_estimators=100;, score=0.534 total time=   0.3s\n",
      "[CV 3/5; 12/100] START bootstrap=True, ccp_alpha=0.001, class_weight={1: 0.56, 0: 0.44}, criterion=entropy, max_depth=3, min_samples_leaf=30, min_samples_split=13, n_estimators=100\n",
      "[CV 3/5; 12/100] END bootstrap=True, ccp_alpha=0.001, class_weight={1: 0.56, 0: 0.44}, criterion=entropy, max_depth=3, min_samples_leaf=30, min_samples_split=13, n_estimators=100;, score=0.537 total time=   0.3s\n",
      "[CV 4/5; 12/100] START bootstrap=True, ccp_alpha=0.001, class_weight={1: 0.56, 0: 0.44}, criterion=entropy, max_depth=3, min_samples_leaf=30, min_samples_split=13, n_estimators=100\n",
      "[CV 4/5; 12/100] END bootstrap=True, ccp_alpha=0.001, class_weight={1: 0.56, 0: 0.44}, criterion=entropy, max_depth=3, min_samples_leaf=30, min_samples_split=13, n_estimators=100;, score=0.540 total time=   0.3s\n",
      "[CV 5/5; 12/100] START bootstrap=True, ccp_alpha=0.001, class_weight={1: 0.56, 0: 0.44}, criterion=entropy, max_depth=3, min_samples_leaf=30, min_samples_split=13, n_estimators=100\n",
      "[CV 5/5; 12/100] END bootstrap=True, ccp_alpha=0.001, class_weight={1: 0.56, 0: 0.44}, criterion=entropy, max_depth=3, min_samples_leaf=30, min_samples_split=13, n_estimators=100;, score=0.572 total time=   0.3s\n",
      "[CV 1/5; 13/100] START bootstrap=True, ccp_alpha=0.0001, class_weight=balanced_subsample, criterion=entropy, max_depth=8, min_samples_leaf=10, min_samples_split=10, n_estimators=100\n",
      "[CV 1/5; 13/100] END bootstrap=True, ccp_alpha=0.0001, class_weight=balanced_subsample, criterion=entropy, max_depth=8, min_samples_leaf=10, min_samples_split=10, n_estimators=100;, score=0.574 total time=   0.3s\n",
      "[CV 2/5; 13/100] START bootstrap=True, ccp_alpha=0.0001, class_weight=balanced_subsample, criterion=entropy, max_depth=8, min_samples_leaf=10, min_samples_split=10, n_estimators=100\n",
      "[CV 2/5; 13/100] END bootstrap=True, ccp_alpha=0.0001, class_weight=balanced_subsample, criterion=entropy, max_depth=8, min_samples_leaf=10, min_samples_split=10, n_estimators=100;, score=0.636 total time=   0.3s\n",
      "[CV 3/5; 13/100] START bootstrap=True, ccp_alpha=0.0001, class_weight=balanced_subsample, criterion=entropy, max_depth=8, min_samples_leaf=10, min_samples_split=10, n_estimators=100\n",
      "[CV 3/5; 13/100] END bootstrap=True, ccp_alpha=0.0001, class_weight=balanced_subsample, criterion=entropy, max_depth=8, min_samples_leaf=10, min_samples_split=10, n_estimators=100;, score=0.549 total time=   0.3s\n",
      "[CV 4/5; 13/100] START bootstrap=True, ccp_alpha=0.0001, class_weight=balanced_subsample, criterion=entropy, max_depth=8, min_samples_leaf=10, min_samples_split=10, n_estimators=100\n",
      "[CV 4/5; 13/100] END bootstrap=True, ccp_alpha=0.0001, class_weight=balanced_subsample, criterion=entropy, max_depth=8, min_samples_leaf=10, min_samples_split=10, n_estimators=100;, score=0.589 total time=   0.3s\n",
      "[CV 5/5; 13/100] START bootstrap=True, ccp_alpha=0.0001, class_weight=balanced_subsample, criterion=entropy, max_depth=8, min_samples_leaf=10, min_samples_split=10, n_estimators=100\n"
     ]
    },
    {
     "name": "stdout",
     "output_type": "stream",
     "text": [
      "[CV 5/5; 13/100] END bootstrap=True, ccp_alpha=0.0001, class_weight=balanced_subsample, criterion=entropy, max_depth=8, min_samples_leaf=10, min_samples_split=10, n_estimators=100;, score=0.702 total time=   0.4s\n",
      "[CV 1/5; 14/100] START bootstrap=True, ccp_alpha=1.3e-06, class_weight={1: 0.56, 0: 0.44}, criterion=gini, max_depth=3, min_samples_leaf=25, min_samples_split=13, n_estimators=100\n",
      "[CV 1/5; 14/100] END bootstrap=True, ccp_alpha=1.3e-06, class_weight={1: 0.56, 0: 0.44}, criterion=gini, max_depth=3, min_samples_leaf=25, min_samples_split=13, n_estimators=100;, score=0.547 total time=   0.3s\n",
      "[CV 2/5; 14/100] START bootstrap=True, ccp_alpha=1.3e-06, class_weight={1: 0.56, 0: 0.44}, criterion=gini, max_depth=3, min_samples_leaf=25, min_samples_split=13, n_estimators=100\n",
      "[CV 2/5; 14/100] END bootstrap=True, ccp_alpha=1.3e-06, class_weight={1: 0.56, 0: 0.44}, criterion=gini, max_depth=3, min_samples_leaf=25, min_samples_split=13, n_estimators=100;, score=0.556 total time=   0.3s\n",
      "[CV 3/5; 14/100] START bootstrap=True, ccp_alpha=1.3e-06, class_weight={1: 0.56, 0: 0.44}, criterion=gini, max_depth=3, min_samples_leaf=25, min_samples_split=13, n_estimators=100\n",
      "[CV 3/5; 14/100] END bootstrap=True, ccp_alpha=1.3e-06, class_weight={1: 0.56, 0: 0.44}, criterion=gini, max_depth=3, min_samples_leaf=25, min_samples_split=13, n_estimators=100;, score=0.528 total time=   0.3s\n",
      "[CV 4/5; 14/100] START bootstrap=True, ccp_alpha=1.3e-06, class_weight={1: 0.56, 0: 0.44}, criterion=gini, max_depth=3, min_samples_leaf=25, min_samples_split=13, n_estimators=100\n",
      "[CV 4/5; 14/100] END bootstrap=True, ccp_alpha=1.3e-06, class_weight={1: 0.56, 0: 0.44}, criterion=gini, max_depth=3, min_samples_leaf=25, min_samples_split=13, n_estimators=100;, score=0.534 total time=   0.4s\n",
      "[CV 5/5; 14/100] START bootstrap=True, ccp_alpha=1.3e-06, class_weight={1: 0.56, 0: 0.44}, criterion=gini, max_depth=3, min_samples_leaf=25, min_samples_split=13, n_estimators=100\n",
      "[CV 5/5; 14/100] END bootstrap=True, ccp_alpha=1.3e-06, class_weight={1: 0.56, 0: 0.44}, criterion=gini, max_depth=3, min_samples_leaf=25, min_samples_split=13, n_estimators=100;, score=0.584 total time=   0.3s\n",
      "[CV 1/5; 15/100] START bootstrap=True, ccp_alpha=1.3e-06, class_weight=balanced, criterion=gini, max_depth=15, min_samples_leaf=15, min_samples_split=10, n_estimators=100\n",
      "[CV 1/5; 15/100] END bootstrap=True, ccp_alpha=1.3e-06, class_weight=balanced, criterion=gini, max_depth=15, min_samples_leaf=15, min_samples_split=10, n_estimators=100;, score=0.539 total time=   0.3s\n",
      "[CV 2/5; 15/100] START bootstrap=True, ccp_alpha=1.3e-06, class_weight=balanced, criterion=gini, max_depth=15, min_samples_leaf=15, min_samples_split=10, n_estimators=100\n",
      "[CV 2/5; 15/100] END bootstrap=True, ccp_alpha=1.3e-06, class_weight=balanced, criterion=gini, max_depth=15, min_samples_leaf=15, min_samples_split=10, n_estimators=100;, score=0.608 total time=   0.3s\n",
      "[CV 3/5; 15/100] START bootstrap=True, ccp_alpha=1.3e-06, class_weight=balanced, criterion=gini, max_depth=15, min_samples_leaf=15, min_samples_split=10, n_estimators=100\n",
      "[CV 3/5; 15/100] END bootstrap=True, ccp_alpha=1.3e-06, class_weight=balanced, criterion=gini, max_depth=15, min_samples_leaf=15, min_samples_split=10, n_estimators=100;, score=0.539 total time=   0.3s\n",
      "[CV 4/5; 15/100] START bootstrap=True, ccp_alpha=1.3e-06, class_weight=balanced, criterion=gini, max_depth=15, min_samples_leaf=15, min_samples_split=10, n_estimators=100\n",
      "[CV 4/5; 15/100] END bootstrap=True, ccp_alpha=1.3e-06, class_weight=balanced, criterion=gini, max_depth=15, min_samples_leaf=15, min_samples_split=10, n_estimators=100;, score=0.596 total time=   0.3s\n",
      "[CV 5/5; 15/100] START bootstrap=True, ccp_alpha=1.3e-06, class_weight=balanced, criterion=gini, max_depth=15, min_samples_leaf=15, min_samples_split=10, n_estimators=100\n",
      "[CV 5/5; 15/100] END bootstrap=True, ccp_alpha=1.3e-06, class_weight=balanced, criterion=gini, max_depth=15, min_samples_leaf=15, min_samples_split=10, n_estimators=100;, score=0.686 total time=   0.4s\n",
      "[CV 1/5; 16/100] START bootstrap=True, ccp_alpha=0.1, class_weight=balanced, criterion=gini, max_depth=10, min_samples_leaf=10, min_samples_split=8, n_estimators=700\n",
      "[CV 1/5; 16/100] END bootstrap=True, ccp_alpha=0.1, class_weight=balanced, criterion=gini, max_depth=10, min_samples_leaf=10, min_samples_split=8, n_estimators=700;, score=0.500 total time=   2.4s\n",
      "[CV 2/5; 16/100] START bootstrap=True, ccp_alpha=0.1, class_weight=balanced, criterion=gini, max_depth=10, min_samples_leaf=10, min_samples_split=8, n_estimators=700\n",
      "[CV 2/5; 16/100] END bootstrap=True, ccp_alpha=0.1, class_weight=balanced, criterion=gini, max_depth=10, min_samples_leaf=10, min_samples_split=8, n_estimators=700;, score=0.500 total time=   2.4s\n",
      "[CV 3/5; 16/100] START bootstrap=True, ccp_alpha=0.1, class_weight=balanced, criterion=gini, max_depth=10, min_samples_leaf=10, min_samples_split=8, n_estimators=700\n",
      "[CV 3/5; 16/100] END bootstrap=True, ccp_alpha=0.1, class_weight=balanced, criterion=gini, max_depth=10, min_samples_leaf=10, min_samples_split=8, n_estimators=700;, score=0.500 total time=   2.3s\n",
      "[CV 4/5; 16/100] START bootstrap=True, ccp_alpha=0.1, class_weight=balanced, criterion=gini, max_depth=10, min_samples_leaf=10, min_samples_split=8, n_estimators=700\n",
      "[CV 4/5; 16/100] END bootstrap=True, ccp_alpha=0.1, class_weight=balanced, criterion=gini, max_depth=10, min_samples_leaf=10, min_samples_split=8, n_estimators=700;, score=0.500 total time=   2.4s\n",
      "[CV 5/5; 16/100] START bootstrap=True, ccp_alpha=0.1, class_weight=balanced, criterion=gini, max_depth=10, min_samples_leaf=10, min_samples_split=8, n_estimators=700\n",
      "[CV 5/5; 16/100] END bootstrap=True, ccp_alpha=0.1, class_weight=balanced, criterion=gini, max_depth=10, min_samples_leaf=10, min_samples_split=8, n_estimators=700;, score=0.500 total time=   2.3s\n",
      "[CV 1/5; 17/100] START bootstrap=True, ccp_alpha=0.00013, class_weight={1: 0.56, 0: 0.44}, criterion=entropy, max_depth=20, min_samples_leaf=10, min_samples_split=8, n_estimators=300\n",
      "[CV 1/5; 17/100] END bootstrap=True, ccp_alpha=0.00013, class_weight={1: 0.56, 0: 0.44}, criterion=entropy, max_depth=20, min_samples_leaf=10, min_samples_split=8, n_estimators=300;, score=0.512 total time=   1.4s\n",
      "[CV 2/5; 17/100] START bootstrap=True, ccp_alpha=0.00013, class_weight={1: 0.56, 0: 0.44}, criterion=entropy, max_depth=20, min_samples_leaf=10, min_samples_split=8, n_estimators=300\n",
      "[CV 2/5; 17/100] END bootstrap=True, ccp_alpha=0.00013, class_weight={1: 0.56, 0: 0.44}, criterion=entropy, max_depth=20, min_samples_leaf=10, min_samples_split=8, n_estimators=300;, score=0.578 total time=   1.2s\n",
      "[CV 3/5; 17/100] START bootstrap=True, ccp_alpha=0.00013, class_weight={1: 0.56, 0: 0.44}, criterion=entropy, max_depth=20, min_samples_leaf=10, min_samples_split=8, n_estimators=300\n",
      "[CV 3/5; 17/100] END bootstrap=True, ccp_alpha=0.00013, class_weight={1: 0.56, 0: 0.44}, criterion=entropy, max_depth=20, min_samples_leaf=10, min_samples_split=8, n_estimators=300;, score=0.480 total time=   1.0s\n",
      "[CV 4/5; 17/100] START bootstrap=True, ccp_alpha=0.00013, class_weight={1: 0.56, 0: 0.44}, criterion=entropy, max_depth=20, min_samples_leaf=10, min_samples_split=8, n_estimators=300\n",
      "[CV 4/5; 17/100] END bootstrap=True, ccp_alpha=0.00013, class_weight={1: 0.56, 0: 0.44}, criterion=entropy, max_depth=20, min_samples_leaf=10, min_samples_split=8, n_estimators=300;, score=0.546 total time=   1.2s\n",
      "[CV 5/5; 17/100] START bootstrap=True, ccp_alpha=0.00013, class_weight={1: 0.56, 0: 0.44}, criterion=entropy, max_depth=20, min_samples_leaf=10, min_samples_split=8, n_estimators=300\n",
      "[CV 5/5; 17/100] END bootstrap=True, ccp_alpha=0.00013, class_weight={1: 0.56, 0: 0.44}, criterion=entropy, max_depth=20, min_samples_leaf=10, min_samples_split=8, n_estimators=300;, score=0.659 total time=   1.0s\n",
      "[CV 1/5; 18/100] START bootstrap=True, ccp_alpha=1.3e-06, class_weight=balanced, criterion=gini, max_depth=15, min_samples_leaf=30, min_samples_split=20, n_estimators=100\n",
      "[CV 1/5; 18/100] END bootstrap=True, ccp_alpha=1.3e-06, class_weight=balanced, criterion=gini, max_depth=15, min_samples_leaf=30, min_samples_split=20, n_estimators=100;, score=0.593 total time=   0.3s\n",
      "[CV 2/5; 18/100] START bootstrap=True, ccp_alpha=1.3e-06, class_weight=balanced, criterion=gini, max_depth=15, min_samples_leaf=30, min_samples_split=20, n_estimators=100\n"
     ]
    },
    {
     "name": "stdout",
     "output_type": "stream",
     "text": [
      "[CV 2/5; 18/100] END bootstrap=True, ccp_alpha=1.3e-06, class_weight=balanced, criterion=gini, max_depth=15, min_samples_leaf=30, min_samples_split=20, n_estimators=100;, score=0.546 total time=   0.3s\n",
      "[CV 3/5; 18/100] START bootstrap=True, ccp_alpha=1.3e-06, class_weight=balanced, criterion=gini, max_depth=15, min_samples_leaf=30, min_samples_split=20, n_estimators=100\n",
      "[CV 3/5; 18/100] END bootstrap=True, ccp_alpha=1.3e-06, class_weight=balanced, criterion=gini, max_depth=15, min_samples_leaf=30, min_samples_split=20, n_estimators=100;, score=0.542 total time=   0.3s\n",
      "[CV 4/5; 18/100] START bootstrap=True, ccp_alpha=1.3e-06, class_weight=balanced, criterion=gini, max_depth=15, min_samples_leaf=30, min_samples_split=20, n_estimators=100\n",
      "[CV 4/5; 18/100] END bootstrap=True, ccp_alpha=1.3e-06, class_weight=balanced, criterion=gini, max_depth=15, min_samples_leaf=30, min_samples_split=20, n_estimators=100;, score=0.627 total time=   0.4s\n",
      "[CV 5/5; 18/100] START bootstrap=True, ccp_alpha=1.3e-06, class_weight=balanced, criterion=gini, max_depth=15, min_samples_leaf=30, min_samples_split=20, n_estimators=100\n",
      "[CV 5/5; 18/100] END bootstrap=True, ccp_alpha=1.3e-06, class_weight=balanced, criterion=gini, max_depth=15, min_samples_leaf=30, min_samples_split=20, n_estimators=100;, score=0.671 total time=   0.4s\n",
      "[CV 1/5; 19/100] START bootstrap=True, ccp_alpha=0.1, class_weight={1: 0.56, 0: 0.44}, criterion=entropy, max_depth=3, min_samples_leaf=10, min_samples_split=10, n_estimators=500\n",
      "[CV 1/5; 19/100] END bootstrap=True, ccp_alpha=0.1, class_weight={1: 0.56, 0: 0.44}, criterion=entropy, max_depth=3, min_samples_leaf=10, min_samples_split=10, n_estimators=500;, score=0.500 total time=   1.7s\n",
      "[CV 2/5; 19/100] START bootstrap=True, ccp_alpha=0.1, class_weight={1: 0.56, 0: 0.44}, criterion=entropy, max_depth=3, min_samples_leaf=10, min_samples_split=10, n_estimators=500\n",
      "[CV 2/5; 19/100] END bootstrap=True, ccp_alpha=0.1, class_weight={1: 0.56, 0: 0.44}, criterion=entropy, max_depth=3, min_samples_leaf=10, min_samples_split=10, n_estimators=500;, score=0.500 total time=   2.0s\n",
      "[CV 3/5; 19/100] START bootstrap=True, ccp_alpha=0.1, class_weight={1: 0.56, 0: 0.44}, criterion=entropy, max_depth=3, min_samples_leaf=10, min_samples_split=10, n_estimators=500\n",
      "[CV 3/5; 19/100] END bootstrap=True, ccp_alpha=0.1, class_weight={1: 0.56, 0: 0.44}, criterion=entropy, max_depth=3, min_samples_leaf=10, min_samples_split=10, n_estimators=500;, score=0.500 total time=   1.8s\n",
      "[CV 4/5; 19/100] START bootstrap=True, ccp_alpha=0.1, class_weight={1: 0.56, 0: 0.44}, criterion=entropy, max_depth=3, min_samples_leaf=10, min_samples_split=10, n_estimators=500\n",
      "[CV 4/5; 19/100] END bootstrap=True, ccp_alpha=0.1, class_weight={1: 0.56, 0: 0.44}, criterion=entropy, max_depth=3, min_samples_leaf=10, min_samples_split=10, n_estimators=500;, score=0.500 total time=   1.9s\n",
      "[CV 5/5; 19/100] START bootstrap=True, ccp_alpha=0.1, class_weight={1: 0.56, 0: 0.44}, criterion=entropy, max_depth=3, min_samples_leaf=10, min_samples_split=10, n_estimators=500\n",
      "[CV 5/5; 19/100] END bootstrap=True, ccp_alpha=0.1, class_weight={1: 0.56, 0: 0.44}, criterion=entropy, max_depth=3, min_samples_leaf=10, min_samples_split=10, n_estimators=500;, score=0.500 total time=   1.9s\n",
      "[CV 1/5; 20/100] START bootstrap=False, ccp_alpha=0.0001, class_weight=balanced_subsample, criterion=gini, max_depth=12, min_samples_leaf=10, min_samples_split=20, n_estimators=100\n",
      "[CV 1/5; 20/100] END bootstrap=False, ccp_alpha=0.0001, class_weight=balanced_subsample, criterion=gini, max_depth=12, min_samples_leaf=10, min_samples_split=20, n_estimators=100;, score=0.558 total time=   0.3s\n",
      "[CV 2/5; 20/100] START bootstrap=False, ccp_alpha=0.0001, class_weight=balanced_subsample, criterion=gini, max_depth=12, min_samples_leaf=10, min_samples_split=20, n_estimators=100\n",
      "[CV 2/5; 20/100] END bootstrap=False, ccp_alpha=0.0001, class_weight=balanced_subsample, criterion=gini, max_depth=12, min_samples_leaf=10, min_samples_split=20, n_estimators=100;, score=0.630 total time=   0.4s\n",
      "[CV 3/5; 20/100] START bootstrap=False, ccp_alpha=0.0001, class_weight=balanced_subsample, criterion=gini, max_depth=12, min_samples_leaf=10, min_samples_split=20, n_estimators=100\n",
      "[CV 3/5; 20/100] END bootstrap=False, ccp_alpha=0.0001, class_weight=balanced_subsample, criterion=gini, max_depth=12, min_samples_leaf=10, min_samples_split=20, n_estimators=100;, score=0.517 total time=   0.4s\n",
      "[CV 4/5; 20/100] START bootstrap=False, ccp_alpha=0.0001, class_weight=balanced_subsample, criterion=gini, max_depth=12, min_samples_leaf=10, min_samples_split=20, n_estimators=100\n",
      "[CV 4/5; 20/100] END bootstrap=False, ccp_alpha=0.0001, class_weight=balanced_subsample, criterion=gini, max_depth=12, min_samples_leaf=10, min_samples_split=20, n_estimators=100;, score=0.558 total time=   0.4s\n",
      "[CV 5/5; 20/100] START bootstrap=False, ccp_alpha=0.0001, class_weight=balanced_subsample, criterion=gini, max_depth=12, min_samples_leaf=10, min_samples_split=20, n_estimators=100\n",
      "[CV 5/5; 20/100] END bootstrap=False, ccp_alpha=0.0001, class_weight=balanced_subsample, criterion=gini, max_depth=12, min_samples_leaf=10, min_samples_split=20, n_estimators=100;, score=0.626 total time=   0.4s\n",
      "[CV 1/5; 21/100] START bootstrap=False, ccp_alpha=0.001, class_weight=balanced, criterion=gini, max_depth=8, min_samples_leaf=30, min_samples_split=5, n_estimators=250\n",
      "[CV 1/5; 21/100] END bootstrap=False, ccp_alpha=0.001, class_weight=balanced, criterion=gini, max_depth=8, min_samples_leaf=30, min_samples_split=5, n_estimators=250;, score=0.624 total time=   0.9s\n",
      "[CV 2/5; 21/100] START bootstrap=False, ccp_alpha=0.001, class_weight=balanced, criterion=gini, max_depth=8, min_samples_leaf=30, min_samples_split=5, n_estimators=250\n",
      "[CV 2/5; 21/100] END bootstrap=False, ccp_alpha=0.001, class_weight=balanced, criterion=gini, max_depth=8, min_samples_leaf=30, min_samples_split=5, n_estimators=250;, score=0.583 total time=   0.9s\n",
      "[CV 3/5; 21/100] START bootstrap=False, ccp_alpha=0.001, class_weight=balanced, criterion=gini, max_depth=8, min_samples_leaf=30, min_samples_split=5, n_estimators=250\n",
      "[CV 3/5; 21/100] END bootstrap=False, ccp_alpha=0.001, class_weight=balanced, criterion=gini, max_depth=8, min_samples_leaf=30, min_samples_split=5, n_estimators=250;, score=0.517 total time=   0.8s\n",
      "[CV 4/5; 21/100] START bootstrap=False, ccp_alpha=0.001, class_weight=balanced, criterion=gini, max_depth=8, min_samples_leaf=30, min_samples_split=5, n_estimators=250\n",
      "[CV 4/5; 21/100] END bootstrap=False, ccp_alpha=0.001, class_weight=balanced, criterion=gini, max_depth=8, min_samples_leaf=30, min_samples_split=5, n_estimators=250;, score=0.586 total time=   0.8s\n",
      "[CV 5/5; 21/100] START bootstrap=False, ccp_alpha=0.001, class_weight=balanced, criterion=gini, max_depth=8, min_samples_leaf=30, min_samples_split=5, n_estimators=250\n",
      "[CV 5/5; 21/100] END bootstrap=False, ccp_alpha=0.001, class_weight=balanced, criterion=gini, max_depth=8, min_samples_leaf=30, min_samples_split=5, n_estimators=250;, score=0.677 total time=   0.9s\n",
      "[CV 1/5; 22/100] START bootstrap=False, ccp_alpha=0.00013, class_weight={1: 0.56, 0: 0.44}, criterion=gini, max_depth=3, min_samples_leaf=15, min_samples_split=15, n_estimators=200\n",
      "[CV 1/5; 22/100] END bootstrap=False, ccp_alpha=0.00013, class_weight={1: 0.56, 0: 0.44}, criterion=gini, max_depth=3, min_samples_leaf=15, min_samples_split=15, n_estimators=200;, score=0.506 total time=   0.6s\n",
      "[CV 2/5; 22/100] START bootstrap=False, ccp_alpha=0.00013, class_weight={1: 0.56, 0: 0.44}, criterion=gini, max_depth=3, min_samples_leaf=15, min_samples_split=15, n_estimators=200\n",
      "[CV 2/5; 22/100] END bootstrap=False, ccp_alpha=0.00013, class_weight={1: 0.56, 0: 0.44}, criterion=gini, max_depth=3, min_samples_leaf=15, min_samples_split=15, n_estimators=200;, score=0.537 total time=   0.6s\n",
      "[CV 3/5; 22/100] START bootstrap=False, ccp_alpha=0.00013, class_weight={1: 0.56, 0: 0.44}, criterion=gini, max_depth=3, min_samples_leaf=15, min_samples_split=15, n_estimators=200\n",
      "[CV 3/5; 22/100] END bootstrap=False, ccp_alpha=0.00013, class_weight={1: 0.56, 0: 0.44}, criterion=gini, max_depth=3, min_samples_leaf=15, min_samples_split=15, n_estimators=200;, score=0.518 total time=   0.7s\n",
      "[CV 4/5; 22/100] START bootstrap=False, ccp_alpha=0.00013, class_weight={1: 0.56, 0: 0.44}, criterion=gini, max_depth=3, min_samples_leaf=15, min_samples_split=15, n_estimators=200\n"
     ]
    },
    {
     "name": "stdout",
     "output_type": "stream",
     "text": [
      "[CV 4/5; 22/100] END bootstrap=False, ccp_alpha=0.00013, class_weight={1: 0.56, 0: 0.44}, criterion=gini, max_depth=3, min_samples_leaf=15, min_samples_split=15, n_estimators=200;, score=0.578 total time=   1.0s\n",
      "[CV 5/5; 22/100] START bootstrap=False, ccp_alpha=0.00013, class_weight={1: 0.56, 0: 0.44}, criterion=gini, max_depth=3, min_samples_leaf=15, min_samples_split=15, n_estimators=200\n",
      "[CV 5/5; 22/100] END bootstrap=False, ccp_alpha=0.00013, class_weight={1: 0.56, 0: 0.44}, criterion=gini, max_depth=3, min_samples_leaf=15, min_samples_split=15, n_estimators=200;, score=0.584 total time=   0.6s\n",
      "[CV 1/5; 23/100] START bootstrap=False, ccp_alpha=0.1, class_weight=balanced_subsample, criterion=entropy, max_depth=20, min_samples_leaf=15, min_samples_split=10, n_estimators=200\n",
      "[CV 1/5; 23/100] END bootstrap=False, ccp_alpha=0.1, class_weight=balanced_subsample, criterion=entropy, max_depth=20, min_samples_leaf=15, min_samples_split=10, n_estimators=200;, score=0.500 total time=   0.6s\n",
      "[CV 2/5; 23/100] START bootstrap=False, ccp_alpha=0.1, class_weight=balanced_subsample, criterion=entropy, max_depth=20, min_samples_leaf=15, min_samples_split=10, n_estimators=200\n",
      "[CV 2/5; 23/100] END bootstrap=False, ccp_alpha=0.1, class_weight=balanced_subsample, criterion=entropy, max_depth=20, min_samples_leaf=15, min_samples_split=10, n_estimators=200;, score=0.500 total time=   0.7s\n",
      "[CV 3/5; 23/100] START bootstrap=False, ccp_alpha=0.1, class_weight=balanced_subsample, criterion=entropy, max_depth=20, min_samples_leaf=15, min_samples_split=10, n_estimators=200\n",
      "[CV 3/5; 23/100] END bootstrap=False, ccp_alpha=0.1, class_weight=balanced_subsample, criterion=entropy, max_depth=20, min_samples_leaf=15, min_samples_split=10, n_estimators=200;, score=0.500 total time=   0.6s\n",
      "[CV 4/5; 23/100] START bootstrap=False, ccp_alpha=0.1, class_weight=balanced_subsample, criterion=entropy, max_depth=20, min_samples_leaf=15, min_samples_split=10, n_estimators=200\n",
      "[CV 4/5; 23/100] END bootstrap=False, ccp_alpha=0.1, class_weight=balanced_subsample, criterion=entropy, max_depth=20, min_samples_leaf=15, min_samples_split=10, n_estimators=200;, score=0.500 total time=   0.7s\n",
      "[CV 5/5; 23/100] START bootstrap=False, ccp_alpha=0.1, class_weight=balanced_subsample, criterion=entropy, max_depth=20, min_samples_leaf=15, min_samples_split=10, n_estimators=200\n",
      "[CV 5/5; 23/100] END bootstrap=False, ccp_alpha=0.1, class_weight=balanced_subsample, criterion=entropy, max_depth=20, min_samples_leaf=15, min_samples_split=10, n_estimators=200;, score=0.500 total time=   0.7s\n",
      "[CV 1/5; 24/100] START bootstrap=False, ccp_alpha=0.0003, class_weight={1: 0.56, 0: 0.44}, criterion=entropy, max_depth=10, min_samples_leaf=15, min_samples_split=13, n_estimators=200\n",
      "[CV 1/5; 24/100] END bootstrap=False, ccp_alpha=0.0003, class_weight={1: 0.56, 0: 0.44}, criterion=entropy, max_depth=10, min_samples_leaf=15, min_samples_split=13, n_estimators=200;, score=0.487 total time=   0.8s\n",
      "[CV 2/5; 24/100] START bootstrap=False, ccp_alpha=0.0003, class_weight={1: 0.56, 0: 0.44}, criterion=entropy, max_depth=10, min_samples_leaf=15, min_samples_split=13, n_estimators=200\n",
      "[CV 2/5; 24/100] END bootstrap=False, ccp_alpha=0.0003, class_weight={1: 0.56, 0: 0.44}, criterion=entropy, max_depth=10, min_samples_leaf=15, min_samples_split=13, n_estimators=200;, score=0.556 total time=   0.6s\n",
      "[CV 3/5; 24/100] START bootstrap=False, ccp_alpha=0.0003, class_weight={1: 0.56, 0: 0.44}, criterion=entropy, max_depth=10, min_samples_leaf=15, min_samples_split=13, n_estimators=200\n",
      "[CV 3/5; 24/100] END bootstrap=False, ccp_alpha=0.0003, class_weight={1: 0.56, 0: 0.44}, criterion=entropy, max_depth=10, min_samples_leaf=15, min_samples_split=13, n_estimators=200;, score=0.480 total time=   0.8s\n",
      "[CV 4/5; 24/100] START bootstrap=False, ccp_alpha=0.0003, class_weight={1: 0.56, 0: 0.44}, criterion=entropy, max_depth=10, min_samples_leaf=15, min_samples_split=13, n_estimators=200\n",
      "[CV 4/5; 24/100] END bootstrap=False, ccp_alpha=0.0003, class_weight={1: 0.56, 0: 0.44}, criterion=entropy, max_depth=10, min_samples_leaf=15, min_samples_split=13, n_estimators=200;, score=0.568 total time=   0.6s\n",
      "[CV 5/5; 24/100] START bootstrap=False, ccp_alpha=0.0003, class_weight={1: 0.56, 0: 0.44}, criterion=entropy, max_depth=10, min_samples_leaf=15, min_samples_split=13, n_estimators=200\n",
      "[CV 5/5; 24/100] END bootstrap=False, ccp_alpha=0.0003, class_weight={1: 0.56, 0: 0.44}, criterion=entropy, max_depth=10, min_samples_leaf=15, min_samples_split=13, n_estimators=200;, score=0.671 total time=   0.8s\n",
      "[CV 1/5; 25/100] START bootstrap=False, ccp_alpha=0.00013, class_weight=balanced, criterion=entropy, max_depth=20, min_samples_leaf=40, min_samples_split=15, n_estimators=150\n",
      "[CV 1/5; 25/100] END bootstrap=False, ccp_alpha=0.00013, class_weight=balanced, criterion=entropy, max_depth=20, min_samples_leaf=40, min_samples_split=15, n_estimators=150;, score=0.618 total time=   0.5s\n",
      "[CV 2/5; 25/100] START bootstrap=False, ccp_alpha=0.00013, class_weight=balanced, criterion=entropy, max_depth=20, min_samples_leaf=40, min_samples_split=15, n_estimators=150\n",
      "[CV 2/5; 25/100] END bootstrap=False, ccp_alpha=0.00013, class_weight=balanced, criterion=entropy, max_depth=20, min_samples_leaf=40, min_samples_split=15, n_estimators=150;, score=0.630 total time=   0.5s\n",
      "[CV 3/5; 25/100] START bootstrap=False, ccp_alpha=0.00013, class_weight=balanced, criterion=entropy, max_depth=20, min_samples_leaf=40, min_samples_split=15, n_estimators=150\n",
      "[CV 3/5; 25/100] END bootstrap=False, ccp_alpha=0.00013, class_weight=balanced, criterion=entropy, max_depth=20, min_samples_leaf=40, min_samples_split=15, n_estimators=150;, score=0.530 total time=   0.5s\n",
      "[CV 4/5; 25/100] START bootstrap=False, ccp_alpha=0.00013, class_weight=balanced, criterion=entropy, max_depth=20, min_samples_leaf=40, min_samples_split=15, n_estimators=150\n",
      "[CV 4/5; 25/100] END bootstrap=False, ccp_alpha=0.00013, class_weight=balanced, criterion=entropy, max_depth=20, min_samples_leaf=40, min_samples_split=15, n_estimators=150;, score=0.577 total time=   0.5s\n",
      "[CV 5/5; 25/100] START bootstrap=False, ccp_alpha=0.00013, class_weight=balanced, criterion=entropy, max_depth=20, min_samples_leaf=40, min_samples_split=15, n_estimators=150\n",
      "[CV 5/5; 25/100] END bootstrap=False, ccp_alpha=0.00013, class_weight=balanced, criterion=entropy, max_depth=20, min_samples_leaf=40, min_samples_split=15, n_estimators=150;, score=0.661 total time=   0.5s\n",
      "[CV 1/5; 26/100] START bootstrap=True, ccp_alpha=0.1, class_weight=balanced, criterion=entropy, max_depth=10, min_samples_leaf=40, min_samples_split=10, n_estimators=250\n",
      "[CV 1/5; 26/100] END bootstrap=True, ccp_alpha=0.1, class_weight=balanced, criterion=entropy, max_depth=10, min_samples_leaf=40, min_samples_split=10, n_estimators=250;, score=0.500 total time=   0.9s\n",
      "[CV 2/5; 26/100] START bootstrap=True, ccp_alpha=0.1, class_weight=balanced, criterion=entropy, max_depth=10, min_samples_leaf=40, min_samples_split=10, n_estimators=250\n",
      "[CV 2/5; 26/100] END bootstrap=True, ccp_alpha=0.1, class_weight=balanced, criterion=entropy, max_depth=10, min_samples_leaf=40, min_samples_split=10, n_estimators=250;, score=0.617 total time=   0.8s\n",
      "[CV 3/5; 26/100] START bootstrap=True, ccp_alpha=0.1, class_weight=balanced, criterion=entropy, max_depth=10, min_samples_leaf=40, min_samples_split=10, n_estimators=250\n",
      "[CV 3/5; 26/100] END bootstrap=True, ccp_alpha=0.1, class_weight=balanced, criterion=entropy, max_depth=10, min_samples_leaf=40, min_samples_split=10, n_estimators=250;, score=0.548 total time=   0.9s\n",
      "[CV 4/5; 26/100] START bootstrap=True, ccp_alpha=0.1, class_weight=balanced, criterion=entropy, max_depth=10, min_samples_leaf=40, min_samples_split=10, n_estimators=250\n",
      "[CV 4/5; 26/100] END bootstrap=True, ccp_alpha=0.1, class_weight=balanced, criterion=entropy, max_depth=10, min_samples_leaf=40, min_samples_split=10, n_estimators=250;, score=0.617 total time=   1.0s\n",
      "[CV 5/5; 26/100] START bootstrap=True, ccp_alpha=0.1, class_weight=balanced, criterion=entropy, max_depth=10, min_samples_leaf=40, min_samples_split=10, n_estimators=250\n",
      "[CV 5/5; 26/100] END bootstrap=True, ccp_alpha=0.1, class_weight=balanced, criterion=entropy, max_depth=10, min_samples_leaf=40, min_samples_split=10, n_estimators=250;, score=0.500 total time=   1.0s\n",
      "[CV 1/5; 27/100] START bootstrap=False, ccp_alpha=0.0003, class_weight=balanced_subsample, criterion=gini, max_depth=5, min_samples_leaf=20, min_samples_split=20, n_estimators=300\n"
     ]
    },
    {
     "name": "stdout",
     "output_type": "stream",
     "text": [
      "[CV 1/5; 27/100] END bootstrap=False, ccp_alpha=0.0003, class_weight=balanced_subsample, criterion=gini, max_depth=5, min_samples_leaf=20, min_samples_split=20, n_estimators=300;, score=0.618 total time=   0.8s\n",
      "[CV 2/5; 27/100] START bootstrap=False, ccp_alpha=0.0003, class_weight=balanced_subsample, criterion=gini, max_depth=5, min_samples_leaf=20, min_samples_split=20, n_estimators=300\n",
      "[CV 2/5; 27/100] END bootstrap=False, ccp_alpha=0.0003, class_weight=balanced_subsample, criterion=gini, max_depth=5, min_samples_leaf=20, min_samples_split=20, n_estimators=300;, score=0.589 total time=   1.0s\n",
      "[CV 3/5; 27/100] START bootstrap=False, ccp_alpha=0.0003, class_weight=balanced_subsample, criterion=gini, max_depth=5, min_samples_leaf=20, min_samples_split=20, n_estimators=300\n",
      "[CV 3/5; 27/100] END bootstrap=False, ccp_alpha=0.0003, class_weight=balanced_subsample, criterion=gini, max_depth=5, min_samples_leaf=20, min_samples_split=20, n_estimators=300;, score=0.530 total time=   1.2s\n",
      "[CV 4/5; 27/100] START bootstrap=False, ccp_alpha=0.0003, class_weight=balanced_subsample, criterion=gini, max_depth=5, min_samples_leaf=20, min_samples_split=20, n_estimators=300\n",
      "[CV 4/5; 27/100] END bootstrap=False, ccp_alpha=0.0003, class_weight=balanced_subsample, criterion=gini, max_depth=5, min_samples_leaf=20, min_samples_split=20, n_estimators=300;, score=0.577 total time=   0.9s\n",
      "[CV 5/5; 27/100] START bootstrap=False, ccp_alpha=0.0003, class_weight=balanced_subsample, criterion=gini, max_depth=5, min_samples_leaf=20, min_samples_split=20, n_estimators=300\n",
      "[CV 5/5; 27/100] END bootstrap=False, ccp_alpha=0.0003, class_weight=balanced_subsample, criterion=gini, max_depth=5, min_samples_leaf=20, min_samples_split=20, n_estimators=300;, score=0.652 total time=   1.2s\n",
      "[CV 1/5; 28/100] START bootstrap=True, ccp_alpha=1.3e-06, class_weight=balanced, criterion=entropy, max_depth=5, min_samples_leaf=25, min_samples_split=20, n_estimators=200\n",
      "[CV 1/5; 28/100] END bootstrap=True, ccp_alpha=1.3e-06, class_weight=balanced, criterion=entropy, max_depth=5, min_samples_leaf=25, min_samples_split=20, n_estimators=200;, score=0.583 total time=   0.8s\n",
      "[CV 2/5; 28/100] START bootstrap=True, ccp_alpha=1.3e-06, class_weight=balanced, criterion=entropy, max_depth=5, min_samples_leaf=25, min_samples_split=20, n_estimators=200\n",
      "[CV 2/5; 28/100] END bootstrap=True, ccp_alpha=1.3e-06, class_weight=balanced, criterion=entropy, max_depth=5, min_samples_leaf=25, min_samples_split=20, n_estimators=200;, score=0.571 total time=   0.6s\n",
      "[CV 3/5; 28/100] START bootstrap=True, ccp_alpha=1.3e-06, class_weight=balanced, criterion=entropy, max_depth=5, min_samples_leaf=25, min_samples_split=20, n_estimators=200\n",
      "[CV 3/5; 28/100] END bootstrap=True, ccp_alpha=1.3e-06, class_weight=balanced, criterion=entropy, max_depth=5, min_samples_leaf=25, min_samples_split=20, n_estimators=200;, score=0.542 total time=   0.7s\n",
      "[CV 4/5; 28/100] START bootstrap=True, ccp_alpha=1.3e-06, class_weight=balanced, criterion=entropy, max_depth=5, min_samples_leaf=25, min_samples_split=20, n_estimators=200\n",
      "[CV 4/5; 28/100] END bootstrap=True, ccp_alpha=1.3e-06, class_weight=balanced, criterion=entropy, max_depth=5, min_samples_leaf=25, min_samples_split=20, n_estimators=200;, score=0.602 total time=   0.7s\n",
      "[CV 5/5; 28/100] START bootstrap=True, ccp_alpha=1.3e-06, class_weight=balanced, criterion=entropy, max_depth=5, min_samples_leaf=25, min_samples_split=20, n_estimators=200\n",
      "[CV 5/5; 28/100] END bootstrap=True, ccp_alpha=1.3e-06, class_weight=balanced, criterion=entropy, max_depth=5, min_samples_leaf=25, min_samples_split=20, n_estimators=200;, score=0.671 total time=   0.8s\n",
      "[CV 1/5; 29/100] START bootstrap=False, ccp_alpha=0.00013, class_weight=balanced, criterion=entropy, max_depth=12, min_samples_leaf=25, min_samples_split=15, n_estimators=500\n",
      "[CV 1/5; 29/100] END bootstrap=False, ccp_alpha=0.00013, class_weight=balanced, criterion=entropy, max_depth=12, min_samples_leaf=25, min_samples_split=15, n_estimators=500;, score=0.612 total time=   1.6s\n",
      "[CV 2/5; 29/100] START bootstrap=False, ccp_alpha=0.00013, class_weight=balanced, criterion=entropy, max_depth=12, min_samples_leaf=25, min_samples_split=15, n_estimators=500\n",
      "[CV 2/5; 29/100] END bootstrap=False, ccp_alpha=0.00013, class_weight=balanced, criterion=entropy, max_depth=12, min_samples_leaf=25, min_samples_split=15, n_estimators=500;, score=0.630 total time=   1.8s\n",
      "[CV 3/5; 29/100] START bootstrap=False, ccp_alpha=0.00013, class_weight=balanced, criterion=entropy, max_depth=12, min_samples_leaf=25, min_samples_split=15, n_estimators=500\n",
      "[CV 3/5; 29/100] END bootstrap=False, ccp_alpha=0.00013, class_weight=balanced, criterion=entropy, max_depth=12, min_samples_leaf=25, min_samples_split=15, n_estimators=500;, score=0.517 total time=   1.6s\n",
      "[CV 4/5; 29/100] START bootstrap=False, ccp_alpha=0.00013, class_weight=balanced, criterion=entropy, max_depth=12, min_samples_leaf=25, min_samples_split=15, n_estimators=500\n",
      "[CV 4/5; 29/100] END bootstrap=False, ccp_alpha=0.00013, class_weight=balanced, criterion=entropy, max_depth=12, min_samples_leaf=25, min_samples_split=15, n_estimators=500;, score=0.564 total time=   1.8s\n",
      "[CV 5/5; 29/100] START bootstrap=False, ccp_alpha=0.00013, class_weight=balanced, criterion=entropy, max_depth=12, min_samples_leaf=25, min_samples_split=15, n_estimators=500\n",
      "[CV 5/5; 29/100] END bootstrap=False, ccp_alpha=0.00013, class_weight=balanced, criterion=entropy, max_depth=12, min_samples_leaf=25, min_samples_split=15, n_estimators=500;, score=0.646 total time=   1.7s\n",
      "[CV 1/5; 30/100] START bootstrap=False, ccp_alpha=0.1, class_weight=balanced_subsample, criterion=entropy, max_depth=20, min_samples_leaf=40, min_samples_split=13, n_estimators=250\n",
      "[CV 1/5; 30/100] END bootstrap=False, ccp_alpha=0.1, class_weight=balanced_subsample, criterion=entropy, max_depth=20, min_samples_leaf=40, min_samples_split=13, n_estimators=250;, score=0.500 total time=   0.9s\n",
      "[CV 2/5; 30/100] START bootstrap=False, ccp_alpha=0.1, class_weight=balanced_subsample, criterion=entropy, max_depth=20, min_samples_leaf=40, min_samples_split=13, n_estimators=250\n",
      "[CV 2/5; 30/100] END bootstrap=False, ccp_alpha=0.1, class_weight=balanced_subsample, criterion=entropy, max_depth=20, min_samples_leaf=40, min_samples_split=13, n_estimators=250;, score=0.500 total time=   0.7s\n",
      "[CV 3/5; 30/100] START bootstrap=False, ccp_alpha=0.1, class_weight=balanced_subsample, criterion=entropy, max_depth=20, min_samples_leaf=40, min_samples_split=13, n_estimators=250\n",
      "[CV 3/5; 30/100] END bootstrap=False, ccp_alpha=0.1, class_weight=balanced_subsample, criterion=entropy, max_depth=20, min_samples_leaf=40, min_samples_split=13, n_estimators=250;, score=0.500 total time=   0.7s\n",
      "[CV 4/5; 30/100] START bootstrap=False, ccp_alpha=0.1, class_weight=balanced_subsample, criterion=entropy, max_depth=20, min_samples_leaf=40, min_samples_split=13, n_estimators=250\n",
      "[CV 4/5; 30/100] END bootstrap=False, ccp_alpha=0.1, class_weight=balanced_subsample, criterion=entropy, max_depth=20, min_samples_leaf=40, min_samples_split=13, n_estimators=250;, score=0.500 total time=   0.8s\n",
      "[CV 5/5; 30/100] START bootstrap=False, ccp_alpha=0.1, class_weight=balanced_subsample, criterion=entropy, max_depth=20, min_samples_leaf=40, min_samples_split=13, n_estimators=250\n",
      "[CV 5/5; 30/100] END bootstrap=False, ccp_alpha=0.1, class_weight=balanced_subsample, criterion=entropy, max_depth=20, min_samples_leaf=40, min_samples_split=13, n_estimators=250;, score=0.500 total time=   0.7s\n",
      "[CV 1/5; 31/100] START bootstrap=False, ccp_alpha=0.0003, class_weight=balanced, criterion=entropy, max_depth=12, min_samples_leaf=30, min_samples_split=13, n_estimators=250\n",
      "[CV 1/5; 31/100] END bootstrap=False, ccp_alpha=0.0003, class_weight=balanced, criterion=entropy, max_depth=12, min_samples_leaf=30, min_samples_split=13, n_estimators=250;, score=0.627 total time=   0.7s\n",
      "[CV 2/5; 31/100] START bootstrap=False, ccp_alpha=0.0003, class_weight=balanced, criterion=entropy, max_depth=12, min_samples_leaf=30, min_samples_split=13, n_estimators=250\n",
      "[CV 2/5; 31/100] END bootstrap=False, ccp_alpha=0.0003, class_weight=balanced, criterion=entropy, max_depth=12, min_samples_leaf=30, min_samples_split=13, n_estimators=250;, score=0.583 total time=   0.9s\n",
      "[CV 3/5; 31/100] START bootstrap=False, ccp_alpha=0.0003, class_weight=balanced, criterion=entropy, max_depth=12, min_samples_leaf=30, min_samples_split=13, n_estimators=250\n"
     ]
    },
    {
     "name": "stdout",
     "output_type": "stream",
     "text": [
      "[CV 3/5; 31/100] END bootstrap=False, ccp_alpha=0.0003, class_weight=balanced, criterion=entropy, max_depth=12, min_samples_leaf=30, min_samples_split=13, n_estimators=250;, score=0.517 total time=   1.0s\n",
      "[CV 4/5; 31/100] START bootstrap=False, ccp_alpha=0.0003, class_weight=balanced, criterion=entropy, max_depth=12, min_samples_leaf=30, min_samples_split=13, n_estimators=250\n",
      "[CV 4/5; 31/100] END bootstrap=False, ccp_alpha=0.0003, class_weight=balanced, criterion=entropy, max_depth=12, min_samples_leaf=30, min_samples_split=13, n_estimators=250;, score=0.577 total time=   0.8s\n",
      "[CV 5/5; 31/100] START bootstrap=False, ccp_alpha=0.0003, class_weight=balanced, criterion=entropy, max_depth=12, min_samples_leaf=30, min_samples_split=13, n_estimators=250\n",
      "[CV 5/5; 31/100] END bootstrap=False, ccp_alpha=0.0003, class_weight=balanced, criterion=entropy, max_depth=12, min_samples_leaf=30, min_samples_split=13, n_estimators=250;, score=0.667 total time=   0.9s\n",
      "[CV 1/5; 32/100] START bootstrap=True, ccp_alpha=1.3e-06, class_weight={1: 0.56, 0: 0.44}, criterion=gini, max_depth=5, min_samples_leaf=30, min_samples_split=13, n_estimators=300\n",
      "[CV 1/5; 32/100] END bootstrap=True, ccp_alpha=1.3e-06, class_weight={1: 0.56, 0: 0.44}, criterion=gini, max_depth=5, min_samples_leaf=30, min_samples_split=13, n_estimators=300;, score=0.572 total time=   1.0s\n",
      "[CV 2/5; 32/100] START bootstrap=True, ccp_alpha=1.3e-06, class_weight={1: 0.56, 0: 0.44}, criterion=gini, max_depth=5, min_samples_leaf=30, min_samples_split=13, n_estimators=300\n",
      "[CV 2/5; 32/100] END bootstrap=True, ccp_alpha=1.3e-06, class_weight={1: 0.56, 0: 0.44}, criterion=gini, max_depth=5, min_samples_leaf=30, min_samples_split=13, n_estimators=300;, score=0.546 total time=   1.1s\n",
      "[CV 3/5; 32/100] START bootstrap=True, ccp_alpha=1.3e-06, class_weight={1: 0.56, 0: 0.44}, criterion=gini, max_depth=5, min_samples_leaf=30, min_samples_split=13, n_estimators=300\n",
      "[CV 3/5; 32/100] END bootstrap=True, ccp_alpha=1.3e-06, class_weight={1: 0.56, 0: 0.44}, criterion=gini, max_depth=5, min_samples_leaf=30, min_samples_split=13, n_estimators=300;, score=0.509 total time=   1.0s\n",
      "[CV 4/5; 32/100] START bootstrap=True, ccp_alpha=1.3e-06, class_weight={1: 0.56, 0: 0.44}, criterion=gini, max_depth=5, min_samples_leaf=30, min_samples_split=13, n_estimators=300\n",
      "[CV 4/5; 32/100] END bootstrap=True, ccp_alpha=1.3e-06, class_weight={1: 0.56, 0: 0.44}, criterion=gini, max_depth=5, min_samples_leaf=30, min_samples_split=13, n_estimators=300;, score=0.525 total time=   0.9s\n",
      "[CV 5/5; 32/100] START bootstrap=True, ccp_alpha=1.3e-06, class_weight={1: 0.56, 0: 0.44}, criterion=gini, max_depth=5, min_samples_leaf=30, min_samples_split=13, n_estimators=300\n",
      "[CV 5/5; 32/100] END bootstrap=True, ccp_alpha=1.3e-06, class_weight={1: 0.56, 0: 0.44}, criterion=gini, max_depth=5, min_samples_leaf=30, min_samples_split=13, n_estimators=300;, score=0.615 total time=   1.0s\n",
      "[CV 1/5; 33/100] START bootstrap=True, ccp_alpha=0.00013, class_weight={1: 0.56, 0: 0.44}, criterion=gini, max_depth=5, min_samples_leaf=25, min_samples_split=10, n_estimators=300\n",
      "[CV 1/5; 33/100] END bootstrap=True, ccp_alpha=0.00013, class_weight={1: 0.56, 0: 0.44}, criterion=gini, max_depth=5, min_samples_leaf=25, min_samples_split=10, n_estimators=300;, score=0.572 total time=   1.0s\n",
      "[CV 2/5; 33/100] START bootstrap=True, ccp_alpha=0.00013, class_weight={1: 0.56, 0: 0.44}, criterion=gini, max_depth=5, min_samples_leaf=25, min_samples_split=10, n_estimators=300\n",
      "[CV 2/5; 33/100] END bootstrap=True, ccp_alpha=0.00013, class_weight={1: 0.56, 0: 0.44}, criterion=gini, max_depth=5, min_samples_leaf=25, min_samples_split=10, n_estimators=300;, score=0.546 total time=   0.9s\n",
      "[CV 3/5; 33/100] START bootstrap=True, ccp_alpha=0.00013, class_weight={1: 0.56, 0: 0.44}, criterion=gini, max_depth=5, min_samples_leaf=25, min_samples_split=10, n_estimators=300\n",
      "[CV 3/5; 33/100] END bootstrap=True, ccp_alpha=0.00013, class_weight={1: 0.56, 0: 0.44}, criterion=gini, max_depth=5, min_samples_leaf=25, min_samples_split=10, n_estimators=300;, score=0.509 total time=   1.0s\n",
      "[CV 4/5; 33/100] START bootstrap=True, ccp_alpha=0.00013, class_weight={1: 0.56, 0: 0.44}, criterion=gini, max_depth=5, min_samples_leaf=25, min_samples_split=10, n_estimators=300\n",
      "[CV 4/5; 33/100] END bootstrap=True, ccp_alpha=0.00013, class_weight={1: 0.56, 0: 0.44}, criterion=gini, max_depth=5, min_samples_leaf=25, min_samples_split=10, n_estimators=300;, score=0.537 total time=   1.0s\n",
      "[CV 5/5; 33/100] START bootstrap=True, ccp_alpha=0.00013, class_weight={1: 0.56, 0: 0.44}, criterion=gini, max_depth=5, min_samples_leaf=25, min_samples_split=10, n_estimators=300\n",
      "[CV 5/5; 33/100] END bootstrap=True, ccp_alpha=0.00013, class_weight={1: 0.56, 0: 0.44}, criterion=gini, max_depth=5, min_samples_leaf=25, min_samples_split=10, n_estimators=300;, score=0.637 total time=   0.8s\n",
      "[CV 1/5; 34/100] START bootstrap=True, ccp_alpha=1.3e-06, class_weight=balanced, criterion=entropy, max_depth=20, min_samples_leaf=10, min_samples_split=13, n_estimators=200\n",
      "[CV 1/5; 34/100] END bootstrap=True, ccp_alpha=1.3e-06, class_weight=balanced, criterion=entropy, max_depth=20, min_samples_leaf=10, min_samples_split=13, n_estimators=200;, score=0.524 total time=   0.6s\n",
      "[CV 2/5; 34/100] START bootstrap=True, ccp_alpha=1.3e-06, class_weight=balanced, criterion=entropy, max_depth=20, min_samples_leaf=10, min_samples_split=13, n_estimators=200\n",
      "[CV 2/5; 34/100] END bootstrap=True, ccp_alpha=1.3e-06, class_weight=balanced, criterion=entropy, max_depth=20, min_samples_leaf=10, min_samples_split=13, n_estimators=200;, score=0.611 total time=   0.6s\n",
      "[CV 3/5; 34/100] START bootstrap=True, ccp_alpha=1.3e-06, class_weight=balanced, criterion=entropy, max_depth=20, min_samples_leaf=10, min_samples_split=13, n_estimators=200\n",
      "[CV 3/5; 34/100] END bootstrap=True, ccp_alpha=1.3e-06, class_weight=balanced, criterion=entropy, max_depth=20, min_samples_leaf=10, min_samples_split=13, n_estimators=200;, score=0.558 total time=   0.6s\n",
      "[CV 4/5; 34/100] START bootstrap=True, ccp_alpha=1.3e-06, class_weight=balanced, criterion=entropy, max_depth=20, min_samples_leaf=10, min_samples_split=13, n_estimators=200\n",
      "[CV 4/5; 34/100] END bootstrap=True, ccp_alpha=1.3e-06, class_weight=balanced, criterion=entropy, max_depth=20, min_samples_leaf=10, min_samples_split=13, n_estimators=200;, score=0.589 total time=   0.8s\n",
      "[CV 5/5; 34/100] START bootstrap=True, ccp_alpha=1.3e-06, class_weight=balanced, criterion=entropy, max_depth=20, min_samples_leaf=10, min_samples_split=13, n_estimators=200\n",
      "[CV 5/5; 34/100] END bootstrap=True, ccp_alpha=1.3e-06, class_weight=balanced, criterion=entropy, max_depth=20, min_samples_leaf=10, min_samples_split=13, n_estimators=200;, score=0.680 total time=   0.8s\n",
      "[CV 1/5; 35/100] START bootstrap=True, ccp_alpha=0.0001, class_weight=balanced_subsample, criterion=entropy, max_depth=20, min_samples_leaf=15, min_samples_split=8, n_estimators=200\n",
      "[CV 1/5; 35/100] END bootstrap=True, ccp_alpha=0.0001, class_weight=balanced_subsample, criterion=entropy, max_depth=20, min_samples_leaf=15, min_samples_split=8, n_estimators=200;, score=0.539 total time=   0.9s\n",
      "[CV 2/5; 35/100] START bootstrap=True, ccp_alpha=0.0001, class_weight=balanced_subsample, criterion=entropy, max_depth=20, min_samples_leaf=15, min_samples_split=8, n_estimators=200\n",
      "[CV 2/5; 35/100] END bootstrap=True, ccp_alpha=0.0001, class_weight=balanced_subsample, criterion=entropy, max_depth=20, min_samples_leaf=15, min_samples_split=8, n_estimators=200;, score=0.633 total time=   1.3s\n",
      "[CV 3/5; 35/100] START bootstrap=True, ccp_alpha=0.0001, class_weight=balanced_subsample, criterion=entropy, max_depth=20, min_samples_leaf=15, min_samples_split=8, n_estimators=200\n",
      "[CV 3/5; 35/100] END bootstrap=True, ccp_alpha=0.0001, class_weight=balanced_subsample, criterion=entropy, max_depth=20, min_samples_leaf=15, min_samples_split=8, n_estimators=200;, score=0.542 total time=   0.9s\n",
      "[CV 4/5; 35/100] START bootstrap=True, ccp_alpha=0.0001, class_weight=balanced_subsample, criterion=entropy, max_depth=20, min_samples_leaf=15, min_samples_split=8, n_estimators=200\n",
      "[CV 4/5; 35/100] END bootstrap=True, ccp_alpha=0.0001, class_weight=balanced_subsample, criterion=entropy, max_depth=20, min_samples_leaf=15, min_samples_split=8, n_estimators=200;, score=0.589 total time=   0.9s\n",
      "[CV 5/5; 35/100] START bootstrap=True, ccp_alpha=0.0001, class_weight=balanced_subsample, criterion=entropy, max_depth=20, min_samples_leaf=15, min_samples_split=8, n_estimators=200\n"
     ]
    },
    {
     "name": "stdout",
     "output_type": "stream",
     "text": [
      "[CV 5/5; 35/100] END bootstrap=True, ccp_alpha=0.0001, class_weight=balanced_subsample, criterion=entropy, max_depth=20, min_samples_leaf=15, min_samples_split=8, n_estimators=200;, score=0.686 total time=   1.0s\n",
      "[CV 1/5; 36/100] START bootstrap=False, ccp_alpha=0.0001, class_weight=balanced_subsample, criterion=entropy, max_depth=20, min_samples_leaf=15, min_samples_split=5, n_estimators=200\n",
      "[CV 1/5; 36/100] END bootstrap=False, ccp_alpha=0.0001, class_weight=balanced_subsample, criterion=entropy, max_depth=20, min_samples_leaf=15, min_samples_split=5, n_estimators=200;, score=0.568 total time=   0.7s\n",
      "[CV 2/5; 36/100] START bootstrap=False, ccp_alpha=0.0001, class_weight=balanced_subsample, criterion=entropy, max_depth=20, min_samples_leaf=15, min_samples_split=5, n_estimators=200\n",
      "[CV 2/5; 36/100] END bootstrap=False, ccp_alpha=0.0001, class_weight=balanced_subsample, criterion=entropy, max_depth=20, min_samples_leaf=15, min_samples_split=5, n_estimators=200;, score=0.630 total time=   0.7s\n",
      "[CV 3/5; 36/100] START bootstrap=False, ccp_alpha=0.0001, class_weight=balanced_subsample, criterion=entropy, max_depth=20, min_samples_leaf=15, min_samples_split=5, n_estimators=200\n",
      "[CV 3/5; 36/100] END bootstrap=False, ccp_alpha=0.0001, class_weight=balanced_subsample, criterion=entropy, max_depth=20, min_samples_leaf=15, min_samples_split=5, n_estimators=200;, score=0.505 total time=   0.6s\n",
      "[CV 4/5; 36/100] START bootstrap=False, ccp_alpha=0.0001, class_weight=balanced_subsample, criterion=entropy, max_depth=20, min_samples_leaf=15, min_samples_split=5, n_estimators=200\n",
      "[CV 4/5; 36/100] END bootstrap=False, ccp_alpha=0.0001, class_weight=balanced_subsample, criterion=entropy, max_depth=20, min_samples_leaf=15, min_samples_split=5, n_estimators=200;, score=0.564 total time=   0.6s\n",
      "[CV 5/5; 36/100] START bootstrap=False, ccp_alpha=0.0001, class_weight=balanced_subsample, criterion=entropy, max_depth=20, min_samples_leaf=15, min_samples_split=5, n_estimators=200\n",
      "[CV 5/5; 36/100] END bootstrap=False, ccp_alpha=0.0001, class_weight=balanced_subsample, criterion=entropy, max_depth=20, min_samples_leaf=15, min_samples_split=5, n_estimators=200;, score=0.661 total time=   0.7s\n",
      "[CV 1/5; 37/100] START bootstrap=True, ccp_alpha=0.001, class_weight=balanced, criterion=gini, max_depth=10, min_samples_leaf=15, min_samples_split=8, n_estimators=500\n",
      "[CV 1/5; 37/100] END bootstrap=True, ccp_alpha=0.001, class_weight=balanced, criterion=gini, max_depth=10, min_samples_leaf=15, min_samples_split=8, n_estimators=500;, score=0.577 total time=   1.8s\n",
      "[CV 2/5; 37/100] START bootstrap=True, ccp_alpha=0.001, class_weight=balanced, criterion=gini, max_depth=10, min_samples_leaf=15, min_samples_split=8, n_estimators=500\n",
      "[CV 2/5; 37/100] END bootstrap=True, ccp_alpha=0.001, class_weight=balanced, criterion=gini, max_depth=10, min_samples_leaf=15, min_samples_split=8, n_estimators=500;, score=0.643 total time=   1.6s\n",
      "[CV 3/5; 37/100] START bootstrap=True, ccp_alpha=0.001, class_weight=balanced, criterion=gini, max_depth=10, min_samples_leaf=15, min_samples_split=8, n_estimators=500\n",
      "[CV 3/5; 37/100] END bootstrap=True, ccp_alpha=0.001, class_weight=balanced, criterion=gini, max_depth=10, min_samples_leaf=15, min_samples_split=8, n_estimators=500;, score=0.530 total time=   1.4s\n",
      "[CV 4/5; 37/100] START bootstrap=True, ccp_alpha=0.001, class_weight=balanced, criterion=gini, max_depth=10, min_samples_leaf=15, min_samples_split=8, n_estimators=500\n",
      "[CV 4/5; 37/100] END bootstrap=True, ccp_alpha=0.001, class_weight=balanced, criterion=gini, max_depth=10, min_samples_leaf=15, min_samples_split=8, n_estimators=500;, score=0.602 total time=   1.4s\n",
      "[CV 5/5; 37/100] START bootstrap=True, ccp_alpha=0.001, class_weight=balanced, criterion=gini, max_depth=10, min_samples_leaf=15, min_samples_split=8, n_estimators=500\n",
      "[CV 5/5; 37/100] END bootstrap=True, ccp_alpha=0.001, class_weight=balanced, criterion=gini, max_depth=10, min_samples_leaf=15, min_samples_split=8, n_estimators=500;, score=0.686 total time=   1.5s\n",
      "[CV 1/5; 38/100] START bootstrap=True, ccp_alpha=1.3e-06, class_weight={1: 0.56, 0: 0.44}, criterion=entropy, max_depth=5, min_samples_leaf=15, min_samples_split=5, n_estimators=200\n",
      "[CV 1/5; 38/100] END bootstrap=True, ccp_alpha=1.3e-06, class_weight={1: 0.56, 0: 0.44}, criterion=entropy, max_depth=5, min_samples_leaf=15, min_samples_split=5, n_estimators=200;, score=0.537 total time=   0.6s\n",
      "[CV 2/5; 38/100] START bootstrap=True, ccp_alpha=1.3e-06, class_weight={1: 0.56, 0: 0.44}, criterion=entropy, max_depth=5, min_samples_leaf=15, min_samples_split=5, n_estimators=200\n",
      "[CV 2/5; 38/100] END bootstrap=True, ccp_alpha=1.3e-06, class_weight={1: 0.56, 0: 0.44}, criterion=entropy, max_depth=5, min_samples_leaf=15, min_samples_split=5, n_estimators=200;, score=0.562 total time=   0.6s\n",
      "[CV 3/5; 38/100] START bootstrap=True, ccp_alpha=1.3e-06, class_weight={1: 0.56, 0: 0.44}, criterion=entropy, max_depth=5, min_samples_leaf=15, min_samples_split=5, n_estimators=200\n",
      "[CV 3/5; 38/100] END bootstrap=True, ccp_alpha=1.3e-06, class_weight={1: 0.56, 0: 0.44}, criterion=entropy, max_depth=5, min_samples_leaf=15, min_samples_split=5, n_estimators=200;, score=0.499 total time=   0.6s\n",
      "[CV 4/5; 38/100] START bootstrap=True, ccp_alpha=1.3e-06, class_weight={1: 0.56, 0: 0.44}, criterion=entropy, max_depth=5, min_samples_leaf=15, min_samples_split=5, n_estimators=200\n",
      "[CV 4/5; 38/100] END bootstrap=True, ccp_alpha=1.3e-06, class_weight={1: 0.56, 0: 0.44}, criterion=entropy, max_depth=5, min_samples_leaf=15, min_samples_split=5, n_estimators=200;, score=0.550 total time=   0.7s\n",
      "[CV 5/5; 38/100] START bootstrap=True, ccp_alpha=1.3e-06, class_weight={1: 0.56, 0: 0.44}, criterion=entropy, max_depth=5, min_samples_leaf=15, min_samples_split=5, n_estimators=200\n",
      "[CV 5/5; 38/100] END bootstrap=True, ccp_alpha=1.3e-06, class_weight={1: 0.56, 0: 0.44}, criterion=entropy, max_depth=5, min_samples_leaf=15, min_samples_split=5, n_estimators=200;, score=0.656 total time=   0.7s\n",
      "[CV 1/5; 39/100] START bootstrap=True, ccp_alpha=0.1, class_weight={1: 0.56, 0: 0.44}, criterion=gini, max_depth=5, min_samples_leaf=20, min_samples_split=13, n_estimators=500\n",
      "[CV 1/5; 39/100] END bootstrap=True, ccp_alpha=0.1, class_weight={1: 0.56, 0: 0.44}, criterion=gini, max_depth=5, min_samples_leaf=20, min_samples_split=13, n_estimators=500;, score=0.500 total time=   1.7s\n",
      "[CV 2/5; 39/100] START bootstrap=True, ccp_alpha=0.1, class_weight={1: 0.56, 0: 0.44}, criterion=gini, max_depth=5, min_samples_leaf=20, min_samples_split=13, n_estimators=500\n",
      "[CV 2/5; 39/100] END bootstrap=True, ccp_alpha=0.1, class_weight={1: 0.56, 0: 0.44}, criterion=gini, max_depth=5, min_samples_leaf=20, min_samples_split=13, n_estimators=500;, score=0.500 total time=   1.5s\n",
      "[CV 3/5; 39/100] START bootstrap=True, ccp_alpha=0.1, class_weight={1: 0.56, 0: 0.44}, criterion=gini, max_depth=5, min_samples_leaf=20, min_samples_split=13, n_estimators=500\n",
      "[CV 3/5; 39/100] END bootstrap=True, ccp_alpha=0.1, class_weight={1: 0.56, 0: 0.44}, criterion=gini, max_depth=5, min_samples_leaf=20, min_samples_split=13, n_estimators=500;, score=0.500 total time=   1.5s\n",
      "[CV 4/5; 39/100] START bootstrap=True, ccp_alpha=0.1, class_weight={1: 0.56, 0: 0.44}, criterion=gini, max_depth=5, min_samples_leaf=20, min_samples_split=13, n_estimators=500\n",
      "[CV 4/5; 39/100] END bootstrap=True, ccp_alpha=0.1, class_weight={1: 0.56, 0: 0.44}, criterion=gini, max_depth=5, min_samples_leaf=20, min_samples_split=13, n_estimators=500;, score=0.500 total time=   1.6s\n",
      "[CV 5/5; 39/100] START bootstrap=True, ccp_alpha=0.1, class_weight={1: 0.56, 0: 0.44}, criterion=gini, max_depth=5, min_samples_leaf=20, min_samples_split=13, n_estimators=500\n",
      "[CV 5/5; 39/100] END bootstrap=True, ccp_alpha=0.1, class_weight={1: 0.56, 0: 0.44}, criterion=gini, max_depth=5, min_samples_leaf=20, min_samples_split=13, n_estimators=500;, score=0.500 total time=   1.4s\n",
      "[CV 1/5; 40/100] START bootstrap=True, ccp_alpha=0.0001, class_weight=balanced_subsample, criterion=entropy, max_depth=12, min_samples_leaf=10, min_samples_split=13, n_estimators=500\n",
      "[CV 1/5; 40/100] END bootstrap=True, ccp_alpha=0.0001, class_weight=balanced_subsample, criterion=entropy, max_depth=12, min_samples_leaf=10, min_samples_split=13, n_estimators=500;, score=0.564 total time=   1.7s\n",
      "[CV 2/5; 40/100] START bootstrap=True, ccp_alpha=0.0001, class_weight=balanced_subsample, criterion=entropy, max_depth=12, min_samples_leaf=10, min_samples_split=13, n_estimators=500\n"
     ]
    },
    {
     "name": "stdout",
     "output_type": "stream",
     "text": [
      "[CV 2/5; 40/100] END bootstrap=True, ccp_alpha=0.0001, class_weight=balanced_subsample, criterion=entropy, max_depth=12, min_samples_leaf=10, min_samples_split=13, n_estimators=500;, score=0.643 total time=   1.6s\n",
      "[CV 3/5; 40/100] START bootstrap=True, ccp_alpha=0.0001, class_weight=balanced_subsample, criterion=entropy, max_depth=12, min_samples_leaf=10, min_samples_split=13, n_estimators=500\n",
      "[CV 3/5; 40/100] END bootstrap=True, ccp_alpha=0.0001, class_weight=balanced_subsample, criterion=entropy, max_depth=12, min_samples_leaf=10, min_samples_split=13, n_estimators=500;, score=0.539 total time=   2.0s\n",
      "[CV 4/5; 40/100] START bootstrap=True, ccp_alpha=0.0001, class_weight=balanced_subsample, criterion=entropy, max_depth=12, min_samples_leaf=10, min_samples_split=13, n_estimators=500\n",
      "[CV 4/5; 40/100] END bootstrap=True, ccp_alpha=0.0001, class_weight=balanced_subsample, criterion=entropy, max_depth=12, min_samples_leaf=10, min_samples_split=13, n_estimators=500;, score=0.608 total time=   2.0s\n",
      "[CV 5/5; 40/100] START bootstrap=True, ccp_alpha=0.0001, class_weight=balanced_subsample, criterion=entropy, max_depth=12, min_samples_leaf=10, min_samples_split=13, n_estimators=500\n",
      "[CV 5/5; 40/100] END bootstrap=True, ccp_alpha=0.0001, class_weight=balanced_subsample, criterion=entropy, max_depth=12, min_samples_leaf=10, min_samples_split=13, n_estimators=500;, score=0.692 total time=   2.1s\n",
      "[CV 1/5; 41/100] START bootstrap=False, ccp_alpha=0.001, class_weight=balanced, criterion=entropy, max_depth=10, min_samples_leaf=20, min_samples_split=20, n_estimators=200\n",
      "[CV 1/5; 41/100] END bootstrap=False, ccp_alpha=0.001, class_weight=balanced, criterion=entropy, max_depth=10, min_samples_leaf=20, min_samples_split=20, n_estimators=200;, score=0.593 total time=   0.7s\n",
      "[CV 2/5; 41/100] START bootstrap=False, ccp_alpha=0.001, class_weight=balanced, criterion=entropy, max_depth=10, min_samples_leaf=20, min_samples_split=20, n_estimators=200\n",
      "[CV 2/5; 41/100] END bootstrap=False, ccp_alpha=0.001, class_weight=balanced, criterion=entropy, max_depth=10, min_samples_leaf=20, min_samples_split=20, n_estimators=200;, score=0.599 total time=   0.5s\n",
      "[CV 3/5; 41/100] START bootstrap=False, ccp_alpha=0.001, class_weight=balanced, criterion=entropy, max_depth=10, min_samples_leaf=20, min_samples_split=20, n_estimators=200\n",
      "[CV 3/5; 41/100] END bootstrap=False, ccp_alpha=0.001, class_weight=balanced, criterion=entropy, max_depth=10, min_samples_leaf=20, min_samples_split=20, n_estimators=200;, score=0.505 total time=   0.5s\n",
      "[CV 4/5; 41/100] START bootstrap=False, ccp_alpha=0.001, class_weight=balanced, criterion=entropy, max_depth=10, min_samples_leaf=20, min_samples_split=20, n_estimators=200\n",
      "[CV 4/5; 41/100] END bootstrap=False, ccp_alpha=0.001, class_weight=balanced, criterion=entropy, max_depth=10, min_samples_leaf=20, min_samples_split=20, n_estimators=200;, score=0.589 total time=   0.5s\n",
      "[CV 5/5; 41/100] START bootstrap=False, ccp_alpha=0.001, class_weight=balanced, criterion=entropy, max_depth=10, min_samples_leaf=20, min_samples_split=20, n_estimators=200\n",
      "[CV 5/5; 41/100] END bootstrap=False, ccp_alpha=0.001, class_weight=balanced, criterion=entropy, max_depth=10, min_samples_leaf=20, min_samples_split=20, n_estimators=200;, score=0.658 total time=   0.6s\n",
      "[CV 1/5; 42/100] START bootstrap=False, ccp_alpha=1.3e-06, class_weight={1: 0.56, 0: 0.44}, criterion=gini, max_depth=8, min_samples_leaf=15, min_samples_split=15, n_estimators=500\n",
      "[CV 1/5; 42/100] END bootstrap=False, ccp_alpha=1.3e-06, class_weight={1: 0.56, 0: 0.44}, criterion=gini, max_depth=8, min_samples_leaf=15, min_samples_split=15, n_estimators=500;, score=0.471 total time=   1.7s\n",
      "[CV 2/5; 42/100] START bootstrap=False, ccp_alpha=1.3e-06, class_weight={1: 0.56, 0: 0.44}, criterion=gini, max_depth=8, min_samples_leaf=15, min_samples_split=15, n_estimators=500\n",
      "[CV 2/5; 42/100] END bootstrap=False, ccp_alpha=1.3e-06, class_weight={1: 0.56, 0: 0.44}, criterion=gini, max_depth=8, min_samples_leaf=15, min_samples_split=15, n_estimators=500;, score=0.546 total time=   1.5s\n",
      "[CV 3/5; 42/100] START bootstrap=False, ccp_alpha=1.3e-06, class_weight={1: 0.56, 0: 0.44}, criterion=gini, max_depth=8, min_samples_leaf=15, min_samples_split=15, n_estimators=500\n",
      "[CV 3/5; 42/100] END bootstrap=False, ccp_alpha=1.3e-06, class_weight={1: 0.56, 0: 0.44}, criterion=gini, max_depth=8, min_samples_leaf=15, min_samples_split=15, n_estimators=500;, score=0.480 total time=   1.9s\n",
      "[CV 4/5; 42/100] START bootstrap=False, ccp_alpha=1.3e-06, class_weight={1: 0.56, 0: 0.44}, criterion=gini, max_depth=8, min_samples_leaf=15, min_samples_split=15, n_estimators=500\n",
      "[CV 4/5; 42/100] END bootstrap=False, ccp_alpha=1.3e-06, class_weight={1: 0.56, 0: 0.44}, criterion=gini, max_depth=8, min_samples_leaf=15, min_samples_split=15, n_estimators=500;, score=0.568 total time=   1.5s\n",
      "[CV 5/5; 42/100] START bootstrap=False, ccp_alpha=1.3e-06, class_weight={1: 0.56, 0: 0.44}, criterion=gini, max_depth=8, min_samples_leaf=15, min_samples_split=15, n_estimators=500\n",
      "[CV 5/5; 42/100] END bootstrap=False, ccp_alpha=1.3e-06, class_weight={1: 0.56, 0: 0.44}, criterion=gini, max_depth=8, min_samples_leaf=15, min_samples_split=15, n_estimators=500;, score=0.671 total time=   1.7s\n",
      "[CV 1/5; 43/100] START bootstrap=True, ccp_alpha=0.1, class_weight=balanced_subsample, criterion=gini, max_depth=20, min_samples_leaf=40, min_samples_split=10, n_estimators=100\n",
      "[CV 1/5; 43/100] END bootstrap=True, ccp_alpha=0.1, class_weight=balanced_subsample, criterion=gini, max_depth=20, min_samples_leaf=40, min_samples_split=10, n_estimators=100;, score=0.500 total time=   0.5s\n",
      "[CV 2/5; 43/100] START bootstrap=True, ccp_alpha=0.1, class_weight=balanced_subsample, criterion=gini, max_depth=20, min_samples_leaf=40, min_samples_split=10, n_estimators=100\n",
      "[CV 2/5; 43/100] END bootstrap=True, ccp_alpha=0.1, class_weight=balanced_subsample, criterion=gini, max_depth=20, min_samples_leaf=40, min_samples_split=10, n_estimators=100;, score=0.500 total time=   0.5s\n",
      "[CV 3/5; 43/100] START bootstrap=True, ccp_alpha=0.1, class_weight=balanced_subsample, criterion=gini, max_depth=20, min_samples_leaf=40, min_samples_split=10, n_estimators=100\n",
      "[CV 3/5; 43/100] END bootstrap=True, ccp_alpha=0.1, class_weight=balanced_subsample, criterion=gini, max_depth=20, min_samples_leaf=40, min_samples_split=10, n_estimators=100;, score=0.500 total time=   0.4s\n",
      "[CV 4/5; 43/100] START bootstrap=True, ccp_alpha=0.1, class_weight=balanced_subsample, criterion=gini, max_depth=20, min_samples_leaf=40, min_samples_split=10, n_estimators=100\n",
      "[CV 4/5; 43/100] END bootstrap=True, ccp_alpha=0.1, class_weight=balanced_subsample, criterion=gini, max_depth=20, min_samples_leaf=40, min_samples_split=10, n_estimators=100;, score=0.500 total time=   0.4s\n",
      "[CV 5/5; 43/100] START bootstrap=True, ccp_alpha=0.1, class_weight=balanced_subsample, criterion=gini, max_depth=20, min_samples_leaf=40, min_samples_split=10, n_estimators=100\n",
      "[CV 5/5; 43/100] END bootstrap=True, ccp_alpha=0.1, class_weight=balanced_subsample, criterion=gini, max_depth=20, min_samples_leaf=40, min_samples_split=10, n_estimators=100;, score=0.500 total time=   0.3s\n",
      "[CV 1/5; 44/100] START bootstrap=True, ccp_alpha=1.3e-06, class_weight={1: 0.56, 0: 0.44}, criterion=gini, max_depth=12, min_samples_leaf=20, min_samples_split=13, n_estimators=250\n",
      "[CV 1/5; 44/100] END bootstrap=True, ccp_alpha=1.3e-06, class_weight={1: 0.56, 0: 0.44}, criterion=gini, max_depth=12, min_samples_leaf=20, min_samples_split=13, n_estimators=250;, score=0.546 total time=   1.0s\n",
      "[CV 2/5; 44/100] START bootstrap=True, ccp_alpha=1.3e-06, class_weight={1: 0.56, 0: 0.44}, criterion=gini, max_depth=12, min_samples_leaf=20, min_samples_split=13, n_estimators=250\n",
      "[CV 2/5; 44/100] END bootstrap=True, ccp_alpha=1.3e-06, class_weight={1: 0.56, 0: 0.44}, criterion=gini, max_depth=12, min_samples_leaf=20, min_samples_split=13, n_estimators=250;, score=0.550 total time=   0.9s\n",
      "[CV 3/5; 44/100] START bootstrap=True, ccp_alpha=1.3e-06, class_weight={1: 0.56, 0: 0.44}, criterion=gini, max_depth=12, min_samples_leaf=20, min_samples_split=13, n_estimators=250\n",
      "[CV 3/5; 44/100] END bootstrap=True, ccp_alpha=1.3e-06, class_weight={1: 0.56, 0: 0.44}, criterion=gini, max_depth=12, min_samples_leaf=20, min_samples_split=13, n_estimators=250;, score=0.521 total time=   0.8s\n",
      "[CV 4/5; 44/100] START bootstrap=True, ccp_alpha=1.3e-06, class_weight={1: 0.56, 0: 0.44}, criterion=gini, max_depth=12, min_samples_leaf=20, min_samples_split=13, n_estimators=250\n"
     ]
    },
    {
     "name": "stdout",
     "output_type": "stream",
     "text": [
      "[CV 4/5; 44/100] END bootstrap=True, ccp_alpha=1.3e-06, class_weight={1: 0.56, 0: 0.44}, criterion=gini, max_depth=12, min_samples_leaf=20, min_samples_split=13, n_estimators=250;, score=0.537 total time=   0.7s\n",
      "[CV 5/5; 44/100] START bootstrap=True, ccp_alpha=1.3e-06, class_weight={1: 0.56, 0: 0.44}, criterion=gini, max_depth=12, min_samples_leaf=20, min_samples_split=13, n_estimators=250\n",
      "[CV 5/5; 44/100] END bootstrap=True, ccp_alpha=1.3e-06, class_weight={1: 0.56, 0: 0.44}, criterion=gini, max_depth=12, min_samples_leaf=20, min_samples_split=13, n_estimators=250;, score=0.631 total time=   0.8s\n",
      "[CV 1/5; 45/100] START bootstrap=False, ccp_alpha=0.0003, class_weight=balanced_subsample, criterion=gini, max_depth=10, min_samples_leaf=10, min_samples_split=8, n_estimators=100\n",
      "[CV 1/5; 45/100] END bootstrap=False, ccp_alpha=0.0003, class_weight=balanced_subsample, criterion=gini, max_depth=10, min_samples_leaf=10, min_samples_split=8, n_estimators=100;, score=0.580 total time=   0.3s\n",
      "[CV 2/5; 45/100] START bootstrap=False, ccp_alpha=0.0003, class_weight=balanced_subsample, criterion=gini, max_depth=10, min_samples_leaf=10, min_samples_split=8, n_estimators=100\n",
      "[CV 2/5; 45/100] END bootstrap=False, ccp_alpha=0.0003, class_weight=balanced_subsample, criterion=gini, max_depth=10, min_samples_leaf=10, min_samples_split=8, n_estimators=100;, score=0.630 total time=   0.3s\n",
      "[CV 3/5; 45/100] START bootstrap=False, ccp_alpha=0.0003, class_weight=balanced_subsample, criterion=gini, max_depth=10, min_samples_leaf=10, min_samples_split=8, n_estimators=100\n",
      "[CV 3/5; 45/100] END bootstrap=False, ccp_alpha=0.0003, class_weight=balanced_subsample, criterion=gini, max_depth=10, min_samples_leaf=10, min_samples_split=8, n_estimators=100;, score=0.517 total time=   0.3s\n",
      "[CV 4/5; 45/100] START bootstrap=False, ccp_alpha=0.0003, class_weight=balanced_subsample, criterion=gini, max_depth=10, min_samples_leaf=10, min_samples_split=8, n_estimators=100\n",
      "[CV 4/5; 45/100] END bootstrap=False, ccp_alpha=0.0003, class_weight=balanced_subsample, criterion=gini, max_depth=10, min_samples_leaf=10, min_samples_split=8, n_estimators=100;, score=0.561 total time=   0.2s\n",
      "[CV 5/5; 45/100] START bootstrap=False, ccp_alpha=0.0003, class_weight=balanced_subsample, criterion=gini, max_depth=10, min_samples_leaf=10, min_samples_split=8, n_estimators=100\n",
      "[CV 5/5; 45/100] END bootstrap=False, ccp_alpha=0.0003, class_weight=balanced_subsample, criterion=gini, max_depth=10, min_samples_leaf=10, min_samples_split=8, n_estimators=100;, score=0.604 total time=   0.3s\n",
      "[CV 1/5; 46/100] START bootstrap=False, ccp_alpha=0.0003, class_weight={1: 0.56, 0: 0.44}, criterion=gini, max_depth=3, min_samples_leaf=40, min_samples_split=8, n_estimators=500\n",
      "[CV 1/5; 46/100] END bootstrap=False, ccp_alpha=0.0003, class_weight={1: 0.56, 0: 0.44}, criterion=gini, max_depth=3, min_samples_leaf=40, min_samples_split=8, n_estimators=500;, score=0.597 total time=   1.4s\n",
      "[CV 2/5; 46/100] START bootstrap=False, ccp_alpha=0.0003, class_weight={1: 0.56, 0: 0.44}, criterion=gini, max_depth=3, min_samples_leaf=40, min_samples_split=8, n_estimators=500\n",
      "[CV 2/5; 46/100] END bootstrap=False, ccp_alpha=0.0003, class_weight={1: 0.56, 0: 0.44}, criterion=gini, max_depth=3, min_samples_leaf=40, min_samples_split=8, n_estimators=500;, score=0.550 total time=   1.7s\n",
      "[CV 3/5; 46/100] START bootstrap=False, ccp_alpha=0.0003, class_weight={1: 0.56, 0: 0.44}, criterion=gini, max_depth=3, min_samples_leaf=40, min_samples_split=8, n_estimators=500\n",
      "[CV 3/5; 46/100] END bootstrap=False, ccp_alpha=0.0003, class_weight={1: 0.56, 0: 0.44}, criterion=gini, max_depth=3, min_samples_leaf=40, min_samples_split=8, n_estimators=500;, score=0.540 total time=   1.3s\n",
      "[CV 4/5; 46/100] START bootstrap=False, ccp_alpha=0.0003, class_weight={1: 0.56, 0: 0.44}, criterion=gini, max_depth=3, min_samples_leaf=40, min_samples_split=8, n_estimators=500\n",
      "[CV 4/5; 46/100] END bootstrap=False, ccp_alpha=0.0003, class_weight={1: 0.56, 0: 0.44}, criterion=gini, max_depth=3, min_samples_leaf=40, min_samples_split=8, n_estimators=500;, score=0.550 total time=   1.5s\n",
      "[CV 5/5; 46/100] START bootstrap=False, ccp_alpha=0.0003, class_weight={1: 0.56, 0: 0.44}, criterion=gini, max_depth=3, min_samples_leaf=40, min_samples_split=8, n_estimators=500\n",
      "[CV 5/5; 46/100] END bootstrap=False, ccp_alpha=0.0003, class_weight={1: 0.56, 0: 0.44}, criterion=gini, max_depth=3, min_samples_leaf=40, min_samples_split=8, n_estimators=500;, score=0.618 total time=   1.6s\n",
      "[CV 1/5; 47/100] START bootstrap=False, ccp_alpha=0.0003, class_weight=balanced_subsample, criterion=gini, max_depth=10, min_samples_leaf=20, min_samples_split=20, n_estimators=250\n",
      "[CV 1/5; 47/100] END bootstrap=False, ccp_alpha=0.0003, class_weight=balanced_subsample, criterion=gini, max_depth=10, min_samples_leaf=20, min_samples_split=20, n_estimators=250;, score=0.605 total time=   0.8s\n",
      "[CV 2/5; 47/100] START bootstrap=False, ccp_alpha=0.0003, class_weight=balanced_subsample, criterion=gini, max_depth=10, min_samples_leaf=20, min_samples_split=20, n_estimators=250\n",
      "[CV 2/5; 47/100] END bootstrap=False, ccp_alpha=0.0003, class_weight=balanced_subsample, criterion=gini, max_depth=10, min_samples_leaf=20, min_samples_split=20, n_estimators=250;, score=0.621 total time=   0.9s\n",
      "[CV 3/5; 47/100] START bootstrap=False, ccp_alpha=0.0003, class_weight=balanced_subsample, criterion=gini, max_depth=10, min_samples_leaf=20, min_samples_split=20, n_estimators=250\n",
      "[CV 3/5; 47/100] END bootstrap=False, ccp_alpha=0.0003, class_weight=balanced_subsample, criterion=gini, max_depth=10, min_samples_leaf=20, min_samples_split=20, n_estimators=250;, score=0.517 total time=   0.9s\n",
      "[CV 4/5; 47/100] START bootstrap=False, ccp_alpha=0.0003, class_weight=balanced_subsample, criterion=gini, max_depth=10, min_samples_leaf=20, min_samples_split=20, n_estimators=250\n",
      "[CV 4/5; 47/100] END bootstrap=False, ccp_alpha=0.0003, class_weight=balanced_subsample, criterion=gini, max_depth=10, min_samples_leaf=20, min_samples_split=20, n_estimators=250;, score=0.574 total time=   0.8s\n",
      "[CV 5/5; 47/100] START bootstrap=False, ccp_alpha=0.0003, class_weight=balanced_subsample, criterion=gini, max_depth=10, min_samples_leaf=20, min_samples_split=20, n_estimators=250\n",
      "[CV 5/5; 47/100] END bootstrap=False, ccp_alpha=0.0003, class_weight=balanced_subsample, criterion=gini, max_depth=10, min_samples_leaf=20, min_samples_split=20, n_estimators=250;, score=0.639 total time=   0.7s\n",
      "[CV 1/5; 48/100] START bootstrap=True, ccp_alpha=0.0003, class_weight={1: 0.56, 0: 0.44}, criterion=entropy, max_depth=10, min_samples_leaf=25, min_samples_split=5, n_estimators=250\n",
      "[CV 1/5; 48/100] END bootstrap=True, ccp_alpha=0.0003, class_weight={1: 0.56, 0: 0.44}, criterion=entropy, max_depth=10, min_samples_leaf=25, min_samples_split=5, n_estimators=250;, score=0.562 total time=   0.7s\n",
      "[CV 2/5; 48/100] START bootstrap=True, ccp_alpha=0.0003, class_weight={1: 0.56, 0: 0.44}, criterion=entropy, max_depth=10, min_samples_leaf=25, min_samples_split=5, n_estimators=250\n",
      "[CV 2/5; 48/100] END bootstrap=True, ccp_alpha=0.0003, class_weight={1: 0.56, 0: 0.44}, criterion=entropy, max_depth=10, min_samples_leaf=25, min_samples_split=5, n_estimators=250;, score=0.537 total time=   0.9s\n",
      "[CV 3/5; 48/100] START bootstrap=True, ccp_alpha=0.0003, class_weight={1: 0.56, 0: 0.44}, criterion=entropy, max_depth=10, min_samples_leaf=25, min_samples_split=5, n_estimators=250\n",
      "[CV 3/5; 48/100] END bootstrap=True, ccp_alpha=0.0003, class_weight={1: 0.56, 0: 0.44}, criterion=entropy, max_depth=10, min_samples_leaf=25, min_samples_split=5, n_estimators=250;, score=0.509 total time=   0.8s\n",
      "[CV 4/5; 48/100] START bootstrap=True, ccp_alpha=0.0003, class_weight={1: 0.56, 0: 0.44}, criterion=entropy, max_depth=10, min_samples_leaf=25, min_samples_split=5, n_estimators=250\n",
      "[CV 4/5; 48/100] END bootstrap=True, ccp_alpha=0.0003, class_weight={1: 0.56, 0: 0.44}, criterion=entropy, max_depth=10, min_samples_leaf=25, min_samples_split=5, n_estimators=250;, score=0.537 total time=   0.7s\n",
      "[CV 5/5; 48/100] START bootstrap=True, ccp_alpha=0.0003, class_weight={1: 0.56, 0: 0.44}, criterion=entropy, max_depth=10, min_samples_leaf=25, min_samples_split=5, n_estimators=250\n"
     ]
    },
    {
     "name": "stdout",
     "output_type": "stream",
     "text": [
      "[CV 5/5; 48/100] END bootstrap=True, ccp_alpha=0.0003, class_weight={1: 0.56, 0: 0.44}, criterion=entropy, max_depth=10, min_samples_leaf=25, min_samples_split=5, n_estimators=250;, score=0.637 total time=   0.9s\n",
      "[CV 1/5; 49/100] START bootstrap=True, ccp_alpha=0.001, class_weight={1: 0.56, 0: 0.44}, criterion=entropy, max_depth=15, min_samples_leaf=10, min_samples_split=13, n_estimators=200\n",
      "[CV 1/5; 49/100] END bootstrap=True, ccp_alpha=0.001, class_weight={1: 0.56, 0: 0.44}, criterion=entropy, max_depth=15, min_samples_leaf=10, min_samples_split=13, n_estimators=200;, score=0.524 total time=   0.9s\n",
      "[CV 2/5; 49/100] START bootstrap=True, ccp_alpha=0.001, class_weight={1: 0.56, 0: 0.44}, criterion=entropy, max_depth=15, min_samples_leaf=10, min_samples_split=13, n_estimators=200\n",
      "[CV 2/5; 49/100] END bootstrap=True, ccp_alpha=0.001, class_weight={1: 0.56, 0: 0.44}, criterion=entropy, max_depth=15, min_samples_leaf=10, min_samples_split=13, n_estimators=200;, score=0.578 total time=   0.7s\n",
      "[CV 3/5; 49/100] START bootstrap=True, ccp_alpha=0.001, class_weight={1: 0.56, 0: 0.44}, criterion=entropy, max_depth=15, min_samples_leaf=10, min_samples_split=13, n_estimators=200\n",
      "[CV 3/5; 49/100] END bootstrap=True, ccp_alpha=0.001, class_weight={1: 0.56, 0: 0.44}, criterion=entropy, max_depth=15, min_samples_leaf=10, min_samples_split=13, n_estimators=200;, score=0.468 total time=   0.7s\n",
      "[CV 4/5; 49/100] START bootstrap=True, ccp_alpha=0.001, class_weight={1: 0.56, 0: 0.44}, criterion=entropy, max_depth=15, min_samples_leaf=10, min_samples_split=13, n_estimators=200\n",
      "[CV 4/5; 49/100] END bootstrap=True, ccp_alpha=0.001, class_weight={1: 0.56, 0: 0.44}, criterion=entropy, max_depth=15, min_samples_leaf=10, min_samples_split=13, n_estimators=200;, score=0.543 total time=   0.7s\n",
      "[CV 5/5; 49/100] START bootstrap=True, ccp_alpha=0.001, class_weight={1: 0.56, 0: 0.44}, criterion=entropy, max_depth=15, min_samples_leaf=10, min_samples_split=13, n_estimators=200\n",
      "[CV 5/5; 49/100] END bootstrap=True, ccp_alpha=0.001, class_weight={1: 0.56, 0: 0.44}, criterion=entropy, max_depth=15, min_samples_leaf=10, min_samples_split=13, n_estimators=200;, score=0.675 total time=   0.6s\n",
      "[CV 1/5; 50/100] START bootstrap=False, ccp_alpha=0.0001, class_weight={1: 0.56, 0: 0.44}, criterion=gini, max_depth=12, min_samples_leaf=30, min_samples_split=8, n_estimators=150\n",
      "[CV 1/5; 50/100] END bootstrap=False, ccp_alpha=0.0001, class_weight={1: 0.56, 0: 0.44}, criterion=gini, max_depth=12, min_samples_leaf=30, min_samples_split=8, n_estimators=150;, score=0.546 total time=   0.4s\n",
      "[CV 2/5; 50/100] START bootstrap=False, ccp_alpha=0.0001, class_weight={1: 0.56, 0: 0.44}, criterion=gini, max_depth=12, min_samples_leaf=30, min_samples_split=8, n_estimators=150\n",
      "[CV 2/5; 50/100] END bootstrap=False, ccp_alpha=0.0001, class_weight={1: 0.56, 0: 0.44}, criterion=gini, max_depth=12, min_samples_leaf=30, min_samples_split=8, n_estimators=150;, score=0.562 total time=   0.5s\n",
      "[CV 3/5; 50/100] START bootstrap=False, ccp_alpha=0.0001, class_weight={1: 0.56, 0: 0.44}, criterion=gini, max_depth=12, min_samples_leaf=30, min_samples_split=8, n_estimators=150\n",
      "[CV 3/5; 50/100] END bootstrap=False, ccp_alpha=0.0001, class_weight={1: 0.56, 0: 0.44}, criterion=gini, max_depth=12, min_samples_leaf=30, min_samples_split=8, n_estimators=150;, score=0.521 total time=   0.5s\n",
      "[CV 4/5; 50/100] START bootstrap=False, ccp_alpha=0.0001, class_weight={1: 0.56, 0: 0.44}, criterion=gini, max_depth=12, min_samples_leaf=30, min_samples_split=8, n_estimators=150\n",
      "[CV 4/5; 50/100] END bootstrap=False, ccp_alpha=0.0001, class_weight={1: 0.56, 0: 0.44}, criterion=gini, max_depth=12, min_samples_leaf=30, min_samples_split=8, n_estimators=150;, score=0.568 total time=   0.5s\n",
      "[CV 5/5; 50/100] START bootstrap=False, ccp_alpha=0.0001, class_weight={1: 0.56, 0: 0.44}, criterion=gini, max_depth=12, min_samples_leaf=30, min_samples_split=8, n_estimators=150\n",
      "[CV 5/5; 50/100] END bootstrap=False, ccp_alpha=0.0001, class_weight={1: 0.56, 0: 0.44}, criterion=gini, max_depth=12, min_samples_leaf=30, min_samples_split=8, n_estimators=150;, score=0.653 total time=   0.5s\n",
      "[CV 1/5; 51/100] START bootstrap=False, ccp_alpha=0.0001, class_weight=balanced, criterion=gini, max_depth=8, min_samples_leaf=25, min_samples_split=10, n_estimators=300\n",
      "[CV 1/5; 51/100] END bootstrap=False, ccp_alpha=0.0001, class_weight=balanced, criterion=gini, max_depth=8, min_samples_leaf=25, min_samples_split=10, n_estimators=300;, score=0.599 total time=   0.8s\n",
      "[CV 2/5; 51/100] START bootstrap=False, ccp_alpha=0.0001, class_weight=balanced, criterion=gini, max_depth=8, min_samples_leaf=25, min_samples_split=10, n_estimators=300\n",
      "[CV 2/5; 51/100] END bootstrap=False, ccp_alpha=0.0001, class_weight=balanced, criterion=gini, max_depth=8, min_samples_leaf=25, min_samples_split=10, n_estimators=300;, score=0.571 total time=   1.0s\n",
      "[CV 3/5; 51/100] START bootstrap=False, ccp_alpha=0.0001, class_weight=balanced, criterion=gini, max_depth=8, min_samples_leaf=25, min_samples_split=10, n_estimators=300\n",
      "[CV 3/5; 51/100] END bootstrap=False, ccp_alpha=0.0001, class_weight=balanced, criterion=gini, max_depth=8, min_samples_leaf=25, min_samples_split=10, n_estimators=300;, score=0.517 total time=   0.8s\n",
      "[CV 4/5; 51/100] START bootstrap=False, ccp_alpha=0.0001, class_weight=balanced, criterion=gini, max_depth=8, min_samples_leaf=25, min_samples_split=10, n_estimators=300\n",
      "[CV 4/5; 51/100] END bootstrap=False, ccp_alpha=0.0001, class_weight=balanced, criterion=gini, max_depth=8, min_samples_leaf=25, min_samples_split=10, n_estimators=300;, score=0.564 total time=   1.0s\n",
      "[CV 5/5; 51/100] START bootstrap=False, ccp_alpha=0.0001, class_weight=balanced, criterion=gini, max_depth=8, min_samples_leaf=25, min_samples_split=10, n_estimators=300\n",
      "[CV 5/5; 51/100] END bootstrap=False, ccp_alpha=0.0001, class_weight=balanced, criterion=gini, max_depth=8, min_samples_leaf=25, min_samples_split=10, n_estimators=300;, score=0.649 total time=   1.3s\n",
      "[CV 1/5; 52/100] START bootstrap=False, ccp_alpha=0.1, class_weight={1: 0.56, 0: 0.44}, criterion=entropy, max_depth=8, min_samples_leaf=25, min_samples_split=13, n_estimators=300\n",
      "[CV 1/5; 52/100] END bootstrap=False, ccp_alpha=0.1, class_weight={1: 0.56, 0: 0.44}, criterion=entropy, max_depth=8, min_samples_leaf=25, min_samples_split=13, n_estimators=300;, score=0.500 total time=   1.1s\n",
      "[CV 2/5; 52/100] START bootstrap=False, ccp_alpha=0.1, class_weight={1: 0.56, 0: 0.44}, criterion=entropy, max_depth=8, min_samples_leaf=25, min_samples_split=13, n_estimators=300\n",
      "[CV 2/5; 52/100] END bootstrap=False, ccp_alpha=0.1, class_weight={1: 0.56, 0: 0.44}, criterion=entropy, max_depth=8, min_samples_leaf=25, min_samples_split=13, n_estimators=300;, score=0.500 total time=   1.0s\n",
      "[CV 3/5; 52/100] START bootstrap=False, ccp_alpha=0.1, class_weight={1: 0.56, 0: 0.44}, criterion=entropy, max_depth=8, min_samples_leaf=25, min_samples_split=13, n_estimators=300\n",
      "[CV 3/5; 52/100] END bootstrap=False, ccp_alpha=0.1, class_weight={1: 0.56, 0: 0.44}, criterion=entropy, max_depth=8, min_samples_leaf=25, min_samples_split=13, n_estimators=300;, score=0.500 total time=   1.4s\n",
      "[CV 4/5; 52/100] START bootstrap=False, ccp_alpha=0.1, class_weight={1: 0.56, 0: 0.44}, criterion=entropy, max_depth=8, min_samples_leaf=25, min_samples_split=13, n_estimators=300\n",
      "[CV 4/5; 52/100] END bootstrap=False, ccp_alpha=0.1, class_weight={1: 0.56, 0: 0.44}, criterion=entropy, max_depth=8, min_samples_leaf=25, min_samples_split=13, n_estimators=300;, score=0.500 total time=   1.2s\n",
      "[CV 5/5; 52/100] START bootstrap=False, ccp_alpha=0.1, class_weight={1: 0.56, 0: 0.44}, criterion=entropy, max_depth=8, min_samples_leaf=25, min_samples_split=13, n_estimators=300\n",
      "[CV 5/5; 52/100] END bootstrap=False, ccp_alpha=0.1, class_weight={1: 0.56, 0: 0.44}, criterion=entropy, max_depth=8, min_samples_leaf=25, min_samples_split=13, n_estimators=300;, score=0.500 total time=   0.9s\n",
      "[CV 1/5; 53/100] START bootstrap=True, ccp_alpha=0.0001, class_weight={1: 0.56, 0: 0.44}, criterion=gini, max_depth=8, min_samples_leaf=30, min_samples_split=8, n_estimators=250\n",
      "[CV 1/5; 53/100] END bootstrap=True, ccp_alpha=0.0001, class_weight={1: 0.56, 0: 0.44}, criterion=gini, max_depth=8, min_samples_leaf=30, min_samples_split=8, n_estimators=250;, score=0.547 total time=   0.7s\n",
      "[CV 2/5; 53/100] START bootstrap=True, ccp_alpha=0.0001, class_weight={1: 0.56, 0: 0.44}, criterion=gini, max_depth=8, min_samples_leaf=30, min_samples_split=8, n_estimators=250\n"
     ]
    },
    {
     "name": "stdout",
     "output_type": "stream",
     "text": [
      "[CV 2/5; 53/100] END bootstrap=True, ccp_alpha=0.0001, class_weight={1: 0.56, 0: 0.44}, criterion=gini, max_depth=8, min_samples_leaf=30, min_samples_split=8, n_estimators=250;, score=0.550 total time=   0.8s\n",
      "[CV 3/5; 53/100] START bootstrap=True, ccp_alpha=0.0001, class_weight={1: 0.56, 0: 0.44}, criterion=gini, max_depth=8, min_samples_leaf=30, min_samples_split=8, n_estimators=250\n",
      "[CV 3/5; 53/100] END bootstrap=True, ccp_alpha=0.0001, class_weight={1: 0.56, 0: 0.44}, criterion=gini, max_depth=8, min_samples_leaf=30, min_samples_split=8, n_estimators=250;, score=0.509 total time=   0.9s\n",
      "[CV 4/5; 53/100] START bootstrap=True, ccp_alpha=0.0001, class_weight={1: 0.56, 0: 0.44}, criterion=gini, max_depth=8, min_samples_leaf=30, min_samples_split=8, n_estimators=250\n",
      "[CV 4/5; 53/100] END bootstrap=True, ccp_alpha=0.0001, class_weight={1: 0.56, 0: 0.44}, criterion=gini, max_depth=8, min_samples_leaf=30, min_samples_split=8, n_estimators=250;, score=0.525 total time=   0.8s\n",
      "[CV 5/5; 53/100] START bootstrap=True, ccp_alpha=0.0001, class_weight={1: 0.56, 0: 0.44}, criterion=gini, max_depth=8, min_samples_leaf=30, min_samples_split=8, n_estimators=250\n",
      "[CV 5/5; 53/100] END bootstrap=True, ccp_alpha=0.0001, class_weight={1: 0.56, 0: 0.44}, criterion=gini, max_depth=8, min_samples_leaf=30, min_samples_split=8, n_estimators=250;, score=0.615 total time=   0.9s\n",
      "[CV 1/5; 54/100] START bootstrap=True, ccp_alpha=0.001, class_weight=balanced_subsample, criterion=entropy, max_depth=3, min_samples_leaf=15, min_samples_split=8, n_estimators=300\n",
      "[CV 1/5; 54/100] END bootstrap=True, ccp_alpha=0.001, class_weight=balanced_subsample, criterion=entropy, max_depth=3, min_samples_leaf=15, min_samples_split=8, n_estimators=300;, score=0.633 total time=   1.3s\n",
      "[CV 2/5; 54/100] START bootstrap=True, ccp_alpha=0.001, class_weight=balanced_subsample, criterion=entropy, max_depth=3, min_samples_leaf=15, min_samples_split=8, n_estimators=300\n",
      "[CV 2/5; 54/100] END bootstrap=True, ccp_alpha=0.001, class_weight=balanced_subsample, criterion=entropy, max_depth=3, min_samples_leaf=15, min_samples_split=8, n_estimators=300;, score=0.617 total time=   1.1s\n",
      "[CV 3/5; 54/100] START bootstrap=True, ccp_alpha=0.001, class_weight=balanced_subsample, criterion=entropy, max_depth=3, min_samples_leaf=15, min_samples_split=8, n_estimators=300\n",
      "[CV 3/5; 54/100] END bootstrap=True, ccp_alpha=0.001, class_weight=balanced_subsample, criterion=entropy, max_depth=3, min_samples_leaf=15, min_samples_split=8, n_estimators=300;, score=0.542 total time=   1.4s\n",
      "[CV 4/5; 54/100] START bootstrap=True, ccp_alpha=0.001, class_weight=balanced_subsample, criterion=entropy, max_depth=3, min_samples_leaf=15, min_samples_split=8, n_estimators=300\n",
      "[CV 4/5; 54/100] END bootstrap=True, ccp_alpha=0.001, class_weight=balanced_subsample, criterion=entropy, max_depth=3, min_samples_leaf=15, min_samples_split=8, n_estimators=300;, score=0.630 total time=   1.4s\n",
      "[CV 5/5; 54/100] START bootstrap=True, ccp_alpha=0.001, class_weight=balanced_subsample, criterion=entropy, max_depth=3, min_samples_leaf=15, min_samples_split=8, n_estimators=300\n",
      "[CV 5/5; 54/100] END bootstrap=True, ccp_alpha=0.001, class_weight=balanced_subsample, criterion=entropy, max_depth=3, min_samples_leaf=15, min_samples_split=8, n_estimators=300;, score=0.711 total time=   1.0s\n",
      "[CV 1/5; 55/100] START bootstrap=False, ccp_alpha=0.1, class_weight={1: 0.56, 0: 0.44}, criterion=gini, max_depth=15, min_samples_leaf=15, min_samples_split=20, n_estimators=100\n",
      "[CV 1/5; 55/100] END bootstrap=False, ccp_alpha=0.1, class_weight={1: 0.56, 0: 0.44}, criterion=gini, max_depth=15, min_samples_leaf=15, min_samples_split=20, n_estimators=100;, score=0.500 total time=   0.3s\n",
      "[CV 2/5; 55/100] START bootstrap=False, ccp_alpha=0.1, class_weight={1: 0.56, 0: 0.44}, criterion=gini, max_depth=15, min_samples_leaf=15, min_samples_split=20, n_estimators=100\n",
      "[CV 2/5; 55/100] END bootstrap=False, ccp_alpha=0.1, class_weight={1: 0.56, 0: 0.44}, criterion=gini, max_depth=15, min_samples_leaf=15, min_samples_split=20, n_estimators=100;, score=0.500 total time=   0.3s\n",
      "[CV 3/5; 55/100] START bootstrap=False, ccp_alpha=0.1, class_weight={1: 0.56, 0: 0.44}, criterion=gini, max_depth=15, min_samples_leaf=15, min_samples_split=20, n_estimators=100\n",
      "[CV 3/5; 55/100] END bootstrap=False, ccp_alpha=0.1, class_weight={1: 0.56, 0: 0.44}, criterion=gini, max_depth=15, min_samples_leaf=15, min_samples_split=20, n_estimators=100;, score=0.500 total time=   0.4s\n",
      "[CV 4/5; 55/100] START bootstrap=False, ccp_alpha=0.1, class_weight={1: 0.56, 0: 0.44}, criterion=gini, max_depth=15, min_samples_leaf=15, min_samples_split=20, n_estimators=100\n",
      "[CV 4/5; 55/100] END bootstrap=False, ccp_alpha=0.1, class_weight={1: 0.56, 0: 0.44}, criterion=gini, max_depth=15, min_samples_leaf=15, min_samples_split=20, n_estimators=100;, score=0.500 total time=   0.4s\n",
      "[CV 5/5; 55/100] START bootstrap=False, ccp_alpha=0.1, class_weight={1: 0.56, 0: 0.44}, criterion=gini, max_depth=15, min_samples_leaf=15, min_samples_split=20, n_estimators=100\n",
      "[CV 5/5; 55/100] END bootstrap=False, ccp_alpha=0.1, class_weight={1: 0.56, 0: 0.44}, criterion=gini, max_depth=15, min_samples_leaf=15, min_samples_split=20, n_estimators=100;, score=0.500 total time=   0.3s\n",
      "[CV 1/5; 56/100] START bootstrap=True, ccp_alpha=0.00013, class_weight=balanced, criterion=gini, max_depth=3, min_samples_leaf=15, min_samples_split=15, n_estimators=500\n",
      "[CV 1/5; 56/100] END bootstrap=True, ccp_alpha=0.00013, class_weight=balanced, criterion=gini, max_depth=3, min_samples_leaf=15, min_samples_split=15, n_estimators=500;, score=0.668 total time=   1.4s\n",
      "[CV 2/5; 56/100] START bootstrap=True, ccp_alpha=0.00013, class_weight=balanced, criterion=gini, max_depth=3, min_samples_leaf=15, min_samples_split=15, n_estimators=500\n",
      "[CV 2/5; 56/100] END bootstrap=True, ccp_alpha=0.00013, class_weight=balanced, criterion=gini, max_depth=3, min_samples_leaf=15, min_samples_split=15, n_estimators=500;, score=0.627 total time=   1.4s\n",
      "[CV 3/5; 56/100] START bootstrap=True, ccp_alpha=0.00013, class_weight=balanced, criterion=gini, max_depth=3, min_samples_leaf=15, min_samples_split=15, n_estimators=500\n",
      "[CV 3/5; 56/100] END bootstrap=True, ccp_alpha=0.00013, class_weight=balanced, criterion=gini, max_depth=3, min_samples_leaf=15, min_samples_split=15, n_estimators=500;, score=0.542 total time=   1.5s\n",
      "[CV 4/5; 56/100] START bootstrap=True, ccp_alpha=0.00013, class_weight=balanced, criterion=gini, max_depth=3, min_samples_leaf=15, min_samples_split=15, n_estimators=500\n",
      "[CV 4/5; 56/100] END bootstrap=True, ccp_alpha=0.00013, class_weight=balanced, criterion=gini, max_depth=3, min_samples_leaf=15, min_samples_split=15, n_estimators=500;, score=0.642 total time=   1.5s\n",
      "[CV 5/5; 56/100] START bootstrap=True, ccp_alpha=0.00013, class_weight=balanced, criterion=gini, max_depth=3, min_samples_leaf=15, min_samples_split=15, n_estimators=500\n",
      "[CV 5/5; 56/100] END bootstrap=True, ccp_alpha=0.00013, class_weight=balanced, criterion=gini, max_depth=3, min_samples_leaf=15, min_samples_split=15, n_estimators=500;, score=0.664 total time=   1.5s\n",
      "[CV 1/5; 57/100] START bootstrap=True, ccp_alpha=0.1, class_weight=balanced_subsample, criterion=entropy, max_depth=10, min_samples_leaf=20, min_samples_split=15, n_estimators=300\n",
      "[CV 1/5; 57/100] END bootstrap=True, ccp_alpha=0.1, class_weight=balanced_subsample, criterion=entropy, max_depth=10, min_samples_leaf=20, min_samples_split=15, n_estimators=300;, score=0.500 total time=   1.2s\n",
      "[CV 2/5; 57/100] START bootstrap=True, ccp_alpha=0.1, class_weight=balanced_subsample, criterion=entropy, max_depth=10, min_samples_leaf=20, min_samples_split=15, n_estimators=300\n",
      "[CV 2/5; 57/100] END bootstrap=True, ccp_alpha=0.1, class_weight=balanced_subsample, criterion=entropy, max_depth=10, min_samples_leaf=20, min_samples_split=15, n_estimators=300;, score=0.617 total time=   1.2s\n",
      "[CV 3/5; 57/100] START bootstrap=True, ccp_alpha=0.1, class_weight=balanced_subsample, criterion=entropy, max_depth=10, min_samples_leaf=20, min_samples_split=15, n_estimators=300\n",
      "[CV 3/5; 57/100] END bootstrap=True, ccp_alpha=0.1, class_weight=balanced_subsample, criterion=entropy, max_depth=10, min_samples_leaf=20, min_samples_split=15, n_estimators=300;, score=0.548 total time=   1.4s\n",
      "[CV 4/5; 57/100] START bootstrap=True, ccp_alpha=0.1, class_weight=balanced_subsample, criterion=entropy, max_depth=10, min_samples_leaf=20, min_samples_split=15, n_estimators=300\n"
     ]
    },
    {
     "name": "stdout",
     "output_type": "stream",
     "text": [
      "[CV 4/5; 57/100] END bootstrap=True, ccp_alpha=0.1, class_weight=balanced_subsample, criterion=entropy, max_depth=10, min_samples_leaf=20, min_samples_split=15, n_estimators=300;, score=0.617 total time=   1.2s\n",
      "[CV 5/5; 57/100] START bootstrap=True, ccp_alpha=0.1, class_weight=balanced_subsample, criterion=entropy, max_depth=10, min_samples_leaf=20, min_samples_split=15, n_estimators=300\n",
      "[CV 5/5; 57/100] END bootstrap=True, ccp_alpha=0.1, class_weight=balanced_subsample, criterion=entropy, max_depth=10, min_samples_leaf=20, min_samples_split=15, n_estimators=300;, score=0.500 total time=   1.2s\n",
      "[CV 1/5; 58/100] START bootstrap=True, ccp_alpha=0.0001, class_weight={1: 0.56, 0: 0.44}, criterion=entropy, max_depth=3, min_samples_leaf=10, min_samples_split=13, n_estimators=100\n",
      "[CV 1/5; 58/100] END bootstrap=True, ccp_alpha=0.0001, class_weight={1: 0.56, 0: 0.44}, criterion=entropy, max_depth=3, min_samples_leaf=10, min_samples_split=13, n_estimators=100;, score=0.540 total time=   0.3s\n",
      "[CV 2/5; 58/100] START bootstrap=True, ccp_alpha=0.0001, class_weight={1: 0.56, 0: 0.44}, criterion=entropy, max_depth=3, min_samples_leaf=10, min_samples_split=13, n_estimators=100\n",
      "[CV 2/5; 58/100] END bootstrap=True, ccp_alpha=0.0001, class_weight={1: 0.56, 0: 0.44}, criterion=entropy, max_depth=3, min_samples_leaf=10, min_samples_split=13, n_estimators=100;, score=0.512 total time=   0.3s\n",
      "[CV 3/5; 58/100] START bootstrap=True, ccp_alpha=0.0001, class_weight={1: 0.56, 0: 0.44}, criterion=entropy, max_depth=3, min_samples_leaf=10, min_samples_split=13, n_estimators=100\n",
      "[CV 3/5; 58/100] END bootstrap=True, ccp_alpha=0.0001, class_weight={1: 0.56, 0: 0.44}, criterion=entropy, max_depth=3, min_samples_leaf=10, min_samples_split=13, n_estimators=100;, score=0.521 total time=   0.3s\n",
      "[CV 4/5; 58/100] START bootstrap=True, ccp_alpha=0.0001, class_weight={1: 0.56, 0: 0.44}, criterion=entropy, max_depth=3, min_samples_leaf=10, min_samples_split=13, n_estimators=100\n",
      "[CV 4/5; 58/100] END bootstrap=True, ccp_alpha=0.0001, class_weight={1: 0.56, 0: 0.44}, criterion=entropy, max_depth=3, min_samples_leaf=10, min_samples_split=13, n_estimators=100;, score=0.521 total time=   0.3s\n",
      "[CV 5/5; 58/100] START bootstrap=True, ccp_alpha=0.0001, class_weight={1: 0.56, 0: 0.44}, criterion=entropy, max_depth=3, min_samples_leaf=10, min_samples_split=13, n_estimators=100\n",
      "[CV 5/5; 58/100] END bootstrap=True, ccp_alpha=0.0001, class_weight={1: 0.56, 0: 0.44}, criterion=entropy, max_depth=3, min_samples_leaf=10, min_samples_split=13, n_estimators=100;, score=0.584 total time=   0.4s\n",
      "[CV 1/5; 59/100] START bootstrap=False, ccp_alpha=0.0001, class_weight={1: 0.56, 0: 0.44}, criterion=gini, max_depth=8, min_samples_leaf=10, min_samples_split=8, n_estimators=300\n",
      "[CV 1/5; 59/100] END bootstrap=False, ccp_alpha=0.0001, class_weight={1: 0.56, 0: 0.44}, criterion=gini, max_depth=8, min_samples_leaf=10, min_samples_split=8, n_estimators=300;, score=0.496 total time=   1.2s\n",
      "[CV 2/5; 59/100] START bootstrap=False, ccp_alpha=0.0001, class_weight={1: 0.56, 0: 0.44}, criterion=gini, max_depth=8, min_samples_leaf=10, min_samples_split=8, n_estimators=300\n",
      "[CV 2/5; 59/100] END bootstrap=False, ccp_alpha=0.0001, class_weight={1: 0.56, 0: 0.44}, criterion=gini, max_depth=8, min_samples_leaf=10, min_samples_split=8, n_estimators=300;, score=0.565 total time=   1.1s\n",
      "[CV 3/5; 59/100] START bootstrap=False, ccp_alpha=0.0001, class_weight={1: 0.56, 0: 0.44}, criterion=gini, max_depth=8, min_samples_leaf=10, min_samples_split=8, n_estimators=300\n",
      "[CV 3/5; 59/100] END bootstrap=False, ccp_alpha=0.0001, class_weight={1: 0.56, 0: 0.44}, criterion=gini, max_depth=8, min_samples_leaf=10, min_samples_split=8, n_estimators=300;, score=0.496 total time=   1.0s\n",
      "[CV 4/5; 59/100] START bootstrap=False, ccp_alpha=0.0001, class_weight={1: 0.56, 0: 0.44}, criterion=gini, max_depth=8, min_samples_leaf=10, min_samples_split=8, n_estimators=300\n",
      "[CV 4/5; 59/100] END bootstrap=False, ccp_alpha=0.0001, class_weight={1: 0.56, 0: 0.44}, criterion=gini, max_depth=8, min_samples_leaf=10, min_samples_split=8, n_estimators=300;, score=0.546 total time=   0.8s\n",
      "[CV 5/5; 59/100] START bootstrap=False, ccp_alpha=0.0001, class_weight={1: 0.56, 0: 0.44}, criterion=gini, max_depth=8, min_samples_leaf=10, min_samples_split=8, n_estimators=300\n",
      "[CV 5/5; 59/100] END bootstrap=False, ccp_alpha=0.0001, class_weight={1: 0.56, 0: 0.44}, criterion=gini, max_depth=8, min_samples_leaf=10, min_samples_split=8, n_estimators=300;, score=0.624 total time=   1.1s\n",
      "[CV 1/5; 60/100] START bootstrap=True, ccp_alpha=0.001, class_weight=balanced, criterion=gini, max_depth=10, min_samples_leaf=25, min_samples_split=13, n_estimators=500\n",
      "[CV 1/5; 60/100] END bootstrap=True, ccp_alpha=0.001, class_weight=balanced, criterion=gini, max_depth=10, min_samples_leaf=25, min_samples_split=13, n_estimators=500;, score=0.608 total time=   1.7s\n",
      "[CV 2/5; 60/100] START bootstrap=True, ccp_alpha=0.001, class_weight=balanced, criterion=gini, max_depth=10, min_samples_leaf=25, min_samples_split=13, n_estimators=500\n",
      "[CV 2/5; 60/100] END bootstrap=True, ccp_alpha=0.001, class_weight=balanced, criterion=gini, max_depth=10, min_samples_leaf=25, min_samples_split=13, n_estimators=500;, score=0.605 total time=   1.6s\n",
      "[CV 3/5; 60/100] START bootstrap=True, ccp_alpha=0.001, class_weight=balanced, criterion=gini, max_depth=10, min_samples_leaf=25, min_samples_split=13, n_estimators=500\n",
      "[CV 3/5; 60/100] END bootstrap=True, ccp_alpha=0.001, class_weight=balanced, criterion=gini, max_depth=10, min_samples_leaf=25, min_samples_split=13, n_estimators=500;, score=0.542 total time=   1.8s\n",
      "[CV 4/5; 60/100] START bootstrap=True, ccp_alpha=0.001, class_weight=balanced, criterion=gini, max_depth=10, min_samples_leaf=25, min_samples_split=13, n_estimators=500\n",
      "[CV 4/5; 60/100] END bootstrap=True, ccp_alpha=0.001, class_weight=balanced, criterion=gini, max_depth=10, min_samples_leaf=25, min_samples_split=13, n_estimators=500;, score=0.602 total time=   1.9s\n",
      "[CV 5/5; 60/100] START bootstrap=True, ccp_alpha=0.001, class_weight=balanced, criterion=gini, max_depth=10, min_samples_leaf=25, min_samples_split=13, n_estimators=500\n",
      "[CV 5/5; 60/100] END bootstrap=True, ccp_alpha=0.001, class_weight=balanced, criterion=gini, max_depth=10, min_samples_leaf=25, min_samples_split=13, n_estimators=500;, score=0.661 total time=   1.5s\n",
      "[CV 1/5; 61/100] START bootstrap=True, ccp_alpha=0.0001, class_weight=balanced_subsample, criterion=gini, max_depth=20, min_samples_leaf=15, min_samples_split=20, n_estimators=100\n",
      "[CV 1/5; 61/100] END bootstrap=True, ccp_alpha=0.0001, class_weight=balanced_subsample, criterion=gini, max_depth=20, min_samples_leaf=15, min_samples_split=20, n_estimators=100;, score=0.577 total time=   0.4s\n",
      "[CV 2/5; 61/100] START bootstrap=True, ccp_alpha=0.0001, class_weight=balanced_subsample, criterion=gini, max_depth=20, min_samples_leaf=15, min_samples_split=20, n_estimators=100\n",
      "[CV 2/5; 61/100] END bootstrap=True, ccp_alpha=0.0001, class_weight=balanced_subsample, criterion=gini, max_depth=20, min_samples_leaf=15, min_samples_split=20, n_estimators=100;, score=0.611 total time=   0.5s\n",
      "[CV 3/5; 61/100] START bootstrap=True, ccp_alpha=0.0001, class_weight=balanced_subsample, criterion=gini, max_depth=20, min_samples_leaf=15, min_samples_split=20, n_estimators=100\n",
      "[CV 3/5; 61/100] END bootstrap=True, ccp_alpha=0.0001, class_weight=balanced_subsample, criterion=gini, max_depth=20, min_samples_leaf=15, min_samples_split=20, n_estimators=100;, score=0.552 total time=   0.4s\n",
      "[CV 4/5; 61/100] START bootstrap=True, ccp_alpha=0.0001, class_weight=balanced_subsample, criterion=gini, max_depth=20, min_samples_leaf=15, min_samples_split=20, n_estimators=100\n",
      "[CV 4/5; 61/100] END bootstrap=True, ccp_alpha=0.0001, class_weight=balanced_subsample, criterion=gini, max_depth=20, min_samples_leaf=15, min_samples_split=20, n_estimators=100;, score=0.586 total time=   0.4s\n",
      "[CV 5/5; 61/100] START bootstrap=True, ccp_alpha=0.0001, class_weight=balanced_subsample, criterion=gini, max_depth=20, min_samples_leaf=15, min_samples_split=20, n_estimators=100\n",
      "[CV 5/5; 61/100] END bootstrap=True, ccp_alpha=0.0001, class_weight=balanced_subsample, criterion=gini, max_depth=20, min_samples_leaf=15, min_samples_split=20, n_estimators=100;, score=0.686 total time=   0.3s\n",
      "[CV 1/5; 62/100] START bootstrap=False, ccp_alpha=0.001, class_weight={1: 0.56, 0: 0.44}, criterion=entropy, max_depth=15, min_samples_leaf=30, min_samples_split=20, n_estimators=200\n"
     ]
    },
    {
     "name": "stdout",
     "output_type": "stream",
     "text": [
      "[CV 1/5; 62/100] END bootstrap=False, ccp_alpha=0.001, class_weight={1: 0.56, 0: 0.44}, criterion=entropy, max_depth=15, min_samples_leaf=30, min_samples_split=20, n_estimators=200;, score=0.527 total time=   0.7s\n",
      "[CV 2/5; 62/100] START bootstrap=False, ccp_alpha=0.001, class_weight={1: 0.56, 0: 0.44}, criterion=entropy, max_depth=15, min_samples_leaf=30, min_samples_split=20, n_estimators=200\n",
      "[CV 2/5; 62/100] END bootstrap=False, ccp_alpha=0.001, class_weight={1: 0.56, 0: 0.44}, criterion=entropy, max_depth=15, min_samples_leaf=30, min_samples_split=20, n_estimators=200;, score=0.537 total time=   0.6s\n",
      "[CV 3/5; 62/100] START bootstrap=False, ccp_alpha=0.001, class_weight={1: 0.56, 0: 0.44}, criterion=entropy, max_depth=15, min_samples_leaf=30, min_samples_split=20, n_estimators=200\n",
      "[CV 3/5; 62/100] END bootstrap=False, ccp_alpha=0.001, class_weight={1: 0.56, 0: 0.44}, criterion=entropy, max_depth=15, min_samples_leaf=30, min_samples_split=20, n_estimators=200;, score=0.521 total time=   0.5s\n",
      "[CV 4/5; 62/100] START bootstrap=False, ccp_alpha=0.001, class_weight={1: 0.56, 0: 0.44}, criterion=entropy, max_depth=15, min_samples_leaf=30, min_samples_split=20, n_estimators=200\n",
      "[CV 4/5; 62/100] END bootstrap=False, ccp_alpha=0.001, class_weight={1: 0.56, 0: 0.44}, criterion=entropy, max_depth=15, min_samples_leaf=30, min_samples_split=20, n_estimators=200;, score=0.568 total time=   0.8s\n",
      "[CV 5/5; 62/100] START bootstrap=False, ccp_alpha=0.001, class_weight={1: 0.56, 0: 0.44}, criterion=entropy, max_depth=15, min_samples_leaf=30, min_samples_split=20, n_estimators=200\n",
      "[CV 5/5; 62/100] END bootstrap=False, ccp_alpha=0.001, class_weight={1: 0.56, 0: 0.44}, criterion=entropy, max_depth=15, min_samples_leaf=30, min_samples_split=20, n_estimators=200;, score=0.643 total time=   0.7s\n",
      "[CV 1/5; 63/100] START bootstrap=True, ccp_alpha=0.1, class_weight=balanced, criterion=gini, max_depth=12, min_samples_leaf=10, min_samples_split=8, n_estimators=150\n",
      "[CV 1/5; 63/100] END bootstrap=True, ccp_alpha=0.1, class_weight=balanced, criterion=gini, max_depth=12, min_samples_leaf=10, min_samples_split=8, n_estimators=150;, score=0.500 total time=   0.6s\n",
      "[CV 2/5; 63/100] START bootstrap=True, ccp_alpha=0.1, class_weight=balanced, criterion=gini, max_depth=12, min_samples_leaf=10, min_samples_split=8, n_estimators=150\n",
      "[CV 2/5; 63/100] END bootstrap=True, ccp_alpha=0.1, class_weight=balanced, criterion=gini, max_depth=12, min_samples_leaf=10, min_samples_split=8, n_estimators=150;, score=0.500 total time=   0.6s\n",
      "[CV 3/5; 63/100] START bootstrap=True, ccp_alpha=0.1, class_weight=balanced, criterion=gini, max_depth=12, min_samples_leaf=10, min_samples_split=8, n_estimators=150\n",
      "[CV 3/5; 63/100] END bootstrap=True, ccp_alpha=0.1, class_weight=balanced, criterion=gini, max_depth=12, min_samples_leaf=10, min_samples_split=8, n_estimators=150;, score=0.500 total time=   0.6s\n",
      "[CV 4/5; 63/100] START bootstrap=True, ccp_alpha=0.1, class_weight=balanced, criterion=gini, max_depth=12, min_samples_leaf=10, min_samples_split=8, n_estimators=150\n",
      "[CV 4/5; 63/100] END bootstrap=True, ccp_alpha=0.1, class_weight=balanced, criterion=gini, max_depth=12, min_samples_leaf=10, min_samples_split=8, n_estimators=150;, score=0.500 total time=   0.7s\n",
      "[CV 5/5; 63/100] START bootstrap=True, ccp_alpha=0.1, class_weight=balanced, criterion=gini, max_depth=12, min_samples_leaf=10, min_samples_split=8, n_estimators=150\n",
      "[CV 5/5; 63/100] END bootstrap=True, ccp_alpha=0.1, class_weight=balanced, criterion=gini, max_depth=12, min_samples_leaf=10, min_samples_split=8, n_estimators=150;, score=0.500 total time=   0.5s\n",
      "[CV 1/5; 64/100] START bootstrap=True, ccp_alpha=0.00013, class_weight=balanced, criterion=entropy, max_depth=10, min_samples_leaf=30, min_samples_split=13, n_estimators=300\n",
      "[CV 1/5; 64/100] END bootstrap=True, ccp_alpha=0.00013, class_weight=balanced, criterion=entropy, max_depth=10, min_samples_leaf=30, min_samples_split=13, n_estimators=300;, score=0.596 total time=   1.1s\n",
      "[CV 2/5; 64/100] START bootstrap=True, ccp_alpha=0.00013, class_weight=balanced, criterion=entropy, max_depth=10, min_samples_leaf=30, min_samples_split=13, n_estimators=300\n",
      "[CV 2/5; 64/100] END bootstrap=True, ccp_alpha=0.00013, class_weight=balanced, criterion=entropy, max_depth=10, min_samples_leaf=30, min_samples_split=13, n_estimators=300;, score=0.533 total time=   1.1s\n",
      "[CV 3/5; 64/100] START bootstrap=True, ccp_alpha=0.00013, class_weight=balanced, criterion=entropy, max_depth=10, min_samples_leaf=30, min_samples_split=13, n_estimators=300\n",
      "[CV 3/5; 64/100] END bootstrap=True, ccp_alpha=0.00013, class_weight=balanced, criterion=entropy, max_depth=10, min_samples_leaf=30, min_samples_split=13, n_estimators=300;, score=0.530 total time=   1.1s\n",
      "[CV 4/5; 64/100] START bootstrap=True, ccp_alpha=0.00013, class_weight=balanced, criterion=entropy, max_depth=10, min_samples_leaf=30, min_samples_split=13, n_estimators=300\n",
      "[CV 4/5; 64/100] END bootstrap=True, ccp_alpha=0.00013, class_weight=balanced, criterion=entropy, max_depth=10, min_samples_leaf=30, min_samples_split=13, n_estimators=300;, score=0.602 total time=   0.9s\n",
      "[CV 5/5; 64/100] START bootstrap=True, ccp_alpha=0.00013, class_weight=balanced, criterion=entropy, max_depth=10, min_samples_leaf=30, min_samples_split=13, n_estimators=300\n",
      "[CV 5/5; 64/100] END bootstrap=True, ccp_alpha=0.00013, class_weight=balanced, criterion=entropy, max_depth=10, min_samples_leaf=30, min_samples_split=13, n_estimators=300;, score=0.664 total time=   1.1s\n",
      "[CV 1/5; 65/100] START bootstrap=True, ccp_alpha=0.0001, class_weight=balanced, criterion=entropy, max_depth=5, min_samples_leaf=15, min_samples_split=13, n_estimators=100\n",
      "[CV 1/5; 65/100] END bootstrap=True, ccp_alpha=0.0001, class_weight=balanced, criterion=entropy, max_depth=5, min_samples_leaf=15, min_samples_split=13, n_estimators=100;, score=0.586 total time=   0.4s\n",
      "[CV 2/5; 65/100] START bootstrap=True, ccp_alpha=0.0001, class_weight=balanced, criterion=entropy, max_depth=5, min_samples_leaf=15, min_samples_split=13, n_estimators=100\n",
      "[CV 2/5; 65/100] END bootstrap=True, ccp_alpha=0.0001, class_weight=balanced, criterion=entropy, max_depth=5, min_samples_leaf=15, min_samples_split=13, n_estimators=100;, score=0.624 total time=   0.4s\n",
      "[CV 3/5; 65/100] START bootstrap=True, ccp_alpha=0.0001, class_weight=balanced, criterion=entropy, max_depth=5, min_samples_leaf=15, min_samples_split=13, n_estimators=100\n",
      "[CV 3/5; 65/100] END bootstrap=True, ccp_alpha=0.0001, class_weight=balanced, criterion=entropy, max_depth=5, min_samples_leaf=15, min_samples_split=13, n_estimators=100;, score=0.552 total time=   0.4s\n",
      "[CV 4/5; 65/100] START bootstrap=True, ccp_alpha=0.0001, class_weight=balanced, criterion=entropy, max_depth=5, min_samples_leaf=15, min_samples_split=13, n_estimators=100\n",
      "[CV 4/5; 65/100] END bootstrap=True, ccp_alpha=0.0001, class_weight=balanced, criterion=entropy, max_depth=5, min_samples_leaf=15, min_samples_split=13, n_estimators=100;, score=0.621 total time=   0.4s\n",
      "[CV 5/5; 65/100] START bootstrap=True, ccp_alpha=0.0001, class_weight=balanced, criterion=entropy, max_depth=5, min_samples_leaf=15, min_samples_split=13, n_estimators=100\n",
      "[CV 5/5; 65/100] END bootstrap=True, ccp_alpha=0.0001, class_weight=balanced, criterion=entropy, max_depth=5, min_samples_leaf=15, min_samples_split=13, n_estimators=100;, score=0.686 total time=   0.3s\n",
      "[CV 1/5; 66/100] START bootstrap=True, ccp_alpha=0.0001, class_weight=balanced, criterion=entropy, max_depth=15, min_samples_leaf=20, min_samples_split=13, n_estimators=250\n",
      "[CV 1/5; 66/100] END bootstrap=True, ccp_alpha=0.0001, class_weight=balanced, criterion=entropy, max_depth=15, min_samples_leaf=20, min_samples_split=13, n_estimators=250;, score=0.571 total time=   0.7s\n",
      "[CV 2/5; 66/100] START bootstrap=True, ccp_alpha=0.0001, class_weight=balanced, criterion=entropy, max_depth=15, min_samples_leaf=20, min_samples_split=13, n_estimators=250\n",
      "[CV 2/5; 66/100] END bootstrap=True, ccp_alpha=0.0001, class_weight=balanced, criterion=entropy, max_depth=15, min_samples_leaf=20, min_samples_split=13, n_estimators=250;, score=0.611 total time=   0.7s\n",
      "[CV 3/5; 66/100] START bootstrap=True, ccp_alpha=0.0001, class_weight=balanced, criterion=entropy, max_depth=15, min_samples_leaf=20, min_samples_split=13, n_estimators=250\n"
     ]
    },
    {
     "name": "stdout",
     "output_type": "stream",
     "text": [
      "[CV 3/5; 66/100] END bootstrap=True, ccp_alpha=0.0001, class_weight=balanced, criterion=entropy, max_depth=15, min_samples_leaf=20, min_samples_split=13, n_estimators=250;, score=0.530 total time=   0.8s\n",
      "[CV 4/5; 66/100] START bootstrap=True, ccp_alpha=0.0001, class_weight=balanced, criterion=entropy, max_depth=15, min_samples_leaf=20, min_samples_split=13, n_estimators=250\n",
      "[CV 4/5; 66/100] END bootstrap=True, ccp_alpha=0.0001, class_weight=balanced, criterion=entropy, max_depth=15, min_samples_leaf=20, min_samples_split=13, n_estimators=250;, score=0.602 total time=   0.8s\n",
      "[CV 5/5; 66/100] START bootstrap=True, ccp_alpha=0.0001, class_weight=balanced, criterion=entropy, max_depth=15, min_samples_leaf=20, min_samples_split=13, n_estimators=250\n",
      "[CV 5/5; 66/100] END bootstrap=True, ccp_alpha=0.0001, class_weight=balanced, criterion=entropy, max_depth=15, min_samples_leaf=20, min_samples_split=13, n_estimators=250;, score=0.664 total time=   0.8s\n",
      "[CV 1/5; 67/100] START bootstrap=False, ccp_alpha=0.1, class_weight=balanced_subsample, criterion=gini, max_depth=20, min_samples_leaf=30, min_samples_split=10, n_estimators=200\n",
      "[CV 1/5; 67/100] END bootstrap=False, ccp_alpha=0.1, class_weight=balanced_subsample, criterion=gini, max_depth=20, min_samples_leaf=30, min_samples_split=10, n_estimators=200;, score=0.500 total time=   0.5s\n",
      "[CV 2/5; 67/100] START bootstrap=False, ccp_alpha=0.1, class_weight=balanced_subsample, criterion=gini, max_depth=20, min_samples_leaf=30, min_samples_split=10, n_estimators=200\n",
      "[CV 2/5; 67/100] END bootstrap=False, ccp_alpha=0.1, class_weight=balanced_subsample, criterion=gini, max_depth=20, min_samples_leaf=30, min_samples_split=10, n_estimators=200;, score=0.500 total time=   0.5s\n",
      "[CV 3/5; 67/100] START bootstrap=False, ccp_alpha=0.1, class_weight=balanced_subsample, criterion=gini, max_depth=20, min_samples_leaf=30, min_samples_split=10, n_estimators=200\n",
      "[CV 3/5; 67/100] END bootstrap=False, ccp_alpha=0.1, class_weight=balanced_subsample, criterion=gini, max_depth=20, min_samples_leaf=30, min_samples_split=10, n_estimators=200;, score=0.500 total time=   0.9s\n",
      "[CV 4/5; 67/100] START bootstrap=False, ccp_alpha=0.1, class_weight=balanced_subsample, criterion=gini, max_depth=20, min_samples_leaf=30, min_samples_split=10, n_estimators=200\n",
      "[CV 4/5; 67/100] END bootstrap=False, ccp_alpha=0.1, class_weight=balanced_subsample, criterion=gini, max_depth=20, min_samples_leaf=30, min_samples_split=10, n_estimators=200;, score=0.500 total time=   0.9s\n",
      "[CV 5/5; 67/100] START bootstrap=False, ccp_alpha=0.1, class_weight=balanced_subsample, criterion=gini, max_depth=20, min_samples_leaf=30, min_samples_split=10, n_estimators=200\n",
      "[CV 5/5; 67/100] END bootstrap=False, ccp_alpha=0.1, class_weight=balanced_subsample, criterion=gini, max_depth=20, min_samples_leaf=30, min_samples_split=10, n_estimators=200;, score=0.500 total time=   0.6s\n",
      "[CV 1/5; 68/100] START bootstrap=True, ccp_alpha=0.1, class_weight=balanced_subsample, criterion=entropy, max_depth=5, min_samples_leaf=25, min_samples_split=15, n_estimators=100\n",
      "[CV 1/5; 68/100] END bootstrap=True, ccp_alpha=0.1, class_weight=balanced_subsample, criterion=entropy, max_depth=5, min_samples_leaf=25, min_samples_split=15, n_estimators=100;, score=0.500 total time=   0.5s\n",
      "[CV 2/5; 68/100] START bootstrap=True, ccp_alpha=0.1, class_weight=balanced_subsample, criterion=entropy, max_depth=5, min_samples_leaf=25, min_samples_split=15, n_estimators=100\n",
      "[CV 2/5; 68/100] END bootstrap=True, ccp_alpha=0.1, class_weight=balanced_subsample, criterion=entropy, max_depth=5, min_samples_leaf=25, min_samples_split=15, n_estimators=100;, score=0.617 total time=   0.4s\n",
      "[CV 3/5; 68/100] START bootstrap=True, ccp_alpha=0.1, class_weight=balanced_subsample, criterion=entropy, max_depth=5, min_samples_leaf=25, min_samples_split=15, n_estimators=100\n",
      "[CV 3/5; 68/100] END bootstrap=True, ccp_alpha=0.1, class_weight=balanced_subsample, criterion=entropy, max_depth=5, min_samples_leaf=25, min_samples_split=15, n_estimators=100;, score=0.548 total time=   0.5s\n",
      "[CV 4/5; 68/100] START bootstrap=True, ccp_alpha=0.1, class_weight=balanced_subsample, criterion=entropy, max_depth=5, min_samples_leaf=25, min_samples_split=15, n_estimators=100\n",
      "[CV 4/5; 68/100] END bootstrap=True, ccp_alpha=0.1, class_weight=balanced_subsample, criterion=entropy, max_depth=5, min_samples_leaf=25, min_samples_split=15, n_estimators=100;, score=0.617 total time=   0.4s\n",
      "[CV 5/5; 68/100] START bootstrap=True, ccp_alpha=0.1, class_weight=balanced_subsample, criterion=entropy, max_depth=5, min_samples_leaf=25, min_samples_split=15, n_estimators=100\n",
      "[CV 5/5; 68/100] END bootstrap=True, ccp_alpha=0.1, class_weight=balanced_subsample, criterion=entropy, max_depth=5, min_samples_leaf=25, min_samples_split=15, n_estimators=100;, score=0.500 total time=   0.4s\n",
      "[CV 1/5; 69/100] START bootstrap=False, ccp_alpha=0.001, class_weight=balanced, criterion=entropy, max_depth=5, min_samples_leaf=20, min_samples_split=20, n_estimators=100\n",
      "[CV 1/5; 69/100] END bootstrap=False, ccp_alpha=0.001, class_weight=balanced, criterion=entropy, max_depth=5, min_samples_leaf=20, min_samples_split=20, n_estimators=100;, score=0.618 total time=   0.3s\n",
      "[CV 2/5; 69/100] START bootstrap=False, ccp_alpha=0.001, class_weight=balanced, criterion=entropy, max_depth=5, min_samples_leaf=20, min_samples_split=20, n_estimators=100\n",
      "[CV 2/5; 69/100] END bootstrap=False, ccp_alpha=0.001, class_weight=balanced, criterion=entropy, max_depth=5, min_samples_leaf=20, min_samples_split=20, n_estimators=100;, score=0.614 total time=   0.3s\n",
      "[CV 3/5; 69/100] START bootstrap=False, ccp_alpha=0.001, class_weight=balanced, criterion=entropy, max_depth=5, min_samples_leaf=20, min_samples_split=20, n_estimators=100\n",
      "[CV 3/5; 69/100] END bootstrap=False, ccp_alpha=0.001, class_weight=balanced, criterion=entropy, max_depth=5, min_samples_leaf=20, min_samples_split=20, n_estimators=100;, score=0.505 total time=   0.3s\n",
      "[CV 4/5; 69/100] START bootstrap=False, ccp_alpha=0.001, class_weight=balanced, criterion=entropy, max_depth=5, min_samples_leaf=20, min_samples_split=20, n_estimators=100\n",
      "[CV 4/5; 69/100] END bootstrap=False, ccp_alpha=0.001, class_weight=balanced, criterion=entropy, max_depth=5, min_samples_leaf=20, min_samples_split=20, n_estimators=100;, score=0.586 total time=   0.3s\n",
      "[CV 5/5; 69/100] START bootstrap=False, ccp_alpha=0.001, class_weight=balanced, criterion=entropy, max_depth=5, min_samples_leaf=20, min_samples_split=20, n_estimators=100\n",
      "[CV 5/5; 69/100] END bootstrap=False, ccp_alpha=0.001, class_weight=balanced, criterion=entropy, max_depth=5, min_samples_leaf=20, min_samples_split=20, n_estimators=100;, score=0.661 total time=   0.4s\n",
      "[CV 1/5; 70/100] START bootstrap=True, ccp_alpha=0.001, class_weight=balanced, criterion=gini, max_depth=20, min_samples_leaf=20, min_samples_split=5, n_estimators=500\n",
      "[CV 1/5; 70/100] END bootstrap=True, ccp_alpha=0.001, class_weight=balanced, criterion=gini, max_depth=20, min_samples_leaf=20, min_samples_split=5, n_estimators=500;, score=0.583 total time=   1.9s\n",
      "[CV 2/5; 70/100] START bootstrap=True, ccp_alpha=0.001, class_weight=balanced, criterion=gini, max_depth=20, min_samples_leaf=20, min_samples_split=5, n_estimators=500\n",
      "[CV 2/5; 70/100] END bootstrap=True, ccp_alpha=0.001, class_weight=balanced, criterion=gini, max_depth=20, min_samples_leaf=20, min_samples_split=5, n_estimators=500;, score=0.605 total time=   1.5s\n",
      "[CV 3/5; 70/100] START bootstrap=True, ccp_alpha=0.001, class_weight=balanced, criterion=gini, max_depth=20, min_samples_leaf=20, min_samples_split=5, n_estimators=500\n",
      "[CV 3/5; 70/100] END bootstrap=True, ccp_alpha=0.001, class_weight=balanced, criterion=gini, max_depth=20, min_samples_leaf=20, min_samples_split=5, n_estimators=500;, score=0.542 total time=   1.6s\n",
      "[CV 4/5; 70/100] START bootstrap=True, ccp_alpha=0.001, class_weight=balanced, criterion=gini, max_depth=20, min_samples_leaf=20, min_samples_split=5, n_estimators=500\n",
      "[CV 4/5; 70/100] END bootstrap=True, ccp_alpha=0.001, class_weight=balanced, criterion=gini, max_depth=20, min_samples_leaf=20, min_samples_split=5, n_estimators=500;, score=0.602 total time=   1.9s\n",
      "[CV 5/5; 70/100] START bootstrap=True, ccp_alpha=0.001, class_weight=balanced, criterion=gini, max_depth=20, min_samples_leaf=20, min_samples_split=5, n_estimators=500\n"
     ]
    },
    {
     "name": "stdout",
     "output_type": "stream",
     "text": [
      "[CV 5/5; 70/100] END bootstrap=True, ccp_alpha=0.001, class_weight=balanced, criterion=gini, max_depth=20, min_samples_leaf=20, min_samples_split=5, n_estimators=500;, score=0.642 total time=   1.4s\n",
      "[CV 1/5; 71/100] START bootstrap=False, ccp_alpha=1.3e-06, class_weight=balanced, criterion=entropy, max_depth=5, min_samples_leaf=10, min_samples_split=20, n_estimators=100\n",
      "[CV 1/5; 71/100] END bootstrap=False, ccp_alpha=1.3e-06, class_weight=balanced, criterion=entropy, max_depth=5, min_samples_leaf=10, min_samples_split=20, n_estimators=100;, score=0.599 total time=   0.4s\n",
      "[CV 2/5; 71/100] START bootstrap=False, ccp_alpha=1.3e-06, class_weight=balanced, criterion=entropy, max_depth=5, min_samples_leaf=10, min_samples_split=20, n_estimators=100\n",
      "[CV 2/5; 71/100] END bootstrap=False, ccp_alpha=1.3e-06, class_weight=balanced, criterion=entropy, max_depth=5, min_samples_leaf=10, min_samples_split=20, n_estimators=100;, score=0.624 total time=   0.4s\n",
      "[CV 3/5; 71/100] START bootstrap=False, ccp_alpha=1.3e-06, class_weight=balanced, criterion=entropy, max_depth=5, min_samples_leaf=10, min_samples_split=20, n_estimators=100\n",
      "[CV 3/5; 71/100] END bootstrap=False, ccp_alpha=1.3e-06, class_weight=balanced, criterion=entropy, max_depth=5, min_samples_leaf=10, min_samples_split=20, n_estimators=100;, score=0.533 total time=   0.4s\n",
      "[CV 4/5; 71/100] START bootstrap=False, ccp_alpha=1.3e-06, class_weight=balanced, criterion=entropy, max_depth=5, min_samples_leaf=10, min_samples_split=20, n_estimators=100\n",
      "[CV 4/5; 71/100] END bootstrap=False, ccp_alpha=1.3e-06, class_weight=balanced, criterion=entropy, max_depth=5, min_samples_leaf=10, min_samples_split=20, n_estimators=100;, score=0.605 total time=   0.3s\n",
      "[CV 5/5; 71/100] START bootstrap=False, ccp_alpha=1.3e-06, class_weight=balanced, criterion=entropy, max_depth=5, min_samples_leaf=10, min_samples_split=20, n_estimators=100\n",
      "[CV 5/5; 71/100] END bootstrap=False, ccp_alpha=1.3e-06, class_weight=balanced, criterion=entropy, max_depth=5, min_samples_leaf=10, min_samples_split=20, n_estimators=100;, score=0.667 total time=   0.3s\n",
      "[CV 1/5; 72/100] START bootstrap=True, ccp_alpha=0.0001, class_weight={1: 0.56, 0: 0.44}, criterion=entropy, max_depth=10, min_samples_leaf=40, min_samples_split=15, n_estimators=700\n",
      "[CV 1/5; 72/100] END bootstrap=True, ccp_alpha=0.0001, class_weight={1: 0.56, 0: 0.44}, criterion=entropy, max_depth=10, min_samples_leaf=40, min_samples_split=15, n_estimators=700;, score=0.553 total time=   2.5s\n",
      "[CV 2/5; 72/100] START bootstrap=True, ccp_alpha=0.0001, class_weight={1: 0.56, 0: 0.44}, criterion=entropy, max_depth=10, min_samples_leaf=40, min_samples_split=15, n_estimators=700\n",
      "[CV 2/5; 72/100] END bootstrap=True, ccp_alpha=0.0001, class_weight={1: 0.56, 0: 0.44}, criterion=entropy, max_depth=10, min_samples_leaf=40, min_samples_split=15, n_estimators=700;, score=0.543 total time=   2.3s\n",
      "[CV 3/5; 72/100] START bootstrap=True, ccp_alpha=0.0001, class_weight={1: 0.56, 0: 0.44}, criterion=entropy, max_depth=10, min_samples_leaf=40, min_samples_split=15, n_estimators=700\n",
      "[CV 3/5; 72/100] END bootstrap=True, ccp_alpha=0.0001, class_weight={1: 0.56, 0: 0.44}, criterion=entropy, max_depth=10, min_samples_leaf=40, min_samples_split=15, n_estimators=700;, score=0.528 total time=   3.1s\n",
      "[CV 4/5; 72/100] START bootstrap=True, ccp_alpha=0.0001, class_weight={1: 0.56, 0: 0.44}, criterion=entropy, max_depth=10, min_samples_leaf=40, min_samples_split=15, n_estimators=700\n",
      "[CV 4/5; 72/100] END bootstrap=True, ccp_alpha=0.0001, class_weight={1: 0.56, 0: 0.44}, criterion=entropy, max_depth=10, min_samples_leaf=40, min_samples_split=15, n_estimators=700;, score=0.531 total time=   2.8s\n",
      "[CV 5/5; 72/100] START bootstrap=True, ccp_alpha=0.0001, class_weight={1: 0.56, 0: 0.44}, criterion=entropy, max_depth=10, min_samples_leaf=40, min_samples_split=15, n_estimators=700\n",
      "[CV 5/5; 72/100] END bootstrap=True, ccp_alpha=0.0001, class_weight={1: 0.56, 0: 0.44}, criterion=entropy, max_depth=10, min_samples_leaf=40, min_samples_split=15, n_estimators=700;, score=0.609 total time=   2.2s\n",
      "[CV 1/5; 73/100] START bootstrap=True, ccp_alpha=0.0003, class_weight=balanced_subsample, criterion=entropy, max_depth=3, min_samples_leaf=15, min_samples_split=10, n_estimators=200\n",
      "[CV 1/5; 73/100] END bootstrap=True, ccp_alpha=0.0003, class_weight=balanced_subsample, criterion=entropy, max_depth=3, min_samples_leaf=15, min_samples_split=10, n_estimators=200;, score=0.624 total time=   0.7s\n",
      "[CV 2/5; 73/100] START bootstrap=True, ccp_alpha=0.0003, class_weight=balanced_subsample, criterion=entropy, max_depth=3, min_samples_leaf=15, min_samples_split=10, n_estimators=200\n",
      "[CV 2/5; 73/100] END bootstrap=True, ccp_alpha=0.0003, class_weight=balanced_subsample, criterion=entropy, max_depth=3, min_samples_leaf=15, min_samples_split=10, n_estimators=200;, score=0.605 total time=   0.9s\n",
      "[CV 3/5; 73/100] START bootstrap=True, ccp_alpha=0.0003, class_weight=balanced_subsample, criterion=entropy, max_depth=3, min_samples_leaf=15, min_samples_split=10, n_estimators=200\n",
      "[CV 3/5; 73/100] END bootstrap=True, ccp_alpha=0.0003, class_weight=balanced_subsample, criterion=entropy, max_depth=3, min_samples_leaf=15, min_samples_split=10, n_estimators=200;, score=0.542 total time=   0.8s\n",
      "[CV 4/5; 73/100] START bootstrap=True, ccp_alpha=0.0003, class_weight=balanced_subsample, criterion=entropy, max_depth=3, min_samples_leaf=15, min_samples_split=10, n_estimators=200\n",
      "[CV 4/5; 73/100] END bootstrap=True, ccp_alpha=0.0003, class_weight=balanced_subsample, criterion=entropy, max_depth=3, min_samples_leaf=15, min_samples_split=10, n_estimators=200;, score=0.639 total time=   0.8s\n",
      "[CV 5/5; 73/100] START bootstrap=True, ccp_alpha=0.0003, class_weight=balanced_subsample, criterion=entropy, max_depth=3, min_samples_leaf=15, min_samples_split=10, n_estimators=200\n",
      "[CV 5/5; 73/100] END bootstrap=True, ccp_alpha=0.0003, class_weight=balanced_subsample, criterion=entropy, max_depth=3, min_samples_leaf=15, min_samples_split=10, n_estimators=200;, score=0.711 total time=   0.9s\n",
      "[CV 1/5; 74/100] START bootstrap=False, ccp_alpha=0.0001, class_weight=balanced_subsample, criterion=entropy, max_depth=3, min_samples_leaf=20, min_samples_split=8, n_estimators=150\n",
      "[CV 1/5; 74/100] END bootstrap=False, ccp_alpha=0.0001, class_weight=balanced_subsample, criterion=entropy, max_depth=3, min_samples_leaf=20, min_samples_split=8, n_estimators=150;, score=0.665 total time=   0.5s\n",
      "[CV 2/5; 74/100] START bootstrap=False, ccp_alpha=0.0001, class_weight=balanced_subsample, criterion=entropy, max_depth=3, min_samples_leaf=20, min_samples_split=8, n_estimators=150\n",
      "[CV 2/5; 74/100] END bootstrap=False, ccp_alpha=0.0001, class_weight=balanced_subsample, criterion=entropy, max_depth=3, min_samples_leaf=20, min_samples_split=8, n_estimators=150;, score=0.646 total time=   0.5s\n",
      "[CV 3/5; 74/100] START bootstrap=False, ccp_alpha=0.0001, class_weight=balanced_subsample, criterion=entropy, max_depth=3, min_samples_leaf=20, min_samples_split=8, n_estimators=150\n",
      "[CV 3/5; 74/100] END bootstrap=False, ccp_alpha=0.0001, class_weight=balanced_subsample, criterion=entropy, max_depth=3, min_samples_leaf=20, min_samples_split=8, n_estimators=150;, score=0.517 total time=   0.6s\n",
      "[CV 4/5; 74/100] START bootstrap=False, ccp_alpha=0.0001, class_weight=balanced_subsample, criterion=entropy, max_depth=3, min_samples_leaf=20, min_samples_split=8, n_estimators=150\n",
      "[CV 4/5; 74/100] END bootstrap=False, ccp_alpha=0.0001, class_weight=balanced_subsample, criterion=entropy, max_depth=3, min_samples_leaf=20, min_samples_split=8, n_estimators=150;, score=0.642 total time=   0.4s\n",
      "[CV 5/5; 74/100] START bootstrap=False, ccp_alpha=0.0001, class_weight=balanced_subsample, criterion=entropy, max_depth=3, min_samples_leaf=20, min_samples_split=8, n_estimators=150\n",
      "[CV 5/5; 74/100] END bootstrap=False, ccp_alpha=0.0001, class_weight=balanced_subsample, criterion=entropy, max_depth=3, min_samples_leaf=20, min_samples_split=8, n_estimators=150;, score=0.649 total time=   0.4s\n",
      "[CV 1/5; 75/100] START bootstrap=True, ccp_alpha=0.0003, class_weight={1: 0.56, 0: 0.44}, criterion=entropy, max_depth=15, min_samples_leaf=20, min_samples_split=8, n_estimators=500\n"
     ]
    },
    {
     "name": "stdout",
     "output_type": "stream",
     "text": [
      "[CV 1/5; 75/100] END bootstrap=True, ccp_alpha=0.0003, class_weight={1: 0.56, 0: 0.44}, criterion=entropy, max_depth=15, min_samples_leaf=20, min_samples_split=8, n_estimators=500;, score=0.546 total time=   1.4s\n",
      "[CV 2/5; 75/100] START bootstrap=True, ccp_alpha=0.0003, class_weight={1: 0.56, 0: 0.44}, criterion=entropy, max_depth=15, min_samples_leaf=20, min_samples_split=8, n_estimators=500\n",
      "[CV 2/5; 75/100] END bootstrap=True, ccp_alpha=0.0003, class_weight={1: 0.56, 0: 0.44}, criterion=entropy, max_depth=15, min_samples_leaf=20, min_samples_split=8, n_estimators=500;, score=0.550 total time=   2.1s\n",
      "[CV 3/5; 75/100] START bootstrap=True, ccp_alpha=0.0003, class_weight={1: 0.56, 0: 0.44}, criterion=entropy, max_depth=15, min_samples_leaf=20, min_samples_split=8, n_estimators=500\n",
      "[CV 3/5; 75/100] END bootstrap=True, ccp_alpha=0.0003, class_weight={1: 0.56, 0: 0.44}, criterion=entropy, max_depth=15, min_samples_leaf=20, min_samples_split=8, n_estimators=500;, score=0.506 total time=   1.9s\n",
      "[CV 4/5; 75/100] START bootstrap=True, ccp_alpha=0.0003, class_weight={1: 0.56, 0: 0.44}, criterion=entropy, max_depth=15, min_samples_leaf=20, min_samples_split=8, n_estimators=500\n",
      "[CV 4/5; 75/100] END bootstrap=True, ccp_alpha=0.0003, class_weight={1: 0.56, 0: 0.44}, criterion=entropy, max_depth=15, min_samples_leaf=20, min_samples_split=8, n_estimators=500;, score=0.540 total time=   1.7s\n",
      "[CV 5/5; 75/100] START bootstrap=True, ccp_alpha=0.0003, class_weight={1: 0.56, 0: 0.44}, criterion=entropy, max_depth=15, min_samples_leaf=20, min_samples_split=8, n_estimators=500\n",
      "[CV 5/5; 75/100] END bootstrap=True, ccp_alpha=0.0003, class_weight={1: 0.56, 0: 0.44}, criterion=entropy, max_depth=15, min_samples_leaf=20, min_samples_split=8, n_estimators=500;, score=0.618 total time=   1.4s\n",
      "[CV 1/5; 76/100] START bootstrap=True, ccp_alpha=0.0001, class_weight=balanced_subsample, criterion=entropy, max_depth=3, min_samples_leaf=25, min_samples_split=15, n_estimators=700\n",
      "[CV 1/5; 76/100] END bootstrap=True, ccp_alpha=0.0001, class_weight=balanced_subsample, criterion=entropy, max_depth=3, min_samples_leaf=25, min_samples_split=15, n_estimators=700;, score=0.605 total time=   2.3s\n",
      "[CV 2/5; 76/100] START bootstrap=True, ccp_alpha=0.0001, class_weight=balanced_subsample, criterion=entropy, max_depth=3, min_samples_leaf=25, min_samples_split=15, n_estimators=700\n",
      "[CV 2/5; 76/100] END bootstrap=True, ccp_alpha=0.0001, class_weight=balanced_subsample, criterion=entropy, max_depth=3, min_samples_leaf=25, min_samples_split=15, n_estimators=700;, score=0.586 total time=   2.1s\n",
      "[CV 3/5; 76/100] START bootstrap=True, ccp_alpha=0.0001, class_weight=balanced_subsample, criterion=entropy, max_depth=3, min_samples_leaf=25, min_samples_split=15, n_estimators=700\n",
      "[CV 3/5; 76/100] END bootstrap=True, ccp_alpha=0.0001, class_weight=balanced_subsample, criterion=entropy, max_depth=3, min_samples_leaf=25, min_samples_split=15, n_estimators=700;, score=0.530 total time=   2.4s\n",
      "[CV 4/5; 76/100] START bootstrap=True, ccp_alpha=0.0001, class_weight=balanced_subsample, criterion=entropy, max_depth=3, min_samples_leaf=25, min_samples_split=15, n_estimators=700\n",
      "[CV 4/5; 76/100] END bootstrap=True, ccp_alpha=0.0001, class_weight=balanced_subsample, criterion=entropy, max_depth=3, min_samples_leaf=25, min_samples_split=15, n_estimators=700;, score=0.639 total time=   2.5s\n",
      "[CV 5/5; 76/100] START bootstrap=True, ccp_alpha=0.0001, class_weight=balanced_subsample, criterion=entropy, max_depth=3, min_samples_leaf=25, min_samples_split=15, n_estimators=700\n",
      "[CV 5/5; 76/100] END bootstrap=True, ccp_alpha=0.0001, class_weight=balanced_subsample, criterion=entropy, max_depth=3, min_samples_leaf=25, min_samples_split=15, n_estimators=700;, score=0.664 total time=   2.4s\n",
      "[CV 1/5; 77/100] START bootstrap=True, ccp_alpha=0.1, class_weight=balanced, criterion=entropy, max_depth=10, min_samples_leaf=15, min_samples_split=5, n_estimators=700\n",
      "[CV 1/5; 77/100] END bootstrap=True, ccp_alpha=0.1, class_weight=balanced, criterion=entropy, max_depth=10, min_samples_leaf=15, min_samples_split=5, n_estimators=700;, score=0.500 total time=   1.9s\n",
      "[CV 2/5; 77/100] START bootstrap=True, ccp_alpha=0.1, class_weight=balanced, criterion=entropy, max_depth=10, min_samples_leaf=15, min_samples_split=5, n_estimators=700\n",
      "[CV 2/5; 77/100] END bootstrap=True, ccp_alpha=0.1, class_weight=balanced, criterion=entropy, max_depth=10, min_samples_leaf=15, min_samples_split=5, n_estimators=700;, score=0.617 total time=   1.9s\n",
      "[CV 3/5; 77/100] START bootstrap=True, ccp_alpha=0.1, class_weight=balanced, criterion=entropy, max_depth=10, min_samples_leaf=15, min_samples_split=5, n_estimators=700\n",
      "[CV 3/5; 77/100] END bootstrap=True, ccp_alpha=0.1, class_weight=balanced, criterion=entropy, max_depth=10, min_samples_leaf=15, min_samples_split=5, n_estimators=700;, score=0.548 total time=   1.9s\n",
      "[CV 4/5; 77/100] START bootstrap=True, ccp_alpha=0.1, class_weight=balanced, criterion=entropy, max_depth=10, min_samples_leaf=15, min_samples_split=5, n_estimators=700\n",
      "[CV 4/5; 77/100] END bootstrap=True, ccp_alpha=0.1, class_weight=balanced, criterion=entropy, max_depth=10, min_samples_leaf=15, min_samples_split=5, n_estimators=700;, score=0.617 total time=   2.3s\n",
      "[CV 5/5; 77/100] START bootstrap=True, ccp_alpha=0.1, class_weight=balanced, criterion=entropy, max_depth=10, min_samples_leaf=15, min_samples_split=5, n_estimators=700\n",
      "[CV 5/5; 77/100] END bootstrap=True, ccp_alpha=0.1, class_weight=balanced, criterion=entropy, max_depth=10, min_samples_leaf=15, min_samples_split=5, n_estimators=700;, score=0.500 total time=   2.1s\n",
      "[CV 1/5; 78/100] START bootstrap=False, ccp_alpha=0.0003, class_weight={1: 0.56, 0: 0.44}, criterion=gini, max_depth=3, min_samples_leaf=25, min_samples_split=15, n_estimators=250\n",
      "[CV 1/5; 78/100] END bootstrap=False, ccp_alpha=0.0003, class_weight={1: 0.56, 0: 0.44}, criterion=gini, max_depth=3, min_samples_leaf=25, min_samples_split=15, n_estimators=250;, score=0.553 total time=   0.7s\n",
      "[CV 2/5; 78/100] START bootstrap=False, ccp_alpha=0.0003, class_weight={1: 0.56, 0: 0.44}, criterion=gini, max_depth=3, min_samples_leaf=25, min_samples_split=15, n_estimators=250\n",
      "[CV 2/5; 78/100] END bootstrap=False, ccp_alpha=0.0003, class_weight={1: 0.56, 0: 0.44}, criterion=gini, max_depth=3, min_samples_leaf=25, min_samples_split=15, n_estimators=250;, score=0.550 total time=   0.7s\n",
      "[CV 3/5; 78/100] START bootstrap=False, ccp_alpha=0.0003, class_weight={1: 0.56, 0: 0.44}, criterion=gini, max_depth=3, min_samples_leaf=25, min_samples_split=15, n_estimators=250\n",
      "[CV 3/5; 78/100] END bootstrap=False, ccp_alpha=0.0003, class_weight={1: 0.56, 0: 0.44}, criterion=gini, max_depth=3, min_samples_leaf=25, min_samples_split=15, n_estimators=250;, score=0.525 total time=   0.8s\n",
      "[CV 4/5; 78/100] START bootstrap=False, ccp_alpha=0.0003, class_weight={1: 0.56, 0: 0.44}, criterion=gini, max_depth=3, min_samples_leaf=25, min_samples_split=15, n_estimators=250\n",
      "[CV 4/5; 78/100] END bootstrap=False, ccp_alpha=0.0003, class_weight={1: 0.56, 0: 0.44}, criterion=gini, max_depth=3, min_samples_leaf=25, min_samples_split=15, n_estimators=250;, score=0.553 total time=   0.7s\n",
      "[CV 5/5; 78/100] START bootstrap=False, ccp_alpha=0.0003, class_weight={1: 0.56, 0: 0.44}, criterion=gini, max_depth=3, min_samples_leaf=25, min_samples_split=15, n_estimators=250\n",
      "[CV 5/5; 78/100] END bootstrap=False, ccp_alpha=0.0003, class_weight={1: 0.56, 0: 0.44}, criterion=gini, max_depth=3, min_samples_leaf=25, min_samples_split=15, n_estimators=250;, score=0.609 total time=   0.9s\n",
      "[CV 1/5; 79/100] START bootstrap=False, ccp_alpha=0.00013, class_weight={1: 0.56, 0: 0.44}, criterion=entropy, max_depth=15, min_samples_leaf=25, min_samples_split=20, n_estimators=300\n",
      "[CV 1/5; 79/100] END bootstrap=False, ccp_alpha=0.00013, class_weight={1: 0.56, 0: 0.44}, criterion=entropy, max_depth=15, min_samples_leaf=25, min_samples_split=20, n_estimators=300;, score=0.518 total time=   1.1s\n",
      "[CV 2/5; 79/100] START bootstrap=False, ccp_alpha=0.00013, class_weight={1: 0.56, 0: 0.44}, criterion=entropy, max_depth=15, min_samples_leaf=25, min_samples_split=20, n_estimators=300\n",
      "[CV 2/5; 79/100] END bootstrap=False, ccp_alpha=0.00013, class_weight={1: 0.56, 0: 0.44}, criterion=entropy, max_depth=15, min_samples_leaf=25, min_samples_split=20, n_estimators=300;, score=0.537 total time=   1.1s\n",
      "[CV 3/5; 79/100] START bootstrap=False, ccp_alpha=0.00013, class_weight={1: 0.56, 0: 0.44}, criterion=entropy, max_depth=15, min_samples_leaf=25, min_samples_split=20, n_estimators=300\n"
     ]
    },
    {
     "name": "stdout",
     "output_type": "stream",
     "text": [
      "[CV 3/5; 79/100] END bootstrap=False, ccp_alpha=0.00013, class_weight={1: 0.56, 0: 0.44}, criterion=entropy, max_depth=15, min_samples_leaf=25, min_samples_split=20, n_estimators=300;, score=0.521 total time=   1.0s\n",
      "[CV 4/5; 79/100] START bootstrap=False, ccp_alpha=0.00013, class_weight={1: 0.56, 0: 0.44}, criterion=entropy, max_depth=15, min_samples_leaf=25, min_samples_split=20, n_estimators=300\n",
      "[CV 4/5; 79/100] END bootstrap=False, ccp_alpha=0.00013, class_weight={1: 0.56, 0: 0.44}, criterion=entropy, max_depth=15, min_samples_leaf=25, min_samples_split=20, n_estimators=300;, score=0.546 total time=   1.1s\n",
      "[CV 5/5; 79/100] START bootstrap=False, ccp_alpha=0.00013, class_weight={1: 0.56, 0: 0.44}, criterion=entropy, max_depth=15, min_samples_leaf=25, min_samples_split=20, n_estimators=300\n",
      "[CV 5/5; 79/100] END bootstrap=False, ccp_alpha=0.00013, class_weight={1: 0.56, 0: 0.44}, criterion=entropy, max_depth=15, min_samples_leaf=25, min_samples_split=20, n_estimators=300;, score=0.631 total time=   0.9s\n",
      "[CV 1/5; 80/100] START bootstrap=False, ccp_alpha=0.0003, class_weight=balanced_subsample, criterion=gini, max_depth=10, min_samples_leaf=30, min_samples_split=8, n_estimators=700\n",
      "[CV 1/5; 80/100] END bootstrap=False, ccp_alpha=0.0003, class_weight=balanced_subsample, criterion=gini, max_depth=10, min_samples_leaf=30, min_samples_split=8, n_estimators=700;, score=0.615 total time=   2.1s\n",
      "[CV 2/5; 80/100] START bootstrap=False, ccp_alpha=0.0003, class_weight=balanced_subsample, criterion=gini, max_depth=10, min_samples_leaf=30, min_samples_split=8, n_estimators=700\n",
      "[CV 2/5; 80/100] END bootstrap=False, ccp_alpha=0.0003, class_weight=balanced_subsample, criterion=gini, max_depth=10, min_samples_leaf=30, min_samples_split=8, n_estimators=700;, score=0.571 total time=   1.7s\n",
      "[CV 3/5; 80/100] START bootstrap=False, ccp_alpha=0.0003, class_weight=balanced_subsample, criterion=gini, max_depth=10, min_samples_leaf=30, min_samples_split=8, n_estimators=700\n",
      "[CV 3/5; 80/100] END bootstrap=False, ccp_alpha=0.0003, class_weight=balanced_subsample, criterion=gini, max_depth=10, min_samples_leaf=30, min_samples_split=8, n_estimators=700;, score=0.517 total time=   1.7s\n",
      "[CV 4/5; 80/100] START bootstrap=False, ccp_alpha=0.0003, class_weight=balanced_subsample, criterion=gini, max_depth=10, min_samples_leaf=30, min_samples_split=8, n_estimators=700\n",
      "[CV 4/5; 80/100] END bootstrap=False, ccp_alpha=0.0003, class_weight=balanced_subsample, criterion=gini, max_depth=10, min_samples_leaf=30, min_samples_split=8, n_estimators=700;, score=0.564 total time=   1.7s\n",
      "[CV 5/5; 80/100] START bootstrap=False, ccp_alpha=0.0003, class_weight=balanced_subsample, criterion=gini, max_depth=10, min_samples_leaf=30, min_samples_split=8, n_estimators=700\n",
      "[CV 5/5; 80/100] END bootstrap=False, ccp_alpha=0.0003, class_weight=balanced_subsample, criterion=gini, max_depth=10, min_samples_leaf=30, min_samples_split=8, n_estimators=700;, score=0.667 total time=   1.9s\n",
      "[CV 1/5; 81/100] START bootstrap=False, ccp_alpha=0.00013, class_weight=balanced_subsample, criterion=entropy, max_depth=5, min_samples_leaf=40, min_samples_split=20, n_estimators=500\n",
      "[CV 1/5; 81/100] END bootstrap=False, ccp_alpha=0.00013, class_weight=balanced_subsample, criterion=entropy, max_depth=5, min_samples_leaf=40, min_samples_split=20, n_estimators=500;, score=0.618 total time=   1.3s\n",
      "[CV 2/5; 81/100] START bootstrap=False, ccp_alpha=0.00013, class_weight=balanced_subsample, criterion=entropy, max_depth=5, min_samples_leaf=40, min_samples_split=20, n_estimators=500\n",
      "[CV 2/5; 81/100] END bootstrap=False, ccp_alpha=0.00013, class_weight=balanced_subsample, criterion=entropy, max_depth=5, min_samples_leaf=40, min_samples_split=20, n_estimators=500;, score=0.605 total time=   1.4s\n",
      "[CV 3/5; 81/100] START bootstrap=False, ccp_alpha=0.00013, class_weight=balanced_subsample, criterion=entropy, max_depth=5, min_samples_leaf=40, min_samples_split=20, n_estimators=500\n",
      "[CV 3/5; 81/100] END bootstrap=False, ccp_alpha=0.00013, class_weight=balanced_subsample, criterion=entropy, max_depth=5, min_samples_leaf=40, min_samples_split=20, n_estimators=500;, score=0.517 total time=   1.6s\n",
      "[CV 4/5; 81/100] START bootstrap=False, ccp_alpha=0.00013, class_weight=balanced_subsample, criterion=entropy, max_depth=5, min_samples_leaf=40, min_samples_split=20, n_estimators=500\n",
      "[CV 4/5; 81/100] END bootstrap=False, ccp_alpha=0.00013, class_weight=balanced_subsample, criterion=entropy, max_depth=5, min_samples_leaf=40, min_samples_split=20, n_estimators=500;, score=0.577 total time=   1.7s\n",
      "[CV 5/5; 81/100] START bootstrap=False, ccp_alpha=0.00013, class_weight=balanced_subsample, criterion=entropy, max_depth=5, min_samples_leaf=40, min_samples_split=20, n_estimators=500\n",
      "[CV 5/5; 81/100] END bootstrap=False, ccp_alpha=0.00013, class_weight=balanced_subsample, criterion=entropy, max_depth=5, min_samples_leaf=40, min_samples_split=20, n_estimators=500;, score=0.677 total time=   2.0s\n",
      "[CV 1/5; 82/100] START bootstrap=True, ccp_alpha=0.0001, class_weight=balanced_subsample, criterion=gini, max_depth=8, min_samples_leaf=25, min_samples_split=13, n_estimators=250\n",
      "[CV 1/5; 82/100] END bootstrap=True, ccp_alpha=0.0001, class_weight=balanced_subsample, criterion=gini, max_depth=8, min_samples_leaf=25, min_samples_split=13, n_estimators=250;, score=0.621 total time=   1.4s\n",
      "[CV 2/5; 82/100] START bootstrap=True, ccp_alpha=0.0001, class_weight=balanced_subsample, criterion=gini, max_depth=8, min_samples_leaf=25, min_samples_split=13, n_estimators=250\n",
      "[CV 2/5; 82/100] END bootstrap=True, ccp_alpha=0.0001, class_weight=balanced_subsample, criterion=gini, max_depth=8, min_samples_leaf=25, min_samples_split=13, n_estimators=250;, score=0.558 total time=   1.1s\n",
      "[CV 3/5; 82/100] START bootstrap=True, ccp_alpha=0.0001, class_weight=balanced_subsample, criterion=gini, max_depth=8, min_samples_leaf=25, min_samples_split=13, n_estimators=250\n",
      "[CV 3/5; 82/100] END bootstrap=True, ccp_alpha=0.0001, class_weight=balanced_subsample, criterion=gini, max_depth=8, min_samples_leaf=25, min_samples_split=13, n_estimators=250;, score=0.530 total time=   0.8s\n",
      "[CV 4/5; 82/100] START bootstrap=True, ccp_alpha=0.0001, class_weight=balanced_subsample, criterion=gini, max_depth=8, min_samples_leaf=25, min_samples_split=13, n_estimators=250\n",
      "[CV 4/5; 82/100] END bootstrap=True, ccp_alpha=0.0001, class_weight=balanced_subsample, criterion=gini, max_depth=8, min_samples_leaf=25, min_samples_split=13, n_estimators=250;, score=0.602 total time=   1.1s\n",
      "[CV 5/5; 82/100] START bootstrap=True, ccp_alpha=0.0001, class_weight=balanced_subsample, criterion=gini, max_depth=8, min_samples_leaf=25, min_samples_split=13, n_estimators=250\n",
      "[CV 5/5; 82/100] END bootstrap=True, ccp_alpha=0.0001, class_weight=balanced_subsample, criterion=gini, max_depth=8, min_samples_leaf=25, min_samples_split=13, n_estimators=250;, score=0.683 total time=   1.1s\n",
      "[CV 1/5; 83/100] START bootstrap=True, ccp_alpha=0.001, class_weight=balanced, criterion=entropy, max_depth=20, min_samples_leaf=30, min_samples_split=5, n_estimators=100\n",
      "[CV 1/5; 83/100] END bootstrap=True, ccp_alpha=0.001, class_weight=balanced, criterion=entropy, max_depth=20, min_samples_leaf=30, min_samples_split=5, n_estimators=100;, score=0.583 total time=   0.4s\n",
      "[CV 2/5; 83/100] START bootstrap=True, ccp_alpha=0.001, class_weight=balanced, criterion=entropy, max_depth=20, min_samples_leaf=30, min_samples_split=5, n_estimators=100\n",
      "[CV 2/5; 83/100] END bootstrap=True, ccp_alpha=0.001, class_weight=balanced, criterion=entropy, max_depth=20, min_samples_leaf=30, min_samples_split=5, n_estimators=100;, score=0.533 total time=   0.3s\n",
      "[CV 3/5; 83/100] START bootstrap=True, ccp_alpha=0.001, class_weight=balanced, criterion=entropy, max_depth=20, min_samples_leaf=30, min_samples_split=5, n_estimators=100\n",
      "[CV 3/5; 83/100] END bootstrap=True, ccp_alpha=0.001, class_weight=balanced, criterion=entropy, max_depth=20, min_samples_leaf=30, min_samples_split=5, n_estimators=100;, score=0.542 total time=   0.4s\n",
      "[CV 4/5; 83/100] START bootstrap=True, ccp_alpha=0.001, class_weight=balanced, criterion=entropy, max_depth=20, min_samples_leaf=30, min_samples_split=5, n_estimators=100\n"
     ]
    },
    {
     "name": "stdout",
     "output_type": "stream",
     "text": [
      "[CV 4/5; 83/100] END bootstrap=True, ccp_alpha=0.001, class_weight=balanced, criterion=entropy, max_depth=20, min_samples_leaf=30, min_samples_split=5, n_estimators=100;, score=0.627 total time=   0.4s\n",
      "[CV 5/5; 83/100] START bootstrap=True, ccp_alpha=0.001, class_weight=balanced, criterion=entropy, max_depth=20, min_samples_leaf=30, min_samples_split=5, n_estimators=100\n",
      "[CV 5/5; 83/100] END bootstrap=True, ccp_alpha=0.001, class_weight=balanced, criterion=entropy, max_depth=20, min_samples_leaf=30, min_samples_split=5, n_estimators=100;, score=0.671 total time=   0.3s\n",
      "[CV 1/5; 84/100] START bootstrap=True, ccp_alpha=0.00013, class_weight=balanced_subsample, criterion=entropy, max_depth=3, min_samples_leaf=20, min_samples_split=15, n_estimators=700\n",
      "[CV 1/5; 84/100] END bootstrap=True, ccp_alpha=0.00013, class_weight=balanced_subsample, criterion=entropy, max_depth=3, min_samples_leaf=20, min_samples_split=15, n_estimators=700;, score=0.611 total time=   2.7s\n",
      "[CV 2/5; 84/100] START bootstrap=True, ccp_alpha=0.00013, class_weight=balanced_subsample, criterion=entropy, max_depth=3, min_samples_leaf=20, min_samples_split=15, n_estimators=700\n",
      "[CV 2/5; 84/100] END bootstrap=True, ccp_alpha=0.00013, class_weight=balanced_subsample, criterion=entropy, max_depth=3, min_samples_leaf=20, min_samples_split=15, n_estimators=700;, score=0.627 total time=   2.7s\n",
      "[CV 3/5; 84/100] START bootstrap=True, ccp_alpha=0.00013, class_weight=balanced_subsample, criterion=entropy, max_depth=3, min_samples_leaf=20, min_samples_split=15, n_estimators=700\n",
      "[CV 3/5; 84/100] END bootstrap=True, ccp_alpha=0.00013, class_weight=balanced_subsample, criterion=entropy, max_depth=3, min_samples_leaf=20, min_samples_split=15, n_estimators=700;, score=0.542 total time=   2.6s\n",
      "[CV 4/5; 84/100] START bootstrap=True, ccp_alpha=0.00013, class_weight=balanced_subsample, criterion=entropy, max_depth=3, min_samples_leaf=20, min_samples_split=15, n_estimators=700\n",
      "[CV 4/5; 84/100] END bootstrap=True, ccp_alpha=0.00013, class_weight=balanced_subsample, criterion=entropy, max_depth=3, min_samples_leaf=20, min_samples_split=15, n_estimators=700;, score=0.652 total time=   2.7s\n",
      "[CV 5/5; 84/100] START bootstrap=True, ccp_alpha=0.00013, class_weight=balanced_subsample, criterion=entropy, max_depth=3, min_samples_leaf=20, min_samples_split=15, n_estimators=700\n",
      "[CV 5/5; 84/100] END bootstrap=True, ccp_alpha=0.00013, class_weight=balanced_subsample, criterion=entropy, max_depth=3, min_samples_leaf=20, min_samples_split=15, n_estimators=700;, score=0.655 total time=   2.6s\n",
      "[CV 1/5; 85/100] START bootstrap=False, ccp_alpha=0.00013, class_weight=balanced, criterion=entropy, max_depth=8, min_samples_leaf=10, min_samples_split=20, n_estimators=150\n",
      "[CV 1/5; 85/100] END bootstrap=False, ccp_alpha=0.00013, class_weight=balanced, criterion=entropy, max_depth=8, min_samples_leaf=10, min_samples_split=20, n_estimators=150;, score=0.583 total time=   0.7s\n",
      "[CV 2/5; 85/100] START bootstrap=False, ccp_alpha=0.00013, class_weight=balanced, criterion=entropy, max_depth=8, min_samples_leaf=10, min_samples_split=20, n_estimators=150\n",
      "[CV 2/5; 85/100] END bootstrap=False, ccp_alpha=0.00013, class_weight=balanced, criterion=entropy, max_depth=8, min_samples_leaf=10, min_samples_split=20, n_estimators=150;, score=0.617 total time=   0.5s\n",
      "[CV 3/5; 85/100] START bootstrap=False, ccp_alpha=0.00013, class_weight=balanced, criterion=entropy, max_depth=8, min_samples_leaf=10, min_samples_split=20, n_estimators=150\n",
      "[CV 3/5; 85/100] END bootstrap=False, ccp_alpha=0.00013, class_weight=balanced, criterion=entropy, max_depth=8, min_samples_leaf=10, min_samples_split=20, n_estimators=150;, score=0.521 total time=   0.5s\n",
      "[CV 4/5; 85/100] START bootstrap=False, ccp_alpha=0.00013, class_weight=balanced, criterion=entropy, max_depth=8, min_samples_leaf=10, min_samples_split=20, n_estimators=150\n",
      "[CV 4/5; 85/100] END bootstrap=False, ccp_alpha=0.00013, class_weight=balanced, criterion=entropy, max_depth=8, min_samples_leaf=10, min_samples_split=20, n_estimators=150;, score=0.589 total time=   0.6s\n",
      "[CV 5/5; 85/100] START bootstrap=False, ccp_alpha=0.00013, class_weight=balanced, criterion=entropy, max_depth=8, min_samples_leaf=10, min_samples_split=20, n_estimators=150\n",
      "[CV 5/5; 85/100] END bootstrap=False, ccp_alpha=0.00013, class_weight=balanced, criterion=entropy, max_depth=8, min_samples_leaf=10, min_samples_split=20, n_estimators=150;, score=0.655 total time=   0.7s\n",
      "[CV 1/5; 86/100] START bootstrap=True, ccp_alpha=0.001, class_weight=balanced, criterion=entropy, max_depth=5, min_samples_leaf=15, min_samples_split=13, n_estimators=250\n",
      "[CV 1/5; 86/100] END bootstrap=True, ccp_alpha=0.001, class_weight=balanced, criterion=entropy, max_depth=5, min_samples_leaf=15, min_samples_split=13, n_estimators=250;, score=0.580 total time=   1.4s\n",
      "[CV 2/5; 86/100] START bootstrap=True, ccp_alpha=0.001, class_weight=balanced, criterion=entropy, max_depth=5, min_samples_leaf=15, min_samples_split=13, n_estimators=250\n",
      "[CV 2/5; 86/100] END bootstrap=True, ccp_alpha=0.001, class_weight=balanced, criterion=entropy, max_depth=5, min_samples_leaf=15, min_samples_split=13, n_estimators=250;, score=0.636 total time=   2.2s\n",
      "[CV 3/5; 86/100] START bootstrap=True, ccp_alpha=0.001, class_weight=balanced, criterion=entropy, max_depth=5, min_samples_leaf=15, min_samples_split=13, n_estimators=250\n",
      "[CV 3/5; 86/100] END bootstrap=True, ccp_alpha=0.001, class_weight=balanced, criterion=entropy, max_depth=5, min_samples_leaf=15, min_samples_split=13, n_estimators=250;, score=0.542 total time=   1.0s\n",
      "[CV 4/5; 86/100] START bootstrap=True, ccp_alpha=0.001, class_weight=balanced, criterion=entropy, max_depth=5, min_samples_leaf=15, min_samples_split=13, n_estimators=250\n",
      "[CV 4/5; 86/100] END bootstrap=True, ccp_alpha=0.001, class_weight=balanced, criterion=entropy, max_depth=5, min_samples_leaf=15, min_samples_split=13, n_estimators=250;, score=0.602 total time=   0.9s\n",
      "[CV 5/5; 86/100] START bootstrap=True, ccp_alpha=0.001, class_weight=balanced, criterion=entropy, max_depth=5, min_samples_leaf=15, min_samples_split=13, n_estimators=250\n",
      "[CV 5/5; 86/100] END bootstrap=True, ccp_alpha=0.001, class_weight=balanced, criterion=entropy, max_depth=5, min_samples_leaf=15, min_samples_split=13, n_estimators=250;, score=0.686 total time=   0.8s\n",
      "[CV 1/5; 87/100] START bootstrap=True, ccp_alpha=0.0001, class_weight={1: 0.56, 0: 0.44}, criterion=entropy, max_depth=20, min_samples_leaf=20, min_samples_split=10, n_estimators=700\n",
      "[CV 1/5; 87/100] END bootstrap=True, ccp_alpha=0.0001, class_weight={1: 0.56, 0: 0.44}, criterion=entropy, max_depth=20, min_samples_leaf=20, min_samples_split=10, n_estimators=700;, score=0.546 total time=   1.9s\n",
      "[CV 2/5; 87/100] START bootstrap=True, ccp_alpha=0.0001, class_weight={1: 0.56, 0: 0.44}, criterion=entropy, max_depth=20, min_samples_leaf=20, min_samples_split=10, n_estimators=700\n",
      "[CV 2/5; 87/100] END bootstrap=True, ccp_alpha=0.0001, class_weight={1: 0.56, 0: 0.44}, criterion=entropy, max_depth=20, min_samples_leaf=20, min_samples_split=10, n_estimators=700;, score=0.550 total time=   3.7s\n",
      "[CV 3/5; 87/100] START bootstrap=True, ccp_alpha=0.0001, class_weight={1: 0.56, 0: 0.44}, criterion=entropy, max_depth=20, min_samples_leaf=20, min_samples_split=10, n_estimators=700\n",
      "[CV 3/5; 87/100] END bootstrap=True, ccp_alpha=0.0001, class_weight={1: 0.56, 0: 0.44}, criterion=entropy, max_depth=20, min_samples_leaf=20, min_samples_split=10, n_estimators=700;, score=0.506 total time=   4.2s\n",
      "[CV 4/5; 87/100] START bootstrap=True, ccp_alpha=0.0001, class_weight={1: 0.56, 0: 0.44}, criterion=entropy, max_depth=20, min_samples_leaf=20, min_samples_split=10, n_estimators=700\n",
      "[CV 4/5; 87/100] END bootstrap=True, ccp_alpha=0.0001, class_weight={1: 0.56, 0: 0.44}, criterion=entropy, max_depth=20, min_samples_leaf=20, min_samples_split=10, n_estimators=700;, score=0.528 total time=   4.6s\n",
      "[CV 5/5; 87/100] START bootstrap=True, ccp_alpha=0.0001, class_weight={1: 0.56, 0: 0.44}, criterion=entropy, max_depth=20, min_samples_leaf=20, min_samples_split=10, n_estimators=700\n",
      "[CV 5/5; 87/100] END bootstrap=True, ccp_alpha=0.0001, class_weight={1: 0.56, 0: 0.44}, criterion=entropy, max_depth=20, min_samples_leaf=20, min_samples_split=10, n_estimators=700;, score=0.618 total time=   3.0s\n",
      "[CV 1/5; 88/100] START bootstrap=False, ccp_alpha=0.00013, class_weight=balanced_subsample, criterion=gini, max_depth=8, min_samples_leaf=15, min_samples_split=13, n_estimators=200\n"
     ]
    },
    {
     "name": "stdout",
     "output_type": "stream",
     "text": [
      "[CV 1/5; 88/100] END bootstrap=False, ccp_alpha=0.00013, class_weight=balanced_subsample, criterion=gini, max_depth=8, min_samples_leaf=15, min_samples_split=13, n_estimators=200;, score=0.580 total time=   0.8s\n",
      "[CV 2/5; 88/100] START bootstrap=False, ccp_alpha=0.00013, class_weight=balanced_subsample, criterion=gini, max_depth=8, min_samples_leaf=15, min_samples_split=13, n_estimators=200\n",
      "[CV 2/5; 88/100] END bootstrap=False, ccp_alpha=0.00013, class_weight=balanced_subsample, criterion=gini, max_depth=8, min_samples_leaf=15, min_samples_split=13, n_estimators=200;, score=0.617 total time=   0.7s\n",
      "[CV 3/5; 88/100] START bootstrap=False, ccp_alpha=0.00013, class_weight=balanced_subsample, criterion=gini, max_depth=8, min_samples_leaf=15, min_samples_split=13, n_estimators=200\n",
      "[CV 3/5; 88/100] END bootstrap=False, ccp_alpha=0.00013, class_weight=balanced_subsample, criterion=gini, max_depth=8, min_samples_leaf=15, min_samples_split=13, n_estimators=200;, score=0.517 total time=   0.7s\n",
      "[CV 4/5; 88/100] START bootstrap=False, ccp_alpha=0.00013, class_weight=balanced_subsample, criterion=gini, max_depth=8, min_samples_leaf=15, min_samples_split=13, n_estimators=200\n",
      "[CV 4/5; 88/100] END bootstrap=False, ccp_alpha=0.00013, class_weight=balanced_subsample, criterion=gini, max_depth=8, min_samples_leaf=15, min_samples_split=13, n_estimators=200;, score=0.577 total time=   0.7s\n",
      "[CV 5/5; 88/100] START bootstrap=False, ccp_alpha=0.00013, class_weight=balanced_subsample, criterion=gini, max_depth=8, min_samples_leaf=15, min_samples_split=13, n_estimators=200\n",
      "[CV 5/5; 88/100] END bootstrap=False, ccp_alpha=0.00013, class_weight=balanced_subsample, criterion=gini, max_depth=8, min_samples_leaf=15, min_samples_split=13, n_estimators=200;, score=0.692 total time=   0.6s\n",
      "[CV 1/5; 89/100] START bootstrap=True, ccp_alpha=0.0001, class_weight={1: 0.56, 0: 0.44}, criterion=entropy, max_depth=5, min_samples_leaf=30, min_samples_split=10, n_estimators=200\n",
      "[CV 1/5; 89/100] END bootstrap=True, ccp_alpha=0.0001, class_weight={1: 0.56, 0: 0.44}, criterion=entropy, max_depth=5, min_samples_leaf=30, min_samples_split=10, n_estimators=200;, score=0.547 total time=   0.6s\n",
      "[CV 2/5; 89/100] START bootstrap=True, ccp_alpha=0.0001, class_weight={1: 0.56, 0: 0.44}, criterion=entropy, max_depth=5, min_samples_leaf=30, min_samples_split=10, n_estimators=200\n",
      "[CV 2/5; 89/100] END bootstrap=True, ccp_alpha=0.0001, class_weight={1: 0.56, 0: 0.44}, criterion=entropy, max_depth=5, min_samples_leaf=30, min_samples_split=10, n_estimators=200;, score=0.537 total time=   0.6s\n",
      "[CV 3/5; 89/100] START bootstrap=True, ccp_alpha=0.0001, class_weight={1: 0.56, 0: 0.44}, criterion=entropy, max_depth=5, min_samples_leaf=30, min_samples_split=10, n_estimators=200\n",
      "[CV 3/5; 89/100] END bootstrap=True, ccp_alpha=0.0001, class_weight={1: 0.56, 0: 0.44}, criterion=entropy, max_depth=5, min_samples_leaf=30, min_samples_split=10, n_estimators=200;, score=0.509 total time=   0.6s\n",
      "[CV 4/5; 89/100] START bootstrap=True, ccp_alpha=0.0001, class_weight={1: 0.56, 0: 0.44}, criterion=entropy, max_depth=5, min_samples_leaf=30, min_samples_split=10, n_estimators=200\n",
      "[CV 4/5; 89/100] END bootstrap=True, ccp_alpha=0.0001, class_weight={1: 0.56, 0: 0.44}, criterion=entropy, max_depth=5, min_samples_leaf=30, min_samples_split=10, n_estimators=200;, score=0.525 total time=   0.6s\n",
      "[CV 5/5; 89/100] START bootstrap=True, ccp_alpha=0.0001, class_weight={1: 0.56, 0: 0.44}, criterion=entropy, max_depth=5, min_samples_leaf=30, min_samples_split=10, n_estimators=200\n",
      "[CV 5/5; 89/100] END bootstrap=True, ccp_alpha=0.0001, class_weight={1: 0.56, 0: 0.44}, criterion=entropy, max_depth=5, min_samples_leaf=30, min_samples_split=10, n_estimators=200;, score=0.637 total time=   0.7s\n",
      "[CV 1/5; 90/100] START bootstrap=True, ccp_alpha=1.3e-06, class_weight=balanced, criterion=gini, max_depth=10, min_samples_leaf=40, min_samples_split=20, n_estimators=100\n",
      "[CV 1/5; 90/100] END bootstrap=True, ccp_alpha=1.3e-06, class_weight=balanced, criterion=gini, max_depth=10, min_samples_leaf=40, min_samples_split=20, n_estimators=100;, score=0.599 total time=   0.3s\n",
      "[CV 2/5; 90/100] START bootstrap=True, ccp_alpha=1.3e-06, class_weight=balanced, criterion=gini, max_depth=10, min_samples_leaf=40, min_samples_split=20, n_estimators=100\n",
      "[CV 2/5; 90/100] END bootstrap=True, ccp_alpha=1.3e-06, class_weight=balanced, criterion=gini, max_depth=10, min_samples_leaf=40, min_samples_split=20, n_estimators=100;, score=0.533 total time=   0.3s\n",
      "[CV 3/5; 90/100] START bootstrap=True, ccp_alpha=1.3e-06, class_weight=balanced, criterion=gini, max_depth=10, min_samples_leaf=40, min_samples_split=20, n_estimators=100\n",
      "[CV 3/5; 90/100] END bootstrap=True, ccp_alpha=1.3e-06, class_weight=balanced, criterion=gini, max_depth=10, min_samples_leaf=40, min_samples_split=20, n_estimators=100;, score=0.555 total time=   0.4s\n",
      "[CV 4/5; 90/100] START bootstrap=True, ccp_alpha=1.3e-06, class_weight=balanced, criterion=gini, max_depth=10, min_samples_leaf=40, min_samples_split=20, n_estimators=100\n",
      "[CV 4/5; 90/100] END bootstrap=True, ccp_alpha=1.3e-06, class_weight=balanced, criterion=gini, max_depth=10, min_samples_leaf=40, min_samples_split=20, n_estimators=100;, score=0.636 total time=   0.4s\n",
      "[CV 5/5; 90/100] START bootstrap=True, ccp_alpha=1.3e-06, class_weight=balanced, criterion=gini, max_depth=10, min_samples_leaf=40, min_samples_split=20, n_estimators=100\n",
      "[CV 5/5; 90/100] END bootstrap=True, ccp_alpha=1.3e-06, class_weight=balanced, criterion=gini, max_depth=10, min_samples_leaf=40, min_samples_split=20, n_estimators=100;, score=0.646 total time=   0.4s\n",
      "[CV 1/5; 91/100] START bootstrap=False, ccp_alpha=0.0001, class_weight=balanced_subsample, criterion=entropy, max_depth=5, min_samples_leaf=30, min_samples_split=15, n_estimators=700\n",
      "[CV 1/5; 91/100] END bootstrap=False, ccp_alpha=0.0001, class_weight=balanced_subsample, criterion=entropy, max_depth=5, min_samples_leaf=30, min_samples_split=15, n_estimators=700;, score=0.615 total time=   2.2s\n",
      "[CV 2/5; 91/100] START bootstrap=False, ccp_alpha=0.0001, class_weight=balanced_subsample, criterion=entropy, max_depth=5, min_samples_leaf=30, min_samples_split=15, n_estimators=700\n",
      "[CV 2/5; 91/100] END bootstrap=False, ccp_alpha=0.0001, class_weight=balanced_subsample, criterion=entropy, max_depth=5, min_samples_leaf=30, min_samples_split=15, n_estimators=700;, score=0.571 total time=   2.1s\n",
      "[CV 3/5; 91/100] START bootstrap=False, ccp_alpha=0.0001, class_weight=balanced_subsample, criterion=entropy, max_depth=5, min_samples_leaf=30, min_samples_split=15, n_estimators=700\n",
      "[CV 3/5; 91/100] END bootstrap=False, ccp_alpha=0.0001, class_weight=balanced_subsample, criterion=entropy, max_depth=5, min_samples_leaf=30, min_samples_split=15, n_estimators=700;, score=0.517 total time=   2.1s\n",
      "[CV 4/5; 91/100] START bootstrap=False, ccp_alpha=0.0001, class_weight=balanced_subsample, criterion=entropy, max_depth=5, min_samples_leaf=30, min_samples_split=15, n_estimators=700\n",
      "[CV 4/5; 91/100] END bootstrap=False, ccp_alpha=0.0001, class_weight=balanced_subsample, criterion=entropy, max_depth=5, min_samples_leaf=30, min_samples_split=15, n_estimators=700;, score=0.564 total time=   2.3s\n",
      "[CV 5/5; 91/100] START bootstrap=False, ccp_alpha=0.0001, class_weight=balanced_subsample, criterion=entropy, max_depth=5, min_samples_leaf=30, min_samples_split=15, n_estimators=700\n",
      "[CV 5/5; 91/100] END bootstrap=False, ccp_alpha=0.0001, class_weight=balanced_subsample, criterion=entropy, max_depth=5, min_samples_leaf=30, min_samples_split=15, n_estimators=700;, score=0.658 total time=   2.2s\n",
      "[CV 1/5; 92/100] START bootstrap=True, ccp_alpha=0.0001, class_weight=balanced, criterion=gini, max_depth=15, min_samples_leaf=40, min_samples_split=13, n_estimators=250\n",
      "[CV 1/5; 92/100] END bootstrap=True, ccp_alpha=0.0001, class_weight=balanced, criterion=gini, max_depth=15, min_samples_leaf=40, min_samples_split=13, n_estimators=250;, score=0.589 total time=   0.9s\n",
      "[CV 2/5; 92/100] START bootstrap=True, ccp_alpha=0.0001, class_weight=balanced, criterion=gini, max_depth=15, min_samples_leaf=40, min_samples_split=13, n_estimators=250\n",
      "[CV 2/5; 92/100] END bootstrap=True, ccp_alpha=0.0001, class_weight=balanced, criterion=gini, max_depth=15, min_samples_leaf=40, min_samples_split=13, n_estimators=250;, score=0.558 total time=   0.9s\n",
      "[CV 3/5; 92/100] START bootstrap=True, ccp_alpha=0.0001, class_weight=balanced, criterion=gini, max_depth=15, min_samples_leaf=40, min_samples_split=13, n_estimators=250\n"
     ]
    },
    {
     "name": "stdout",
     "output_type": "stream",
     "text": [
      "[CV 3/5; 92/100] END bootstrap=True, ccp_alpha=0.0001, class_weight=balanced, criterion=gini, max_depth=15, min_samples_leaf=40, min_samples_split=13, n_estimators=250;, score=0.564 total time=   0.9s\n",
      "[CV 4/5; 92/100] START bootstrap=True, ccp_alpha=0.0001, class_weight=balanced, criterion=gini, max_depth=15, min_samples_leaf=40, min_samples_split=13, n_estimators=250\n",
      "[CV 4/5; 92/100] END bootstrap=True, ccp_alpha=0.0001, class_weight=balanced, criterion=gini, max_depth=15, min_samples_leaf=40, min_samples_split=13, n_estimators=250;, score=0.627 total time=   0.8s\n",
      "[CV 5/5; 92/100] START bootstrap=True, ccp_alpha=0.0001, class_weight=balanced, criterion=gini, max_depth=15, min_samples_leaf=40, min_samples_split=13, n_estimators=250\n",
      "[CV 5/5; 92/100] END bootstrap=True, ccp_alpha=0.0001, class_weight=balanced, criterion=gini, max_depth=15, min_samples_leaf=40, min_samples_split=13, n_estimators=250;, score=0.636 total time=   0.8s\n",
      "[CV 1/5; 93/100] START bootstrap=True, ccp_alpha=0.1, class_weight=balanced_subsample, criterion=gini, max_depth=15, min_samples_leaf=15, min_samples_split=15, n_estimators=700\n",
      "[CV 1/5; 93/100] END bootstrap=True, ccp_alpha=0.1, class_weight=balanced_subsample, criterion=gini, max_depth=15, min_samples_leaf=15, min_samples_split=15, n_estimators=700;, score=0.500 total time=   2.7s\n",
      "[CV 2/5; 93/100] START bootstrap=True, ccp_alpha=0.1, class_weight=balanced_subsample, criterion=gini, max_depth=15, min_samples_leaf=15, min_samples_split=15, n_estimators=700\n",
      "[CV 2/5; 93/100] END bootstrap=True, ccp_alpha=0.1, class_weight=balanced_subsample, criterion=gini, max_depth=15, min_samples_leaf=15, min_samples_split=15, n_estimators=700;, score=0.500 total time=   2.8s\n",
      "[CV 3/5; 93/100] START bootstrap=True, ccp_alpha=0.1, class_weight=balanced_subsample, criterion=gini, max_depth=15, min_samples_leaf=15, min_samples_split=15, n_estimators=700\n",
      "[CV 3/5; 93/100] END bootstrap=True, ccp_alpha=0.1, class_weight=balanced_subsample, criterion=gini, max_depth=15, min_samples_leaf=15, min_samples_split=15, n_estimators=700;, score=0.500 total time=   2.5s\n",
      "[CV 4/5; 93/100] START bootstrap=True, ccp_alpha=0.1, class_weight=balanced_subsample, criterion=gini, max_depth=15, min_samples_leaf=15, min_samples_split=15, n_estimators=700\n",
      "[CV 4/5; 93/100] END bootstrap=True, ccp_alpha=0.1, class_weight=balanced_subsample, criterion=gini, max_depth=15, min_samples_leaf=15, min_samples_split=15, n_estimators=700;, score=0.500 total time=   2.9s\n",
      "[CV 5/5; 93/100] START bootstrap=True, ccp_alpha=0.1, class_weight=balanced_subsample, criterion=gini, max_depth=15, min_samples_leaf=15, min_samples_split=15, n_estimators=700\n",
      "[CV 5/5; 93/100] END bootstrap=True, ccp_alpha=0.1, class_weight=balanced_subsample, criterion=gini, max_depth=15, min_samples_leaf=15, min_samples_split=15, n_estimators=700;, score=0.500 total time=   2.4s\n",
      "[CV 1/5; 94/100] START bootstrap=True, ccp_alpha=0.0001, class_weight=balanced_subsample, criterion=entropy, max_depth=8, min_samples_leaf=15, min_samples_split=5, n_estimators=150\n",
      "[CV 1/5; 94/100] END bootstrap=True, ccp_alpha=0.0001, class_weight=balanced_subsample, criterion=entropy, max_depth=8, min_samples_leaf=15, min_samples_split=5, n_estimators=150;, score=0.530 total time=   0.6s\n",
      "[CV 2/5; 94/100] START bootstrap=True, ccp_alpha=0.0001, class_weight=balanced_subsample, criterion=entropy, max_depth=8, min_samples_leaf=15, min_samples_split=5, n_estimators=150\n",
      "[CV 2/5; 94/100] END bootstrap=True, ccp_alpha=0.0001, class_weight=balanced_subsample, criterion=entropy, max_depth=8, min_samples_leaf=15, min_samples_split=5, n_estimators=150;, score=0.655 total time=   1.0s\n",
      "[CV 3/5; 94/100] START bootstrap=True, ccp_alpha=0.0001, class_weight=balanced_subsample, criterion=entropy, max_depth=8, min_samples_leaf=15, min_samples_split=5, n_estimators=150\n",
      "[CV 3/5; 94/100] END bootstrap=True, ccp_alpha=0.0001, class_weight=balanced_subsample, criterion=entropy, max_depth=8, min_samples_leaf=15, min_samples_split=5, n_estimators=150;, score=0.552 total time=   0.6s\n",
      "[CV 4/5; 94/100] START bootstrap=True, ccp_alpha=0.0001, class_weight=balanced_subsample, criterion=entropy, max_depth=8, min_samples_leaf=15, min_samples_split=5, n_estimators=150\n",
      "[CV 4/5; 94/100] END bootstrap=True, ccp_alpha=0.0001, class_weight=balanced_subsample, criterion=entropy, max_depth=8, min_samples_leaf=15, min_samples_split=5, n_estimators=150;, score=0.602 total time=   0.5s\n",
      "[CV 5/5; 94/100] START bootstrap=True, ccp_alpha=0.0001, class_weight=balanced_subsample, criterion=entropy, max_depth=8, min_samples_leaf=15, min_samples_split=5, n_estimators=150\n",
      "[CV 5/5; 94/100] END bootstrap=True, ccp_alpha=0.0001, class_weight=balanced_subsample, criterion=entropy, max_depth=8, min_samples_leaf=15, min_samples_split=5, n_estimators=150;, score=0.689 total time=   0.7s\n",
      "[CV 1/5; 95/100] START bootstrap=False, ccp_alpha=0.0001, class_weight=balanced_subsample, criterion=gini, max_depth=8, min_samples_leaf=25, min_samples_split=5, n_estimators=150\n",
      "[CV 1/5; 95/100] END bootstrap=False, ccp_alpha=0.0001, class_weight=balanced_subsample, criterion=gini, max_depth=8, min_samples_leaf=25, min_samples_split=5, n_estimators=150;, score=0.612 total time=   0.6s\n",
      "[CV 2/5; 95/100] START bootstrap=False, ccp_alpha=0.0001, class_weight=balanced_subsample, criterion=gini, max_depth=8, min_samples_leaf=25, min_samples_split=5, n_estimators=150\n",
      "[CV 2/5; 95/100] END bootstrap=False, ccp_alpha=0.0001, class_weight=balanced_subsample, criterion=gini, max_depth=8, min_samples_leaf=25, min_samples_split=5, n_estimators=150;, score=0.611 total time=   0.4s\n",
      "[CV 3/5; 95/100] START bootstrap=False, ccp_alpha=0.0001, class_weight=balanced_subsample, criterion=gini, max_depth=8, min_samples_leaf=25, min_samples_split=5, n_estimators=150\n",
      "[CV 3/5; 95/100] END bootstrap=False, ccp_alpha=0.0001, class_weight=balanced_subsample, criterion=gini, max_depth=8, min_samples_leaf=25, min_samples_split=5, n_estimators=150;, score=0.517 total time=   0.5s\n",
      "[CV 4/5; 95/100] START bootstrap=False, ccp_alpha=0.0001, class_weight=balanced_subsample, criterion=gini, max_depth=8, min_samples_leaf=25, min_samples_split=5, n_estimators=150\n",
      "[CV 4/5; 95/100] END bootstrap=False, ccp_alpha=0.0001, class_weight=balanced_subsample, criterion=gini, max_depth=8, min_samples_leaf=25, min_samples_split=5, n_estimators=150;, score=0.564 total time=   0.5s\n",
      "[CV 5/5; 95/100] START bootstrap=False, ccp_alpha=0.0001, class_weight=balanced_subsample, criterion=gini, max_depth=8, min_samples_leaf=25, min_samples_split=5, n_estimators=150\n",
      "[CV 5/5; 95/100] END bootstrap=False, ccp_alpha=0.0001, class_weight=balanced_subsample, criterion=gini, max_depth=8, min_samples_leaf=25, min_samples_split=5, n_estimators=150;, score=0.658 total time=   0.5s\n",
      "[CV 1/5; 96/100] START bootstrap=True, ccp_alpha=0.0003, class_weight=balanced_subsample, criterion=entropy, max_depth=12, min_samples_leaf=20, min_samples_split=8, n_estimators=150\n",
      "[CV 1/5; 96/100] END bootstrap=True, ccp_alpha=0.0003, class_weight=balanced_subsample, criterion=entropy, max_depth=12, min_samples_leaf=20, min_samples_split=8, n_estimators=150;, score=0.583 total time=   0.9s\n",
      "[CV 2/5; 96/100] START bootstrap=True, ccp_alpha=0.0003, class_weight=balanced_subsample, criterion=entropy, max_depth=12, min_samples_leaf=20, min_samples_split=8, n_estimators=150\n",
      "[CV 2/5; 96/100] END bootstrap=True, ccp_alpha=0.0003, class_weight=balanced_subsample, criterion=entropy, max_depth=12, min_samples_leaf=20, min_samples_split=8, n_estimators=150;, score=0.611 total time=   0.6s\n",
      "[CV 3/5; 96/100] START bootstrap=True, ccp_alpha=0.0003, class_weight=balanced_subsample, criterion=entropy, max_depth=12, min_samples_leaf=20, min_samples_split=8, n_estimators=150\n",
      "[CV 3/5; 96/100] END bootstrap=True, ccp_alpha=0.0003, class_weight=balanced_subsample, criterion=entropy, max_depth=12, min_samples_leaf=20, min_samples_split=8, n_estimators=150;, score=0.542 total time=   0.7s\n",
      "[CV 4/5; 96/100] START bootstrap=True, ccp_alpha=0.0003, class_weight=balanced_subsample, criterion=entropy, max_depth=12, min_samples_leaf=20, min_samples_split=8, n_estimators=150\n",
      "[CV 4/5; 96/100] END bootstrap=True, ccp_alpha=0.0003, class_weight=balanced_subsample, criterion=entropy, max_depth=12, min_samples_leaf=20, min_samples_split=8, n_estimators=150;, score=0.611 total time=   0.6s\n",
      "[CV 5/5; 96/100] START bootstrap=True, ccp_alpha=0.0003, class_weight=balanced_subsample, criterion=entropy, max_depth=12, min_samples_leaf=20, min_samples_split=8, n_estimators=150\n"
     ]
    },
    {
     "name": "stdout",
     "output_type": "stream",
     "text": [
      "[CV 5/5; 96/100] END bootstrap=True, ccp_alpha=0.0003, class_weight=balanced_subsample, criterion=entropy, max_depth=12, min_samples_leaf=20, min_samples_split=8, n_estimators=150;, score=0.689 total time=   0.7s\n",
      "[CV 1/5; 97/100] START bootstrap=False, ccp_alpha=0.001, class_weight={1: 0.56, 0: 0.44}, criterion=gini, max_depth=10, min_samples_leaf=25, min_samples_split=8, n_estimators=300\n",
      "[CV 1/5; 97/100] END bootstrap=False, ccp_alpha=0.001, class_weight={1: 0.56, 0: 0.44}, criterion=gini, max_depth=10, min_samples_leaf=25, min_samples_split=8, n_estimators=300;, score=0.537 total time=   1.0s\n",
      "[CV 2/5; 97/100] START bootstrap=False, ccp_alpha=0.001, class_weight={1: 0.56, 0: 0.44}, criterion=gini, max_depth=10, min_samples_leaf=25, min_samples_split=8, n_estimators=300\n",
      "[CV 2/5; 97/100] END bootstrap=False, ccp_alpha=0.001, class_weight={1: 0.56, 0: 0.44}, criterion=gini, max_depth=10, min_samples_leaf=25, min_samples_split=8, n_estimators=300;, score=0.550 total time=   1.0s\n",
      "[CV 3/5; 97/100] START bootstrap=False, ccp_alpha=0.001, class_weight={1: 0.56, 0: 0.44}, criterion=gini, max_depth=10, min_samples_leaf=25, min_samples_split=8, n_estimators=300\n",
      "[CV 3/5; 97/100] END bootstrap=False, ccp_alpha=0.001, class_weight={1: 0.56, 0: 0.44}, criterion=gini, max_depth=10, min_samples_leaf=25, min_samples_split=8, n_estimators=300;, score=0.521 total time=   0.8s\n",
      "[CV 4/5; 97/100] START bootstrap=False, ccp_alpha=0.001, class_weight={1: 0.56, 0: 0.44}, criterion=gini, max_depth=10, min_samples_leaf=25, min_samples_split=8, n_estimators=300\n",
      "[CV 4/5; 97/100] END bootstrap=False, ccp_alpha=0.001, class_weight={1: 0.56, 0: 0.44}, criterion=gini, max_depth=10, min_samples_leaf=25, min_samples_split=8, n_estimators=300;, score=0.556 total time=   1.0s\n",
      "[CV 5/5; 97/100] START bootstrap=False, ccp_alpha=0.001, class_weight={1: 0.56, 0: 0.44}, criterion=gini, max_depth=10, min_samples_leaf=25, min_samples_split=8, n_estimators=300\n",
      "[CV 5/5; 97/100] END bootstrap=False, ccp_alpha=0.001, class_weight={1: 0.56, 0: 0.44}, criterion=gini, max_depth=10, min_samples_leaf=25, min_samples_split=8, n_estimators=300;, score=0.618 total time=   0.8s\n",
      "[CV 1/5; 98/100] START bootstrap=False, ccp_alpha=0.00013, class_weight=balanced, criterion=gini, max_depth=5, min_samples_leaf=40, min_samples_split=8, n_estimators=150\n",
      "[CV 1/5; 98/100] END bootstrap=False, ccp_alpha=0.00013, class_weight=balanced, criterion=gini, max_depth=5, min_samples_leaf=40, min_samples_split=8, n_estimators=150;, score=0.605 total time=   0.4s\n",
      "[CV 2/5; 98/100] START bootstrap=False, ccp_alpha=0.00013, class_weight=balanced, criterion=gini, max_depth=5, min_samples_leaf=40, min_samples_split=8, n_estimators=150\n",
      "[CV 2/5; 98/100] END bootstrap=False, ccp_alpha=0.00013, class_weight=balanced, criterion=gini, max_depth=5, min_samples_leaf=40, min_samples_split=8, n_estimators=150;, score=0.630 total time=   0.5s\n",
      "[CV 3/5; 98/100] START bootstrap=False, ccp_alpha=0.00013, class_weight=balanced, criterion=gini, max_depth=5, min_samples_leaf=40, min_samples_split=8, n_estimators=150\n",
      "[CV 3/5; 98/100] END bootstrap=False, ccp_alpha=0.00013, class_weight=balanced, criterion=gini, max_depth=5, min_samples_leaf=40, min_samples_split=8, n_estimators=150;, score=0.530 total time=   0.8s\n",
      "[CV 4/5; 98/100] START bootstrap=False, ccp_alpha=0.00013, class_weight=balanced, criterion=gini, max_depth=5, min_samples_leaf=40, min_samples_split=8, n_estimators=150\n",
      "[CV 4/5; 98/100] END bootstrap=False, ccp_alpha=0.00013, class_weight=balanced, criterion=gini, max_depth=5, min_samples_leaf=40, min_samples_split=8, n_estimators=150;, score=0.577 total time=   0.7s\n",
      "[CV 5/5; 98/100] START bootstrap=False, ccp_alpha=0.00013, class_weight=balanced, criterion=gini, max_depth=5, min_samples_leaf=40, min_samples_split=8, n_estimators=150\n",
      "[CV 5/5; 98/100] END bootstrap=False, ccp_alpha=0.00013, class_weight=balanced, criterion=gini, max_depth=5, min_samples_leaf=40, min_samples_split=8, n_estimators=150;, score=0.661 total time=   0.7s\n",
      "[CV 1/5; 99/100] START bootstrap=True, ccp_alpha=0.0001, class_weight=balanced, criterion=entropy, max_depth=20, min_samples_leaf=25, min_samples_split=13, n_estimators=500\n",
      "[CV 1/5; 99/100] END bootstrap=True, ccp_alpha=0.0001, class_weight=balanced, criterion=entropy, max_depth=20, min_samples_leaf=25, min_samples_split=13, n_estimators=500;, score=0.608 total time=   2.1s\n",
      "[CV 2/5; 99/100] START bootstrap=True, ccp_alpha=0.0001, class_weight=balanced, criterion=entropy, max_depth=20, min_samples_leaf=25, min_samples_split=13, n_estimators=500\n",
      "[CV 2/5; 99/100] END bootstrap=True, ccp_alpha=0.0001, class_weight=balanced, criterion=entropy, max_depth=20, min_samples_leaf=25, min_samples_split=13, n_estimators=500;, score=0.596 total time=   1.6s\n",
      "[CV 3/5; 99/100] START bootstrap=True, ccp_alpha=0.0001, class_weight=balanced, criterion=entropy, max_depth=20, min_samples_leaf=25, min_samples_split=13, n_estimators=500\n",
      "[CV 3/5; 99/100] END bootstrap=True, ccp_alpha=0.0001, class_weight=balanced, criterion=entropy, max_depth=20, min_samples_leaf=25, min_samples_split=13, n_estimators=500;, score=0.542 total time=   1.7s\n",
      "[CV 4/5; 99/100] START bootstrap=True, ccp_alpha=0.0001, class_weight=balanced, criterion=entropy, max_depth=20, min_samples_leaf=25, min_samples_split=13, n_estimators=500\n",
      "[CV 4/5; 99/100] END bootstrap=True, ccp_alpha=0.0001, class_weight=balanced, criterion=entropy, max_depth=20, min_samples_leaf=25, min_samples_split=13, n_estimators=500;, score=0.602 total time=   1.3s\n",
      "[CV 5/5; 99/100] START bootstrap=True, ccp_alpha=0.0001, class_weight=balanced, criterion=entropy, max_depth=20, min_samples_leaf=25, min_samples_split=13, n_estimators=500\n",
      "[CV 5/5; 99/100] END bootstrap=True, ccp_alpha=0.0001, class_weight=balanced, criterion=entropy, max_depth=20, min_samples_leaf=25, min_samples_split=13, n_estimators=500;, score=0.661 total time=   1.3s\n",
      "[CV 1/5; 100/100] START bootstrap=False, ccp_alpha=0.1, class_weight=balanced, criterion=entropy, max_depth=20, min_samples_leaf=10, min_samples_split=8, n_estimators=200\n",
      "[CV 1/5; 100/100] END bootstrap=False, ccp_alpha=0.1, class_weight=balanced, criterion=entropy, max_depth=20, min_samples_leaf=10, min_samples_split=8, n_estimators=200;, score=0.500 total time=   0.6s\n",
      "[CV 2/5; 100/100] START bootstrap=False, ccp_alpha=0.1, class_weight=balanced, criterion=entropy, max_depth=20, min_samples_leaf=10, min_samples_split=8, n_estimators=200\n",
      "[CV 2/5; 100/100] END bootstrap=False, ccp_alpha=0.1, class_weight=balanced, criterion=entropy, max_depth=20, min_samples_leaf=10, min_samples_split=8, n_estimators=200;, score=0.500 total time=   0.6s\n",
      "[CV 3/5; 100/100] START bootstrap=False, ccp_alpha=0.1, class_weight=balanced, criterion=entropy, max_depth=20, min_samples_leaf=10, min_samples_split=8, n_estimators=200\n",
      "[CV 3/5; 100/100] END bootstrap=False, ccp_alpha=0.1, class_weight=balanced, criterion=entropy, max_depth=20, min_samples_leaf=10, min_samples_split=8, n_estimators=200;, score=0.500 total time=   0.6s\n",
      "[CV 4/5; 100/100] START bootstrap=False, ccp_alpha=0.1, class_weight=balanced, criterion=entropy, max_depth=20, min_samples_leaf=10, min_samples_split=8, n_estimators=200\n",
      "[CV 4/5; 100/100] END bootstrap=False, ccp_alpha=0.1, class_weight=balanced, criterion=entropy, max_depth=20, min_samples_leaf=10, min_samples_split=8, n_estimators=200;, score=0.500 total time=   0.6s\n",
      "[CV 5/5; 100/100] START bootstrap=False, ccp_alpha=0.1, class_weight=balanced, criterion=entropy, max_depth=20, min_samples_leaf=10, min_samples_split=8, n_estimators=200\n",
      "[CV 5/5; 100/100] END bootstrap=False, ccp_alpha=0.1, class_weight=balanced, criterion=entropy, max_depth=20, min_samples_leaf=10, min_samples_split=8, n_estimators=200;, score=0.500 total time=   0.6s\n",
      "ROC-AUC на обучении: 0.6287735849056604\n",
      "accuracy_score: 0.6904761904761905\n",
      "roc_auc_score: 0.694508009153318\n"
     ]
    }
   ],
   "source": [
    "np.random.seed(SEED)\n",
    "\n",
    "xtrain, xvalid, ytrain, yvalid = train_test_split(X, Y, test_size=42, shuffle=True, random_state=SEED)\n",
    "\n",
    "forest = RandomForestClassifier(n_jobs=-1, random_state=SEED, warm_start=True)\n",
    "\n",
    "grid_forest = RandomizedSearchCV(forest, param_distributions=params, return_train_score=False, \n",
    "                                 scoring=make_scorer(roc_auc_score), cv=5, n_jobs=1, refit=True, verbose=10,\n",
    "                                 n_iter=100)\n",
    "grid_forest.fit(xtrain, ytrain)\n",
    "print('ROC-AUC на обучении:', grid_forest.best_score_)\n",
    "    \n",
    "best_forest = grid_forest.best_estimator_\n",
    "get_scores(yvalid, best_forest.predict(xvalid), metrics=metrics)"
   ]
  },
  {
   "cell_type": "markdown",
   "id": "53b2e8b7",
   "metadata": {},
   "source": [
    "На обучении метрика \"roc-auc\" равна 0.62877, а на тесте - 0.69451.  \n",
    "Доля верных ответов (accuracy) составила 69.04762%.\n",
    "\n",
    "Посмотрим на важность признаков."
   ]
  },
  {
   "cell_type": "code",
   "execution_count": 131,
   "id": "2b4adde1",
   "metadata": {},
   "outputs": [
    {
     "data": {
      "text/html": [
       "\n",
       "    <style>\n",
       "    table.eli5-weights tr:hover {\n",
       "        filter: brightness(85%);\n",
       "    }\n",
       "</style>\n",
       "\n",
       "\n",
       "\n",
       "    \n",
       "\n",
       "    \n",
       "\n",
       "    \n",
       "\n",
       "    \n",
       "\n",
       "    \n",
       "\n",
       "    \n",
       "\n",
       "\n",
       "    \n",
       "\n",
       "    \n",
       "\n",
       "    \n",
       "\n",
       "    \n",
       "\n",
       "    \n",
       "\n",
       "    \n",
       "\n",
       "\n",
       "    \n",
       "\n",
       "    \n",
       "\n",
       "    \n",
       "\n",
       "    \n",
       "\n",
       "    \n",
       "        <table class=\"eli5-weights eli5-feature-importances\" style=\"border-collapse: collapse; border: none; margin-top: 0em; table-layout: auto;\">\n",
       "    <thead>\n",
       "    <tr style=\"border: none;\">\n",
       "        <th style=\"padding: 0 1em 0 0.5em; text-align: right; border: none;\">Weight</th>\n",
       "        <th style=\"padding: 0 0.5em 0 0.5em; text-align: left; border: none;\">Feature</th>\n",
       "    </tr>\n",
       "    </thead>\n",
       "    <tbody>\n",
       "    \n",
       "        <tr style=\"background-color: hsl(120, 100.00%, 80.00%); border: none;\">\n",
       "            <td style=\"padding: 0 1em 0 0.5em; text-align: right; border: none;\">\n",
       "                0.1714\n",
       "                \n",
       "                    &plusmn; 0.1842\n",
       "                \n",
       "            </td>\n",
       "            <td style=\"padding: 0 0.5em 0 0.5em; text-align: left; border: none;\">\n",
       "                Sum\n",
       "            </td>\n",
       "        </tr>\n",
       "    \n",
       "        <tr style=\"background-color: hsl(120, 100.00%, 95.70%); border: none;\">\n",
       "            <td style=\"padding: 0 1em 0 0.5em; text-align: right; border: none;\">\n",
       "                0.0190\n",
       "                \n",
       "                    &plusmn; 0.0467\n",
       "                \n",
       "            </td>\n",
       "            <td style=\"padding: 0 0.5em 0 0.5em; text-align: left; border: none;\">\n",
       "                non_current_assets_diff_bef_03_04\n",
       "            </td>\n",
       "        </tr>\n",
       "    \n",
       "        <tr style=\"background-color: hsl(120, 100.00%, 98.37%); border: none;\">\n",
       "            <td style=\"padding: 0 1em 0 0.5em; text-align: right; border: none;\">\n",
       "                0.0048\n",
       "                \n",
       "                    &plusmn; 0.0555\n",
       "                \n",
       "            </td>\n",
       "            <td style=\"padding: 0 0.5em 0 0.5em; text-align: left; border: none;\">\n",
       "                cost_amount_diff_bef_03_04\n",
       "            </td>\n",
       "        </tr>\n",
       "    \n",
       "        <tr style=\"background-color: hsl(0, 100.00%, 96.49%); border: none;\">\n",
       "            <td style=\"padding: 0 1em 0 0.5em; text-align: right; border: none;\">\n",
       "                -0.0143\n",
       "                \n",
       "                    &plusmn; 0.0233\n",
       "                \n",
       "            </td>\n",
       "            <td style=\"padding: 0 0.5em 0 0.5em; text-align: left; border: none;\">\n",
       "                ROA_ncl_bef_02\n",
       "            </td>\n",
       "        </tr>\n",
       "    \n",
       "        <tr style=\"background-color: hsl(0, 100.00%, 95.70%); border: none;\">\n",
       "            <td style=\"padding: 0 1em 0 0.5em; text-align: right; border: none;\">\n",
       "                -0.0190\n",
       "                \n",
       "                    &plusmn; 0.0632\n",
       "                \n",
       "            </td>\n",
       "            <td style=\"padding: 0 0.5em 0 0.5em; text-align: left; border: none;\">\n",
       "                kfu_bef_03\n",
       "            </td>\n",
       "        </tr>\n",
       "    \n",
       "    \n",
       "    </tbody>\n",
       "</table>\n",
       "    \n",
       "\n",
       "    \n",
       "\n",
       "\n",
       "    \n",
       "\n",
       "    \n",
       "\n",
       "    \n",
       "\n",
       "    \n",
       "\n",
       "    \n",
       "\n",
       "    \n",
       "\n",
       "\n",
       "\n"
      ],
      "text/plain": [
       "<IPython.core.display.HTML object>"
      ]
     },
     "execution_count": 131,
     "metadata": {},
     "output_type": "execute_result"
    }
   ],
   "source": [
    "perm_forest = PermutationImportance(best_forest, random_state=SEED).fit(xvalid, yvalid)\n",
    "eli5.show_weights(perm_forest, feature_names=list(xvalid))"
   ]
  },
  {
   "cell_type": "markdown",
   "id": "c4595649",
   "metadata": {},
   "source": [
    "Видно, что признак \"Sum\" (сумма значений факторных признаков) оказался наиболее важным для построения скоринговой модели, предсказывающей факт ПДЗ.  \n",
    "Второе место занимает признак \"non_current_assets_diff_bef_03_04\" (Изменение внеоборотных активов -3 года к -4 от текущего).  \n",
    "На предсказательную способность случайного леса никак не влияет признак \"cost_amount_diff_bef_03_04\" (Разница в себестоимости продаж -3 года к -4 от текущего).\n",
    "Отрицательные значения говорят, что предсказания на данных этих признаков, в которых могут содержаться значения сильно отличающиеся от третьего квартиля, более точны, чем реальные значения целевой переменной. Причиной этому может быть то, что сам по себе признак никак не влияет на предсказательную способность модели, но предсказания, которые получились на перемешанных данных, оказались более точны.\n",
    "\n",
    "Построрим график влияния каждого признака на предсказания факта ПДЗ."
   ]
  },
  {
   "cell_type": "code",
   "execution_count": 132,
   "id": "702ad092",
   "metadata": {},
   "outputs": [
    {
     "data": {
      "image/png": "[encoded data removed]",
      "text/plain": [
       "<Figure size 576x252 with 2 Axes>"
      ]
     },
     "metadata": {},
     "output_type": "display_data"
    }
   ],
   "source": [
    "explainer_forest = shap.TreeExplainer(best_forest)\n",
    "shap_values_forest = explainer_forest.shap_values(xvalid)\n",
    "shap.summary_plot(shap_values_forest[1], xvalid)"
   ]
  },
  {
   "cell_type": "markdown",
   "id": "05e408e4",
   "metadata": {},
   "source": [
    "График построен для значений факта ПДЗ, равных 1, т.е. просрочка была.  \n",
    "По горизонтальной оси отложены значения Шепли, которые показывают как значение признака влияет на предсказание модели.  \n",
    "По вертикали расположены сами признаки, а цветом обозначены значения этих признаков. Синий цвет и его оттенки - это маленькие значения, красный цвет и его оттенки - это наибольшие значения.  \n",
    "Из графика видно, что маленькие значения признака \"Sum\" уменьшают вероятность предсказания в среднем на 0.075. Однако большие значения имееют обратную силу. Причём влияние на предсказание модели лежит в диапазоне от 0.10 до 0.16. Этот признак, как по таблице важности признаков, так и по данному графику, является важным. Напоминим, что это сумма факторных признаков.  \n",
    "Единичные положительные влияния имеет признак \"cost_amount_diff_bef_03_04\" (Разница в себестоимости продаж -3 года к -4 от текущего). Основное множество его значений расположено очень близко к нулевой оси, что, в свою очередь означает, мизерное влияние на предсказание модели или полное его отсутствие. Данное подтверждается таблицей важности признаков.  \n",
    "Аналогичным влиянием должен обладать и признак \"ROA_ncl_bef_02\" (Рентабельность внеоборотных активов  по данным -2 года от текущего), потому что диапазон изменения значений Шепли составляет от -0.02 до 0.02. Однако наличие резко выделяющихся значений, т.е. выбросов, делает этот признак одним неважных признаков.  \n",
    "Разброс значений Шепли признака \"kfu_bef_03\" (Коэффициент финансовой устойчивости по данным -3 года от текущего) довольно-таки большой. Влияние этого признака на предсказания модели нельзя не учитывать. Из графика видно, что большие значения уменьшают вероятность, а малые значения наоборот - повышают предсказания, причём в некоторых случаях - два двух точек- почти аж до 0.10. Однако такие значения вполне могут быть выбросами, что, соответственно, отразится в таблице важности признаков.  \n",
    "Признак \"non_current_assets_diff_bef_03_04\" (Изменение внеоборотных активов -3 года к -4 от текущего) по таблице важности занимает второе место. По графику можем заметить, что большая часть значений этого признака плохо влияет на предсказания модели. Примечательным фактом является и то, что почти все значения наибольшие. Данный признак необходимо рассмотреть совместно с признаком \"Sum\"."
   ]
  },
  {
   "cell_type": "markdown",
   "id": "cba0e540",
   "metadata": {},
   "source": [
    "Определим все возможные комбинации признаков."
   ]
  },
  {
   "cell_type": "code",
   "execution_count": 133,
   "id": "7fbee78f",
   "metadata": {},
   "outputs": [
    {
     "data": {
      "text/plain": [
       "[('Sum', 'ROA_ncl_bef_02'),\n",
       " ('Sum', 'kfu_bef_03'),\n",
       " ('Sum', 'non_current_assets_diff_bef_03_04'),\n",
       " ('Sum', 'cost_amount_diff_bef_03_04'),\n",
       " ('ROA_ncl_bef_02', 'kfu_bef_03'),\n",
       " ('ROA_ncl_bef_02', 'non_current_assets_diff_bef_03_04'),\n",
       " ('ROA_ncl_bef_02', 'cost_amount_diff_bef_03_04'),\n",
       " ('kfu_bef_03', 'non_current_assets_diff_bef_03_04'),\n",
       " ('kfu_bef_03', 'cost_amount_diff_bef_03_04'),\n",
       " ('non_current_assets_diff_bef_03_04', 'cost_amount_diff_bef_03_04')]"
      ]
     },
     "execution_count": 133,
     "metadata": {},
     "output_type": "execute_result"
    }
   ],
   "source": [
    "columns_for_bagging = list(combinations(list(X), 2))\n",
    "columns_for_bagging"
   ]
  },
  {
   "cell_type": "markdown",
   "id": "9f0bd78b",
   "metadata": {},
   "source": [
    "Обучим столько моделей, сколько получилось пар признаков."
   ]
  },
  {
   "cell_type": "code",
   "execution_count": 136,
   "id": "886da4bd",
   "metadata": {},
   "outputs": [
    {
     "data": {
      "application/vnd.jupyter.widget-view+json": {
       "model_id": "e6f4fdf9fe59468eb6f4b632df2dc958",
       "version_major": 2,
       "version_minor": 0
      },
      "text/plain": [
       "  0%|          | 0/10 [00:00<?, ?it/s]"
      ]
     },
     "metadata": {},
     "output_type": "display_data"
    },
    {
     "name": "stdout",
     "output_type": "stream",
     "text": [
      "ROC-AUC на обучении: 0.6284905660377358\n",
      "accuracy_score: 0.7380952380952381\n",
      "roc_auc_score: 0.7334096109839817\n",
      "\n",
      "ROC-AUC на обучении: 0.6317924528301886\n",
      "accuracy_score: 0.7142857142857143\n",
      "roc_auc_score: 0.7162471395881007\n",
      "\n",
      "ROC-AUC на обучении: 0.6431603773584906\n",
      "accuracy_score: 0.7619047619047619\n",
      "roc_auc_score: 0.7688787185354691\n",
      "\n",
      "ROC-AUC на обучении: 0.6462264150943395\n",
      "accuracy_score: 0.7142857142857143\n",
      "roc_auc_score: 0.711670480549199\n",
      "\n",
      "ROC-AUC на обучении: 0.5360849056603774\n",
      "accuracy_score: 0.5238095238095238\n",
      "roc_auc_score: 0.5652173913043479\n",
      "\n",
      "ROC-AUC на обучении: 0.5141509433962264\n",
      "accuracy_score: 0.6190476190476191\n",
      "roc_auc_score: 0.6155606407322655\n",
      "\n",
      "ROC-AUC на обучении: 0.5493867924528302\n",
      "accuracy_score: 0.6428571428571429\n",
      "roc_auc_score: 0.6464530892448512\n",
      "\n",
      "ROC-AUC на обучении: 0.5511792452830189\n",
      "accuracy_score: 0.5952380952380952\n",
      "roc_auc_score: 0.5938215102974829\n",
      "\n",
      "ROC-AUC на обучении: 0.5801415094339623\n",
      "accuracy_score: 0.5238095238095238\n",
      "roc_auc_score: 0.5194508009153318\n",
      "\n",
      "ROC-AUC на обучении: 0.5461320754716981\n",
      "accuracy_score: 0.6190476190476191\n",
      "roc_auc_score: 0.620137299771167\n",
      "\n"
     ]
    }
   ],
   "source": [
    "np.random.seed(SEED)\n",
    "\n",
    "columns_for_bagging = list(combinations(list(X), 2))\n",
    "\n",
    "x_train, x_valid, y_train, y_valid = train_test_split(X, Y, test_size=42, shuffle=True, random_state=SEED)\n",
    "\n",
    "clf = RandomForestClassifier(n_jobs=-1, random_state=SEED, warm_start=True)\n",
    "\n",
    "clfs = []\n",
    "for i in tqdm_notebook(range(len(columns_for_bagging))):\n",
    "    \n",
    "    train = x_train.loc[:, columns_for_bagging[i]]\n",
    "    valid = x_valid.loc[:, columns_for_bagging[i]]\n",
    "    \n",
    "    grid = RandomizedSearchCV(clf, param_distributions=params, return_train_score=False,\n",
    "                              scoring=make_scorer(roc_auc_score), cv=5, n_jobs=1, refit=True, verbose=0, n_iter=100)\n",
    "    grid.fit(train, y_train)\n",
    "    print('ROC-AUC на обучении:', grid.best_score_)\n",
    "    \n",
    "    best_clf = grid.best_estimator_\n",
    "    clfs.append(best_clf)\n",
    "    \n",
    "    predicted = best_clf.predict(valid)\n",
    "    get_scores(y_valid, predicted, metrics=metrics)\n",
    "    print()"
   ]
  },
  {
   "cell_type": "markdown",
   "id": "e49576fb",
   "metadata": {},
   "source": [
    "Наилучшая модель была получена для третьей пары признаков: ('Sum', 'non_current_assets_diff_bef_03_04').  \n",
    "ROC-AUC на обучении составил 0.64316, а на тесте - 0.76888. Значение accurcy составило 76.19048%."
   ]
  },
  {
   "cell_type": "markdown",
   "id": "fe8651c4",
   "metadata": {},
   "source": [
    "Сохраним полученную модель."
   ]
  },
  {
   "cell_type": "code",
   "execution_count": 137,
   "id": "3f2e9dc1",
   "metadata": {},
   "outputs": [],
   "source": [
    "with open('final_model.pkl', 'wb') as file:\n",
    "    pickle.dump(clfs[2], file)"
   ]
  },
  {
   "cell_type": "markdown",
   "id": "9044474f",
   "metadata": {},
   "source": [
    "Посмотрим на важность признаков, а также на график влияния этих признаков на предсказания модели."
   ]
  },
  {
   "cell_type": "code",
   "execution_count": 138,
   "id": "f96c394d",
   "metadata": {},
   "outputs": [],
   "source": [
    "columns = ['Sum', 'non_current_assets_diff_bef_03_04']"
   ]
  },
  {
   "cell_type": "code",
   "execution_count": 139,
   "id": "4eef48a9",
   "metadata": {},
   "outputs": [],
   "source": [
    "valid_df = x_valid.loc[:, columns]"
   ]
  },
  {
   "cell_type": "code",
   "execution_count": 140,
   "id": "a495d8cf",
   "metadata": {},
   "outputs": [
    {
     "data": {
      "text/html": [
       "\n",
       "    <style>\n",
       "    table.eli5-weights tr:hover {\n",
       "        filter: brightness(85%);\n",
       "    }\n",
       "</style>\n",
       "\n",
       "\n",
       "\n",
       "    \n",
       "\n",
       "    \n",
       "\n",
       "    \n",
       "\n",
       "    \n",
       "\n",
       "    \n",
       "\n",
       "    \n",
       "\n",
       "\n",
       "    \n",
       "\n",
       "    \n",
       "\n",
       "    \n",
       "\n",
       "    \n",
       "\n",
       "    \n",
       "\n",
       "    \n",
       "\n",
       "\n",
       "    \n",
       "\n",
       "    \n",
       "\n",
       "    \n",
       "\n",
       "    \n",
       "\n",
       "    \n",
       "        <table class=\"eli5-weights eli5-feature-importances\" style=\"border-collapse: collapse; border: none; margin-top: 0em; table-layout: auto;\">\n",
       "    <thead>\n",
       "    <tr style=\"border: none;\">\n",
       "        <th style=\"padding: 0 1em 0 0.5em; text-align: right; border: none;\">Weight</th>\n",
       "        <th style=\"padding: 0 0.5em 0 0.5em; text-align: left; border: none;\">Feature</th>\n",
       "    </tr>\n",
       "    </thead>\n",
       "    <tbody>\n",
       "    \n",
       "        <tr style=\"background-color: hsl(120, 100.00%, 80.00%); border: none;\">\n",
       "            <td style=\"padding: 0 1em 0 0.5em; text-align: right; border: none;\">\n",
       "                0.2238\n",
       "                \n",
       "                    &plusmn; 0.1227\n",
       "                \n",
       "            </td>\n",
       "            <td style=\"padding: 0 0.5em 0 0.5em; text-align: left; border: none;\">\n",
       "                Sum\n",
       "            </td>\n",
       "        </tr>\n",
       "    \n",
       "        <tr style=\"background-color: hsl(120, 100.00%, 92.31%); border: none;\">\n",
       "            <td style=\"padding: 0 1em 0 0.5em; text-align: right; border: none;\">\n",
       "                0.0571\n",
       "                \n",
       "                    &plusmn; 0.0774\n",
       "                \n",
       "            </td>\n",
       "            <td style=\"padding: 0 0.5em 0 0.5em; text-align: left; border: none;\">\n",
       "                non_current_assets_diff_bef_03_04\n",
       "            </td>\n",
       "        </tr>\n",
       "    \n",
       "    \n",
       "    </tbody>\n",
       "</table>\n",
       "    \n",
       "\n",
       "    \n",
       "\n",
       "\n",
       "    \n",
       "\n",
       "    \n",
       "\n",
       "    \n",
       "\n",
       "    \n",
       "\n",
       "    \n",
       "\n",
       "    \n",
       "\n",
       "\n",
       "\n"
      ],
      "text/plain": [
       "<IPython.core.display.HTML object>"
      ]
     },
     "execution_count": 140,
     "metadata": {},
     "output_type": "execute_result"
    }
   ],
   "source": [
    "perm = PermutationImportance(clfs[2], random_state=SEED).fit(valid_df, y_valid)\n",
    "eli5.show_weights(perm, feature_names=list(valid_df))"
   ]
  },
  {
   "cell_type": "markdown",
   "id": "920b5e42",
   "metadata": {},
   "source": [
    "Как видно из таблицы комбинация этих признаков позволила повысить важность каждого признака по отдельности."
   ]
  },
  {
   "cell_type": "code",
   "execution_count": 141,
   "id": "6033ebe7",
   "metadata": {},
   "outputs": [
    {
     "data": {
      "image/png": "[encoded data removed]",
      "text/plain": [
       "<Figure size 576x165.6 with 2 Axes>"
      ]
     },
     "metadata": {},
     "output_type": "display_data"
    }
   ],
   "source": [
    "explainer = shap.TreeExplainer(clfs[2])\n",
    "shap_values = explainer.shap_values(valid_df)\n",
    "shap.summary_plot(shap_values[1], valid_df)"
   ]
  },
  {
   "cell_type": "markdown",
   "id": "99863946",
   "metadata": {},
   "source": [
    "Для повышения точности предсказаний ПДЗ необходимо, чтобы сумма факторных признаков (признак \"Sum\") рассчитывалсь для признаков без пропусков. Это позволит получить более релевантные данные по этому признаку, а как следствие повысит влияние этого фактора на предсказания модели.  \n",
    "Признак \"non_current_assets_diff_bef_03_04\" (Изменение внеоборотных активов -3 года к -4 от текущего) отлично комбинирует с признаком \"Sum\". Высокие значения этого прзнака в правой части перекрывают низкие значения признака \"Sum\" в левой части графика,а как следствие значения Шепли могут имееть неотрицательные значения, что, в свою очередь, положительно сказывается на предсказаниях модели. Значения Шепли части основной массы точек \"non_current_assets_diff_bef_03_04\" могут быть перекрыты значениями Шепли признака \"Sum\" в правой части графика."
   ]
  },
  {
   "cell_type": "markdown",
   "id": "1bc082d1",
   "metadata": {},
   "source": [
    "<h1>7 Заключение</h1>"
   ]
  },
  {
   "cell_type": "markdown",
   "id": "07746217",
   "metadata": {},
   "source": [
    "В ходе проделанной работы по анализу контрагентов и выявлению факторов просрочки дебеторской задолженности была получена точность предсказаний в 76.19048% на модели случайного леса (метрика roc-auc составила 0.76888). Для предсказаний ПДЗ были использованы только два признака, которые и дали максимальную полученную точность предсказаний:\n",
    "- сумма факторных признаков;\n",
    "- изменение внеоборотных активов -3 года к -4 от текущего.  \n",
    "\n",
    "Было выявлено, что малые значения суммы факторных признаков, обусловленные наличием большого числа пропусков в данных, довольно-таки негативно влияют на предсказание модели. Однако высокие значения, т.е. такие, которые аккумулируют значения большого числа факторных признаков, положительно сказываются на выход скоринговой модели.  \n",
    "\n",
    "Признак \"изменение внеоборотных активов -3 года к -4 от текущего\" был выбран, потому что именно он занимает вторую строчку в таблице важности признаков. Взаимодействие данного признака с признаком, описанным выше, дают такую комбинацию, которая позволила получить указанную выше точность.  \n",
    "\n",
    "Однако не отрицаем, что существование других признаков, которые не были отражены в данных, позволит получить более сильную синергию, чем представленная в работа.  \n",
    "\n",
    "Для качественной оценки контрагента необходимо:\n",
    "1. В идеале - стандартная бухгалтерская отчетность за последние 3 года с пояснениями (лучше за 4). Если такой возможности нет, минимально, к текущим данным, нужны:  \n",
    "\n",
    "К балансу (Форма 1):\n",
    " - Оборотные активы:\n",
    "      - Деньги и финансовые инструменты;\n",
    "      - Запасы;\n",
    "\n",
    " - Капитал и резервы:\n",
    "      - Нераспределенная прибыль/убыток;\n",
    " \n",
    "К PL(Форма 2):\n",
    "\n",
    " - Начисленные к получению/уплате проценты;\n",
    " - Уровень прочих доходов-расходов.\n",
    "\n",
    "Это нужно для расчета оставшихся коэффициентов, а изменение некоторых показателей лучше отражает операционную деятельность.\n",
    "\n",
    "2. Данные о товарообороте (выручке) между Северсталью и контрагентом.  \n",
    "\n",
    "\n",
    "3. Косвенные данные о контрагенте (открытые, бесплатные):\n",
    " - Возраст (лет зарегистрирован);\n",
    " - Признак \"массовости\" адреса регистрации;\n",
    " - Признак \"массовости\" учредителя/директора регистрации;\n",
    " - Данные о количестве и сумме госконтрактов (если есть);\n",
    " - Данные о количестве и сумме судебных делопроизводствах (истец/ответчик).  \n",
    "\n",
    "\n",
    "4. Косвенные данные о контрагенте (открытые, платные):\n",
    " - Данные о средне-списочной численности сотрудников;\n",
    " - Данные о средней заработной плате."
   ]
  }
 ],
 "metadata": {
  "hide_input": false,
  "kernelspec": {
   "display_name": "Python 3 (ipykernel)",
   "language": "python",
   "name": "python3"
  },
  "language_info": {
   "codemirror_mode": {
    "name": "ipython",
    "version": 3
   },
   "file_extension": ".py",
   "mimetype": "text/x-python",
   "name": "python",
   "nbconvert_exporter": "python",
   "pygments_lexer": "ipython3",
   "version": "3.9.7"
  },
  "nbTranslate": {
   "displayLangs": [
    "ru",
    "en"
   ],
   "hotkey": "alt-t",
   "langInMainMenu": true,
   "sourceLang": "en",
   "targetLang": "ru",
   "useGoogleTranslate": true
  },
  "toc": {
   "base_numbering": 1,
   "nav_menu": {},
   "number_sections": false,
   "sideBar": true,
   "skip_h1_title": false,
   "title_cell": "Table of Contents",
   "title_sidebar": "Contents",
   "toc_cell": false,
   "toc_position": {},
   "toc_section_display": true,
   "toc_window_display": false
  },
  "varInspector": {
   "cols": {
    "lenName": 16,
    "lenType": 16,
    "lenVar": 40
   },
   "kernels_config": {
    "python": {
     "delete_cmd_postfix": "",
     "delete_cmd_prefix": "del ",
     "library": "var_list.py",
     "varRefreshCmd": "print(var_dic_list())"
    },
    "r": {
     "delete_cmd_postfix": ") ",
     "delete_cmd_prefix": "rm(",
     "library": "var_list.r",
     "varRefreshCmd": "cat(var_dic_list()) "
    }
   },
   "position": {
    "height": "568px",
    "left": "787px",
    "right": "20px",
    "top": "150px",
    "width": "606px"
   },
   "types_to_exclude": [
    "module",
    "function",
    "builtin_function_or_method",
    "instance",
    "_Feature"
   ],
   "window_display": false
  }
 },
 "nbformat": 4,
 "nbformat_minor": 5
}
